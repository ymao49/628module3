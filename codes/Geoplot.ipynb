{
 "cells": [
  {
   "cell_type": "code",
   "execution_count": 1,
   "metadata": {},
   "outputs": [],
   "source": [
    "import pandas as pd\n",
    "import numpy as np\n",
    "import pyecharts\n"
   ]
  },
  {
   "cell_type": "code",
   "execution_count": 2,
   "metadata": {},
   "outputs": [],
   "source": [
    "business = pd.read_csv('cleaned_data/business.csv')\n",
    "review = pd.read_csv('cleaned_data/review.csv')\n",
    "tip = pd.read_csv('cleaned_data/tip.csv')\n",
    "review_split = pd.read_csv('splitted_data/review_split.csv')\n",
    "tip_split = pd.read_csv('splitted_data/tip_split.csv')"
   ]
  },
  {
   "cell_type": "code",
   "execution_count": 39,
   "metadata": {},
   "outputs": [
    {
     "data": {
      "text/html": [
       "<div>\n",
       "<style scoped>\n",
       "    .dataframe tbody tr th:only-of-type {\n",
       "        vertical-align: middle;\n",
       "    }\n",
       "\n",
       "    .dataframe tbody tr th {\n",
       "        vertical-align: top;\n",
       "    }\n",
       "\n",
       "    .dataframe thead th {\n",
       "        text-align: right;\n",
       "    }\n",
       "</style>\n",
       "<table border=\"1\" class=\"dataframe\">\n",
       "  <thead>\n",
       "    <tr style=\"text-align: right;\">\n",
       "      <th></th>\n",
       "      <th>business_id</th>\n",
       "      <th>name</th>\n",
       "      <th>address</th>\n",
       "      <th>city</th>\n",
       "      <th>state</th>\n",
       "      <th>postal_code</th>\n",
       "      <th>latitude</th>\n",
       "      <th>longitude</th>\n",
       "      <th>stars</th>\n",
       "      <th>review_count</th>\n",
       "      <th>is_open</th>\n",
       "      <th>attributes</th>\n",
       "      <th>categories</th>\n",
       "      <th>hours</th>\n",
       "    </tr>\n",
       "  </thead>\n",
       "  <tbody>\n",
       "    <tr>\n",
       "      <th>0</th>\n",
       "      <td>BvYU3jvGd0TJ7IyZdfiN2Q</td>\n",
       "      <td>Manzetti's Tavern</td>\n",
       "      <td>6401 Morrison Blvd</td>\n",
       "      <td>Charlotte</td>\n",
       "      <td>NC</td>\n",
       "      <td>28211</td>\n",
       "      <td>35.156338</td>\n",
       "      <td>-80.831878</td>\n",
       "      <td>3.5</td>\n",
       "      <td>16</td>\n",
       "      <td>0</td>\n",
       "      <td>{'Alcohol': \"u'full_bar'\", 'BusinessAcceptsCre...</td>\n",
       "      <td>Sandwiches, Italian, American (Traditional), A...</td>\n",
       "      <td>{'Monday': '11:0-22:0', 'Tuesday': '11:0-22:0'...</td>\n",
       "    </tr>\n",
       "  </tbody>\n",
       "</table>\n",
       "</div>"
      ],
      "text/plain": [
       "              business_id               name             address       city  \\\n",
       "0  BvYU3jvGd0TJ7IyZdfiN2Q  Manzetti's Tavern  6401 Morrison Blvd  Charlotte   \n",
       "\n",
       "  state postal_code   latitude  longitude  stars  review_count  is_open  \\\n",
       "0    NC       28211  35.156338 -80.831878    3.5            16        0   \n",
       "\n",
       "                                          attributes  \\\n",
       "0  {'Alcohol': \"u'full_bar'\", 'BusinessAcceptsCre...   \n",
       "\n",
       "                                          categories  \\\n",
       "0  Sandwiches, Italian, American (Traditional), A...   \n",
       "\n",
       "                                               hours  \n",
       "0  {'Monday': '11:0-22:0', 'Tuesday': '11:0-22:0'...  "
      ]
     },
     "execution_count": 39,
     "metadata": {},
     "output_type": "execute_result"
    }
   ],
   "source": [
    "review.head(1)\n",
    "business.head(1)\n"
   ]
  },
  {
   "cell_type": "code",
   "execution_count": 41,
   "metadata": {
    "scrolled": true
   },
   "outputs": [
    {
     "name": "stdout",
     "output_type": "stream",
     "text": [
      "(14, 2)\n",
      "(201, 2)\n"
     ]
    }
   ],
   "source": [
    "province = business.groupby('state')['name'].count().reset_index()\n",
    "province.columns = ['province','number']\n",
    "print(province.shape)\n",
    "\n",
    "city = business.groupby('city')['name'].count().reset_index()\n",
    "city.columns = ['city','number']\n",
    "print(city.shape)\n",
    "\n",
    "NV_city = business[business['state'] == 'NV'].groupby('city')['name'].count().reset_index()\n",
    "NV_city.columns = ['city','number']\n",
    "\n",
    "\n",
    "AZ_city = business[business['state'] == 'AZ'].groupby('city')['name'].count().reset_index()\n",
    "AZ_city.columns = ['city','number']\n",
    "\n",
    "\n",
    "\n"
   ]
  },
  {
   "cell_type": "code",
   "execution_count": 42,
   "metadata": {},
   "outputs": [
    {
     "name": "stdout",
     "output_type": "stream",
     "text": [
      "(11, 2)\n",
      "   province  number\n",
      "0        AZ     260\n",
      "1        IL      16\n",
      "2        NC     131\n",
      "3        NE       1\n",
      "4        NM       1\n",
      "5        NV     302\n",
      "6        OH     187\n",
      "7        PA      94\n",
      "8        SC      10\n",
      "9        TX       1\n",
      "10       WI      44\n",
      "(133, 2)\n"
     ]
    }
   ],
   "source": [
    "US=business[business['state']!='ON']\n",
    "US=US[US['state']!='AB']\n",
    "US=US[US['state']!='QC']\n",
    "\n",
    "\n",
    "province = US.groupby('state')['name'].count().reset_index()\n",
    "province.columns = ['province','number']\n",
    "print(province.shape)\n",
    "print(province)\n",
    "\n",
    "city = US.groupby('city')['name'].count().reset_index()\n",
    "city.columns = ['city','number']\n",
    "print(city.shape)\n",
    "\n",
    "NV=business[business['state'] == 'NV']\n",
    "\n"
   ]
  },
  {
   "cell_type": "code",
   "execution_count": 33,
   "metadata": {},
   "outputs": [
    {
     "data": {
      "text/html": [
       "<div>\n",
       "<style scoped>\n",
       "    .dataframe tbody tr th:only-of-type {\n",
       "        vertical-align: middle;\n",
       "    }\n",
       "\n",
       "    .dataframe tbody tr th {\n",
       "        vertical-align: top;\n",
       "    }\n",
       "\n",
       "    .dataframe thead th {\n",
       "        text-align: right;\n",
       "    }\n",
       "</style>\n",
       "<table border=\"1\" class=\"dataframe\">\n",
       "  <thead>\n",
       "    <tr style=\"text-align: right;\">\n",
       "      <th></th>\n",
       "      <th>province</th>\n",
       "      <th>number</th>\n",
       "    </tr>\n",
       "  </thead>\n",
       "  <tbody>\n",
       "    <tr>\n",
       "      <th>0</th>\n",
       "      <td>AB</td>\n",
       "      <td>110</td>\n",
       "    </tr>\n",
       "    <tr>\n",
       "      <th>1</th>\n",
       "      <td>AZ</td>\n",
       "      <td>260</td>\n",
       "    </tr>\n",
       "    <tr>\n",
       "      <th>2</th>\n",
       "      <td>IL</td>\n",
       "      <td>16</td>\n",
       "    </tr>\n",
       "    <tr>\n",
       "      <th>3</th>\n",
       "      <td>NC</td>\n",
       "      <td>131</td>\n",
       "    </tr>\n",
       "    <tr>\n",
       "      <th>4</th>\n",
       "      <td>NE</td>\n",
       "      <td>1</td>\n",
       "    </tr>\n",
       "    <tr>\n",
       "      <th>5</th>\n",
       "      <td>NM</td>\n",
       "      <td>1</td>\n",
       "    </tr>\n",
       "    <tr>\n",
       "      <th>6</th>\n",
       "      <td>NV</td>\n",
       "      <td>302</td>\n",
       "    </tr>\n",
       "    <tr>\n",
       "      <th>7</th>\n",
       "      <td>OH</td>\n",
       "      <td>187</td>\n",
       "    </tr>\n",
       "    <tr>\n",
       "      <th>8</th>\n",
       "      <td>ON</td>\n",
       "      <td>279</td>\n",
       "    </tr>\n",
       "    <tr>\n",
       "      <th>9</th>\n",
       "      <td>PA</td>\n",
       "      <td>94</td>\n",
       "    </tr>\n",
       "    <tr>\n",
       "      <th>10</th>\n",
       "      <td>QC</td>\n",
       "      <td>167</td>\n",
       "    </tr>\n",
       "    <tr>\n",
       "      <th>11</th>\n",
       "      <td>SC</td>\n",
       "      <td>10</td>\n",
       "    </tr>\n",
       "    <tr>\n",
       "      <th>12</th>\n",
       "      <td>TX</td>\n",
       "      <td>1</td>\n",
       "    </tr>\n",
       "    <tr>\n",
       "      <th>13</th>\n",
       "      <td>WI</td>\n",
       "      <td>44</td>\n",
       "    </tr>\n",
       "  </tbody>\n",
       "</table>\n",
       "</div>"
      ],
      "text/plain": [
       "   province  number\n",
       "0        AB     110\n",
       "1        AZ     260\n",
       "2        IL      16\n",
       "3        NC     131\n",
       "4        NE       1\n",
       "5        NM       1\n",
       "6        NV     302\n",
       "7        OH     187\n",
       "8        ON     279\n",
       "9        PA      94\n",
       "10       QC     167\n",
       "11       SC      10\n",
       "12       TX       1\n",
       "13       WI      44"
      ]
     },
     "execution_count": 33,
     "metadata": {},
     "output_type": "execute_result"
    }
   ],
   "source": [
    "province"
   ]
  },
  {
   "cell_type": "code",
   "execution_count": 12,
   "metadata": {},
   "outputs": [
    {
     "data": {
      "application/vnd.plotly.v1+json": {
       "config": {
        "plotlyServerURL": "https://plot.ly"
       },
       "data": [
        {
         "customdata": [
          [
           "NV",
           4
          ],
          [
           "NV",
           3.5
          ],
          [
           "NV",
           2.5
          ],
          [
           "NV",
           3
          ],
          [
           "NV",
           3.5
          ],
          [
           "NV",
           4.5
          ],
          [
           "NV",
           4.5
          ],
          [
           "NV",
           4
          ],
          [
           "NV",
           3.5
          ],
          [
           "NV",
           3
          ],
          [
           "NV",
           4.5
          ],
          [
           "NV",
           4
          ],
          [
           "NV",
           4
          ],
          [
           "NV",
           3
          ],
          [
           "NV",
           4
          ],
          [
           "NV",
           4
          ],
          [
           "NV",
           4.5
          ],
          [
           "NV",
           4.5
          ],
          [
           "NV",
           3.5
          ],
          [
           "NV",
           3.5
          ],
          [
           "NV",
           3.5
          ],
          [
           "NV",
           4.5
          ],
          [
           "NV",
           4
          ],
          [
           "NV",
           2.5
          ],
          [
           "NV",
           4
          ],
          [
           "NV",
           3.5
          ],
          [
           "NV",
           4
          ],
          [
           "NV",
           4.5
          ],
          [
           "NV",
           3
          ],
          [
           "NV",
           3
          ],
          [
           "NV",
           3.5
          ],
          [
           "NV",
           3.5
          ],
          [
           "NV",
           4
          ],
          [
           "NV",
           4
          ],
          [
           "NV",
           4
          ],
          [
           "NV",
           4
          ],
          [
           "NV",
           3
          ],
          [
           "NV",
           3
          ],
          [
           "NV",
           4
          ],
          [
           "NV",
           3.5
          ],
          [
           "NV",
           4.5
          ],
          [
           "NV",
           3.5
          ],
          [
           "NV",
           4.5
          ],
          [
           "NV",
           4
          ],
          [
           "NV",
           4
          ],
          [
           "NV",
           3
          ],
          [
           "NV",
           4.5
          ],
          [
           "NV",
           3.5
          ],
          [
           "NV",
           4
          ],
          [
           "NV",
           3
          ],
          [
           "NV",
           3.5
          ],
          [
           "NV",
           4
          ],
          [
           "NV",
           4
          ],
          [
           "NV",
           4
          ],
          [
           "NV",
           4
          ],
          [
           "NV",
           3
          ],
          [
           "NV",
           4
          ],
          [
           "NV",
           4
          ],
          [
           "NV",
           3
          ],
          [
           "NV",
           4
          ],
          [
           "NV",
           4
          ],
          [
           "NV",
           4.5
          ],
          [
           "NV",
           3
          ],
          [
           "NV",
           3.5
          ],
          [
           "NV",
           3.5
          ],
          [
           "NV",
           3.5
          ],
          [
           "NV",
           4
          ],
          [
           "NV",
           4
          ],
          [
           "NV",
           3.5
          ],
          [
           "NV",
           3.5
          ],
          [
           "NV",
           3.5
          ],
          [
           "NV",
           4.5
          ],
          [
           "NV",
           3.5
          ],
          [
           "NV",
           4
          ],
          [
           "NV",
           4
          ],
          [
           "NV",
           3
          ],
          [
           "NV",
           3.5
          ],
          [
           "NV",
           3.5
          ],
          [
           "NV",
           2.5
          ],
          [
           "NV",
           4.5
          ],
          [
           "NV",
           3.5
          ],
          [
           "NV",
           4.5
          ],
          [
           "NV",
           4.5
          ],
          [
           "NV",
           3.5
          ],
          [
           "NV",
           5
          ],
          [
           "NV",
           3
          ],
          [
           "NV",
           4
          ],
          [
           "NV",
           4
          ],
          [
           "NV",
           4
          ],
          [
           "NV",
           2.5
          ],
          [
           "NV",
           1.5
          ],
          [
           "NV",
           4
          ],
          [
           "NV",
           4
          ],
          [
           "NV",
           3
          ],
          [
           "NV",
           4
          ],
          [
           "NV",
           4
          ],
          [
           "NV",
           3
          ],
          [
           "NV",
           3
          ],
          [
           "NV",
           4
          ],
          [
           "NV",
           2.5
          ],
          [
           "NV",
           4
          ],
          [
           "NV",
           3.5
          ],
          [
           "NV",
           4.5
          ],
          [
           "NV",
           4.5
          ],
          [
           "NV",
           4
          ],
          [
           "NV",
           2.5
          ],
          [
           "NV",
           2.5
          ],
          [
           "NV",
           3.5
          ],
          [
           "NV",
           3
          ],
          [
           "NV",
           3.5
          ],
          [
           "NV",
           3.5
          ],
          [
           "NV",
           4.5
          ],
          [
           "NV",
           4
          ],
          [
           "NV",
           4
          ],
          [
           "NV",
           2.5
          ],
          [
           "NV",
           4
          ],
          [
           "NV",
           3.5
          ],
          [
           "NV",
           4.5
          ],
          [
           "NV",
           3.5
          ],
          [
           "NV",
           4
          ],
          [
           "NV",
           3
          ],
          [
           "NV",
           3.5
          ],
          [
           "NV",
           4
          ],
          [
           "NV",
           3.5
          ],
          [
           "NV",
           4.5
          ],
          [
           "NV",
           3.5
          ],
          [
           "NV",
           2.5
          ],
          [
           "NV",
           4
          ],
          [
           "NV",
           3.5
          ],
          [
           "NV",
           4.5
          ],
          [
           "NV",
           4
          ],
          [
           "NV",
           4.5
          ],
          [
           "NV",
           4
          ],
          [
           "NV",
           4
          ],
          [
           "NV",
           4
          ],
          [
           "NV",
           4
          ],
          [
           "NV",
           2.5
          ],
          [
           "NV",
           3.5
          ],
          [
           "NV",
           4.5
          ],
          [
           "NV",
           5
          ],
          [
           "NV",
           4
          ],
          [
           "NV",
           4
          ],
          [
           "NV",
           4
          ],
          [
           "NV",
           4
          ],
          [
           "NV",
           2.5
          ],
          [
           "NV",
           4
          ],
          [
           "NV",
           4
          ],
          [
           "NV",
           4
          ],
          [
           "NV",
           3
          ],
          [
           "NV",
           4
          ],
          [
           "NV",
           4
          ],
          [
           "NV",
           3.5
          ],
          [
           "NV",
           3.5
          ],
          [
           "NV",
           3
          ],
          [
           "NV",
           3
          ],
          [
           "NV",
           3.5
          ],
          [
           "NV",
           2.5
          ],
          [
           "NV",
           2.5
          ],
          [
           "NV",
           4
          ],
          [
           "NV",
           4
          ],
          [
           "NV",
           4.5
          ],
          [
           "NV",
           2.5
          ],
          [
           "NV",
           4.5
          ],
          [
           "NV",
           4
          ],
          [
           "NV",
           3.5
          ],
          [
           "NV",
           3.5
          ],
          [
           "NV",
           4
          ],
          [
           "NV",
           4
          ],
          [
           "NV",
           4
          ],
          [
           "NV",
           4.5
          ],
          [
           "NV",
           4
          ],
          [
           "NV",
           4
          ],
          [
           "NV",
           4
          ],
          [
           "NV",
           4
          ],
          [
           "NV",
           3.5
          ],
          [
           "NV",
           3
          ],
          [
           "NV",
           4.5
          ],
          [
           "NV",
           3
          ],
          [
           "NV",
           4.5
          ],
          [
           "NV",
           4
          ],
          [
           "NV",
           3.5
          ],
          [
           "NV",
           4.5
          ],
          [
           "NV",
           3
          ],
          [
           "NV",
           3.5
          ],
          [
           "NV",
           4.5
          ],
          [
           "NV",
           4
          ],
          [
           "NV",
           4
          ],
          [
           "NV",
           4
          ],
          [
           "NV",
           3
          ],
          [
           "NV",
           3.5
          ],
          [
           "NV",
           3.5
          ],
          [
           "NV",
           4
          ],
          [
           "NV",
           3.5
          ],
          [
           "NV",
           4
          ],
          [
           "NV",
           4
          ],
          [
           "NV",
           4
          ],
          [
           "NV",
           4
          ],
          [
           "NV",
           4
          ],
          [
           "NV",
           2.5
          ],
          [
           "NV",
           3.5
          ],
          [
           "NV",
           4
          ],
          [
           "NV",
           4
          ],
          [
           "NV",
           4
          ],
          [
           "NV",
           3
          ],
          [
           "NV",
           3
          ],
          [
           "NV",
           3
          ],
          [
           "NV",
           3.5
          ],
          [
           "NV",
           4
          ],
          [
           "NV",
           3.5
          ],
          [
           "NV",
           4.5
          ],
          [
           "NV",
           4.5
          ],
          [
           "NV",
           3.5
          ],
          [
           "NV",
           4
          ],
          [
           "NV",
           4
          ],
          [
           "NV",
           4
          ],
          [
           "NV",
           4
          ],
          [
           "NV",
           4
          ],
          [
           "NV",
           3.5
          ],
          [
           "NV",
           4
          ],
          [
           "NV",
           3.5
          ],
          [
           "NV",
           4
          ],
          [
           "NV",
           4
          ],
          [
           "NV",
           4.5
          ],
          [
           "NV",
           2
          ],
          [
           "NV",
           3.5
          ],
          [
           "NV",
           4.5
          ],
          [
           "NV",
           3.5
          ],
          [
           "NV",
           3
          ],
          [
           "NV",
           3.5
          ],
          [
           "NV",
           3.5
          ],
          [
           "NV",
           4
          ],
          [
           "NV",
           4
          ],
          [
           "NV",
           4.5
          ],
          [
           "NV",
           4
          ],
          [
           "NV",
           4
          ],
          [
           "NV",
           4.5
          ],
          [
           "NV",
           3.5
          ],
          [
           "NV",
           4
          ],
          [
           "NV",
           4.5
          ],
          [
           "NV",
           4
          ],
          [
           "NV",
           4
          ],
          [
           "NV",
           4
          ],
          [
           "NV",
           3.5
          ],
          [
           "NV",
           3
          ],
          [
           "NV",
           4.5
          ],
          [
           "NV",
           4
          ],
          [
           "NV",
           4
          ],
          [
           "NV",
           4.5
          ],
          [
           "NV",
           3.5
          ],
          [
           "NV",
           4
          ],
          [
           "NV",
           3.5
          ],
          [
           "NV",
           2
          ],
          [
           "NV",
           4
          ],
          [
           "NV",
           5
          ],
          [
           "NV",
           3
          ],
          [
           "NV",
           2.5
          ],
          [
           "NV",
           4.5
          ],
          [
           "NV",
           3.5
          ],
          [
           "NV",
           3.5
          ],
          [
           "NV",
           2.5
          ],
          [
           "NV",
           4
          ],
          [
           "NV",
           4
          ],
          [
           "NV",
           4
          ],
          [
           "NV",
           4
          ],
          [
           "NV",
           3.5
          ],
          [
           "NV",
           2.5
          ],
          [
           "NV",
           4
          ],
          [
           "NV",
           4
          ],
          [
           "NV",
           4
          ],
          [
           "NV",
           4
          ],
          [
           "NV",
           4
          ],
          [
           "NV",
           4
          ],
          [
           "NV",
           4.5
          ],
          [
           "NV",
           3.5
          ],
          [
           "NV",
           4
          ],
          [
           "NV",
           4
          ],
          [
           "NV",
           4
          ],
          [
           "NV",
           2
          ],
          [
           "NV",
           4
          ],
          [
           "NV",
           3
          ],
          [
           "NV",
           4
          ],
          [
           "NV",
           4.5
          ],
          [
           "NV",
           3
          ],
          [
           "NV",
           3.5
          ],
          [
           "NV",
           4
          ],
          [
           "NV",
           2.5
          ],
          [
           "NV",
           4.5
          ],
          [
           "NV",
           4.5
          ],
          [
           "NV",
           3
          ],
          [
           "NV",
           3
          ],
          [
           "NV",
           3
          ],
          [
           "NV",
           4
          ],
          [
           "NV",
           4
          ],
          [
           "NV",
           4
          ],
          [
           "NV",
           4
          ],
          [
           "NV",
           3.5
          ],
          [
           "NV",
           3.5
          ],
          [
           "NV",
           4
          ],
          [
           "NV",
           4
          ],
          [
           "NV",
           4
          ],
          [
           "NV",
           3.5
          ],
          [
           "NV",
           3
          ]
         ],
         "hoverlabel": {
          "namelength": 0
         },
         "hovertemplate": "<b>%{hovertext}</b><br><br>review_count=%{marker.size}<br>state=%{customdata[0]}<br>stars=%{marker.color}<br>latitude=%{lat}<br>longitude=%{lon}",
         "hovertext": [
          "TJ's Steakhouse",
          "Empress Court",
          "Bertolucci Brazilian Steakhouse",
          "Beso Steakhouse",
          "Bob Taylor's Ranch House",
          "Cleaver -  Butchered Meats, Seafood & Cocktails",
          "Roy's Restaurant",
          "P.J. Clarke's New York Chophouse",
          "Outback Steakhouse",
          "Yolie's Brazilian Steak House",
          "Rincon De Buenos Aires",
          "The Steakhouse at The Pass",
          "Anthony's Prime Steak & Seafood",
          "Landry's Seafood House",
          "N9NE Steakhouse",
          "Waverly's Steak House",
          "Little City Grille",
          "The Steakhouse at Treasures",
          "Boulder Station Pasta Cucina",
          "The Bistro",
          "Tony Roma's",
          "Michael's Gourmet Room",
          "Hank's Fine Steaks & Martinis",
          "Applebee's Neighborhood Grill & Bar",
          "Fleming's Prime Steakhouse & Wine Bar - Las Vegas",
          "Ruth's Chris Steak House",
          "Hawthorn Grill",
          "Il Chianti Italian Steak & Seafood",
          "Center Cut Steakhouse",
          "The Tillerman",
          "Omaha Steaks",
          "TENDER Steakhouse",
          "Ohjah Japanese Steakhouse Sushi & Hibachi",
          "Rise & Shine - A Steak & Egg Place",
          "The Bootlegger Italian Bistro",
          "Canal Street",
          "Union Restaurant & Lounge",
          "Outback Steakhouse",
          "Fleming's Prime Steakhouse & Wine Bar",
          "Sunset Station",
          "Vic & Anthony's Steakhouse",
          "Yagyu Yakiniku",
          "Twist by Pierre Gagnaire",
          "Top of Binion's Steakhouse",
          "The Charcoal Room",
          "Las Brassas Asados y Mariscos",
          "Scotch 80 Prime",
          "Les Artistes Steakhouse",
          "Fuji Japanese Restaurant",
          "Binion's Cafe",
          "Montana Meat Company",
          "SC Prime Steakhouse & Bar",
          "Lawry's The Prime Rib",
          "Yard House",
          "Via Brasil Steakhouse on South Fort Apache and Charleston",
          "Citizens Kitchen and Bar",
          "Country Club",
          "Twin Creeks",
          "Treasures Gentlemen's Club & Steakhouse",
          "BOA Steakhouse",
          "Piero's Italian Cuisine",
          "8oz Korean Steak House",
          "Tony Roma's",
          "Mr. Lucky's 24-7",
          "Ruth's Chris Steak House",
          "Camelot Steakhouse",
          "Oscar's Steakhouse",
          "STK Las Vegas",
          "Outback Steakhouse",
          "Green Valley Ranch Resort & Spa",
          "Morels French Steakhouse & Bistro",
          "Center Stage Restaurant",
          "Geisha House Steak & Sushi",
          "Ruth's Chris Steak House",
          "Bonsai Japanese Steak & Sushi",
          "Pampas Churrascaria Brazilian Grille",
          "Neros",
          "Pinot Brasserie",
          "Fiesta Henderson",
          "Joe Vicari's Andiamo Italian Steakhouse",
          "Yukon Grille",
          "Sushi Lounge & steakhouse",
          "Texas de Brazil",
          "McCormick & Schmick's Seafood & Steaks",
          "Commander's Palace",
          "Honmachi",
          "Sonoma Cellar",
          "Musashi Japanese Steakhouse",
          "Geisha House Steak & Sushi",
          "Applebee's Grill + Bar",
          "Great Steak",
          "Sushi Tower & Steakhouse",
          "Chart House",
          "Billy Bob's Steakhouse",
          "Redwood Bar and Grill",
          "Biscayne Steak, Sea & Wine",
          "Applebee's Grill + Bar",
          "Applebee's Grill + Bar",
          "Mariscos Aguachiles Culichi",
          "Rampart Buffet",
          "The Broiler",
          "Dessy B's Steak House",
          "Jjanga Steak & Sushi",
          "Costa Del Sol At Sunset Station",
          "AquaKnox",
          "Boulder Station Hotel & Casino",
          "A Cut Above Restaurant",
          "House of Lords at Sahara Hotel and Casino",
          "Kristofer's Steak House",
          "AJ's Steakhouse",
          "The Broiler",
          "Carve Prime Rib",
          "Primarily Prime Rib Restaurant",
          "Simon Kitchen and Bar",
          "Tony Roma's",
          "Marssa",
          "Tom Colicchio's Heritage Steak",
          "Chef Marc's Trattoria",
          "Beso",
          "Charlie Palmer Steak",
          "Amigo's Mexican Cantina",
          "Giuseppe's Italian Grille",
          "SW Steakhouse",
          "Claim Jumper Restaurant & Saloon",
          "Fogo de Chão Brazilian Steakhouse",
          "Rhythm Kitchen",
          "TGI Fridays",
          "Mon Ami Gabi",
          "Off The Strip at the LINQ",
          "Ace Of Steaks",
          "Alan Albert's",
          "Ohjah Japanese Steakhouse",
          "Larsen's Grill",
          "Medici Cafe and Terrace",
          "Ohjah Japanese Steakhouse",
          "Smith & Wollensky",
          "Xtreme Sushi & Sterling Steakhouse",
          "Yellowtail by Chef Akira Back",
          "Kanji Steak and Sushi",
          "The Restaurant At Los Prados",
          "Primo's Steakhouse",
          "Michael T's Steaks, Ribs, & Burgers",
          "Golden Steer Steakhouse",
          "Morton's The Steakhouse",
          "Tony Roma's",
          "THE Steak House",
          "Samurai Japanese Steakhouse & Sushi",
          "Carve",
          "Applebee's Grill + Bar",
          "Terzetto",
          "R Steak & Seafood",
          "Outback Steakhouse",
          "Lakeside",
          "The Garden Grill",
          "Steakhouse at Bill's",
          "Legends Steak and Seafood",
          "LVH - Las Vegas Hotel & Casino",
          "Fiesta Rancho",
          "DeSimone's Steakhouse",
          "Yard House",
          "Zest - Bistro & Bar",
          "Kelly's Prime Steak & Seafood",
          "MB Steak",
          "Old Homestead Steakhouse",
          "The Charcoal Room",
          "Switch Steak",
          "The Wrangler",
          "Hokkaido Teppanyaki Steak House",
          "Archi's Thai Kitchen",
          "The Capital Grille",
          "Picanha Steak Truck",
          "Andiron Steak & Sea",
          "McCall's Heartland Grill",
          "Geisha House Steak & Sushi",
          "FIX",
          "Outback Steakhouse",
          "Echo & Rig",
          "Brazilian Grill",
          "Village Steakhouse",
          "Don B's Steakhouse",
          "Montana Meat Company - Durango",
          "Joes Seafood Prime Steak & Stone Crab",
          "Rare 120",
          "Vegas CheeseSteaks",
          "Del Frisco's Double Eagle Steakhouse",
          "Gordon Ramsay Steak",
          "Embers",
          "Pullman Grille",
          "Steak",
          "The Flame Steakhouse",
          "Prime Rib Loft",
          "Cornerstone",
          "Geisha House Steak & Sushi",
          "Oakville Steakhouse",
          "Onion Steak Sub",
          "Herbs & Rye",
          "MRKT",
          "Botero",
          "Applebee's Grill + Bar",
          "Bally's Steakhouse",
          "CUT by Wolfgang Puck",
          "Lone Star Steakhouse & Saloon",
          "The Angry Butcher",
          "Monstah Lobstah",
          "Cabo Mexican Restaurant",
          "Samba",
          "The Carmel Room",
          "Prime",
          "T-Bones Chophouse",
          "Mastro's Ocean Club",
          "Ohjah Japanese Steakhouse Sushi & Hibachi Flamingo",
          "Scratch House Restaurant",
          "Hikari",
          "Straight From Philly",
          "Ron's Steakhouse",
          "The Barrymore",
          "ENVY The Steakhouse",
          "Carnevino",
          "Brand Steakhouse",
          "Outback Steakhouse",
          "Hitchin Post Saloon & Steakhouse",
          "The Range Steakhouse",
          "Vila Algarve",
          "Philly Steak and Pizza Express",
          "Simon Restaurant and Lounge",
          "Edge Steakhouse",
          "VooDoo Rooftop Nightclub & Lounge",
          "Outback Steakhouse",
          "Claim Jumper Restaurants",
          "Jin's Kitchen and Club",
          "Top of the World",
          "Toscano Italian Steakhouse",
          "Americana",
          "Bazaar Meat by José Andrés",
          "Geri's Olde Philadelphia Restaurant",
          "Magal BBQ",
          "VooDoo Steakhouse",
          "Second Street Grill",
          "Bavette's Steakhouse & Bar",
          "The Backroom",
          "Fellini's Ristorante",
          "Essence and Herbs",
          "Binion's Gambling Hall",
          "Applebee's Grill + Bar",
          "Ohjah Japanese Steakhouse Hibachi",
          "Austins Steakhouse",
          "Tom Colicchio's Craftsteak",
          "Redwood Steakhouse",
          "Crossroads Restaurant & Bar - Las Vegas",
          "BLT Steak",
          "Outback Steakhouse",
          "Applebee's Grill + Bar",
          "Redstone Grill",
          "Texas Roadhouse",
          "Chophouse & Brewery",
          "Applebee's Grill + Bar",
          "Straight From Philly Steakout",
          "FireRock Steakhouse",
          "Cortez Room",
          "Applebee's Grill + Bar",
          "Yard House",
          "Delmonico Steakhouse",
          "Cadillac Mexican Kitchen & Tequila Bar",
          "Stack Restaurant & Bar",
          "Steakhouse 46",
          "Palace Station Hotel & Casino",
          "Fuego Steakhouse",
          "The Palm Las Vegas",
          "Strip House",
          "Red Square Restaurant & Vodka Lounge",
          "StripSteak",
          "Todd's Unique Dining",
          "El Congo Restaurant",
          "Jean Georges Steakhouse",
          "Fogo de Chão Brazilian Steakhouse",
          "Eiffel Tower",
          "Veloce Restaurant",
          "Charley's Grilled Subs",
          "Gallagher's Steakhouse",
          "Hyakumi Japanese Restaurant & Sushi Bar",
          "Sevens Steakhouse",
          "Alder & Birch",
          "Guadalajara",
          "Silver Nugget Steak House",
          "35 Steaks + Martinis",
          "Santa Fe Station Hotel & Casino",
          "Hugo's Cellar",
          "Roberta's Steakhouse",
          "Applebee's Grill + Bar",
          "Claim Jumper Restaurant & Saloon",
          "Phil's Italian Steak House",
          "Silverado Steakhouse",
          "Restaurant Charlie",
          "Triple George Grill",
          "Social",
          "Siegel's 1941",
          "Beer Park",
          "Tenaya Creek Brewery",
          "BARDOT Brasserie",
          "Cover Girls Gentlemen's Club & Steakhouse",
          "Kokomo's Steak & Seafood",
          "RARE Fine Steak, Wine & Lounge"
         ],
         "lat": [
          36.1362575,
          36.1161559,
          36.074289,
          36.108999,
          36.2747255482,
          36.1188165,
          36.115156899999995,
          36.118399,
          36.1035296,
          36.11654,
          36.126315000000005,
          35.972629,
          35.9650514289,
          36.144997,
          36.11475,
          36.238313,
          35.9737209,
          36.140012,
          36.133220722,
          35.9713894,
          36.0594861,
          36.011478000000004,
          36.0202484,
          36.159564399999994,
          36.0695675256,
          36.114813700000006,
          36.175748999999996,
          36.0133950245,
          36.116436835100004,
          36.1143535,
          36.199434580100004,
          36.095355639699996,
          36.033405480700004,
          35.9949501,
          36.048992157,
          36.1019828424,
          36.128561,
          36.194508299999995,
          36.15853320000001,
          36.060914000000004,
          36.1702390246,
          36.125908,
          36.1060800087,
          36.171234999999996,
          36.1430055233,
          36.190867499999996,
          36.114762,
          36.124423,
          36.10064860000001,
          36.1716327,
          36.27389960000001,
          36.16915170000001,
          36.1151617,
          36.068655,
          36.156898362199996,
          36.091726,
          36.12672,
          36.0419145304,
          36.139986,
          36.175,
          36.13191,
          36.1256249415,
          36.144308216599995,
          36.1091,
          36.118838399999994,
          36.0986438265,
          36.1718351907,
          36.1098294728,
          36.120669,
          36.020552,
          36.1246035827,
          36.1721756,
          36.0765586,
          36.1195756555,
          36.0556567698,
          36.108761,
          36.1162194,
          36.121792,
          36.0319583,
          36.16944,
          36.1242508,
          35.972819,
          36.070096,
          36.1150754866,
          36.110732299999995,
          36.012764000000004,
          36.0613739924,
          36.117758,
          36.1296013,
          36.057609,
          36.0678405392,
          36.114553799999996,
          36.1700962,
          36.1128082,
          36.173087,
          36.0990311,
          36.12920857,
          36.168318400000004,
          36.2045604,
          36.175746999999994,
          36.1337103,
          36.0996904,
          36.076449200000006,
          36.0608495631,
          36.122881,
          36.132937899999995,
          36.325699799999995,
          36.142229,
          36.135655,
          36.1100828,
          36.1441893,
          36.238313,
          36.011422700000004,
          36.1100828,
          36.1710444967,
          36.11426877,
          36.1216084937,
          36.1429690732,
          36.0808197834,
          36.0909158,
          36.032336598,
          36.001746000000004,
          36.126167080100004,
          36.025837200000005,
          36.1150184807,
          36.0732079,
          36.1168182129,
          36.112859,
          36.117683,
          36.142713,
          36.1050656,
          36.1987541,
          36.0671402448,
          36.1022631,
          36.044715000000004,
          36.104648600000004,
          36.0261968,
          36.113508959099995,
          36.0764726,
          36.253425,
          36.168849,
          36.055391,
          36.144141,
          36.114842971,
          36.1964438,
          36.137040999999996,
          36.063167,
          36.1079011,
          36.065659000000004,
          35.964772100000005,
          36.1356446,
          36.057689,
          36.1265763848,
          36.1369777,
          36.124423,
          36.0998842,
          36.1362575,
          36.2032027,
          35.9741221,
          36.1567959455,
          35.9951511,
          36.1186973,
          36.108422999999995,
          36.1169221843,
          36.2505580649,
          36.128561,
          36.198710299999995,
          36.1248839,
          36.1148045,
          36.1276483735,
          36.0765176,
          36.152929,
          36.147384499999994,
          36.1139473,
          36.1138449002,
          36.2390804,
          36.166576,
          36.017627000000005,
          36.1455794,
          36.169390299999996,
          36.021932,
          36.1189331996,
          36.1295416,
          36.2030945,
          36.1180324,
          36.1123377749,
          36.163671152,
          36.172928799999994,
          36.013921,
          36.169148,
          36.1025498,
          36.1168108056,
          36.279651,
          36.099044799999994,
          36.2216662493,
          36.143924215300004,
          36.2925630351,
          36.127516,
          36.197393100000006,
          36.1142391,
          36.123559,
          36.114859,
          36.112895200000004,
          36.0194669,
          36.061504546900004,
          36.121117392399995,
          36.167,
          36.113596,
          36.1559383512,
          36.1079241113,
          36.11541629999999,
          35.978345000000004,
          36.1128939,
          36.0438829,
          36.163438,
          36.1319294,
          36.127396999999995,
          36.1248436068,
          36.1047801463,
          36.0557884597,
          36.2231775639,
          36.1183787,
          36.1016863464,
          36.018285999999996,
          36.114303,
          36.134859000000006,
          36.1162803216,
          36.114025399999996,
          36.170226299999996,
          36.1273969,
          36.147408,
          36.1186973,
          36.207220663499996,
          36.1433720854,
          36.10064860000001,
          36.1268216,
          36.116174,
          36.1709271,
          36.10433,
          36.1137281505,
          36.1481329465,
          36.1016495,
          36.1716327,
          36.2391,
          36.1438778,
          36.1979948329,
          36.102642001,
          36.1730667437,
          36.0930666381,
          36.113669,
          36.143583364,
          36.158608,
          36.0979526,
          36.2403263,
          36.0858850095,
          36.125282,
          36.0558867,
          36.2719424,
          36.1160368623,
          36.00202,
          36.117541659400004,
          36.123183000000004,
          36.1702509335,
          36.1217103886,
          36.1156902,
          36.14264,
          36.032175206999995,
          36.119004043000004,
          36.110555,
          36.092788511900004,
          36.0911934011,
          36.071281,
          36.2020349,
          36.1071523736,
          36.151531799999994,
          36.112477,
          35.99463,
          36.23982,
          36.102645,
          36.1161559,
          36.1137792,
          36.1025627391,
          36.132771000000005,
          36.1987787,
          36.1100828,
          36.250338,
          36.169849,
          36.169089,
          36.0977743,
          36.158642,
          36.1245709977,
          36.0124982093,
          36.1407035,
          36.1718195,
          36.1166965674,
          36.16884864,
          36.111993083099996,
          36.215959121,
          36.1072817167,
          36.1290784,
          36.1213605528,
          35.98718970000001
         ],
         "legendgroup": "",
         "lon": [
          -115.15125259999998,
          -115.17505759999999,
          -115.08286299999999,
          -115.173179,
          -115.24578703579999,
          -115.1542185,
          -115.14971000000001,
          -115.172945,
          -115.1723424,
          -115.15426950000001,
          -115.21425900000001,
          -114.91200400000001,
          -115.1695347474,
          -115.175625,
          -115.1941,
          -115.1190625,
          -114.841642,
          -115.173705,
          -115.08484758770001,
          -114.85125320000002,
          -115.0468547,
          -115.17414099999999,
          -115.0899679,
          -115.28644950000002,
          -115.1737473847,
          -115.2031568,
          -115.29175500000001,
          -114.99275905430001,
          -115.1721597683,
          -115.12184769999999,
          -115.2418681725,
          -115.176614273,
          -115.20842602799999,
          -115.2062178,
          -115.1715393066,
          -115.20149141549999,
          -115.17112979999999,
          -115.24166640000001,
          -115.2857479,
          -115.04064199999999,
          -115.1446098089,
          -115.197906,
          -115.1747367341,
          -115.14406100000001,
          -115.174380141,
          -115.06259340000001,
          -115.19408999999999,
          -115.146372,
          -115.099351,
          -115.14426340000001,
          -115.26926540000001,
          -115.2913521,
          -115.1597903,
          -115.177945,
          -115.2919117492,
          -115.17664599999999,
          -115.16355300000001,
          -115.1834365118,
          -115.173878,
          -115.136389,
          -115.155983,
          -115.20257830950001,
          -115.14569083290002,
          -115.154526,
          -115.15448020000001,
          -115.1753811344,
          -115.1465995795,
          -115.17361841430001,
          -115.17168400000001,
          -115.08998400000002,
          -115.1689884856,
          -115.1468294,
          -115.2986392,
          -115.17219717969999,
          -115.24326229190001,
          -115.170129,
          -115.1745719,
          -115.16955300000001,
          -115.00912779999999,
          -115.142905,
          -115.0756976,
          -114.84878400000001,
          -115.17529850000001,
          -115.15694132540001,
          -115.1722365,
          -115.13605600000001,
          -115.04091891719999,
          -115.154519,
          -115.0927902,
          -115.145127,
          -115.040977058,
          -115.3075865,
          -115.1449611,
          -115.06228870000001,
          -115.144799,
          -115.1708014,
          -115.13693810000001,
          -115.0616584,
          -115.1152174,
          -115.2917528,
          -115.0850568,
          -115.1195912,
          -115.2986212,
          -115.04022098549999,
          -115.168939,
          -115.08469699999999,
          -115.32898159999999,
          -115.15648300000001,
          -115.161507,
          -115.15387140000001,
          -115.17444920000001,
          -115.1190625,
          -115.1752019,
          -115.15387140000001,
          -115.14303535219999,
          -114.9222815037,
          -115.17399971479999,
          -115.2801029384,
          -115.2227296509,
          -115.1737761,
          -115.0085191363,
          -115.10233999999998,
          -115.1668136525,
          -115.0859834,
          -115.15645444389999,
          -115.2085074,
          -115.1920738526,
          -115.17243400000001,
          -115.17124799999999,
          -115.22253,
          -115.17278030000001,
          -115.24279140000002,
          -115.04285192209998,
          -114.93175740000001,
          -115.1008555,
          -115.1727668,
          -115.12047040000002,
          -115.1750483518,
          -115.29857690000001,
          -115.215753,
          -115.29128200000001,
          -115.25173899999999,
          -115.161171,
          -115.15319556,
          -115.24027590000001,
          -115.16461100000001,
          -115.037421,
          -115.05637240000001,
          -115.04656200000001,
          -115.1684896,
          -115.1615118,
          -115.0468544,
          -115.1669352029,
          -115.1633366,
          -115.146372,
          -115.1722956,
          -115.15125259999998,
          -115.1986936,
          -114.91184399999999,
          -115.33438682559999,
          -115.20684009999998,
          -115.15426950000001,
          -115.154643,
          -115.17501095639999,
          -115.2440329054,
          -115.17112979999999,
          -115.1237903,
          -115.3250841,
          -115.2309225,
          -115.1683280326,
          -115.1533426,
          -115.333119,
          -115.1566778,
          -115.30459109999998,
          -115.1753912051,
          -115.17756809999999,
          -115.28623200000001,
          -115.11828390000001,
          -115.3006961,
          -115.1430844,
          -115.279583,
          -115.17375194440001,
          -115.13258970000001,
          -115.22448529999998,
          -115.1554271,
          -115.17169613709999,
          -115.28929492540001,
          -115.14561929999999,
          -114.99288,
          -115.13865,
          -115.2016926,
          -115.1939211572,
          -115.206043,
          -115.1704519,
          -115.3290244192,
          -115.1917272624,
          -115.18076371069999,
          -115.16591299999999,
          -115.24133300000001,
          -115.1727367,
          -115.16841000000001,
          -115.13663899999999,
          -115.06235339999999,
          -115.117383,
          -115.0402058288,
          -115.174633683,
          -115.28133999999999,
          -115.17492299999999,
          -115.3329598904,
          -115.17405509950001,
          -115.3140301,
          -114.836529,
          -115.26139340000002,
          -115.0467533,
          -115.20717900000001,
          -115.16265320000001,
          -115.15404699999999,
          -115.16865505770001,
          -115.1749268102,
          -115.17159020860001,
          -115.08256480690001,
          -115.17262020000001,
          -115.2255495006,
          -115.1179043,
          -115.199059,
          -115.151882,
          -115.1861043359,
          -115.10140770000001,
          -115.14457,
          -115.2240685,
          -115.155726,
          -115.15426950000001,
          -115.267927,
          -115.15702746459999,
          -115.099351,
          -115.196836,
          -115.187304,
          -115.14315159999998,
          -115.1755933333,
          -115.1523211598,
          -115.1557731628,
          -114.93073590000002,
          -115.14426340000001,
          -115.165306,
          -115.2926022,
          -115.1921561671,
          -115.1686254367,
          -115.1448063583,
          -115.1755435722,
          -115.16893300000001,
          -115.2809156285,
          -115.20368799999999,
          -115.29721529999999,
          -115.1248429,
          -115.137501955,
          -115.243528,
          -115.05630659999998,
          -115.2631531,
          -115.1924228668,
          -115.10889099999999,
          -115.16866151239999,
          -115.16918999999999,
          -115.14471575620001,
          -115.1741890718,
          -115.1713943,
          -115.17568999999999,
          -115.01006120870001,
          -115.17576111700001,
          -115.17190500000001,
          -115.1761562834,
          -115.1765743919,
          -115.07878400000001,
          -115.24176659999999,
          -115.1771307395,
          -115.33301570000002,
          -115.17218899999999,
          -115.11896999999999,
          -115.04346000000001,
          -115.17453400000001,
          -115.17505759999999,
          -115.1524787,
          -115.2011897042,
          -115.085169,
          -115.1238543,
          -115.15387140000001,
          -115.24400200000001,
          -115.143368,
          -115.138595,
          -115.29666840000002,
          -115.29101000000001,
          -115.1724276826,
          -115.17542012860001,
          -115.18231370000001,
          -115.1423178,
          -115.20294414,
          -115.1390386295,
          -115.1724253893,
          -115.2513092065,
          -115.17654776280001,
          -115.18849099999998,
          -115.17404204280001,
          -115.1016247
         ],
         "marker": {
          "color": [
           4,
           3.5,
           2.5,
           3,
           3.5,
           4.5,
           4.5,
           4,
           3.5,
           3,
           4.5,
           4,
           4,
           3,
           4,
           4,
           4.5,
           4.5,
           3.5,
           3.5,
           3.5,
           4.5,
           4,
           2.5,
           4,
           3.5,
           4,
           4.5,
           3,
           3,
           3.5,
           3.5,
           4,
           4,
           4,
           4,
           3,
           3,
           4,
           3.5,
           4.5,
           3.5,
           4.5,
           4,
           4,
           3,
           4.5,
           3.5,
           4,
           3,
           3.5,
           4,
           4,
           4,
           4,
           3,
           4,
           4,
           3,
           4,
           4,
           4.5,
           3,
           3.5,
           3.5,
           3.5,
           4,
           4,
           3.5,
           3.5,
           3.5,
           4.5,
           3.5,
           4,
           4,
           3,
           3.5,
           3.5,
           2.5,
           4.5,
           3.5,
           4.5,
           4.5,
           3.5,
           5,
           3,
           4,
           4,
           4,
           2.5,
           1.5,
           4,
           4,
           3,
           4,
           4,
           3,
           3,
           4,
           2.5,
           4,
           3.5,
           4.5,
           4.5,
           4,
           2.5,
           2.5,
           3.5,
           3,
           3.5,
           3.5,
           4.5,
           4,
           4,
           2.5,
           4,
           3.5,
           4.5,
           3.5,
           4,
           3,
           3.5,
           4,
           3.5,
           4.5,
           3.5,
           2.5,
           4,
           3.5,
           4.5,
           4,
           4.5,
           4,
           4,
           4,
           4,
           2.5,
           3.5,
           4.5,
           5,
           4,
           4,
           4,
           4,
           2.5,
           4,
           4,
           4,
           3,
           4,
           4,
           3.5,
           3.5,
           3,
           3,
           3.5,
           2.5,
           2.5,
           4,
           4,
           4.5,
           2.5,
           4.5,
           4,
           3.5,
           3.5,
           4,
           4,
           4,
           4.5,
           4,
           4,
           4,
           4,
           3.5,
           3,
           4.5,
           3,
           4.5,
           4,
           3.5,
           4.5,
           3,
           3.5,
           4.5,
           4,
           4,
           4,
           3,
           3.5,
           3.5,
           4,
           3.5,
           4,
           4,
           4,
           4,
           4,
           2.5,
           3.5,
           4,
           4,
           4,
           3,
           3,
           3,
           3.5,
           4,
           3.5,
           4.5,
           4.5,
           3.5,
           4,
           4,
           4,
           4,
           4,
           3.5,
           4,
           3.5,
           4,
           4,
           4.5,
           2,
           3.5,
           4.5,
           3.5,
           3,
           3.5,
           3.5,
           4,
           4,
           4.5,
           4,
           4,
           4.5,
           3.5,
           4,
           4.5,
           4,
           4,
           4,
           3.5,
           3,
           4.5,
           4,
           4,
           4.5,
           3.5,
           4,
           3.5,
           2,
           4,
           5,
           3,
           2.5,
           4.5,
           3.5,
           3.5,
           2.5,
           4,
           4,
           4,
           4,
           3.5,
           2.5,
           4,
           4,
           4,
           4,
           4,
           4,
           4.5,
           3.5,
           4,
           4,
           4,
           2,
           4,
           3,
           4,
           4.5,
           3,
           3.5,
           4,
           2.5,
           4.5,
           4.5,
           3,
           3,
           3,
           4,
           4,
           4,
           4,
           3.5,
           3.5,
           4,
           4,
           4,
           3.5,
           3
          ],
          "coloraxis": "coloraxis",
          "size": [
           60,
           21,
           258,
           165,
           459,
           44,
           463,
           236,
           130,
           86,
           297,
           15,
           265,
           263,
           838,
           89,
           482,
           9,
           35,
           55,
           50,
           165,
           441,
           83,
           389,
           14,
           88,
           306,
           261,
           14,
           11,
           473,
           529,
           1429,
           969,
           56,
           61,
           216,
           404,
           542,
           692,
           145,
           301,
           328,
           137,
           3,
           111,
           52,
           25,
           215,
           214,
           107,
           1016,
           1375,
           679,
           1009,
           269,
           311,
           185,
           190,
           442,
           277,
           21,
           880,
           76,
           238,
           533,
           1578,
           191,
           893,
           686,
           3,
           65,
           471,
           287,
           2412,
           63,
           139,
           292,
           576,
           30,
           10,
           778,
           238,
           21,
           10,
           145,
           683,
           158,
           106,
           28,
           217,
           356,
           105,
           93,
           140,
           149,
           101,
           37,
           169,
           86,
           148,
           901,
           7,
           504,
           313,
           28,
           17,
           4,
           13,
           26,
           6,
           233,
           13,
           332,
           126,
           472,
           273,
           47,
           470,
           70,
           207,
           1189,
           310,
           1130,
           668,
           180,
           8348,
           643,
           50,
           7,
           361,
           197,
           15,
           270,
           467,
           234,
           934,
           92,
           4,
           4,
           140,
           873,
           310,
           31,
           666,
           423,
           97,
           174,
           26,
           110,
           346,
           450,
           57,
           26,
           6,
           945,
           109,
           68,
           936,
           566,
           35,
           102,
           544,
           188,
           146,
           13,
           182,
           412,
           727,
           31,
           513,
           139,
           276,
           658,
           162,
           2442,
           11,
           3,
           4,
           377,
           2417,
           75,
           6,
           1379,
           3547,
           156,
           5,
           7,
           80,
           272,
           82,
           344,
           51,
           99,
           1461,
           196,
           434,
           162,
           67,
           1397,
           5,
           132,
           48,
           100,
           280,
           60,
           907,
           440,
           1406,
           362,
           86,
           800,
           119,
           80,
           908,
           508,
           1367,
           491,
           291,
           74,
           105,
           190,
           4,
           349,
           96,
           516,
           12,
           274,
           15,
           1401,
           51,
           353,
           895,
           45,
           511,
           317,
           99,
           251,
           5,
           201,
           79,
           252,
           145,
           73,
           122,
           2269,
           64,
           96,
           587,
           240,
           105,
           3,
           5,
           206,
           101,
           169,
           774,
           92,
           140,
           1015,
           1613,
           156,
           857,
           21,
           770,
           130,
           714,
           589,
           637,
           1169,
           342,
           29,
           792,
           275,
           1852,
           7,
           9,
           1148,
           3,
           9,
           146,
           57,
           3,
           181,
           287,
           888,
           3,
           159,
           362,
           160,
           176,
           29,
           1064,
           19,
           208,
           536,
           103,
           932,
           4,
           140,
           7
          ],
          "sizemode": "area",
          "sizeref": 9.275555555555556
         },
         "mode": "markers",
         "name": "",
         "showlegend": false,
         "subplot": "mapbox",
         "type": "scattermapbox"
        }
       ],
       "layout": {
        "coloraxis": {
         "colorbar": {
          "title": {
           "text": "stars"
          }
         },
         "colorscale": [
          [
           0,
           "#000000"
          ],
          [
           0.0625,
           "#001f4d"
          ],
          [
           0.125,
           "#003786"
          ],
          [
           0.1875,
           "#0e58a8"
          ],
          [
           0.25,
           "#217eb8"
          ],
          [
           0.3125,
           "#30a4ca"
          ],
          [
           0.375,
           "#54c8df"
          ],
          [
           0.4375,
           "#9be4ef"
          ],
          [
           0.5,
           "#e1e9d1"
          ],
          [
           0.5625,
           "#f3d573"
          ],
          [
           0.625,
           "#e7b000"
          ],
          [
           0.6875,
           "#da8200"
          ],
          [
           0.75,
           "#c65400"
          ],
          [
           0.8125,
           "#ac2301"
          ],
          [
           0.875,
           "#820000"
          ],
          [
           0.9375,
           "#4c0000"
          ],
          [
           1,
           "#040100"
          ]
         ]
        },
        "height": 600,
        "legend": {
         "itemsizing": "constant",
         "tracegroupgap": 0
        },
        "mapbox": {
         "center": {
          "lat": 36.11940268403478,
          "lon": -115.1627090403649
         },
         "domain": {
          "x": [
           0,
           0.98
          ],
          "y": [
           0,
           1
          ]
         },
         "style": "open-street-map",
         "zoom": 10
        },
        "margin": {
         "b": 0,
         "l": 0,
         "r": 0,
         "t": 0
        },
        "template": {
         "data": {
          "bar": [
           {
            "error_x": {
             "color": "#2a3f5f"
            },
            "error_y": {
             "color": "#2a3f5f"
            },
            "marker": {
             "line": {
              "color": "#E5ECF6",
              "width": 0.5
             }
            },
            "type": "bar"
           }
          ],
          "barpolar": [
           {
            "marker": {
             "line": {
              "color": "#E5ECF6",
              "width": 0.5
             }
            },
            "type": "barpolar"
           }
          ],
          "carpet": [
           {
            "aaxis": {
             "endlinecolor": "#2a3f5f",
             "gridcolor": "white",
             "linecolor": "white",
             "minorgridcolor": "white",
             "startlinecolor": "#2a3f5f"
            },
            "baxis": {
             "endlinecolor": "#2a3f5f",
             "gridcolor": "white",
             "linecolor": "white",
             "minorgridcolor": "white",
             "startlinecolor": "#2a3f5f"
            },
            "type": "carpet"
           }
          ],
          "choropleth": [
           {
            "colorbar": {
             "outlinewidth": 0,
             "ticks": ""
            },
            "type": "choropleth"
           }
          ],
          "contour": [
           {
            "colorbar": {
             "outlinewidth": 0,
             "ticks": ""
            },
            "colorscale": [
             [
              0,
              "#0d0887"
             ],
             [
              0.1111111111111111,
              "#46039f"
             ],
             [
              0.2222222222222222,
              "#7201a8"
             ],
             [
              0.3333333333333333,
              "#9c179e"
             ],
             [
              0.4444444444444444,
              "#bd3786"
             ],
             [
              0.5555555555555556,
              "#d8576b"
             ],
             [
              0.6666666666666666,
              "#ed7953"
             ],
             [
              0.7777777777777778,
              "#fb9f3a"
             ],
             [
              0.8888888888888888,
              "#fdca26"
             ],
             [
              1,
              "#f0f921"
             ]
            ],
            "type": "contour"
           }
          ],
          "contourcarpet": [
           {
            "colorbar": {
             "outlinewidth": 0,
             "ticks": ""
            },
            "type": "contourcarpet"
           }
          ],
          "heatmap": [
           {
            "colorbar": {
             "outlinewidth": 0,
             "ticks": ""
            },
            "colorscale": [
             [
              0,
              "#0d0887"
             ],
             [
              0.1111111111111111,
              "#46039f"
             ],
             [
              0.2222222222222222,
              "#7201a8"
             ],
             [
              0.3333333333333333,
              "#9c179e"
             ],
             [
              0.4444444444444444,
              "#bd3786"
             ],
             [
              0.5555555555555556,
              "#d8576b"
             ],
             [
              0.6666666666666666,
              "#ed7953"
             ],
             [
              0.7777777777777778,
              "#fb9f3a"
             ],
             [
              0.8888888888888888,
              "#fdca26"
             ],
             [
              1,
              "#f0f921"
             ]
            ],
            "type": "heatmap"
           }
          ],
          "heatmapgl": [
           {
            "colorbar": {
             "outlinewidth": 0,
             "ticks": ""
            },
            "colorscale": [
             [
              0,
              "#0d0887"
             ],
             [
              0.1111111111111111,
              "#46039f"
             ],
             [
              0.2222222222222222,
              "#7201a8"
             ],
             [
              0.3333333333333333,
              "#9c179e"
             ],
             [
              0.4444444444444444,
              "#bd3786"
             ],
             [
              0.5555555555555556,
              "#d8576b"
             ],
             [
              0.6666666666666666,
              "#ed7953"
             ],
             [
              0.7777777777777778,
              "#fb9f3a"
             ],
             [
              0.8888888888888888,
              "#fdca26"
             ],
             [
              1,
              "#f0f921"
             ]
            ],
            "type": "heatmapgl"
           }
          ],
          "histogram": [
           {
            "marker": {
             "colorbar": {
              "outlinewidth": 0,
              "ticks": ""
             }
            },
            "type": "histogram"
           }
          ],
          "histogram2d": [
           {
            "colorbar": {
             "outlinewidth": 0,
             "ticks": ""
            },
            "colorscale": [
             [
              0,
              "#0d0887"
             ],
             [
              0.1111111111111111,
              "#46039f"
             ],
             [
              0.2222222222222222,
              "#7201a8"
             ],
             [
              0.3333333333333333,
              "#9c179e"
             ],
             [
              0.4444444444444444,
              "#bd3786"
             ],
             [
              0.5555555555555556,
              "#d8576b"
             ],
             [
              0.6666666666666666,
              "#ed7953"
             ],
             [
              0.7777777777777778,
              "#fb9f3a"
             ],
             [
              0.8888888888888888,
              "#fdca26"
             ],
             [
              1,
              "#f0f921"
             ]
            ],
            "type": "histogram2d"
           }
          ],
          "histogram2dcontour": [
           {
            "colorbar": {
             "outlinewidth": 0,
             "ticks": ""
            },
            "colorscale": [
             [
              0,
              "#0d0887"
             ],
             [
              0.1111111111111111,
              "#46039f"
             ],
             [
              0.2222222222222222,
              "#7201a8"
             ],
             [
              0.3333333333333333,
              "#9c179e"
             ],
             [
              0.4444444444444444,
              "#bd3786"
             ],
             [
              0.5555555555555556,
              "#d8576b"
             ],
             [
              0.6666666666666666,
              "#ed7953"
             ],
             [
              0.7777777777777778,
              "#fb9f3a"
             ],
             [
              0.8888888888888888,
              "#fdca26"
             ],
             [
              1,
              "#f0f921"
             ]
            ],
            "type": "histogram2dcontour"
           }
          ],
          "mesh3d": [
           {
            "colorbar": {
             "outlinewidth": 0,
             "ticks": ""
            },
            "type": "mesh3d"
           }
          ],
          "parcoords": [
           {
            "line": {
             "colorbar": {
              "outlinewidth": 0,
              "ticks": ""
             }
            },
            "type": "parcoords"
           }
          ],
          "scatter": [
           {
            "marker": {
             "colorbar": {
              "outlinewidth": 0,
              "ticks": ""
             }
            },
            "type": "scatter"
           }
          ],
          "scatter3d": [
           {
            "line": {
             "colorbar": {
              "outlinewidth": 0,
              "ticks": ""
             }
            },
            "marker": {
             "colorbar": {
              "outlinewidth": 0,
              "ticks": ""
             }
            },
            "type": "scatter3d"
           }
          ],
          "scattercarpet": [
           {
            "marker": {
             "colorbar": {
              "outlinewidth": 0,
              "ticks": ""
             }
            },
            "type": "scattercarpet"
           }
          ],
          "scattergeo": [
           {
            "marker": {
             "colorbar": {
              "outlinewidth": 0,
              "ticks": ""
             }
            },
            "type": "scattergeo"
           }
          ],
          "scattergl": [
           {
            "marker": {
             "colorbar": {
              "outlinewidth": 0,
              "ticks": ""
             }
            },
            "type": "scattergl"
           }
          ],
          "scattermapbox": [
           {
            "marker": {
             "colorbar": {
              "outlinewidth": 0,
              "ticks": ""
             }
            },
            "type": "scattermapbox"
           }
          ],
          "scatterpolar": [
           {
            "marker": {
             "colorbar": {
              "outlinewidth": 0,
              "ticks": ""
             }
            },
            "type": "scatterpolar"
           }
          ],
          "scatterpolargl": [
           {
            "marker": {
             "colorbar": {
              "outlinewidth": 0,
              "ticks": ""
             }
            },
            "type": "scatterpolargl"
           }
          ],
          "scatterternary": [
           {
            "marker": {
             "colorbar": {
              "outlinewidth": 0,
              "ticks": ""
             }
            },
            "type": "scatterternary"
           }
          ],
          "surface": [
           {
            "colorbar": {
             "outlinewidth": 0,
             "ticks": ""
            },
            "colorscale": [
             [
              0,
              "#0d0887"
             ],
             [
              0.1111111111111111,
              "#46039f"
             ],
             [
              0.2222222222222222,
              "#7201a8"
             ],
             [
              0.3333333333333333,
              "#9c179e"
             ],
             [
              0.4444444444444444,
              "#bd3786"
             ],
             [
              0.5555555555555556,
              "#d8576b"
             ],
             [
              0.6666666666666666,
              "#ed7953"
             ],
             [
              0.7777777777777778,
              "#fb9f3a"
             ],
             [
              0.8888888888888888,
              "#fdca26"
             ],
             [
              1,
              "#f0f921"
             ]
            ],
            "type": "surface"
           }
          ],
          "table": [
           {
            "cells": {
             "fill": {
              "color": "#EBF0F8"
             },
             "line": {
              "color": "white"
             }
            },
            "header": {
             "fill": {
              "color": "#C8D4E3"
             },
             "line": {
              "color": "white"
             }
            },
            "type": "table"
           }
          ]
         },
         "layout": {
          "annotationdefaults": {
           "arrowcolor": "#2a3f5f",
           "arrowhead": 0,
           "arrowwidth": 1
          },
          "colorscale": {
           "diverging": [
            [
             0,
             "#8e0152"
            ],
            [
             0.1,
             "#c51b7d"
            ],
            [
             0.2,
             "#de77ae"
            ],
            [
             0.3,
             "#f1b6da"
            ],
            [
             0.4,
             "#fde0ef"
            ],
            [
             0.5,
             "#f7f7f7"
            ],
            [
             0.6,
             "#e6f5d0"
            ],
            [
             0.7,
             "#b8e186"
            ],
            [
             0.8,
             "#7fbc41"
            ],
            [
             0.9,
             "#4d9221"
            ],
            [
             1,
             "#276419"
            ]
           ],
           "sequential": [
            [
             0,
             "#0d0887"
            ],
            [
             0.1111111111111111,
             "#46039f"
            ],
            [
             0.2222222222222222,
             "#7201a8"
            ],
            [
             0.3333333333333333,
             "#9c179e"
            ],
            [
             0.4444444444444444,
             "#bd3786"
            ],
            [
             0.5555555555555556,
             "#d8576b"
            ],
            [
             0.6666666666666666,
             "#ed7953"
            ],
            [
             0.7777777777777778,
             "#fb9f3a"
            ],
            [
             0.8888888888888888,
             "#fdca26"
            ],
            [
             1,
             "#f0f921"
            ]
           ],
           "sequentialminus": [
            [
             0,
             "#0d0887"
            ],
            [
             0.1111111111111111,
             "#46039f"
            ],
            [
             0.2222222222222222,
             "#7201a8"
            ],
            [
             0.3333333333333333,
             "#9c179e"
            ],
            [
             0.4444444444444444,
             "#bd3786"
            ],
            [
             0.5555555555555556,
             "#d8576b"
            ],
            [
             0.6666666666666666,
             "#ed7953"
            ],
            [
             0.7777777777777778,
             "#fb9f3a"
            ],
            [
             0.8888888888888888,
             "#fdca26"
            ],
            [
             1,
             "#f0f921"
            ]
           ]
          },
          "colorway": [
           "#636efa",
           "#EF553B",
           "#00cc96",
           "#ab63fa",
           "#FFA15A",
           "#19d3f3",
           "#FF6692",
           "#B6E880",
           "#FF97FF",
           "#FECB52"
          ],
          "font": {
           "color": "#2a3f5f"
          },
          "geo": {
           "bgcolor": "white",
           "lakecolor": "white",
           "landcolor": "#E5ECF6",
           "showlakes": true,
           "showland": true,
           "subunitcolor": "white"
          },
          "hoverlabel": {
           "align": "left"
          },
          "hovermode": "closest",
          "mapbox": {
           "style": "light"
          },
          "paper_bgcolor": "white",
          "plot_bgcolor": "#E5ECF6",
          "polar": {
           "angularaxis": {
            "gridcolor": "white",
            "linecolor": "white",
            "ticks": ""
           },
           "bgcolor": "#E5ECF6",
           "radialaxis": {
            "gridcolor": "white",
            "linecolor": "white",
            "ticks": ""
           }
          },
          "scene": {
           "xaxis": {
            "backgroundcolor": "#E5ECF6",
            "gridcolor": "white",
            "gridwidth": 2,
            "linecolor": "white",
            "showbackground": true,
            "ticks": "",
            "zerolinecolor": "white"
           },
           "yaxis": {
            "backgroundcolor": "#E5ECF6",
            "gridcolor": "white",
            "gridwidth": 2,
            "linecolor": "white",
            "showbackground": true,
            "ticks": "",
            "zerolinecolor": "white"
           },
           "zaxis": {
            "backgroundcolor": "#E5ECF6",
            "gridcolor": "white",
            "gridwidth": 2,
            "linecolor": "white",
            "showbackground": true,
            "ticks": "",
            "zerolinecolor": "white"
           }
          },
          "shapedefaults": {
           "line": {
            "color": "#2a3f5f"
           }
          },
          "ternary": {
           "aaxis": {
            "gridcolor": "white",
            "linecolor": "white",
            "ticks": ""
           },
           "baxis": {
            "gridcolor": "white",
            "linecolor": "white",
            "ticks": ""
           },
           "bgcolor": "#E5ECF6",
           "caxis": {
            "gridcolor": "white",
            "linecolor": "white",
            "ticks": ""
           }
          },
          "title": {
           "x": 0.05
          },
          "xaxis": {
           "automargin": true,
           "gridcolor": "white",
           "linecolor": "white",
           "ticks": "",
           "zerolinecolor": "white",
           "zerolinewidth": 2
          },
          "yaxis": {
           "automargin": true,
           "gridcolor": "white",
           "linecolor": "white",
           "ticks": "",
           "zerolinecolor": "white",
           "zerolinewidth": 2
          }
         }
        }
       }
      },
      "text/html": [
       "<div>\n",
       "        \n",
       "        \n",
       "            <div id=\"17fb53ac-36f2-4523-bcf9-d9c4a03d0006\" class=\"plotly-graph-div\" style=\"height:600px; width:100%;\"></div>\n",
       "            <script type=\"text/javascript\">\n",
       "                require([\"plotly\"], function(Plotly) {\n",
       "                    window.PLOTLYENV=window.PLOTLYENV || {};\n",
       "                    \n",
       "                if (document.getElementById(\"17fb53ac-36f2-4523-bcf9-d9c4a03d0006\")) {\n",
       "                    Plotly.newPlot(\n",
       "                        '17fb53ac-36f2-4523-bcf9-d9c4a03d0006',\n",
       "                        [{\"customdata\": [[\"NV\", 4.0], [\"NV\", 3.5], [\"NV\", 2.5], [\"NV\", 3.0], [\"NV\", 3.5], [\"NV\", 4.5], [\"NV\", 4.5], [\"NV\", 4.0], [\"NV\", 3.5], [\"NV\", 3.0], [\"NV\", 4.5], [\"NV\", 4.0], [\"NV\", 4.0], [\"NV\", 3.0], [\"NV\", 4.0], [\"NV\", 4.0], [\"NV\", 4.5], [\"NV\", 4.5], [\"NV\", 3.5], [\"NV\", 3.5], [\"NV\", 3.5], [\"NV\", 4.5], [\"NV\", 4.0], [\"NV\", 2.5], [\"NV\", 4.0], [\"NV\", 3.5], [\"NV\", 4.0], [\"NV\", 4.5], [\"NV\", 3.0], [\"NV\", 3.0], [\"NV\", 3.5], [\"NV\", 3.5], [\"NV\", 4.0], [\"NV\", 4.0], [\"NV\", 4.0], [\"NV\", 4.0], [\"NV\", 3.0], [\"NV\", 3.0], [\"NV\", 4.0], [\"NV\", 3.5], [\"NV\", 4.5], [\"NV\", 3.5], [\"NV\", 4.5], [\"NV\", 4.0], [\"NV\", 4.0], [\"NV\", 3.0], [\"NV\", 4.5], [\"NV\", 3.5], [\"NV\", 4.0], [\"NV\", 3.0], [\"NV\", 3.5], [\"NV\", 4.0], [\"NV\", 4.0], [\"NV\", 4.0], [\"NV\", 4.0], [\"NV\", 3.0], [\"NV\", 4.0], [\"NV\", 4.0], [\"NV\", 3.0], [\"NV\", 4.0], [\"NV\", 4.0], [\"NV\", 4.5], [\"NV\", 3.0], [\"NV\", 3.5], [\"NV\", 3.5], [\"NV\", 3.5], [\"NV\", 4.0], [\"NV\", 4.0], [\"NV\", 3.5], [\"NV\", 3.5], [\"NV\", 3.5], [\"NV\", 4.5], [\"NV\", 3.5], [\"NV\", 4.0], [\"NV\", 4.0], [\"NV\", 3.0], [\"NV\", 3.5], [\"NV\", 3.5], [\"NV\", 2.5], [\"NV\", 4.5], [\"NV\", 3.5], [\"NV\", 4.5], [\"NV\", 4.5], [\"NV\", 3.5], [\"NV\", 5.0], [\"NV\", 3.0], [\"NV\", 4.0], [\"NV\", 4.0], [\"NV\", 4.0], [\"NV\", 2.5], [\"NV\", 1.5], [\"NV\", 4.0], [\"NV\", 4.0], [\"NV\", 3.0], [\"NV\", 4.0], [\"NV\", 4.0], [\"NV\", 3.0], [\"NV\", 3.0], [\"NV\", 4.0], [\"NV\", 2.5], [\"NV\", 4.0], [\"NV\", 3.5], [\"NV\", 4.5], [\"NV\", 4.5], [\"NV\", 4.0], [\"NV\", 2.5], [\"NV\", 2.5], [\"NV\", 3.5], [\"NV\", 3.0], [\"NV\", 3.5], [\"NV\", 3.5], [\"NV\", 4.5], [\"NV\", 4.0], [\"NV\", 4.0], [\"NV\", 2.5], [\"NV\", 4.0], [\"NV\", 3.5], [\"NV\", 4.5], [\"NV\", 3.5], [\"NV\", 4.0], [\"NV\", 3.0], [\"NV\", 3.5], [\"NV\", 4.0], [\"NV\", 3.5], [\"NV\", 4.5], [\"NV\", 3.5], [\"NV\", 2.5], [\"NV\", 4.0], [\"NV\", 3.5], [\"NV\", 4.5], [\"NV\", 4.0], [\"NV\", 4.5], [\"NV\", 4.0], [\"NV\", 4.0], [\"NV\", 4.0], [\"NV\", 4.0], [\"NV\", 2.5], [\"NV\", 3.5], [\"NV\", 4.5], [\"NV\", 5.0], [\"NV\", 4.0], [\"NV\", 4.0], [\"NV\", 4.0], [\"NV\", 4.0], [\"NV\", 2.5], [\"NV\", 4.0], [\"NV\", 4.0], [\"NV\", 4.0], [\"NV\", 3.0], [\"NV\", 4.0], [\"NV\", 4.0], [\"NV\", 3.5], [\"NV\", 3.5], [\"NV\", 3.0], [\"NV\", 3.0], [\"NV\", 3.5], [\"NV\", 2.5], [\"NV\", 2.5], [\"NV\", 4.0], [\"NV\", 4.0], [\"NV\", 4.5], [\"NV\", 2.5], [\"NV\", 4.5], [\"NV\", 4.0], [\"NV\", 3.5], [\"NV\", 3.5], [\"NV\", 4.0], [\"NV\", 4.0], [\"NV\", 4.0], [\"NV\", 4.5], [\"NV\", 4.0], [\"NV\", 4.0], [\"NV\", 4.0], [\"NV\", 4.0], [\"NV\", 3.5], [\"NV\", 3.0], [\"NV\", 4.5], [\"NV\", 3.0], [\"NV\", 4.5], [\"NV\", 4.0], [\"NV\", 3.5], [\"NV\", 4.5], [\"NV\", 3.0], [\"NV\", 3.5], [\"NV\", 4.5], [\"NV\", 4.0], [\"NV\", 4.0], [\"NV\", 4.0], [\"NV\", 3.0], [\"NV\", 3.5], [\"NV\", 3.5], [\"NV\", 4.0], [\"NV\", 3.5], [\"NV\", 4.0], [\"NV\", 4.0], [\"NV\", 4.0], [\"NV\", 4.0], [\"NV\", 4.0], [\"NV\", 2.5], [\"NV\", 3.5], [\"NV\", 4.0], [\"NV\", 4.0], [\"NV\", 4.0], [\"NV\", 3.0], [\"NV\", 3.0], [\"NV\", 3.0], [\"NV\", 3.5], [\"NV\", 4.0], [\"NV\", 3.5], [\"NV\", 4.5], [\"NV\", 4.5], [\"NV\", 3.5], [\"NV\", 4.0], [\"NV\", 4.0], [\"NV\", 4.0], [\"NV\", 4.0], [\"NV\", 4.0], [\"NV\", 3.5], [\"NV\", 4.0], [\"NV\", 3.5], [\"NV\", 4.0], [\"NV\", 4.0], [\"NV\", 4.5], [\"NV\", 2.0], [\"NV\", 3.5], [\"NV\", 4.5], [\"NV\", 3.5], [\"NV\", 3.0], [\"NV\", 3.5], [\"NV\", 3.5], [\"NV\", 4.0], [\"NV\", 4.0], [\"NV\", 4.5], [\"NV\", 4.0], [\"NV\", 4.0], [\"NV\", 4.5], [\"NV\", 3.5], [\"NV\", 4.0], [\"NV\", 4.5], [\"NV\", 4.0], [\"NV\", 4.0], [\"NV\", 4.0], [\"NV\", 3.5], [\"NV\", 3.0], [\"NV\", 4.5], [\"NV\", 4.0], [\"NV\", 4.0], [\"NV\", 4.5], [\"NV\", 3.5], [\"NV\", 4.0], [\"NV\", 3.5], [\"NV\", 2.0], [\"NV\", 4.0], [\"NV\", 5.0], [\"NV\", 3.0], [\"NV\", 2.5], [\"NV\", 4.5], [\"NV\", 3.5], [\"NV\", 3.5], [\"NV\", 2.5], [\"NV\", 4.0], [\"NV\", 4.0], [\"NV\", 4.0], [\"NV\", 4.0], [\"NV\", 3.5], [\"NV\", 2.5], [\"NV\", 4.0], [\"NV\", 4.0], [\"NV\", 4.0], [\"NV\", 4.0], [\"NV\", 4.0], [\"NV\", 4.0], [\"NV\", 4.5], [\"NV\", 3.5], [\"NV\", 4.0], [\"NV\", 4.0], [\"NV\", 4.0], [\"NV\", 2.0], [\"NV\", 4.0], [\"NV\", 3.0], [\"NV\", 4.0], [\"NV\", 4.5], [\"NV\", 3.0], [\"NV\", 3.5], [\"NV\", 4.0], [\"NV\", 2.5], [\"NV\", 4.5], [\"NV\", 4.5], [\"NV\", 3.0], [\"NV\", 3.0], [\"NV\", 3.0], [\"NV\", 4.0], [\"NV\", 4.0], [\"NV\", 4.0], [\"NV\", 4.0], [\"NV\", 3.5], [\"NV\", 3.5], [\"NV\", 4.0], [\"NV\", 4.0], [\"NV\", 4.0], [\"NV\", 3.5], [\"NV\", 3.0]], \"hoverlabel\": {\"namelength\": 0}, \"hovertemplate\": \"<b>%{hovertext}</b><br><br>review_count=%{marker.size}<br>state=%{customdata[0]}<br>stars=%{marker.color}<br>latitude=%{lat}<br>longitude=%{lon}\", \"hovertext\": [\"TJ's Steakhouse\", \"Empress Court\", \"Bertolucci Brazilian Steakhouse\", \"Beso Steakhouse\", \"Bob Taylor's Ranch House\", \"Cleaver -  Butchered Meats, Seafood & Cocktails\", \"Roy's Restaurant\", \"P.J. Clarke's New York Chophouse\", \"Outback Steakhouse\", \"Yolie's Brazilian Steak House\", \"Rincon De Buenos Aires\", \"The Steakhouse at The Pass\", \"Anthony's Prime Steak & Seafood\", \"Landry's Seafood House\", \"N9NE Steakhouse\", \"Waverly's Steak House\", \"Little City Grille\", \"The Steakhouse at Treasures\", \"Boulder Station Pasta Cucina\", \"The Bistro\", \"Tony Roma's\", \"Michael's Gourmet Room\", \"Hank's Fine Steaks & Martinis\", \"Applebee's Neighborhood Grill & Bar\", \"Fleming's Prime Steakhouse & Wine Bar - Las Vegas\", \"Ruth's Chris Steak House\", \"Hawthorn Grill\", \"Il Chianti Italian Steak & Seafood\", \"Center Cut Steakhouse\", \"The Tillerman\", \"Omaha Steaks\", \"TENDER Steakhouse\", \"Ohjah Japanese Steakhouse Sushi & Hibachi\", \"Rise & Shine - A Steak & Egg Place\", \"The Bootlegger Italian Bistro\", \"Canal Street\", \"Union Restaurant & Lounge\", \"Outback Steakhouse\", \"Fleming's Prime Steakhouse & Wine Bar\", \"Sunset Station\", \"Vic & Anthony's Steakhouse\", \"Yagyu Yakiniku\", \"Twist by Pierre Gagnaire\", \"Top of Binion's Steakhouse\", \"The Charcoal Room\", \"Las Brassas Asados y Mariscos\", \"Scotch 80 Prime\", \"Les Artistes Steakhouse\", \"Fuji Japanese Restaurant\", \"Binion's Cafe\", \"Montana Meat Company\", \"SC Prime Steakhouse & Bar\", \"Lawry's The Prime Rib\", \"Yard House\", \"Via Brasil Steakhouse on South Fort Apache and Charleston\", \"Citizens Kitchen and Bar\", \"Country Club\", \"Twin Creeks\", \"Treasures Gentlemen's Club & Steakhouse\", \"BOA Steakhouse\", \"Piero's Italian Cuisine\", \"8oz Korean Steak House\", \"Tony Roma's\", \"Mr. Lucky's 24-7\", \"Ruth's Chris Steak House\", \"Camelot Steakhouse\", \"Oscar's Steakhouse\", \"STK Las Vegas\", \"Outback Steakhouse\", \"Green Valley Ranch Resort & Spa\", \"Morels French Steakhouse & Bistro\", \"Center Stage Restaurant\", \"Geisha House Steak & Sushi\", \"Ruth's Chris Steak House\", \"Bonsai Japanese Steak & Sushi\", \"Pampas Churrascaria Brazilian Grille\", \"Neros\", \"Pinot Brasserie\", \"Fiesta Henderson\", \"Joe Vicari's Andiamo Italian Steakhouse\", \"Yukon Grille\", \"Sushi Lounge & steakhouse\", \"Texas de Brazil\", \"McCormick & Schmick's Seafood & Steaks\", \"Commander's Palace\", \"Honmachi\", \"Sonoma Cellar\", \"Musashi Japanese Steakhouse\", \"Geisha House Steak & Sushi\", \"Applebee's Grill + Bar\", \"Great Steak\", \"Sushi Tower & Steakhouse\", \"Chart House\", \"Billy Bob's Steakhouse\", \"Redwood Bar and Grill\", \"Biscayne Steak, Sea & Wine\", \"Applebee's Grill + Bar\", \"Applebee's Grill + Bar\", \"Mariscos Aguachiles Culichi\", \"Rampart Buffet\", \"The Broiler\", \"Dessy B's Steak House\", \"Jjanga Steak & Sushi\", \"Costa Del Sol At Sunset Station\", \"AquaKnox\", \"Boulder Station Hotel & Casino\", \"A Cut Above Restaurant\", \"House of Lords at Sahara Hotel and Casino\", \"Kristofer's Steak House\", \"AJ's Steakhouse\", \"The Broiler\", \"Carve Prime Rib\", \"Primarily Prime Rib Restaurant\", \"Simon Kitchen and Bar\", \"Tony Roma's\", \"Marssa\", \"Tom Colicchio's Heritage Steak\", \"Chef Marc's Trattoria\", \"Beso\", \"Charlie Palmer Steak\", \"Amigo's Mexican Cantina\", \"Giuseppe's Italian Grille\", \"SW Steakhouse\", \"Claim Jumper Restaurant & Saloon\", \"Fogo de Ch\\u00e3o Brazilian Steakhouse\", \"Rhythm Kitchen\", \"TGI Fridays\", \"Mon Ami Gabi\", \"Off The Strip at the LINQ\", \"Ace Of Steaks\", \"Alan Albert's\", \"Ohjah Japanese Steakhouse\", \"Larsen's Grill\", \"Medici Cafe and Terrace\", \"Ohjah Japanese Steakhouse\", \"Smith & Wollensky\", \"Xtreme Sushi & Sterling Steakhouse\", \"Yellowtail by Chef Akira Back\", \"Kanji Steak and Sushi\", \"The Restaurant At Los Prados\", \"Primo's Steakhouse\", \"Michael T's Steaks, Ribs, & Burgers\", \"Golden Steer Steakhouse\", \"Morton's The Steakhouse\", \"Tony Roma's\", \"THE Steak House\", \"Samurai Japanese Steakhouse & Sushi\", \"Carve\", \"Applebee's Grill + Bar\", \"Terzetto\", \"R Steak & Seafood\", \"Outback Steakhouse\", \"Lakeside\", \"The Garden Grill\", \"Steakhouse at Bill's\", \"Legends Steak and Seafood\", \"LVH - Las Vegas Hotel & Casino\", \"Fiesta Rancho\", \"DeSimone's Steakhouse\", \"Yard House\", \"Zest - Bistro & Bar\", \"Kelly's Prime Steak & Seafood\", \"MB Steak\", \"Old Homestead Steakhouse\", \"The Charcoal Room\", \"Switch Steak\", \"The Wrangler\", \"Hokkaido Teppanyaki Steak House\", \"Archi's Thai Kitchen\", \"The Capital Grille\", \"Picanha Steak Truck\", \"Andiron Steak & Sea\", \"McCall's Heartland Grill\", \"Geisha House Steak & Sushi\", \"FIX\", \"Outback Steakhouse\", \"Echo & Rig\", \"Brazilian Grill\", \"Village Steakhouse\", \"Don B's Steakhouse\", \"Montana Meat Company - Durango\", \"Joes Seafood Prime Steak & Stone Crab\", \"Rare 120\", \"Vegas CheeseSteaks\", \"Del Frisco's Double Eagle Steakhouse\", \"Gordon Ramsay Steak\", \"Embers\", \"Pullman Grille\", \"Steak\", \"The Flame Steakhouse\", \"Prime Rib Loft\", \"Cornerstone\", \"Geisha House Steak & Sushi\", \"Oakville Steakhouse\", \"Onion Steak Sub\", \"Herbs & Rye\", \"MRKT\", \"Botero\", \"Applebee's Grill + Bar\", \"Bally's Steakhouse\", \"CUT by Wolfgang Puck\", \"Lone Star Steakhouse & Saloon\", \"The Angry Butcher\", \"Monstah Lobstah\", \"Cabo Mexican Restaurant\", \"Samba\", \"The Carmel Room\", \"Prime\", \"T-Bones Chophouse\", \"Mastro's Ocean Club\", \"Ohjah Japanese Steakhouse Sushi & Hibachi Flamingo\", \"Scratch House Restaurant\", \"Hikari\", \"Straight From Philly\", \"Ron's Steakhouse\", \"The Barrymore\", \"ENVY The Steakhouse\", \"Carnevino\", \"Brand Steakhouse\", \"Outback Steakhouse\", \"Hitchin Post Saloon & Steakhouse\", \"The Range Steakhouse\", \"Vila Algarve\", \"Philly Steak and Pizza Express\", \"Simon Restaurant and Lounge\", \"Edge Steakhouse\", \"VooDoo Rooftop Nightclub & Lounge\", \"Outback Steakhouse\", \"Claim Jumper Restaurants\", \"Jin's Kitchen and Club\", \"Top of the World\", \"Toscano Italian Steakhouse\", \"Americana\", \"Bazaar Meat by Jos\\u00e9 Andr\\u00e9s\", \"Geri's Olde Philadelphia Restaurant\", \"Magal BBQ\", \"VooDoo Steakhouse\", \"Second Street Grill\", \"Bavette's Steakhouse & Bar\", \"The Backroom\", \"Fellini's Ristorante\", \"Essence and Herbs\", \"Binion's Gambling Hall\", \"Applebee's Grill + Bar\", \"Ohjah Japanese Steakhouse Hibachi\", \"Austins Steakhouse\", \"Tom Colicchio's Craftsteak\", \"Redwood Steakhouse\", \"Crossroads Restaurant & Bar - Las Vegas\", \"BLT Steak\", \"Outback Steakhouse\", \"Applebee's Grill + Bar\", \"Redstone Grill\", \"Texas Roadhouse\", \"Chophouse & Brewery\", \"Applebee's Grill + Bar\", \"Straight From Philly Steakout\", \"FireRock Steakhouse\", \"Cortez Room\", \"Applebee's Grill + Bar\", \"Yard House\", \"Delmonico Steakhouse\", \"Cadillac Mexican Kitchen & Tequila Bar\", \"Stack Restaurant & Bar\", \"Steakhouse 46\", \"Palace Station Hotel & Casino\", \"Fuego Steakhouse\", \"The Palm Las Vegas\", \"Strip House\", \"Red Square Restaurant & Vodka Lounge\", \"StripSteak\", \"Todd's Unique Dining\", \"El Congo Restaurant\", \"Jean Georges Steakhouse\", \"Fogo de Ch\\u00e3o Brazilian Steakhouse\", \"Eiffel Tower\", \"Veloce Restaurant\", \"Charley's Grilled Subs\", \"Gallagher's Steakhouse\", \"Hyakumi Japanese Restaurant & Sushi Bar\", \"Sevens Steakhouse\", \"Alder & Birch\", \"Guadalajara\", \"Silver Nugget Steak House\", \"35 Steaks + Martinis\", \"Santa Fe Station Hotel & Casino\", \"Hugo's Cellar\", \"Roberta's Steakhouse\", \"Applebee's Grill + Bar\", \"Claim Jumper Restaurant & Saloon\", \"Phil's Italian Steak House\", \"Silverado Steakhouse\", \"Restaurant Charlie\", \"Triple George Grill\", \"Social\", \"Siegel's 1941\", \"Beer Park\", \"Tenaya Creek Brewery\", \"BARDOT Brasserie\", \"Cover Girls Gentlemen's Club & Steakhouse\", \"Kokomo's Steak & Seafood\", \"RARE Fine Steak, Wine & Lounge\"], \"lat\": [36.1362575, 36.1161559, 36.074289, 36.108999, 36.2747255482, 36.1188165, 36.115156899999995, 36.118399, 36.1035296, 36.11654, 36.126315000000005, 35.972629, 35.9650514289, 36.144997, 36.11475, 36.238313, 35.9737209, 36.140012, 36.133220722, 35.9713894, 36.0594861, 36.011478000000004, 36.0202484, 36.159564399999994, 36.0695675256, 36.114813700000006, 36.175748999999996, 36.0133950245, 36.116436835100004, 36.1143535, 36.199434580100004, 36.095355639699996, 36.033405480700004, 35.9949501, 36.048992157, 36.1019828424, 36.128561, 36.194508299999995, 36.15853320000001, 36.060914000000004, 36.1702390246, 36.125908, 36.1060800087, 36.171234999999996, 36.1430055233, 36.190867499999996, 36.114762, 36.124423, 36.10064860000001, 36.1716327, 36.27389960000001, 36.16915170000001, 36.1151617, 36.068655, 36.156898362199996, 36.091726, 36.12672, 36.0419145304, 36.139986, 36.175, 36.13191, 36.1256249415, 36.144308216599995, 36.1091, 36.118838399999994, 36.0986438265, 36.1718351907, 36.1098294728, 36.120669, 36.020552, 36.1246035827, 36.1721756, 36.0765586, 36.1195756555, 36.0556567698, 36.108761, 36.1162194, 36.121792, 36.0319583, 36.16944, 36.1242508, 35.972819, 36.070096, 36.1150754866, 36.110732299999995, 36.012764000000004, 36.0613739924, 36.117758, 36.1296013, 36.057609, 36.0678405392, 36.114553799999996, 36.1700962, 36.1128082, 36.173087, 36.0990311, 36.12920857, 36.168318400000004, 36.2045604, 36.175746999999994, 36.1337103, 36.0996904, 36.076449200000006, 36.0608495631, 36.122881, 36.132937899999995, 36.325699799999995, 36.142229, 36.135655, 36.1100828, 36.1441893, 36.238313, 36.011422700000004, 36.1100828, 36.1710444967, 36.11426877, 36.1216084937, 36.1429690732, 36.0808197834, 36.0909158, 36.032336598, 36.001746000000004, 36.126167080100004, 36.025837200000005, 36.1150184807, 36.0732079, 36.1168182129, 36.112859, 36.117683, 36.142713, 36.1050656, 36.1987541, 36.0671402448, 36.1022631, 36.044715000000004, 36.104648600000004, 36.0261968, 36.113508959099995, 36.0764726, 36.253425, 36.168849, 36.055391, 36.144141, 36.114842971, 36.1964438, 36.137040999999996, 36.063167, 36.1079011, 36.065659000000004, 35.964772100000005, 36.1356446, 36.057689, 36.1265763848, 36.1369777, 36.124423, 36.0998842, 36.1362575, 36.2032027, 35.9741221, 36.1567959455, 35.9951511, 36.1186973, 36.108422999999995, 36.1169221843, 36.2505580649, 36.128561, 36.198710299999995, 36.1248839, 36.1148045, 36.1276483735, 36.0765176, 36.152929, 36.147384499999994, 36.1139473, 36.1138449002, 36.2390804, 36.166576, 36.017627000000005, 36.1455794, 36.169390299999996, 36.021932, 36.1189331996, 36.1295416, 36.2030945, 36.1180324, 36.1123377749, 36.163671152, 36.172928799999994, 36.013921, 36.169148, 36.1025498, 36.1168108056, 36.279651, 36.099044799999994, 36.2216662493, 36.143924215300004, 36.2925630351, 36.127516, 36.197393100000006, 36.1142391, 36.123559, 36.114859, 36.112895200000004, 36.0194669, 36.061504546900004, 36.121117392399995, 36.167, 36.113596, 36.1559383512, 36.1079241113, 36.11541629999999, 35.978345000000004, 36.1128939, 36.0438829, 36.163438, 36.1319294, 36.127396999999995, 36.1248436068, 36.1047801463, 36.0557884597, 36.2231775639, 36.1183787, 36.1016863464, 36.018285999999996, 36.114303, 36.134859000000006, 36.1162803216, 36.114025399999996, 36.170226299999996, 36.1273969, 36.147408, 36.1186973, 36.207220663499996, 36.1433720854, 36.10064860000001, 36.1268216, 36.116174, 36.1709271, 36.10433, 36.1137281505, 36.1481329465, 36.1016495, 36.1716327, 36.2391, 36.1438778, 36.1979948329, 36.102642001, 36.1730667437, 36.0930666381, 36.113669, 36.143583364, 36.158608, 36.0979526, 36.2403263, 36.0858850095, 36.125282, 36.0558867, 36.2719424, 36.1160368623, 36.00202, 36.117541659400004, 36.123183000000004, 36.1702509335, 36.1217103886, 36.1156902, 36.14264, 36.032175206999995, 36.119004043000004, 36.110555, 36.092788511900004, 36.0911934011, 36.071281, 36.2020349, 36.1071523736, 36.151531799999994, 36.112477, 35.99463, 36.23982, 36.102645, 36.1161559, 36.1137792, 36.1025627391, 36.132771000000005, 36.1987787, 36.1100828, 36.250338, 36.169849, 36.169089, 36.0977743, 36.158642, 36.1245709977, 36.0124982093, 36.1407035, 36.1718195, 36.1166965674, 36.16884864, 36.111993083099996, 36.215959121, 36.1072817167, 36.1290784, 36.1213605528, 35.98718970000001], \"legendgroup\": \"\", \"lon\": [-115.15125259999998, -115.17505759999999, -115.08286299999999, -115.173179, -115.24578703579999, -115.1542185, -115.14971000000001, -115.172945, -115.1723424, -115.15426950000001, -115.21425900000001, -114.91200400000001, -115.1695347474, -115.175625, -115.1941, -115.1190625, -114.841642, -115.173705, -115.08484758770001, -114.85125320000002, -115.0468547, -115.17414099999999, -115.0899679, -115.28644950000002, -115.1737473847, -115.2031568, -115.29175500000001, -114.99275905430001, -115.1721597683, -115.12184769999999, -115.2418681725, -115.176614273, -115.20842602799999, -115.2062178, -115.1715393066, -115.20149141549999, -115.17112979999999, -115.24166640000001, -115.2857479, -115.04064199999999, -115.1446098089, -115.197906, -115.1747367341, -115.14406100000001, -115.174380141, -115.06259340000001, -115.19408999999999, -115.146372, -115.099351, -115.14426340000001, -115.26926540000001, -115.2913521, -115.1597903, -115.177945, -115.2919117492, -115.17664599999999, -115.16355300000001, -115.1834365118, -115.173878, -115.136389, -115.155983, -115.20257830950001, -115.14569083290002, -115.154526, -115.15448020000001, -115.1753811344, -115.1465995795, -115.17361841430001, -115.17168400000001, -115.08998400000002, -115.1689884856, -115.1468294, -115.2986392, -115.17219717969999, -115.24326229190001, -115.170129, -115.1745719, -115.16955300000001, -115.00912779999999, -115.142905, -115.0756976, -114.84878400000001, -115.17529850000001, -115.15694132540001, -115.1722365, -115.13605600000001, -115.04091891719999, -115.154519, -115.0927902, -115.145127, -115.040977058, -115.3075865, -115.1449611, -115.06228870000001, -115.144799, -115.1708014, -115.13693810000001, -115.0616584, -115.1152174, -115.2917528, -115.0850568, -115.1195912, -115.2986212, -115.04022098549999, -115.168939, -115.08469699999999, -115.32898159999999, -115.15648300000001, -115.161507, -115.15387140000001, -115.17444920000001, -115.1190625, -115.1752019, -115.15387140000001, -115.14303535219999, -114.9222815037, -115.17399971479999, -115.2801029384, -115.2227296509, -115.1737761, -115.0085191363, -115.10233999999998, -115.1668136525, -115.0859834, -115.15645444389999, -115.2085074, -115.1920738526, -115.17243400000001, -115.17124799999999, -115.22253, -115.17278030000001, -115.24279140000002, -115.04285192209998, -114.93175740000001, -115.1008555, -115.1727668, -115.12047040000002, -115.1750483518, -115.29857690000001, -115.215753, -115.29128200000001, -115.25173899999999, -115.161171, -115.15319556, -115.24027590000001, -115.16461100000001, -115.037421, -115.05637240000001, -115.04656200000001, -115.1684896, -115.1615118, -115.0468544, -115.1669352029, -115.1633366, -115.146372, -115.1722956, -115.15125259999998, -115.1986936, -114.91184399999999, -115.33438682559999, -115.20684009999998, -115.15426950000001, -115.154643, -115.17501095639999, -115.2440329054, -115.17112979999999, -115.1237903, -115.3250841, -115.2309225, -115.1683280326, -115.1533426, -115.333119, -115.1566778, -115.30459109999998, -115.1753912051, -115.17756809999999, -115.28623200000001, -115.11828390000001, -115.3006961, -115.1430844, -115.279583, -115.17375194440001, -115.13258970000001, -115.22448529999998, -115.1554271, -115.17169613709999, -115.28929492540001, -115.14561929999999, -114.99288, -115.13865, -115.2016926, -115.1939211572, -115.206043, -115.1704519, -115.3290244192, -115.1917272624, -115.18076371069999, -115.16591299999999, -115.24133300000001, -115.1727367, -115.16841000000001, -115.13663899999999, -115.06235339999999, -115.117383, -115.0402058288, -115.174633683, -115.28133999999999, -115.17492299999999, -115.3329598904, -115.17405509950001, -115.3140301, -114.836529, -115.26139340000002, -115.0467533, -115.20717900000001, -115.16265320000001, -115.15404699999999, -115.16865505770001, -115.1749268102, -115.17159020860001, -115.08256480690001, -115.17262020000001, -115.2255495006, -115.1179043, -115.199059, -115.151882, -115.1861043359, -115.10140770000001, -115.14457, -115.2240685, -115.155726, -115.15426950000001, -115.267927, -115.15702746459999, -115.099351, -115.196836, -115.187304, -115.14315159999998, -115.1755933333, -115.1523211598, -115.1557731628, -114.93073590000002, -115.14426340000001, -115.165306, -115.2926022, -115.1921561671, -115.1686254367, -115.1448063583, -115.1755435722, -115.16893300000001, -115.2809156285, -115.20368799999999, -115.29721529999999, -115.1248429, -115.137501955, -115.243528, -115.05630659999998, -115.2631531, -115.1924228668, -115.10889099999999, -115.16866151239999, -115.16918999999999, -115.14471575620001, -115.1741890718, -115.1713943, -115.17568999999999, -115.01006120870001, -115.17576111700001, -115.17190500000001, -115.1761562834, -115.1765743919, -115.07878400000001, -115.24176659999999, -115.1771307395, -115.33301570000002, -115.17218899999999, -115.11896999999999, -115.04346000000001, -115.17453400000001, -115.17505759999999, -115.1524787, -115.2011897042, -115.085169, -115.1238543, -115.15387140000001, -115.24400200000001, -115.143368, -115.138595, -115.29666840000002, -115.29101000000001, -115.1724276826, -115.17542012860001, -115.18231370000001, -115.1423178, -115.20294414, -115.1390386295, -115.1724253893, -115.2513092065, -115.17654776280001, -115.18849099999998, -115.17404204280001, -115.1016247], \"marker\": {\"color\": [4.0, 3.5, 2.5, 3.0, 3.5, 4.5, 4.5, 4.0, 3.5, 3.0, 4.5, 4.0, 4.0, 3.0, 4.0, 4.0, 4.5, 4.5, 3.5, 3.5, 3.5, 4.5, 4.0, 2.5, 4.0, 3.5, 4.0, 4.5, 3.0, 3.0, 3.5, 3.5, 4.0, 4.0, 4.0, 4.0, 3.0, 3.0, 4.0, 3.5, 4.5, 3.5, 4.5, 4.0, 4.0, 3.0, 4.5, 3.5, 4.0, 3.0, 3.5, 4.0, 4.0, 4.0, 4.0, 3.0, 4.0, 4.0, 3.0, 4.0, 4.0, 4.5, 3.0, 3.5, 3.5, 3.5, 4.0, 4.0, 3.5, 3.5, 3.5, 4.5, 3.5, 4.0, 4.0, 3.0, 3.5, 3.5, 2.5, 4.5, 3.5, 4.5, 4.5, 3.5, 5.0, 3.0, 4.0, 4.0, 4.0, 2.5, 1.5, 4.0, 4.0, 3.0, 4.0, 4.0, 3.0, 3.0, 4.0, 2.5, 4.0, 3.5, 4.5, 4.5, 4.0, 2.5, 2.5, 3.5, 3.0, 3.5, 3.5, 4.5, 4.0, 4.0, 2.5, 4.0, 3.5, 4.5, 3.5, 4.0, 3.0, 3.5, 4.0, 3.5, 4.5, 3.5, 2.5, 4.0, 3.5, 4.5, 4.0, 4.5, 4.0, 4.0, 4.0, 4.0, 2.5, 3.5, 4.5, 5.0, 4.0, 4.0, 4.0, 4.0, 2.5, 4.0, 4.0, 4.0, 3.0, 4.0, 4.0, 3.5, 3.5, 3.0, 3.0, 3.5, 2.5, 2.5, 4.0, 4.0, 4.5, 2.5, 4.5, 4.0, 3.5, 3.5, 4.0, 4.0, 4.0, 4.5, 4.0, 4.0, 4.0, 4.0, 3.5, 3.0, 4.5, 3.0, 4.5, 4.0, 3.5, 4.5, 3.0, 3.5, 4.5, 4.0, 4.0, 4.0, 3.0, 3.5, 3.5, 4.0, 3.5, 4.0, 4.0, 4.0, 4.0, 4.0, 2.5, 3.5, 4.0, 4.0, 4.0, 3.0, 3.0, 3.0, 3.5, 4.0, 3.5, 4.5, 4.5, 3.5, 4.0, 4.0, 4.0, 4.0, 4.0, 3.5, 4.0, 3.5, 4.0, 4.0, 4.5, 2.0, 3.5, 4.5, 3.5, 3.0, 3.5, 3.5, 4.0, 4.0, 4.5, 4.0, 4.0, 4.5, 3.5, 4.0, 4.5, 4.0, 4.0, 4.0, 3.5, 3.0, 4.5, 4.0, 4.0, 4.5, 3.5, 4.0, 3.5, 2.0, 4.0, 5.0, 3.0, 2.5, 4.5, 3.5, 3.5, 2.5, 4.0, 4.0, 4.0, 4.0, 3.5, 2.5, 4.0, 4.0, 4.0, 4.0, 4.0, 4.0, 4.5, 3.5, 4.0, 4.0, 4.0, 2.0, 4.0, 3.0, 4.0, 4.5, 3.0, 3.5, 4.0, 2.5, 4.5, 4.5, 3.0, 3.0, 3.0, 4.0, 4.0, 4.0, 4.0, 3.5, 3.5, 4.0, 4.0, 4.0, 3.5, 3.0], \"coloraxis\": \"coloraxis\", \"size\": [60, 21, 258, 165, 459, 44, 463, 236, 130, 86, 297, 15, 265, 263, 838, 89, 482, 9, 35, 55, 50, 165, 441, 83, 389, 14, 88, 306, 261, 14, 11, 473, 529, 1429, 969, 56, 61, 216, 404, 542, 692, 145, 301, 328, 137, 3, 111, 52, 25, 215, 214, 107, 1016, 1375, 679, 1009, 269, 311, 185, 190, 442, 277, 21, 880, 76, 238, 533, 1578, 191, 893, 686, 3, 65, 471, 287, 2412, 63, 139, 292, 576, 30, 10, 778, 238, 21, 10, 145, 683, 158, 106, 28, 217, 356, 105, 93, 140, 149, 101, 37, 169, 86, 148, 901, 7, 504, 313, 28, 17, 4, 13, 26, 6, 233, 13, 332, 126, 472, 273, 47, 470, 70, 207, 1189, 310, 1130, 668, 180, 8348, 643, 50, 7, 361, 197, 15, 270, 467, 234, 934, 92, 4, 4, 140, 873, 310, 31, 666, 423, 97, 174, 26, 110, 346, 450, 57, 26, 6, 945, 109, 68, 936, 566, 35, 102, 544, 188, 146, 13, 182, 412, 727, 31, 513, 139, 276, 658, 162, 2442, 11, 3, 4, 377, 2417, 75, 6, 1379, 3547, 156, 5, 7, 80, 272, 82, 344, 51, 99, 1461, 196, 434, 162, 67, 1397, 5, 132, 48, 100, 280, 60, 907, 440, 1406, 362, 86, 800, 119, 80, 908, 508, 1367, 491, 291, 74, 105, 190, 4, 349, 96, 516, 12, 274, 15, 1401, 51, 353, 895, 45, 511, 317, 99, 251, 5, 201, 79, 252, 145, 73, 122, 2269, 64, 96, 587, 240, 105, 3, 5, 206, 101, 169, 774, 92, 140, 1015, 1613, 156, 857, 21, 770, 130, 714, 589, 637, 1169, 342, 29, 792, 275, 1852, 7, 9, 1148, 3, 9, 146, 57, 3, 181, 287, 888, 3, 159, 362, 160, 176, 29, 1064, 19, 208, 536, 103, 932, 4, 140, 7], \"sizemode\": \"area\", \"sizeref\": 9.275555555555556}, \"mode\": \"markers\", \"name\": \"\", \"showlegend\": false, \"subplot\": \"mapbox\", \"type\": \"scattermapbox\"}],\n",
       "                        {\"coloraxis\": {\"colorbar\": {\"title\": {\"text\": \"stars\"}}, \"colorscale\": [[0.0, \"#000000\"], [0.0625, \"#001f4d\"], [0.125, \"#003786\"], [0.1875, \"#0e58a8\"], [0.25, \"#217eb8\"], [0.3125, \"#30a4ca\"], [0.375, \"#54c8df\"], [0.4375, \"#9be4ef\"], [0.5, \"#e1e9d1\"], [0.5625, \"#f3d573\"], [0.625, \"#e7b000\"], [0.6875, \"#da8200\"], [0.75, \"#c65400\"], [0.8125, \"#ac2301\"], [0.875, \"#820000\"], [0.9375, \"#4c0000\"], [1.0, \"#040100\"]]}, \"height\": 600, \"legend\": {\"itemsizing\": \"constant\", \"tracegroupgap\": 0}, \"mapbox\": {\"center\": {\"lat\": 36.11940268403478, \"lon\": -115.1627090403649}, \"domain\": {\"x\": [0.0, 0.98], \"y\": [0.0, 1.0]}, \"style\": \"open-street-map\", \"zoom\": 10}, \"margin\": {\"b\": 0, \"l\": 0, \"r\": 0, \"t\": 0}, \"template\": {\"data\": {\"bar\": [{\"error_x\": {\"color\": \"#2a3f5f\"}, \"error_y\": {\"color\": \"#2a3f5f\"}, \"marker\": {\"line\": {\"color\": \"#E5ECF6\", \"width\": 0.5}}, \"type\": \"bar\"}], \"barpolar\": [{\"marker\": {\"line\": {\"color\": \"#E5ECF6\", \"width\": 0.5}}, \"type\": \"barpolar\"}], \"carpet\": [{\"aaxis\": {\"endlinecolor\": \"#2a3f5f\", \"gridcolor\": \"white\", \"linecolor\": \"white\", \"minorgridcolor\": \"white\", \"startlinecolor\": \"#2a3f5f\"}, \"baxis\": {\"endlinecolor\": \"#2a3f5f\", \"gridcolor\": \"white\", \"linecolor\": \"white\", \"minorgridcolor\": \"white\", \"startlinecolor\": \"#2a3f5f\"}, \"type\": \"carpet\"}], \"choropleth\": [{\"colorbar\": {\"outlinewidth\": 0, \"ticks\": \"\"}, \"type\": \"choropleth\"}], \"contour\": [{\"colorbar\": {\"outlinewidth\": 0, \"ticks\": \"\"}, \"colorscale\": [[0.0, \"#0d0887\"], [0.1111111111111111, \"#46039f\"], [0.2222222222222222, \"#7201a8\"], [0.3333333333333333, \"#9c179e\"], [0.4444444444444444, \"#bd3786\"], [0.5555555555555556, \"#d8576b\"], [0.6666666666666666, \"#ed7953\"], [0.7777777777777778, \"#fb9f3a\"], [0.8888888888888888, \"#fdca26\"], [1.0, \"#f0f921\"]], \"type\": \"contour\"}], \"contourcarpet\": [{\"colorbar\": {\"outlinewidth\": 0, \"ticks\": \"\"}, \"type\": \"contourcarpet\"}], \"heatmap\": [{\"colorbar\": {\"outlinewidth\": 0, \"ticks\": \"\"}, \"colorscale\": [[0.0, \"#0d0887\"], [0.1111111111111111, \"#46039f\"], [0.2222222222222222, \"#7201a8\"], [0.3333333333333333, \"#9c179e\"], [0.4444444444444444, \"#bd3786\"], [0.5555555555555556, \"#d8576b\"], [0.6666666666666666, \"#ed7953\"], [0.7777777777777778, \"#fb9f3a\"], [0.8888888888888888, \"#fdca26\"], [1.0, \"#f0f921\"]], \"type\": \"heatmap\"}], \"heatmapgl\": [{\"colorbar\": {\"outlinewidth\": 0, \"ticks\": \"\"}, \"colorscale\": [[0.0, \"#0d0887\"], [0.1111111111111111, \"#46039f\"], [0.2222222222222222, \"#7201a8\"], [0.3333333333333333, \"#9c179e\"], [0.4444444444444444, \"#bd3786\"], [0.5555555555555556, \"#d8576b\"], [0.6666666666666666, \"#ed7953\"], [0.7777777777777778, \"#fb9f3a\"], [0.8888888888888888, \"#fdca26\"], [1.0, \"#f0f921\"]], \"type\": \"heatmapgl\"}], \"histogram\": [{\"marker\": {\"colorbar\": {\"outlinewidth\": 0, \"ticks\": \"\"}}, \"type\": \"histogram\"}], \"histogram2d\": [{\"colorbar\": {\"outlinewidth\": 0, \"ticks\": \"\"}, \"colorscale\": [[0.0, \"#0d0887\"], [0.1111111111111111, \"#46039f\"], [0.2222222222222222, \"#7201a8\"], [0.3333333333333333, \"#9c179e\"], [0.4444444444444444, \"#bd3786\"], [0.5555555555555556, \"#d8576b\"], [0.6666666666666666, \"#ed7953\"], [0.7777777777777778, \"#fb9f3a\"], [0.8888888888888888, \"#fdca26\"], [1.0, \"#f0f921\"]], \"type\": \"histogram2d\"}], \"histogram2dcontour\": [{\"colorbar\": {\"outlinewidth\": 0, \"ticks\": \"\"}, \"colorscale\": [[0.0, \"#0d0887\"], [0.1111111111111111, \"#46039f\"], [0.2222222222222222, \"#7201a8\"], [0.3333333333333333, \"#9c179e\"], [0.4444444444444444, \"#bd3786\"], [0.5555555555555556, \"#d8576b\"], [0.6666666666666666, \"#ed7953\"], [0.7777777777777778, \"#fb9f3a\"], [0.8888888888888888, \"#fdca26\"], [1.0, \"#f0f921\"]], \"type\": \"histogram2dcontour\"}], \"mesh3d\": [{\"colorbar\": {\"outlinewidth\": 0, \"ticks\": \"\"}, \"type\": \"mesh3d\"}], \"parcoords\": [{\"line\": {\"colorbar\": {\"outlinewidth\": 0, \"ticks\": \"\"}}, \"type\": \"parcoords\"}], \"scatter\": [{\"marker\": {\"colorbar\": {\"outlinewidth\": 0, \"ticks\": \"\"}}, \"type\": \"scatter\"}], \"scatter3d\": [{\"line\": {\"colorbar\": {\"outlinewidth\": 0, \"ticks\": \"\"}}, \"marker\": {\"colorbar\": {\"outlinewidth\": 0, \"ticks\": \"\"}}, \"type\": \"scatter3d\"}], \"scattercarpet\": [{\"marker\": {\"colorbar\": {\"outlinewidth\": 0, \"ticks\": \"\"}}, \"type\": \"scattercarpet\"}], \"scattergeo\": [{\"marker\": {\"colorbar\": {\"outlinewidth\": 0, \"ticks\": \"\"}}, \"type\": \"scattergeo\"}], \"scattergl\": [{\"marker\": {\"colorbar\": {\"outlinewidth\": 0, \"ticks\": \"\"}}, \"type\": \"scattergl\"}], \"scattermapbox\": [{\"marker\": {\"colorbar\": {\"outlinewidth\": 0, \"ticks\": \"\"}}, \"type\": \"scattermapbox\"}], \"scatterpolar\": [{\"marker\": {\"colorbar\": {\"outlinewidth\": 0, \"ticks\": \"\"}}, \"type\": \"scatterpolar\"}], \"scatterpolargl\": [{\"marker\": {\"colorbar\": {\"outlinewidth\": 0, \"ticks\": \"\"}}, \"type\": \"scatterpolargl\"}], \"scatterternary\": [{\"marker\": {\"colorbar\": {\"outlinewidth\": 0, \"ticks\": \"\"}}, \"type\": \"scatterternary\"}], \"surface\": [{\"colorbar\": {\"outlinewidth\": 0, \"ticks\": \"\"}, \"colorscale\": [[0.0, \"#0d0887\"], [0.1111111111111111, \"#46039f\"], [0.2222222222222222, \"#7201a8\"], [0.3333333333333333, \"#9c179e\"], [0.4444444444444444, \"#bd3786\"], [0.5555555555555556, \"#d8576b\"], [0.6666666666666666, \"#ed7953\"], [0.7777777777777778, \"#fb9f3a\"], [0.8888888888888888, \"#fdca26\"], [1.0, \"#f0f921\"]], \"type\": \"surface\"}], \"table\": [{\"cells\": {\"fill\": {\"color\": \"#EBF0F8\"}, \"line\": {\"color\": \"white\"}}, \"header\": {\"fill\": {\"color\": \"#C8D4E3\"}, \"line\": {\"color\": \"white\"}}, \"type\": \"table\"}]}, \"layout\": {\"annotationdefaults\": {\"arrowcolor\": \"#2a3f5f\", \"arrowhead\": 0, \"arrowwidth\": 1}, \"colorscale\": {\"diverging\": [[0, \"#8e0152\"], [0.1, \"#c51b7d\"], [0.2, \"#de77ae\"], [0.3, \"#f1b6da\"], [0.4, \"#fde0ef\"], [0.5, \"#f7f7f7\"], [0.6, \"#e6f5d0\"], [0.7, \"#b8e186\"], [0.8, \"#7fbc41\"], [0.9, \"#4d9221\"], [1, \"#276419\"]], \"sequential\": [[0.0, \"#0d0887\"], [0.1111111111111111, \"#46039f\"], [0.2222222222222222, \"#7201a8\"], [0.3333333333333333, \"#9c179e\"], [0.4444444444444444, \"#bd3786\"], [0.5555555555555556, \"#d8576b\"], [0.6666666666666666, \"#ed7953\"], [0.7777777777777778, \"#fb9f3a\"], [0.8888888888888888, \"#fdca26\"], [1.0, \"#f0f921\"]], \"sequentialminus\": [[0.0, \"#0d0887\"], [0.1111111111111111, \"#46039f\"], [0.2222222222222222, \"#7201a8\"], [0.3333333333333333, \"#9c179e\"], [0.4444444444444444, \"#bd3786\"], [0.5555555555555556, \"#d8576b\"], [0.6666666666666666, \"#ed7953\"], [0.7777777777777778, \"#fb9f3a\"], [0.8888888888888888, \"#fdca26\"], [1.0, \"#f0f921\"]]}, \"colorway\": [\"#636efa\", \"#EF553B\", \"#00cc96\", \"#ab63fa\", \"#FFA15A\", \"#19d3f3\", \"#FF6692\", \"#B6E880\", \"#FF97FF\", \"#FECB52\"], \"font\": {\"color\": \"#2a3f5f\"}, \"geo\": {\"bgcolor\": \"white\", \"lakecolor\": \"white\", \"landcolor\": \"#E5ECF6\", \"showlakes\": true, \"showland\": true, \"subunitcolor\": \"white\"}, \"hoverlabel\": {\"align\": \"left\"}, \"hovermode\": \"closest\", \"mapbox\": {\"style\": \"light\"}, \"paper_bgcolor\": \"white\", \"plot_bgcolor\": \"#E5ECF6\", \"polar\": {\"angularaxis\": {\"gridcolor\": \"white\", \"linecolor\": \"white\", \"ticks\": \"\"}, \"bgcolor\": \"#E5ECF6\", \"radialaxis\": {\"gridcolor\": \"white\", \"linecolor\": \"white\", \"ticks\": \"\"}}, \"scene\": {\"xaxis\": {\"backgroundcolor\": \"#E5ECF6\", \"gridcolor\": \"white\", \"gridwidth\": 2, \"linecolor\": \"white\", \"showbackground\": true, \"ticks\": \"\", \"zerolinecolor\": \"white\"}, \"yaxis\": {\"backgroundcolor\": \"#E5ECF6\", \"gridcolor\": \"white\", \"gridwidth\": 2, \"linecolor\": \"white\", \"showbackground\": true, \"ticks\": \"\", \"zerolinecolor\": \"white\"}, \"zaxis\": {\"backgroundcolor\": \"#E5ECF6\", \"gridcolor\": \"white\", \"gridwidth\": 2, \"linecolor\": \"white\", \"showbackground\": true, \"ticks\": \"\", \"zerolinecolor\": \"white\"}}, \"shapedefaults\": {\"line\": {\"color\": \"#2a3f5f\"}}, \"ternary\": {\"aaxis\": {\"gridcolor\": \"white\", \"linecolor\": \"white\", \"ticks\": \"\"}, \"baxis\": {\"gridcolor\": \"white\", \"linecolor\": \"white\", \"ticks\": \"\"}, \"bgcolor\": \"#E5ECF6\", \"caxis\": {\"gridcolor\": \"white\", \"linecolor\": \"white\", \"ticks\": \"\"}}, \"title\": {\"x\": 0.05}, \"xaxis\": {\"automargin\": true, \"gridcolor\": \"white\", \"linecolor\": \"white\", \"ticks\": \"\", \"zerolinecolor\": \"white\", \"zerolinewidth\": 2}, \"yaxis\": {\"automargin\": true, \"gridcolor\": \"white\", \"linecolor\": \"white\", \"ticks\": \"\", \"zerolinecolor\": \"white\", \"zerolinewidth\": 2}}}},\n",
       "                        {\"responsive\": true}\n",
       "                    ).then(function(){\n",
       "                            \n",
       "var gd = document.getElementById('17fb53ac-36f2-4523-bcf9-d9c4a03d0006');\n",
       "var x = new MutationObserver(function (mutations, observer) {{\n",
       "        var display = window.getComputedStyle(gd).display;\n",
       "        if (!display || display === 'none') {{\n",
       "            console.log([gd, 'removed!']);\n",
       "            Plotly.purge(gd);\n",
       "            observer.disconnect();\n",
       "        }}\n",
       "}});\n",
       "\n",
       "// Listen for the removal of the full notebook cells\n",
       "var notebookContainer = gd.closest('#notebook-container');\n",
       "if (notebookContainer) {{\n",
       "    x.observe(notebookContainer, {childList: true});\n",
       "}}\n",
       "\n",
       "// Listen for the clearing of the current output cell\n",
       "var outputEl = gd.closest('.output');\n",
       "if (outputEl) {{\n",
       "    x.observe(outputEl, {childList: true});\n",
       "}}\n",
       "\n",
       "                        })\n",
       "                };\n",
       "                });\n",
       "            </script>\n",
       "        </div>"
      ]
     },
     "metadata": {},
     "output_type": "display_data"
    }
   ],
   "source": [
    "import pandas as pd\n",
    "import plotly.express as px\n",
    "\n",
    "fig = px.scatter_mapbox(NV, lat=\"latitude\", lon=\"longitude\", hover_name=\"name\", hover_data=[\"state\", \"stars\"],color=\"stars\", size=\"review_count\",color_continuous_scale=px.colors.cyclical.IceFire, size_max=30, zoom=10)\n",
    "fig.update_layout(mapbox_style=\"open-street-map\")\n",
    "fig.update_layout(margin={\"r\":0,\"t\":0,\"l\":0,\"b\":0})\n",
    "fig.show()"
   ]
  },
  {
   "cell_type": "code",
   "execution_count": 11,
   "metadata": {},
   "outputs": [
    {
     "data": {
      "application/vnd.plotly.v1+json": {
       "config": {
        "plotlyServerURL": "https://plot.ly"
       },
       "data": [
        {
         "customdata": [
          [
           "NC",
           3.5
          ],
          [
           "ON",
           4
          ],
          [
           "NV",
           4
          ],
          [
           "NV",
           3.5
          ],
          [
           "QC",
           4.5
          ],
          [
           "AZ",
           2.5
          ],
          [
           "OH",
           2.5
          ],
          [
           "QC",
           3.5
          ],
          [
           "NC",
           4
          ],
          [
           "ON",
           3
          ],
          [
           "AZ",
           3.5
          ],
          [
           "NV",
           2.5
          ],
          [
           "NV",
           3
          ],
          [
           "PA",
           3
          ],
          [
           "NC",
           4
          ],
          [
           "OH",
           3.5
          ],
          [
           "NC",
           3
          ],
          [
           "AB",
           3
          ],
          [
           "OH",
           4
          ],
          [
           "QC",
           3.5
          ],
          [
           "NV",
           3.5
          ],
          [
           "QC",
           4
          ],
          [
           "ON",
           3.5
          ],
          [
           "AZ",
           2.5
          ],
          [
           "NV",
           4.5
          ],
          [
           "QC",
           3.5
          ],
          [
           "OH",
           3
          ],
          [
           "AZ",
           3.5
          ],
          [
           "AZ",
           3.5
          ],
          [
           "NV",
           4.5
          ],
          [
           "NV",
           4
          ],
          [
           "ON",
           4
          ],
          [
           "QC",
           4
          ],
          [
           "OH",
           3
          ],
          [
           "NV",
           3.5
          ],
          [
           "NC",
           2.5
          ],
          [
           "NC",
           2.5
          ],
          [
           "QC",
           5
          ],
          [
           "ON",
           3.5
          ],
          [
           "NV",
           3
          ],
          [
           "OH",
           4
          ],
          [
           "QC",
           3.5
          ],
          [
           "NC",
           2.5
          ],
          [
           "AZ",
           4
          ],
          [
           "OH",
           4.5
          ],
          [
           "PA",
           3
          ],
          [
           "NV",
           4.5
          ],
          [
           "AZ",
           3.5
          ],
          [
           "QC",
           4
          ],
          [
           "AB",
           2.5
          ],
          [
           "QC",
           3.5
          ],
          [
           "WI",
           3.5
          ],
          [
           "AZ",
           2.5
          ],
          [
           "NV",
           4
          ],
          [
           "OH",
           3
          ],
          [
           "QC",
           4
          ],
          [
           "NV",
           4
          ],
          [
           "AB",
           2.5
          ],
          [
           "QC",
           3
          ],
          [
           "ON",
           3.5
          ],
          [
           "AZ",
           3.5
          ],
          [
           "AB",
           3
          ],
          [
           "ON",
           2.5
          ],
          [
           "AZ",
           3.5
          ],
          [
           "AZ",
           3
          ],
          [
           "AZ",
           4
          ],
          [
           "PA",
           2.5
          ],
          [
           "QC",
           2.5
          ],
          [
           "AB",
           4
          ],
          [
           "NC",
           2
          ],
          [
           "NV",
           3
          ],
          [
           "IL",
           3.5
          ],
          [
           "OH",
           3.5
          ],
          [
           "OH",
           2.5
          ],
          [
           "AZ",
           3.5
          ],
          [
           "ON",
           4
          ],
          [
           "NC",
           3
          ],
          [
           "QC",
           3.5
          ],
          [
           "QC",
           3
          ],
          [
           "NV",
           4
          ],
          [
           "OH",
           3
          ],
          [
           "NV",
           4
          ],
          [
           "ON",
           4.5
          ],
          [
           "ON",
           3.5
          ],
          [
           "ON",
           3
          ],
          [
           "AB",
           3
          ],
          [
           "OH",
           2.5
          ],
          [
           "WI",
           3
          ],
          [
           "OH",
           2.5
          ],
          [
           "OH",
           3
          ],
          [
           "OH",
           2.5
          ],
          [
           "ON",
           3
          ],
          [
           "AB",
           3
          ],
          [
           "OH",
           2.5
          ],
          [
           "NV",
           4.5
          ],
          [
           "AZ",
           3.5
          ],
          [
           "ON",
           4
          ],
          [
           "QC",
           4
          ],
          [
           "ON",
           3.5
          ],
          [
           "AB",
           4
          ],
          [
           "OH",
           3.5
          ],
          [
           "QC",
           3
          ],
          [
           "NV",
           4.5
          ],
          [
           "AZ",
           4
          ],
          [
           "PA",
           3.5
          ],
          [
           "AZ",
           3.5
          ],
          [
           "ON",
           3
          ],
          [
           "AZ",
           3
          ],
          [
           "AZ",
           3.5
          ],
          [
           "AZ",
           2.5
          ],
          [
           "AB",
           4
          ],
          [
           "NV",
           3.5
          ],
          [
           "ON",
           2.5
          ],
          [
           "NV",
           3.5
          ],
          [
           "NV",
           3.5
          ],
          [
           "NV",
           4.5
          ],
          [
           "AZ",
           3
          ],
          [
           "OH",
           4.5
          ],
          [
           "AZ",
           3
          ],
          [
           "NC",
           3.5
          ],
          [
           "NV",
           4
          ],
          [
           "AB",
           4
          ],
          [
           "OH",
           3.5
          ],
          [
           "NC",
           1.5
          ],
          [
           "ON",
           4.5
          ],
          [
           "ON",
           4
          ],
          [
           "OH",
           4.5
          ],
          [
           "AB",
           4
          ],
          [
           "NV",
           2.5
          ],
          [
           "ON",
           3
          ],
          [
           "NV",
           4
          ],
          [
           "QC",
           2.5
          ],
          [
           "QC",
           2.5
          ],
          [
           "AB",
           4
          ],
          [
           "ON",
           4
          ],
          [
           "NV",
           3.5
          ],
          [
           "NV",
           4
          ],
          [
           "WI",
           3.5
          ],
          [
           "OH",
           3.5
          ],
          [
           "NM",
           2.5
          ],
          [
           "OH",
           3.5
          ],
          [
           "NV",
           4.5
          ],
          [
           "NV",
           3
          ],
          [
           "OH",
           4
          ],
          [
           "ON",
           3.5
          ],
          [
           "AZ",
           3
          ],
          [
           "QC",
           2
          ],
          [
           "NV",
           3
          ],
          [
           "NV",
           3.5
          ],
          [
           "OH",
           2.5
          ],
          [
           "ON",
           4
          ],
          [
           "PA",
           3
          ],
          [
           "AZ",
           3.5
          ],
          [
           "AB",
           2.5
          ],
          [
           "NV",
           3.5
          ],
          [
           "QC",
           2.5
          ],
          [
           "WI",
           3.5
          ],
          [
           "QC",
           3.5
          ],
          [
           "ON",
           3.5
          ],
          [
           "OH",
           4
          ],
          [
           "ON",
           3.5
          ],
          [
           "AB",
           4.5
          ],
          [
           "ON",
           2
          ],
          [
           "NV",
           4
          ],
          [
           "WI",
           2
          ],
          [
           "ON",
           4
          ],
          [
           "AZ",
           3
          ],
          [
           "OH",
           2.5
          ],
          [
           "AZ",
           3.5
          ],
          [
           "NC",
           3.5
          ],
          [
           "WI",
           2
          ],
          [
           "ON",
           5
          ],
          [
           "OH",
           4
          ],
          [
           "AB",
           3
          ],
          [
           "ON",
           4
          ],
          [
           "AZ",
           3
          ],
          [
           "AZ",
           4
          ],
          [
           "NV",
           4
          ],
          [
           "NC",
           2.5
          ],
          [
           "ON",
           2.5
          ],
          [
           "OH",
           4
          ],
          [
           "NC",
           2.5
          ],
          [
           "ON",
           3.5
          ],
          [
           "NC",
           2
          ],
          [
           "NV",
           4
          ],
          [
           "QC",
           4
          ],
          [
           "AZ",
           4
          ],
          [
           "PA",
           4
          ],
          [
           "NC",
           3.5
          ],
          [
           "PA",
           3.5
          ],
          [
           "QC",
           3.5
          ],
          [
           "NV",
           4
          ],
          [
           "NV",
           3
          ],
          [
           "PA",
           4
          ],
          [
           "NV",
           3
          ],
          [
           "AZ",
           4
          ],
          [
           "NV",
           4
          ],
          [
           "AZ",
           3
          ],
          [
           "AZ",
           3.5
          ],
          [
           "AB",
           3.5
          ],
          [
           "AZ",
           3.5
          ],
          [
           "PA",
           3.5
          ],
          [
           "AZ",
           4
          ],
          [
           "ON",
           3.5
          ],
          [
           "QC",
           4.5
          ],
          [
           "OH",
           3.5
          ],
          [
           "ON",
           3.5
          ],
          [
           "OH",
           3.5
          ],
          [
           "AZ",
           4
          ],
          [
           "AZ",
           3.5
          ],
          [
           "AZ",
           4
          ],
          [
           "PA",
           2.5
          ],
          [
           "NV",
           3.5
          ],
          [
           "PA",
           3.5
          ],
          [
           "ON",
           4
          ],
          [
           "ON",
           3
          ],
          [
           "QC",
           4
          ],
          [
           "OH",
           1.5
          ],
          [
           "AZ",
           5
          ],
          [
           "AZ",
           4
          ],
          [
           "NC",
           5
          ],
          [
           "WI",
           4
          ],
          [
           "ON",
           3.5
          ],
          [
           "AZ",
           2.5
          ],
          [
           "AB",
           4
          ],
          [
           "NC",
           4
          ],
          [
           "AZ",
           2.5
          ],
          [
           "QC",
           4
          ],
          [
           "ON",
           2.5
          ],
          [
           "AZ",
           2.5
          ],
          [
           "ON",
           4.5
          ],
          [
           "NC",
           3.5
          ],
          [
           "NC",
           3
          ],
          [
           "NE",
           2
          ],
          [
           "NV",
           4.5
          ],
          [
           "OH",
           2.5
          ],
          [
           "NC",
           3.5
          ],
          [
           "OH",
           2.5
          ],
          [
           "OH",
           2.5
          ],
          [
           "IL",
           2
          ],
          [
           "AZ",
           4
          ],
          [
           "AZ",
           4
          ],
          [
           "NV",
           3.5
          ],
          [
           "ON",
           4
          ],
          [
           "AZ",
           2.5
          ],
          [
           "PA",
           3
          ],
          [
           "NC",
           4
          ],
          [
           "AZ",
           3.5
          ],
          [
           "ON",
           4
          ],
          [
           "QC",
           2.5
          ],
          [
           "AZ",
           4
          ],
          [
           "OH",
           3
          ],
          [
           "AZ",
           3
          ],
          [
           "NV",
           4.5
          ],
          [
           "QC",
           4
          ],
          [
           "PA",
           3.5
          ],
          [
           "ON",
           3
          ],
          [
           "ON",
           3
          ],
          [
           "NV",
           4
          ],
          [
           "NV",
           4
          ],
          [
           "AB",
           3.5
          ],
          [
           "AZ",
           4.5
          ],
          [
           "NC",
           3
          ],
          [
           "AZ",
           3
          ],
          [
           "OH",
           2.5
          ],
          [
           "ON",
           3.5
          ],
          [
           "NC",
           4
          ],
          [
           "AB",
           4.5
          ],
          [
           "OH",
           1.5
          ],
          [
           "AZ",
           3.5
          ],
          [
           "AZ",
           3.5
          ],
          [
           "QC",
           5
          ],
          [
           "AZ",
           4
          ],
          [
           "NC",
           3.5
          ],
          [
           "AZ",
           3
          ],
          [
           "QC",
           2.5
          ],
          [
           "ON",
           2.5
          ],
          [
           "AZ",
           3
          ],
          [
           "ON",
           2.5
          ],
          [
           "ON",
           4
          ],
          [
           "QC",
           4.5
          ],
          [
           "AB",
           3
          ],
          [
           "PA",
           4.5
          ],
          [
           "QC",
           3.5
          ],
          [
           "ON",
           3
          ],
          [
           "ON",
           3
          ],
          [
           "OH",
           4
          ],
          [
           "AB",
           3.5
          ],
          [
           "WI",
           3.5
          ],
          [
           "ON",
           3
          ],
          [
           "ON",
           4
          ],
          [
           "QC",
           3.5
          ],
          [
           "NV",
           3
          ],
          [
           "QC",
           4
          ],
          [
           "NV",
           4.5
          ],
          [
           "WI",
           3.5
          ],
          [
           "ON",
           4
          ],
          [
           "NV",
           3.5
          ],
          [
           "QC",
           5
          ],
          [
           "AZ",
           3.5
          ],
          [
           "AB",
           3.5
          ],
          [
           "NV",
           4
          ],
          [
           "NV",
           3
          ],
          [
           "AZ",
           3.5
          ],
          [
           "PA",
           3.5
          ],
          [
           "QC",
           3.5
          ],
          [
           "NV",
           3.5
          ],
          [
           "QC",
           3
          ],
          [
           "ON",
           4
          ],
          [
           "ON",
           3.5
          ],
          [
           "NC",
           3.5
          ],
          [
           "AZ",
           3
          ],
          [
           "ON",
           3.5
          ],
          [
           "ON",
           4
          ],
          [
           "NV",
           4
          ],
          [
           "NV",
           4
          ],
          [
           "AB",
           3
          ],
          [
           "ON",
           4
          ],
          [
           "NC",
           3
          ],
          [
           "ON",
           2
          ],
          [
           "QC",
           2.5
          ],
          [
           "ON",
           3.5
          ],
          [
           "AZ",
           4
          ],
          [
           "ON",
           3
          ],
          [
           "OH",
           3
          ],
          [
           "ON",
           4
          ],
          [
           "NC",
           3.5
          ],
          [
           "OH",
           2.5
          ],
          [
           "PA",
           2.5
          ],
          [
           "NV",
           4
          ],
          [
           "ON",
           4
          ],
          [
           "NV",
           4
          ],
          [
           "AZ",
           3
          ],
          [
           "ON",
           3
          ],
          [
           "ON",
           4
          ],
          [
           "NV",
           3
          ],
          [
           "NC",
           4
          ],
          [
           "PA",
           3.5
          ],
          [
           "OH",
           2
          ],
          [
           "AB",
           3
          ],
          [
           "NC",
           4.5
          ],
          [
           "AZ",
           3.5
          ],
          [
           "OH",
           2.5
          ],
          [
           "AB",
           3
          ],
          [
           "AZ",
           4
          ],
          [
           "AZ",
           4
          ],
          [
           "AB",
           4.5
          ],
          [
           "ON",
           2
          ],
          [
           "AB",
           4
          ],
          [
           "ON",
           2
          ],
          [
           "AZ",
           3.5
          ],
          [
           "OH",
           2
          ],
          [
           "ON",
           4
          ],
          [
           "OH",
           3.5
          ],
          [
           "ON",
           3
          ],
          [
           "NV",
           4
          ],
          [
           "PA",
           3
          ],
          [
           "NV",
           4
          ],
          [
           "NV",
           3
          ],
          [
           "PA",
           4
          ],
          [
           "PA",
           3.5
          ],
          [
           "AZ",
           3.5
          ],
          [
           "AB",
           4
          ],
          [
           "OH",
           3
          ],
          [
           "AZ",
           3.5
          ],
          [
           "NC",
           3.5
          ],
          [
           "AZ",
           3
          ],
          [
           "OH",
           4
          ],
          [
           "NV",
           4
          ],
          [
           "NV",
           4
          ],
          [
           "ON",
           3
          ],
          [
           "OH",
           4.5
          ],
          [
           "AZ",
           4
          ],
          [
           "NV",
           4.5
          ],
          [
           "OH",
           3.5
          ],
          [
           "NC",
           3.5
          ],
          [
           "NV",
           3
          ],
          [
           "OH",
           3.5
          ],
          [
           "NV",
           3.5
          ],
          [
           "OH",
           4
          ],
          [
           "NV",
           3.5
          ],
          [
           "NV",
           3.5
          ],
          [
           "AZ",
           2.5
          ],
          [
           "ON",
           3
          ],
          [
           "ON",
           3
          ],
          [
           "NV",
           4
          ],
          [
           "NV",
           4
          ],
          [
           "NV",
           3.5
          ],
          [
           "OH",
           4
          ],
          [
           "NV",
           3.5
          ],
          [
           "NV",
           3.5
          ],
          [
           "AZ",
           4
          ],
          [
           "OH",
           3.5
          ],
          [
           "ON",
           2
          ],
          [
           "NV",
           4.5
          ],
          [
           "ON",
           3
          ],
          [
           "NV",
           3.5
          ],
          [
           "NV",
           4
          ],
          [
           "AZ",
           2.5
          ],
          [
           "OH",
           3.5
          ],
          [
           "QC",
           4.5
          ],
          [
           "OH",
           3.5
          ],
          [
           "AB",
           3
          ],
          [
           "NV",
           4
          ],
          [
           "PA",
           2
          ],
          [
           "ON",
           3
          ],
          [
           "NV",
           3
          ],
          [
           "NV",
           3.5
          ],
          [
           "NC",
           4
          ],
          [
           "ON",
           4
          ],
          [
           "ON",
           3.5
          ],
          [
           "ON",
           3
          ],
          [
           "NV",
           3.5
          ],
          [
           "AZ",
           3.5
          ],
          [
           "OH",
           2.5
          ],
          [
           "ON",
           3
          ],
          [
           "ON",
           3
          ],
          [
           "WI",
           4
          ],
          [
           "OH",
           3.5
          ],
          [
           "QC",
           4
          ],
          [
           "NV",
           2.5
          ],
          [
           "PA",
           3
          ],
          [
           "ON",
           2.5
          ],
          [
           "AZ",
           3.5
          ],
          [
           "NC",
           3.5
          ],
          [
           "ON",
           4.5
          ],
          [
           "PA",
           3.5
          ],
          [
           "AZ",
           2.5
          ],
          [
           "OH",
           3
          ],
          [
           "QC",
           3
          ],
          [
           "AB",
           3.5
          ],
          [
           "QC",
           3
          ],
          [
           "AZ",
           4
          ],
          [
           "WI",
           4
          ],
          [
           "NC",
           4.5
          ],
          [
           "QC",
           4
          ],
          [
           "PA",
           3
          ],
          [
           "IL",
           3
          ],
          [
           "ON",
           2.5
          ],
          [
           "NV",
           4.5
          ],
          [
           "PA",
           3
          ],
          [
           "OH",
           3.5
          ],
          [
           "NV",
           3.5
          ],
          [
           "AZ",
           3
          ],
          [
           "OH",
           3.5
          ],
          [
           "PA",
           2.5
          ],
          [
           "OH",
           3.5
          ],
          [
           "NV",
           4.5
          ],
          [
           "ON",
           2
          ],
          [
           "PA",
           2.5
          ],
          [
           "WI",
           3.5
          ],
          [
           "OH",
           4.5
          ],
          [
           "NV",
           4.5
          ],
          [
           "QC",
           3.5
          ],
          [
           "AZ",
           4
          ],
          [
           "QC",
           2
          ],
          [
           "AZ",
           3.5
          ],
          [
           "NV",
           3.5
          ],
          [
           "IL",
           4
          ],
          [
           "SC",
           4
          ],
          [
           "QC",
           3.5
          ],
          [
           "ON",
           4.5
          ],
          [
           "ON",
           3.5
          ],
          [
           "NV",
           5
          ],
          [
           "PA",
           3.5
          ],
          [
           "NV",
           3
          ],
          [
           "NV",
           4
          ],
          [
           "AZ",
           3
          ],
          [
           "AB",
           3.5
          ],
          [
           "ON",
           4
          ],
          [
           "AZ",
           3
          ],
          [
           "AZ",
           3
          ],
          [
           "QC",
           4
          ],
          [
           "AB",
           3.5
          ],
          [
           "ON",
           2
          ],
          [
           "QC",
           4
          ],
          [
           "AB",
           4
          ],
          [
           "QC",
           2.5
          ],
          [
           "NV",
           4
          ],
          [
           "QC",
           5
          ],
          [
           "AZ",
           4.5
          ],
          [
           "NV",
           4
          ],
          [
           "AZ",
           3
          ],
          [
           "AB",
           5
          ],
          [
           "NV",
           2.5
          ],
          [
           "NV",
           1.5
          ],
          [
           "ON",
           4
          ],
          [
           "ON",
           3
          ],
          [
           "QC",
           4.5
          ],
          [
           "NC",
           2.5
          ],
          [
           "QC",
           2
          ],
          [
           "NC",
           2.5
          ],
          [
           "OH",
           3.5
          ],
          [
           "WI",
           3.5
          ],
          [
           "ON",
           3.5
          ],
          [
           "QC",
           2.5
          ],
          [
           "PA",
           3
          ],
          [
           "ON",
           3.5
          ],
          [
           "NV",
           4
          ],
          [
           "NV",
           4
          ],
          [
           "PA",
           3
          ],
          [
           "AB",
           4
          ],
          [
           "OH",
           3.5
          ],
          [
           "NV",
           3
          ],
          [
           "AB",
           3.5
          ],
          [
           "QC",
           4
          ],
          [
           "AZ",
           1.5
          ],
          [
           "NV",
           4
          ],
          [
           "OH",
           4
          ],
          [
           "NC",
           4
          ],
          [
           "TX",
           4
          ],
          [
           "NC",
           3.5
          ],
          [
           "ON",
           4
          ],
          [
           "NV",
           4
          ],
          [
           "PA",
           3
          ],
          [
           "AZ",
           2.5
          ],
          [
           "NC",
           1.5
          ],
          [
           "PA",
           4
          ],
          [
           "NV",
           3
          ],
          [
           "OH",
           4
          ],
          [
           "NV",
           3
          ],
          [
           "NV",
           4
          ],
          [
           "ON",
           4.5
          ],
          [
           "NV",
           2.5
          ],
          [
           "NC",
           4
          ],
          [
           "OH",
           3
          ],
          [
           "OH",
           4
          ],
          [
           "AB",
           3.5
          ],
          [
           "OH",
           4
          ],
          [
           "ON",
           4.5
          ],
          [
           "QC",
           3.5
          ],
          [
           "QC",
           3
          ],
          [
           "OH",
           3
          ],
          [
           "AB",
           1.5
          ],
          [
           "NC",
           3.5
          ],
          [
           "AB",
           4
          ],
          [
           "ON",
           4.5
          ],
          [
           "ON",
           4
          ],
          [
           "OH",
           4.5
          ],
          [
           "NV",
           4
          ],
          [
           "QC",
           3
          ],
          [
           "NV",
           3.5
          ],
          [
           "AZ",
           4.5
          ],
          [
           "NV",
           4.5
          ],
          [
           "AB",
           3
          ],
          [
           "AZ",
           2.5
          ],
          [
           "ON",
           2
          ],
          [
           "NV",
           4.5
          ],
          [
           "NC",
           4
          ],
          [
           "AB",
           4
          ],
          [
           "NV",
           4
          ],
          [
           "ON",
           4
          ],
          [
           "NV",
           2.5
          ],
          [
           "NV",
           2.5
          ],
          [
           "AZ",
           3
          ],
          [
           "NV",
           3.5
          ],
          [
           "QC",
           5
          ],
          [
           "ON",
           3.5
          ],
          [
           "QC",
           4
          ],
          [
           "OH",
           3
          ],
          [
           "NC",
           3.5
          ],
          [
           "OH",
           3.5
          ],
          [
           "OH",
           2.5
          ],
          [
           "ON",
           3.5
          ],
          [
           "OH",
           3.5
          ],
          [
           "AZ",
           4
          ],
          [
           "OH",
           4
          ],
          [
           "AZ",
           4
          ],
          [
           "AB",
           4
          ],
          [
           "AZ",
           4
          ],
          [
           "NV",
           3
          ],
          [
           "ON",
           3
          ],
          [
           "ON",
           3
          ],
          [
           "ON",
           3.5
          ],
          [
           "AZ",
           3.5
          ],
          [
           "OH",
           4
          ],
          [
           "NC",
           3
          ],
          [
           "AZ",
           4
          ],
          [
           "PA",
           4
          ],
          [
           "ON",
           2.5
          ],
          [
           "QC",
           3.5
          ],
          [
           "NV",
           3.5
          ],
          [
           "ON",
           3.5
          ],
          [
           "AB",
           3.5
          ],
          [
           "QC",
           4
          ],
          [
           "NV",
           3.5
          ],
          [
           "NC",
           4
          ],
          [
           "ON",
           3.5
          ],
          [
           "AZ",
           4.5
          ],
          [
           "PA",
           4
          ],
          [
           "QC",
           4.5
          ],
          [
           "OH",
           3
          ],
          [
           "AB",
           3.5
          ],
          [
           "OH",
           3
          ],
          [
           "QC",
           3.5
          ],
          [
           "ON",
           2.5
          ],
          [
           "ON",
           2.5
          ],
          [
           "OH",
           3
          ],
          [
           "NV",
           4.5
          ],
          [
           "NV",
           4
          ],
          [
           "ON",
           4
          ],
          [
           "ON",
           3.5
          ],
          [
           "ON",
           4
          ],
          [
           "NV",
           4
          ],
          [
           "ON",
           3
          ],
          [
           "ON",
           3.5
          ],
          [
           "QC",
           3
          ],
          [
           "PA",
           2.5
          ],
          [
           "AZ",
           3.5
          ],
          [
           "NV",
           2.5
          ],
          [
           "OH",
           4
          ],
          [
           "QC",
           2.5
          ],
          [
           "QC",
           4.5
          ],
          [
           "PA",
           3
          ],
          [
           "AB",
           3.5
          ],
          [
           "QC",
           2.5
          ],
          [
           "AZ",
           3
          ],
          [
           "NC",
           4.5
          ],
          [
           "AZ",
           3
          ],
          [
           "AZ",
           2.5
          ],
          [
           "QC",
           1.5
          ],
          [
           "AB",
           4
          ],
          [
           "PA",
           3
          ],
          [
           "QC",
           3
          ],
          [
           "NV",
           4
          ],
          [
           "OH",
           3.5
          ],
          [
           "QC",
           3.5
          ],
          [
           "AB",
           4.5
          ],
          [
           "NV",
           3.5
          ],
          [
           "AB",
           3
          ],
          [
           "AZ",
           2.5
          ],
          [
           "ON",
           3
          ],
          [
           "AZ",
           3.5
          ],
          [
           "NC",
           4
          ],
          [
           "QC",
           2.5
          ],
          [
           "OH",
           3.5
          ],
          [
           "NC",
           3.5
          ],
          [
           "NV",
           4.5
          ],
          [
           "WI",
           4
          ],
          [
           "NV",
           3.5
          ],
          [
           "OH",
           3
          ],
          [
           "OH",
           3
          ],
          [
           "NV",
           4
          ],
          [
           "QC",
           3.5
          ],
          [
           "ON",
           4
          ],
          [
           "ON",
           3.5
          ],
          [
           "OH",
           2.5
          ],
          [
           "ON",
           3.5
          ],
          [
           "AB",
           3
          ],
          [
           "IL",
           3.5
          ],
          [
           "AZ",
           3.5
          ],
          [
           "NV",
           3
          ],
          [
           "AB",
           4.5
          ],
          [
           "AZ",
           4
          ],
          [
           "NV",
           3.5
          ],
          [
           "NC",
           3.5
          ],
          [
           "PA",
           4
          ],
          [
           "QC",
           2.5
          ],
          [
           "NV",
           4
          ],
          [
           "AZ",
           4
          ],
          [
           "NV",
           3.5
          ],
          [
           "AZ",
           4.5
          ],
          [
           "NC",
           4
          ],
          [
           "OH",
           4
          ],
          [
           "ON",
           3.5
          ],
          [
           "QC",
           3.5
          ],
          [
           "NV",
           4.5
          ],
          [
           "OH",
           4
          ],
          [
           "WI",
           3.5
          ],
          [
           "NC",
           3.5
          ],
          [
           "ON",
           3
          ],
          [
           "QC",
           4.5
          ],
          [
           "OH",
           4
          ],
          [
           "AZ",
           3
          ],
          [
           "NC",
           4
          ],
          [
           "QC",
           2.5
          ],
          [
           "SC",
           4
          ],
          [
           "QC",
           4
          ],
          [
           "AB",
           3.5
          ],
          [
           "OH",
           2
          ],
          [
           "OH",
           4
          ],
          [
           "ON",
           3.5
          ],
          [
           "OH",
           2.5
          ],
          [
           "AZ",
           4
          ],
          [
           "OH",
           3
          ],
          [
           "NV",
           3.5
          ],
          [
           "NV",
           2.5
          ],
          [
           "PA",
           3
          ],
          [
           "QC",
           2
          ],
          [
           "PA",
           4.5
          ],
          [
           "NC",
           2.5
          ],
          [
           "AZ",
           3.5
          ],
          [
           "OH",
           2.5
          ],
          [
           "NV",
           4
          ],
          [
           "NV",
           3.5
          ],
          [
           "OH",
           4
          ],
          [
           "QC",
           3.5
          ],
          [
           "WI",
           3.5
          ],
          [
           "ON",
           3.5
          ],
          [
           "AZ",
           3.5
          ],
          [
           "NV",
           4.5
          ],
          [
           "AB",
           4
          ],
          [
           "NV",
           4
          ],
          [
           "AZ",
           4
          ],
          [
           "AZ",
           3
          ],
          [
           "NC",
           3.5
          ],
          [
           "QC",
           4
          ],
          [
           "NV",
           4.5
          ],
          [
           "ON",
           2.5
          ],
          [
           "AB",
           3.5
          ],
          [
           "NC",
           2
          ],
          [
           "NV",
           4
          ],
          [
           "NC",
           4.5
          ],
          [
           "ON",
           4
          ],
          [
           "ON",
           4
          ],
          [
           "OH",
           2.5
          ],
          [
           "PA",
           4
          ],
          [
           "NC",
           3
          ],
          [
           "OH",
           3.5
          ],
          [
           "QC",
           3.5
          ],
          [
           "AZ",
           3
          ],
          [
           "NV",
           4
          ],
          [
           "ON",
           3.5
          ],
          [
           "AZ",
           4
          ],
          [
           "QC",
           3
          ],
          [
           "AZ",
           4
          ],
          [
           "NV",
           4
          ],
          [
           "NV",
           4
          ],
          [
           "ON",
           4
          ],
          [
           "AZ",
           3
          ],
          [
           "NV",
           2.5
          ],
          [
           "PA",
           3
          ],
          [
           "OH",
           4.5
          ],
          [
           "NV",
           3.5
          ],
          [
           "ON",
           2.5
          ],
          [
           "NV",
           4.5
          ],
          [
           "NC",
           3.5
          ],
          [
           "NV",
           5
          ],
          [
           "NV",
           4
          ],
          [
           "ON",
           3.5
          ],
          [
           "OH",
           2.5
          ],
          [
           "OH",
           3.5
          ],
          [
           "QC",
           4
          ],
          [
           "OH",
           2.5
          ],
          [
           "NC",
           3
          ],
          [
           "AB",
           3.5
          ],
          [
           "PA",
           3
          ],
          [
           "ON",
           3.5
          ],
          [
           "ON",
           2
          ],
          [
           "OH",
           2.5
          ],
          [
           "NC",
           2
          ],
          [
           "AZ",
           3
          ],
          [
           "NC",
           2
          ],
          [
           "WI",
           4
          ],
          [
           "AZ",
           2.5
          ],
          [
           "OH",
           3
          ],
          [
           "QC",
           3
          ],
          [
           "AZ",
           3
          ],
          [
           "QC",
           3.5
          ],
          [
           "QC",
           4
          ],
          [
           "AZ",
           3
          ],
          [
           "QC",
           4.5
          ],
          [
           "NV",
           4
          ],
          [
           "AZ",
           2.5
          ],
          [
           "NC",
           3.5
          ],
          [
           "OH",
           3.5
          ],
          [
           "OH",
           4
          ],
          [
           "NV",
           4
          ],
          [
           "WI",
           4
          ],
          [
           "NV",
           4
          ],
          [
           "ON",
           2.5
          ],
          [
           "NV",
           2.5
          ],
          [
           "PA",
           3
          ],
          [
           "SC",
           3
          ],
          [
           "NV",
           4
          ],
          [
           "AZ",
           3.5
          ],
          [
           "ON",
           3
          ],
          [
           "NV",
           4
          ],
          [
           "OH",
           2
          ],
          [
           "NV",
           4
          ],
          [
           "OH",
           3.5
          ],
          [
           "ON",
           3.5
          ],
          [
           "QC",
           3
          ],
          [
           "AZ",
           3.5
          ],
          [
           "AZ",
           3.5
          ],
          [
           "NV",
           3
          ],
          [
           "WI",
           3.5
          ],
          [
           "ON",
           4
          ],
          [
           "AZ",
           3.5
          ],
          [
           "ON",
           4
          ],
          [
           "ON",
           3
          ],
          [
           "PA",
           4
          ],
          [
           "OH",
           3.5
          ],
          [
           "NV",
           4
          ],
          [
           "NV",
           4
          ],
          [
           "NV",
           3.5
          ],
          [
           "OH",
           3.5
          ],
          [
           "NC",
           2.5
          ],
          [
           "ON",
           4
          ],
          [
           "AZ",
           3
          ],
          [
           "AZ",
           4.5
          ],
          [
           "OH",
           3
          ],
          [
           "AB",
           4
          ],
          [
           "OH",
           3
          ],
          [
           "NV",
           3.5
          ],
          [
           "ON",
           4
          ],
          [
           "AZ",
           3.5
          ],
          [
           "AZ",
           3.5
          ],
          [
           "ON",
           3
          ],
          [
           "AZ",
           3.5
          ],
          [
           "ON",
           2.5
          ],
          [
           "NV",
           3
          ],
          [
           "OH",
           4
          ],
          [
           "QC",
           3.5
          ],
          [
           "ON",
           3.5
          ],
          [
           "ON",
           3.5
          ],
          [
           "NC",
           3
          ],
          [
           "ON",
           3.5
          ],
          [
           "OH",
           3.5
          ],
          [
           "NV",
           3
          ],
          [
           "QC",
           2.5
          ],
          [
           "OH",
           3.5
          ],
          [
           "SC",
           3.5
          ],
          [
           "NV",
           3.5
          ],
          [
           "ON",
           3
          ],
          [
           "PA",
           3.5
          ],
          [
           "OH",
           3.5
          ],
          [
           "NC",
           3
          ],
          [
           "NV",
           2.5
          ],
          [
           "AB",
           2
          ],
          [
           "AZ",
           3.5
          ],
          [
           "PA",
           3
          ],
          [
           "NV",
           2.5
          ],
          [
           "ON",
           3.5
          ],
          [
           "ON",
           4
          ],
          [
           "NV",
           4
          ],
          [
           "NC",
           4
          ],
          [
           "NV",
           4
          ],
          [
           "ON",
           2.5
          ],
          [
           "NV",
           4.5
          ],
          [
           "ON",
           3
          ],
          [
           "OH",
           4
          ],
          [
           "AZ",
           2.5
          ],
          [
           "AZ",
           2
          ],
          [
           "NV",
           2.5
          ],
          [
           "ON",
           3
          ],
          [
           "AZ",
           4
          ],
          [
           "NV",
           4.5
          ],
          [
           "AB",
           1.5
          ],
          [
           "NC",
           4.5
          ],
          [
           "OH",
           3
          ],
          [
           "QC",
           2.5
          ],
          [
           "NC",
           3.5
          ],
          [
           "WI",
           3.5
          ],
          [
           "NV",
           4
          ],
          [
           "PA",
           4
          ],
          [
           "AZ",
           4
          ],
          [
           "NC",
           4
          ],
          [
           "AZ",
           2.5
          ],
          [
           "NV",
           3.5
          ],
          [
           "QC",
           3
          ],
          [
           "NC",
           3.5
          ],
          [
           "NV",
           3.5
          ],
          [
           "NC",
           3
          ],
          [
           "ON",
           3.5
          ],
          [
           "ON",
           3
          ],
          [
           "AB",
           2.5
          ],
          [
           "OH",
           2.5
          ],
          [
           "PA",
           4
          ],
          [
           "AZ",
           3
          ],
          [
           "QC",
           4.5
          ],
          [
           "ON",
           2
          ],
          [
           "ON",
           3
          ],
          [
           "AB",
           3.5
          ],
          [
           "OH",
           4
          ],
          [
           "OH",
           3.5
          ],
          [
           "NV",
           4
          ],
          [
           "AB",
           4
          ],
          [
           "NV",
           4
          ],
          [
           "PA",
           3
          ],
          [
           "QC",
           3
          ],
          [
           "AZ",
           5
          ],
          [
           "AZ",
           4
          ],
          [
           "AZ",
           3
          ],
          [
           "OH",
           3.5
          ],
          [
           "ON",
           2.5
          ],
          [
           "AZ",
           3
          ],
          [
           "NV",
           4
          ],
          [
           "AZ",
           2.5
          ],
          [
           "QC",
           3
          ],
          [
           "QC",
           3
          ],
          [
           "QC",
           3.5
          ],
          [
           "NC",
           3.5
          ],
          [
           "AZ",
           2
          ],
          [
           "AZ",
           4
          ],
          [
           "NV",
           4.5
          ],
          [
           "AZ",
           4
          ],
          [
           "OH",
           2.5
          ],
          [
           "IL",
           3
          ],
          [
           "IL",
           2
          ],
          [
           "IL",
           3.5
          ],
          [
           "OH",
           3.5
          ],
          [
           "NV",
           4
          ],
          [
           "ON",
           3
          ],
          [
           "PA",
           3.5
          ],
          [
           "QC",
           3.5
          ],
          [
           "AZ",
           4
          ],
          [
           "ON",
           3.5
          ],
          [
           "NC",
           3
          ],
          [
           "OH",
           2
          ],
          [
           "NV",
           4
          ],
          [
           "AZ",
           3.5
          ],
          [
           "AZ",
           3.5
          ],
          [
           "OH",
           3.5
          ],
          [
           "ON",
           3
          ],
          [
           "ON",
           4
          ],
          [
           "AB",
           3.5
          ],
          [
           "NV",
           4
          ],
          [
           "AZ",
           3.5
          ],
          [
           "QC",
           3.5
          ],
          [
           "QC",
           3.5
          ],
          [
           "AB",
           3.5
          ],
          [
           "ON",
           3.5
          ],
          [
           "AZ",
           3.5
          ],
          [
           "QC",
           2.5
          ],
          [
           "AZ",
           4
          ],
          [
           "ON",
           4.5
          ],
          [
           "ON",
           3.5
          ],
          [
           "AZ",
           4
          ],
          [
           "NC",
           3.5
          ],
          [
           "WI",
           3
          ],
          [
           "AZ",
           2.5
          ],
          [
           "NC",
           3
          ],
          [
           "PA",
           2.5
          ],
          [
           "WI",
           4
          ],
          [
           "OH",
           2.5
          ],
          [
           "NV",
           4
          ],
          [
           "AB",
           2
          ],
          [
           "ON",
           4
          ],
          [
           "OH",
           4.5
          ],
          [
           "AZ",
           4
          ],
          [
           "OH",
           3
          ],
          [
           "PA",
           3.5
          ],
          [
           "NC",
           4.5
          ],
          [
           "QC",
           3
          ],
          [
           "PA",
           3
          ],
          [
           "ON",
           3.5
          ],
          [
           "OH",
           3
          ],
          [
           "WI",
           3.5
          ],
          [
           "QC",
           3.5
          ],
          [
           "NV",
           3.5
          ],
          [
           "PA",
           4
          ],
          [
           "NC",
           3
          ],
          [
           "QC",
           4
          ],
          [
           "QC",
           3
          ],
          [
           "AB",
           3.5
          ],
          [
           "QC",
           3.5
          ],
          [
           "ON",
           4
          ],
          [
           "AB",
           3.5
          ],
          [
           "ON",
           4
          ],
          [
           "NV",
           3
          ],
          [
           "ON",
           3
          ],
          [
           "NV",
           4.5
          ],
          [
           "OH",
           3
          ],
          [
           "NC",
           1.5
          ],
          [
           "ON",
           4
          ],
          [
           "QC",
           3.5
          ],
          [
           "ON",
           4
          ],
          [
           "AZ",
           3.5
          ],
          [
           "ON",
           3
          ],
          [
           "PA",
           2.5
          ],
          [
           "NC",
           2.5
          ],
          [
           "AB",
           2.5
          ],
          [
           "ON",
           4.5
          ],
          [
           "IL",
           3.5
          ],
          [
           "NV",
           3
          ],
          [
           "AZ",
           3.5
          ],
          [
           "NC",
           3.5
          ],
          [
           "AB",
           3.5
          ],
          [
           "AB",
           2.5
          ],
          [
           "QC",
           3
          ],
          [
           "NV",
           4.5
          ],
          [
           "QC",
           4.5
          ],
          [
           "AZ",
           2.5
          ],
          [
           "NV",
           4
          ],
          [
           "ON",
           3.5
          ],
          [
           "NV",
           3.5
          ],
          [
           "NV",
           4.5
          ],
          [
           "NV",
           3
          ],
          [
           "AZ",
           2.5
          ],
          [
           "NC",
           3.5
          ],
          [
           "AB",
           2
          ],
          [
           "AZ",
           3.5
          ],
          [
           "IL",
           3
          ],
          [
           "PA",
           3
          ],
          [
           "PA",
           3.5
          ],
          [
           "NC",
           3.5
          ],
          [
           "QC",
           3.5
          ],
          [
           "AZ",
           2
          ],
          [
           "NV",
           3.5
          ],
          [
           "ON",
           3.5
          ],
          [
           "PA",
           3.5
          ],
          [
           "ON",
           3
          ],
          [
           "NV",
           4.5
          ],
          [
           "AZ",
           2.5
          ],
          [
           "QC",
           4
          ],
          [
           "AZ",
           3
          ],
          [
           "NV",
           4
          ],
          [
           "NV",
           4
          ],
          [
           "AZ",
           3.5
          ],
          [
           "QC",
           3.5
          ],
          [
           "PA",
           2.5
          ],
          [
           "ON",
           2.5
          ],
          [
           "WI",
           2.5
          ],
          [
           "ON",
           3
          ],
          [
           "NV",
           4
          ],
          [
           "AZ",
           3.5
          ],
          [
           "QC",
           4
          ],
          [
           "ON",
           3.5
          ],
          [
           "AB",
           3.5
          ],
          [
           "PA",
           3.5
          ],
          [
           "ON",
           3.5
          ],
          [
           "QC",
           3.5
          ],
          [
           "NV",
           3
          ],
          [
           "ON",
           2
          ],
          [
           "AZ",
           3
          ],
          [
           "ON",
           4
          ],
          [
           "NV",
           3.5
          ],
          [
           "QC",
           4.5
          ],
          [
           "SC",
           3
          ],
          [
           "AZ",
           3.5
          ],
          [
           "AB",
           3
          ],
          [
           "AZ",
           4
          ],
          [
           "AZ",
           4
          ],
          [
           "AZ",
           2.5
          ],
          [
           "ON",
           4
          ],
          [
           "NV",
           3.5
          ],
          [
           "ON",
           2.5
          ],
          [
           "ON",
           3.5
          ],
          [
           "ON",
           3
          ],
          [
           "NC",
           3
          ],
          [
           "WI",
           4
          ],
          [
           "AB",
           3.5
          ],
          [
           "OH",
           4
          ],
          [
           "OH",
           4
          ],
          [
           "NC",
           3.5
          ],
          [
           "ON",
           3
          ],
          [
           "NC",
           3.5
          ],
          [
           "ON",
           2.5
          ],
          [
           "NV",
           4
          ],
          [
           "AB",
           3.5
          ],
          [
           "NV",
           3.5
          ],
          [
           "ON",
           3
          ],
          [
           "ON",
           3.5
          ],
          [
           "OH",
           3
          ],
          [
           "OH",
           3
          ],
          [
           "OH",
           3.5
          ],
          [
           "NV",
           4
          ],
          [
           "AZ",
           3.5
          ],
          [
           "ON",
           2
          ],
          [
           "PA",
           2.5
          ],
          [
           "OH",
           3.5
          ],
          [
           "NV",
           4
          ],
          [
           "QC",
           4
          ],
          [
           "QC",
           3.5
          ],
          [
           "NC",
           2
          ],
          [
           "NC",
           3
          ],
          [
           "NV",
           4
          ],
          [
           "ON",
           3
          ],
          [
           "NC",
           3
          ],
          [
           "NV",
           4
          ],
          [
           "WI",
           3
          ],
          [
           "AZ",
           3.5
          ],
          [
           "NV",
           4
          ],
          [
           "ON",
           3.5
          ],
          [
           "NV",
           2.5
          ],
          [
           "AZ",
           2.5
          ],
          [
           "AZ",
           4
          ],
          [
           "OH",
           3.5
          ],
          [
           "PA",
           3.5
          ],
          [
           "NC",
           3.5
          ],
          [
           "NV",
           3.5
          ],
          [
           "WI",
           2.5
          ],
          [
           "NV",
           4
          ],
          [
           "NV",
           4
          ],
          [
           "PA",
           3.5
          ],
          [
           "NC",
           3.5
          ],
          [
           "ON",
           3
          ],
          [
           "AZ",
           3
          ],
          [
           "ON",
           4
          ],
          [
           "AZ",
           2.5
          ],
          [
           "QC",
           4.5
          ],
          [
           "NC",
           3
          ],
          [
           "NC",
           3.5
          ],
          [
           "NV",
           4
          ],
          [
           "ON",
           3.5
          ],
          [
           "PA",
           3.5
          ],
          [
           "AZ",
           4
          ],
          [
           "SC",
           2.5
          ],
          [
           "AZ",
           4
          ],
          [
           "QC",
           4
          ],
          [
           "AB",
           3.5
          ],
          [
           "ON",
           3.5
          ],
          [
           "AZ",
           3.5
          ],
          [
           "NV",
           3
          ],
          [
           "AZ",
           4
          ],
          [
           "OH",
           2.5
          ],
          [
           "NC",
           3
          ],
          [
           "AB",
           4
          ],
          [
           "AB",
           4.5
          ],
          [
           "ON",
           3.5
          ],
          [
           "QC",
           2.5
          ],
          [
           "IL",
           2
          ],
          [
           "ON",
           3.5
          ],
          [
           "WI",
           2.5
          ],
          [
           "NV",
           3
          ],
          [
           "AB",
           3
          ],
          [
           "QC",
           3
          ],
          [
           "OH",
           3.5
          ],
          [
           "AZ",
           4
          ],
          [
           "QC",
           3.5
          ],
          [
           "NV",
           3
          ],
          [
           "NV",
           3.5
          ],
          [
           "AZ",
           3.5
          ],
          [
           "QC",
           3.5
          ],
          [
           "NV",
           4
          ],
          [
           "ON",
           3.5
          ],
          [
           "NC",
           3
          ],
          [
           "NV",
           3.5
          ],
          [
           "ON",
           3.5
          ],
          [
           "OH",
           3.5
          ],
          [
           "QC",
           3
          ],
          [
           "NC",
           2
          ],
          [
           "NV",
           4.5
          ],
          [
           "NV",
           4.5
          ],
          [
           "QC",
           4
          ],
          [
           "NV",
           3.5
          ],
          [
           "PA",
           3
          ],
          [
           "NC",
           2.5
          ],
          [
           "NC",
           4
          ],
          [
           "NV",
           4
          ],
          [
           "QC",
           4
          ],
          [
           "ON",
           4.5
          ],
          [
           "ON",
           3.5
          ],
          [
           "OH",
           3.5
          ],
          [
           "WI",
           2
          ],
          [
           "ON",
           4.5
          ],
          [
           "NV",
           4
          ],
          [
           "WI",
           2
          ],
          [
           "ON",
           3.5
          ],
          [
           "NV",
           4
          ],
          [
           "NV",
           4
          ],
          [
           "AZ",
           3
          ],
          [
           "ON",
           4
          ],
          [
           "AZ",
           4
          ],
          [
           "AZ",
           4
          ],
          [
           "NV",
           4
          ],
          [
           "NV",
           3.5
          ],
          [
           "NV",
           4
          ],
          [
           "QC",
           3.5
          ],
          [
           "OH",
           3
          ],
          [
           "AB",
           4
          ],
          [
           "NV",
           3.5
          ],
          [
           "OH",
           3.5
          ],
          [
           "ON",
           4
          ],
          [
           "NV",
           4
          ],
          [
           "ON",
           3.5
          ],
          [
           "ON",
           3.5
          ],
          [
           "ON",
           3
          ],
          [
           "PA",
           3
          ],
          [
           "NV",
           4
          ],
          [
           "ON",
           4
          ],
          [
           "WI",
           3
          ],
          [
           "QC",
           3
          ],
          [
           "WI",
           4
          ],
          [
           "AZ",
           2.5
          ],
          [
           "NC",
           3
          ],
          [
           "ON",
           3.5
          ],
          [
           "AZ",
           3
          ],
          [
           "NC",
           4
          ],
          [
           "WI",
           3
          ],
          [
           "ON",
           3
          ],
          [
           "AZ",
           4.5
          ],
          [
           "PA",
           3.5
          ],
          [
           "ON",
           3.5
          ],
          [
           "NC",
           4.5
          ],
          [
           "ON",
           3.5
          ],
          [
           "AZ",
           2.5
          ],
          [
           "WI",
           4
          ],
          [
           "NV",
           4.5
          ],
          [
           "NV",
           2
          ],
          [
           "ON",
           4
          ],
          [
           "PA",
           2
          ],
          [
           "NV",
           3.5
          ],
          [
           "NC",
           3
          ],
          [
           "AB",
           4
          ],
          [
           "OH",
           3
          ],
          [
           "OH",
           3
          ],
          [
           "AZ",
           2.5
          ],
          [
           "ON",
           3.5
          ],
          [
           "AB",
           3
          ],
          [
           "AZ",
           4
          ],
          [
           "ON",
           4
          ],
          [
           "PA",
           3
          ],
          [
           "PA",
           2.5
          ],
          [
           "NV",
           4.5
          ],
          [
           "NC",
           3.5
          ],
          [
           "AZ",
           3.5
          ],
          [
           "OH",
           3.5
          ],
          [
           "WI",
           4
          ],
          [
           "NV",
           3.5
          ],
          [
           "NC",
           4
          ],
          [
           "AZ",
           3
          ],
          [
           "NV",
           3
          ],
          [
           "AZ",
           3
          ],
          [
           "AZ",
           2.5
          ],
          [
           "ON",
           4
          ],
          [
           "QC",
           4.5
          ],
          [
           "NC",
           4
          ],
          [
           "AZ",
           4
          ],
          [
           "NV",
           3.5
          ],
          [
           "PA",
           3
          ],
          [
           "PA",
           3
          ],
          [
           "OH",
           3.5
          ],
          [
           "AZ",
           3.5
          ],
          [
           "NC",
           2.5
          ],
          [
           "ON",
           4
          ],
          [
           "AB",
           4.5
          ],
          [
           "AZ",
           2.5
          ],
          [
           "PA",
           3
          ],
          [
           "ON",
           2
          ],
          [
           "NV",
           3.5
          ],
          [
           "NV",
           4
          ],
          [
           "ON",
           2.5
          ],
          [
           "ON",
           4
          ],
          [
           "OH",
           2.5
          ],
          [
           "AZ",
           4
          ],
          [
           "NV",
           4
          ],
          [
           "NC",
           2
          ],
          [
           "OH",
           3
          ],
          [
           "QC",
           3
          ],
          [
           "NC",
           3.5
          ],
          [
           "OH",
           4
          ],
          [
           "QC",
           3.5
          ],
          [
           "AZ",
           3
          ],
          [
           "PA",
           2.5
          ],
          [
           "ON",
           4
          ],
          [
           "NV",
           4.5
          ],
          [
           "ON",
           4
          ],
          [
           "AZ",
           4
          ],
          [
           "OH",
           4
          ],
          [
           "NV",
           4
          ],
          [
           "NV",
           4
          ],
          [
           "NV",
           4.5
          ],
          [
           "NV",
           3.5
          ],
          [
           "ON",
           3
          ],
          [
           "AB",
           4
          ],
          [
           "QC",
           4.5
          ],
          [
           "ON",
           4
          ],
          [
           "OH",
           3.5
          ],
          [
           "ON",
           4
          ],
          [
           "NV",
           4
          ],
          [
           "NV",
           4.5
          ],
          [
           "QC",
           3.5
          ],
          [
           "NV",
           4
          ],
          [
           "ON",
           3
          ],
          [
           "NV",
           4
          ],
          [
           "NV",
           4
          ],
          [
           "AZ",
           4
          ],
          [
           "QC",
           3.5
          ],
          [
           "NV",
           3.5
          ],
          [
           "AB",
           3
          ],
          [
           "NV",
           3
          ],
          [
           "ON",
           2
          ],
          [
           "OH",
           3.5
          ],
          [
           "SC",
           2.5
          ],
          [
           "AZ",
           3
          ],
          [
           "AZ",
           4
          ],
          [
           "ON",
           4
          ],
          [
           "AZ",
           3
          ],
          [
           "NV",
           4.5
          ],
          [
           "AB",
           2.5
          ],
          [
           "AZ",
           4
          ],
          [
           "AZ",
           4.5
          ],
          [
           "AZ",
           4
          ],
          [
           "OH",
           3
          ],
          [
           "QC",
           2.5
          ],
          [
           "ON",
           4.5
          ],
          [
           "AZ",
           2.5
          ],
          [
           "ON",
           2.5
          ],
          [
           "QC",
           4.5
          ],
          [
           "PA",
           4
          ],
          [
           "AZ",
           3.5
          ],
          [
           "NV",
           4
          ],
          [
           "NC",
           3.5
          ],
          [
           "IL",
           3
          ],
          [
           "AZ",
           4.5
          ],
          [
           "AZ",
           3
          ],
          [
           "AB",
           3.5
          ],
          [
           "OH",
           3.5
          ],
          [
           "QC",
           2.5
          ],
          [
           "QC",
           4
          ],
          [
           "NC",
           3.5
          ],
          [
           "WI",
           3
          ],
          [
           "NC",
           3.5
          ],
          [
           "ON",
           2.5
          ],
          [
           "NC",
           4
          ],
          [
           "NC",
           3
          ],
          [
           "OH",
           4
          ],
          [
           "AZ",
           4
          ],
          [
           "AZ",
           3
          ],
          [
           "NV",
           4
          ],
          [
           "OH",
           3.5
          ],
          [
           "AB",
           3
          ],
          [
           "QC",
           4
          ],
          [
           "AZ",
           3
          ],
          [
           "NV",
           4.5
          ],
          [
           "AB",
           3.5
          ],
          [
           "IL",
           3
          ],
          [
           "QC",
           3
          ],
          [
           "AZ",
           4
          ],
          [
           "PA",
           2.5
          ],
          [
           "NC",
           4
          ],
          [
           "AZ",
           4.5
          ],
          [
           "OH",
           3
          ],
          [
           "NC",
           4
          ],
          [
           "PA",
           4
          ],
          [
           "AZ",
           3
          ],
          [
           "NV",
           3.5
          ],
          [
           "QC",
           2.5
          ],
          [
           "PA",
           3
          ],
          [
           "NV",
           4
          ],
          [
           "QC",
           4
          ],
          [
           "ON",
           3.5
          ],
          [
           "ON",
           3
          ],
          [
           "AZ",
           4
          ],
          [
           "QC",
           3.5
          ],
          [
           "NV",
           3.5
          ],
          [
           "AB",
           3.5
          ],
          [
           "QC",
           4
          ],
          [
           "PA",
           4.5
          ],
          [
           "ON",
           3.5
          ],
          [
           "QC",
           4.5
          ],
          [
           "NV",
           2
          ],
          [
           "OH",
           3.5
          ],
          [
           "OH",
           4
          ],
          [
           "NV",
           4
          ],
          [
           "AZ",
           2.5
          ],
          [
           "OH",
           4
          ],
          [
           "NV",
           5
          ],
          [
           "AZ",
           4
          ],
          [
           "QC",
           3.5
          ],
          [
           "NV",
           3
          ],
          [
           "AZ",
           3.5
          ],
          [
           "QC",
           3.5
          ],
          [
           "SC",
           3
          ],
          [
           "NV",
           2.5
          ],
          [
           "AB",
           2.5
          ],
          [
           "QC",
           3
          ],
          [
           "AZ",
           2.5
          ],
          [
           "NV",
           4.5
          ],
          [
           "NC",
           4
          ],
          [
           "NV",
           3.5
          ],
          [
           "AZ",
           3.5
          ],
          [
           "QC",
           4
          ],
          [
           "OH",
           3
          ],
          [
           "AZ",
           3
          ],
          [
           "AZ",
           4
          ],
          [
           "ON",
           3.5
          ],
          [
           "NV",
           3.5
          ],
          [
           "QC",
           3.5
          ],
          [
           "AZ",
           4
          ],
          [
           "NV",
           2.5
          ],
          [
           "AB",
           3.5
          ],
          [
           "AZ",
           3.5
          ],
          [
           "AB",
           4
          ],
          [
           "NV",
           4
          ],
          [
           "AZ",
           3.5
          ],
          [
           "QC",
           2.5
          ],
          [
           "AZ",
           4
          ],
          [
           "NV",
           4
          ],
          [
           "NV",
           4
          ],
          [
           "NV",
           4
          ],
          [
           "NV",
           3.5
          ],
          [
           "PA",
           3.5
          ],
          [
           "NC",
           3
          ],
          [
           "ON",
           3
          ],
          [
           "NV",
           2.5
          ],
          [
           "NV",
           4
          ],
          [
           "ON",
           3
          ],
          [
           "SC",
           3.5
          ],
          [
           "NV",
           4
          ],
          [
           "ON",
           3.5
          ],
          [
           "AB",
           3.5
          ],
          [
           "NV",
           4
          ],
          [
           "WI",
           3.5
          ],
          [
           "NV",
           4
          ],
          [
           "ON",
           3
          ],
          [
           "OH",
           3.5
          ],
          [
           "NV",
           4
          ],
          [
           "AZ",
           3.5
          ],
          [
           "OH",
           3.5
          ],
          [
           "ON",
           2
          ],
          [
           "AZ",
           4
          ],
          [
           "ON",
           3
          ],
          [
           "AZ",
           4
          ],
          [
           "OH",
           3.5
          ],
          [
           "NV",
           4
          ],
          [
           "NV",
           4.5
          ],
          [
           "NC",
           4.5
          ],
          [
           "AB",
           3.5
          ],
          [
           "QC",
           4
          ],
          [
           "OH",
           3.5
          ],
          [
           "AB",
           3
          ],
          [
           "ON",
           3.5
          ],
          [
           "AB",
           4
          ],
          [
           "NC",
           3
          ],
          [
           "ON",
           3
          ],
          [
           "NV",
           3.5
          ],
          [
           "AB",
           3.5
          ],
          [
           "PA",
           3.5
          ],
          [
           "QC",
           4
          ],
          [
           "OH",
           3.5
          ],
          [
           "WI",
           3.5
          ],
          [
           "ON",
           3.5
          ],
          [
           "AB",
           3.5
          ],
          [
           "AZ",
           3.5
          ],
          [
           "NV",
           4
          ],
          [
           "QC",
           3.5
          ],
          [
           "OH",
           3.5
          ],
          [
           "AZ",
           3
          ],
          [
           "ON",
           4
          ],
          [
           "AB",
           3
          ],
          [
           "ON",
           4
          ],
          [
           "ON",
           4
          ],
          [
           "OH",
           4
          ],
          [
           "ON",
           3
          ],
          [
           "ON",
           3.5
          ],
          [
           "AZ",
           4
          ],
          [
           "NV",
           4
          ],
          [
           "QC",
           4
          ],
          [
           "QC",
           3.5
          ],
          [
           "ON",
           3
          ],
          [
           "AB",
           4.5
          ],
          [
           "AZ",
           3.5
          ],
          [
           "AZ",
           4
          ],
          [
           "AB",
           4.5
          ],
          [
           "NC",
           3
          ],
          [
           "ON",
           3.5
          ],
          [
           "AZ",
           2.5
          ],
          [
           "OH",
           4.5
          ],
          [
           "PA",
           3.5
          ],
          [
           "NC",
           4
          ],
          [
           "ON",
           3.5
          ],
          [
           "OH",
           5
          ],
          [
           "OH",
           3.5
          ],
          [
           "NV",
           4
          ],
          [
           "NC",
           4.5
          ],
          [
           "AZ",
           4
          ],
          [
           "AZ",
           3.5
          ],
          [
           "QC",
           4
          ],
          [
           "NV",
           2
          ],
          [
           "ON",
           3
          ],
          [
           "QC",
           2
          ],
          [
           "AZ",
           3.5
          ],
          [
           "AZ",
           4
          ],
          [
           "PA",
           2.5
          ],
          [
           "AB",
           4.5
          ],
          [
           "NV",
           4
          ],
          [
           "AZ",
           3.5
          ],
          [
           "NV",
           3
          ],
          [
           "NV",
           4
          ],
          [
           "NC",
           1.5
          ],
          [
           "NV",
           4.5
          ],
          [
           "NV",
           3
          ],
          [
           "AZ",
           2.5
          ],
          [
           "AZ",
           3
          ],
          [
           "IL",
           2
          ],
          [
           "AZ",
           3
          ],
          [
           "SC",
           2
          ],
          [
           "PA",
           4
          ],
          [
           "NV",
           3.5
          ],
          [
           "ON",
           4
          ],
          [
           "IL",
           3.5
          ],
          [
           "QC",
           3.5
          ],
          [
           "AB",
           2
          ],
          [
           "AZ",
           2.5
          ],
          [
           "ON",
           4.5
          ],
          [
           "PA",
           4
          ],
          [
           "OH",
           2.5
          ],
          [
           "ON",
           3
          ],
          [
           "WI",
           3.5
          ],
          [
           "PA",
           4
          ],
          [
           "ON",
           4
          ],
          [
           "NV",
           4
          ],
          [
           "OH",
           3
          ],
          [
           "AB",
           3
          ],
          [
           "AZ",
           2.5
          ],
          [
           "AB",
           2
          ],
          [
           "ON",
           3
          ],
          [
           "OH",
           3
          ],
          [
           "NV",
           2.5
          ],
          [
           "NV",
           4.5
          ],
          [
           "AB",
           5
          ],
          [
           "WI",
           4
          ],
          [
           "OH",
           3
          ],
          [
           "WI",
           2.5
          ],
          [
           "WI",
           3.5
          ],
          [
           "ON",
           4
          ],
          [
           "ON",
           3
          ],
          [
           "WI",
           4
          ],
          [
           "ON",
           2.5
          ],
          [
           "NV",
           4.5
          ],
          [
           "ON",
           4.5
          ],
          [
           "OH",
           3
          ],
          [
           "ON",
           3.5
          ],
          [
           "ON",
           2.5
          ],
          [
           "ON",
           3
          ],
          [
           "QC",
           3.5
          ],
          [
           "ON",
           3.5
          ],
          [
           "OH",
           3.5
          ],
          [
           "QC",
           2
          ],
          [
           "PA",
           4
          ],
          [
           "ON",
           3.5
          ],
          [
           "AZ",
           3.5
          ],
          [
           "ON",
           3.5
          ],
          [
           "NC",
           4
          ],
          [
           "OH",
           3
          ],
          [
           "PA",
           3
          ],
          [
           "OH",
           2.5
          ],
          [
           "AZ",
           3.5
          ],
          [
           "NC",
           4
          ],
          [
           "NV",
           3
          ],
          [
           "AZ",
           3
          ],
          [
           "NV",
           3
          ],
          [
           "ON",
           4
          ],
          [
           "NV",
           3
          ],
          [
           "AZ",
           3.5
          ],
          [
           "ON",
           3.5
          ],
          [
           "PA",
           4
          ],
          [
           "QC",
           2.5
          ],
          [
           "ON",
           2.5
          ],
          [
           "NV",
           4
          ],
          [
           "ON",
           3.5
          ],
          [
           "NC",
           4
          ],
          [
           "NC",
           3.5
          ],
          [
           "NV",
           4
          ],
          [
           "NC",
           4.5
          ],
          [
           "IL",
           3.5
          ],
          [
           "AZ",
           3.5
          ],
          [
           "AZ",
           3.5
          ],
          [
           "AB",
           3.5
          ],
          [
           "NV",
           4
          ],
          [
           "AZ",
           3
          ],
          [
           "PA",
           2
          ],
          [
           "PA",
           2.5
          ],
          [
           "OH",
           2.5
          ],
          [
           "ON",
           3.5
          ],
          [
           "QC",
           2.5
          ],
          [
           "AB",
           3.5
          ],
          [
           "NV",
           4
          ],
          [
           "WI",
           3.5
          ],
          [
           "QC",
           3
          ],
          [
           "NC",
           3
          ],
          [
           "AB",
           2.5
          ],
          [
           "OH",
           2.5
          ],
          [
           "NV",
           3.5
          ],
          [
           "QC",
           3
          ],
          [
           "AZ",
           3.5
          ],
          [
           "ON",
           3.5
          ],
          [
           "AZ",
           3
          ],
          [
           "ON",
           4
          ],
          [
           "ON",
           3
          ],
          [
           "NC",
           3
          ],
          [
           "ON",
           4
          ],
          [
           "ON",
           3
          ],
          [
           "AZ",
           4
          ],
          [
           "NV",
           3.5
          ],
          [
           "OH",
           3.5
          ],
          [
           "OH",
           2.5
          ],
          [
           "AZ",
           4
          ],
          [
           "AZ",
           4
          ],
          [
           "ON",
           4
          ],
          [
           "AZ",
           3.5
          ],
          [
           "AB",
           3.5
          ],
          [
           "OH",
           3.5
          ],
          [
           "NV",
           4
          ],
          [
           "OH",
           3.5
          ],
          [
           "NV",
           4
          ],
          [
           "ON",
           3.5
          ],
          [
           "PA",
           3.5
          ],
          [
           "AZ",
           2.5
          ],
          [
           "PA",
           2
          ],
          [
           "OH",
           4
          ],
          [
           "NC",
           3
          ],
          [
           "NV",
           4
          ],
          [
           "NV",
           3.5
          ],
          [
           "NV",
           3
          ],
          [
           "OH",
           4
          ],
          [
           "AZ",
           4
          ],
          [
           "ON",
           3.5
          ],
          [
           "QC",
           3.5
          ],
          [
           "AB",
           3.5
          ]
         ],
         "hoverlabel": {
          "namelength": 0
         },
         "hovertemplate": "<b>%{hovertext}</b><br><br>review_count=%{marker.size}<br>state=%{customdata[0]}<br>stars=%{marker.color}<br>latitude=%{lat}<br>longitude=%{lon}",
         "hovertext": [
          "Manzetti's Tavern",
          "Medium Rare",
          "TJ's Steakhouse",
          "Empress Court",
          "Auberge du Dragon Rouge",
          "Claim Jumper Restaurant & Saloon",
          "O'malley's Rockcliff",
          "Barbies",
          "Oak Steakhouse Charlotte",
          "Big Foot Smoke House And Bar",
          "Texas Roadhouse",
          "Bertolucci Brazilian Steakhouse",
          "Beso Steakhouse",
          "Steak ’n Shake",
          "Table 31",
          "Lakewood Village Tavern",
          "Mickey & Mooch",
          "Moxie's Grill & Bar",
          "Cabin Club",
          "Mister Steer",
          "Bob Taylor's Ranch House",
          "The Keg Steakhouse + Bar - Pointe-Claire",
          "XXI Chophouse",
          "Saddle Ranch Chop House",
          "Cleaver -  Butchered Meats, Seafood & Cocktails",
          "Magnan",
          "Quaker Steak & Lube",
          "Texas Roadhouse",
          "Black & Bleu American Grill",
          "Roy's Restaurant",
          "P.J. Clarke's New York Chophouse",
          "The Keg Steakhouse + Bar - York Street",
          "Robbie's",
          "Diamond Men's Club",
          "Outback Steakhouse",
          "Lone Star Steakhouse",
          "Applebee's Grill + Bar",
          "Château d'Or",
          "Canyon Creek",
          "Yolie's Brazilian Steak House",
          "Square 22 Restaurant and Bar",
          "Bon Appétit Chéri",
          "Lone Star Steakhouse & Saloon",
          "Wagon Wheel",
          "Hyde Park Prime Steakhouse",
          "Texas Roadhouse",
          "Rincon De Buenos Aires",
          "Central Grille",
          "Chops",
          "Montana's BBQ & Bar",
          "Le Steak Frites St-Paul",
          "Fleming's Prime Steakhouse & Wine Bar",
          "Logan's Roadhouse",
          "The Steakhouse at The Pass",
          "Pickle Bill's Lobster House",
          "Local Jerk",
          "Anthony's Prime Steak & Seafood",
          "Tony Roma's",
          "Maddie's Place",
          "The Rib House Restaurant",
          "Texas Roadhouse",
          "Ric's Lounge & Grill",
          "Old Barber House",
          "Outback Steakhouse",
          "Applebee's Grill + Bar",
          "The Arrogant Butcher",
          "South Philly Steak & Fries",
          "Madisons New York Grill & Bar",
          "MR MIKES SteakhouseCasual",
          "Lodge Wood Fired Grill",
          "Landry's Seafood House",
          "Jim Gould",
          "Shinto Japanese Steakhouse & Sushi Bar",
          "Applebee's Grill + Bar",
          "Fleming's Prime Steakhouse & Wine Bar- Chandler",
          "Jakes Bistro + Bar",
          "Kabuto Japanese Steak House & Sushi Bar",
          "Zero 8",
          "Restaurant Yotis",
          "N9NE Steakhouse",
          "Butch's Saloon",
          "Waverly's Steak House",
          "Black Forest Steak House & Tavern",
          "Hy's Steakhouse & Cocktail Bar",
          "Bâton Rouge Steakhouse & Bar",
          "Pasquales on Macleod",
          "Applebee's Grill + Bar",
          "George's Chop House",
          "Brown Derby",
          "Cork's and Stubby's",
          "Steak on a Stone",
          "1800 Degrees",
          "The Guild",
          "Bianca's Ristorante Italiano & Lounge",
          "Little City Grille",
          "IL Forno Italian Restaurant",
          "The Keg Steakhouse & Bar",
          "The Keg Steakhouse + Bar - Place Ville Marie",
          "Sparks Premium Grill + Bar",
          "Ruth's Chris Steak House",
          "Reserve Inn",
          "Bâton Rouge Steakhouse & Bar",
          "The Steakhouse at Treasures",
          "The Bourbon Cellar",
          "The Carlton",
          "Eddie V's Prime Seafood",
          "Kelseys Original Roadhouse",
          "Outback Steakhouse",
          "DC Steak House",
          "Outback Steakhouse",
          "Vintage Chophouse & Tavern",
          "Boulder Station Pasta Cucina",
          "Lone Star Texas Grill",
          "The Bistro",
          "Tony Roma's",
          "Michael's Gourmet Room",
          "Applebee's Grill + Bar",
          "Bratenahl Place Bistro",
          "Lone Star Steakhouse & Saloon",
          "Beef 'N Bottle",
          "Hank's Fine Steaks & Martinis",
          "LeVilla Chophouse",
          "The Overlook",
          "Yamato",
          "Teppan Cave",
          "La Luce Ristorante",
          "The Unicorn Restaurant & Pub",
          "Minas Brazilian Steakhouse",
          "Applebee's Neighborhood Grill & Bar",
          "Bâton Rouge Steakhouse & Bar",
          "Fleming's Prime Steakhouse & Wine Bar - Las Vegas",
          "A la Fine Pointe",
          "Bâton Rouge Steakhouse & Bar",
          "The Place Steakhouse",
          "Oliver's Ale House",
          "Ruth's Chris Steak House",
          "Hawthorn Grill",
          "Feiler's",
          "Mulligans Pub and Grill",
          "The  Landmark Grill",
          "Morton's The Steakhouse",
          "Il Chianti Italian Steak & Seafood",
          "Center Cut Steakhouse",
          "Hyde Park Prime Steakhouse",
          "PORT",
          "Morton's The Steakhouse",
          "Dunn's Famous",
          "The Tillerman",
          "Omaha Steaks",
          "Applebee's Grill + Bar",
          "Blackhorn Steakhouse",
          "Rumfish Grille",
          "Roy's Restaurant",
          "Chili's",
          "TENDER Steakhouse",
          "Boucher Double",
          "Rex's Innkeeper",
          "Maggie Oakes",
          "M'Eat Resto Butcher",
          "Red, the Steakhouse",
          "The Keg Steakhouse + Bar - Yonge + Eglinton",
          "Vina Pizza & Steak House",
          "Montana's BBQ & Bar",
          "Ohjah Japanese Steakhouse Sushi & Hibachi",
          "Ginza of Tokyo",
          "The Monkey Bar",
          "Monterra at WestWorld",
          "Applebee's Grill + Bar",
          "Mesa Grill Co",
          "LongHorn Steakhouse",
          "Johnny's Italian Steakhouse",
          "New Orleans Seafood & Steakhouse",
          "Marble Room Steaks and Raw Bar",
          "The Kitchen Table",
          "The Keg Steakhouse + Bar - Richmond Hill",
          "Texas Roadhouse",
          "Mastro's City Hall",
          "Rise & Shine - A Steak & Egg Place",
          "Steak ’n Shake",
          "TBG's Balkan Steakhouse",
          "The Cabin of Willowick",
          "Homesteads Grill and Taphouse",
          "The Boiler House",
          "Brazas Brazilian Grill",
          "The Bootlegger Italian Bistro",
          "Restaurant Da Vinci",
          "Talavera",
          "Texas de Brazil",
          "FlatIron Kitchen & Taphouse",
          "LongHorn Steakhouse",
          "Bâton Rouge Steakhouse & Bar",
          "Canal Street",
          "Union Restaurant & Lounge",
          "Eddie Merlot's - Pittsburgh",
          "Outback Steakhouse",
          "Firebirds Wood Fired Grill",
          "Fleming's Prime Steakhouse & Wine Bar",
          "Black Angus Steakhouse",
          "1130 The Restaurant",
          "Shark Club Sports Bar & Grill",
          "LongHorn Steakhouse",
          "Ann's Chophouse",
          "Dominick's Steakhouse",
          "The Keg Steakhouse & Bar",
          "La Grillia d'Oro",
          "Ken Stewart's East Bank",
          "Pepper Walk",
          "Clearview Restaurant & Pub",
          "Ariel's Grill Point",
          "Kincaid's Classic American Dining",
          "Charleston's",
          "Applebee's Grill + Bar",
          "Sunset Station",
          "Andrew's Steak and Seafood",
          "Social Resto Lounge",
          "Lone Star Texas Grill",
          "Rib 'N Reef Steakhouse",
          "Brown Derby Roadhouse",
          "Pollos LaChuya",
          "Orange Sky",
          "McIntosh's Steaks & Seafood",
          "Tempest Oyster Bar",
          "Gladiator Burger & Steak",
          "Grand View Steakhouse",
          "Buchanan's Chop House Whisky Bar",
          "Sullivan's Steakhouse",
          "Steak ’n Shake",
          "Moishe's Steakhouse",
          "Chuck's Roadhouse Bar and Grill",
          "Cadillac Ranch",
          "Peter's Fine Dining Steak and Seafood",
          "LongHorn Steakhouse",
          "Suki Akor",
          "Homestead Steaks",
          "Vic & Anthony's Steakhouse",
          "Hellriegel's Inn",
          "Texas Roadhouse",
          "Applebee's Grill + Bar",
          "Tomo Sushi & Hibachi",
          "Koto Ramen",
          "TEXAZ Grill",
          "Litchfield's",
          "Yagyu Yakiniku",
          "The Keg",
          "Sakura Sushi & Steakhouse",
          "Saga Hibachi Steakhouse & Sushi Bar",
          "Firebirds Wood Fired Grill",
          "Rio Sabor Brazilian Steakhouse",
          "Topiary's Steak & Seafood",
          "Bâton Rouge",
          "Rodizio Grill - Mesa",
          "Texas Roadhouse",
          "Ah-So Sushi & Steak",
          "Twist by Pierre Gagnaire",
          "Restaurant le Rio",
          "Bella Vista",
          "Senior's Dining Nook",
          "Montana's BBQ & Bar",
          "Top of Binion's Steakhouse",
          "The Charcoal Room",
          "Red Carpet",
          "Cuisine & Wine Bistro - Chandler",
          "Omaha Steak House",
          "Hayashi Japanese Steakhouse",
          "Applebee's Grill + Bar",
          "Moxie's Grill & Bar",
          "Shane's Rib Shack",
          "Caesar's Steak House",
          "Fiore's Italian Steakhouse",
          "Serra Gaucha Brazilian Steakhouse",
          "Texas Roadhouse",
          "Le Petit Pêcheur",
          "Stockyards Restaurant",
          "Amor de Brazil",
          "Logan's Roadhouse",
          "Le Montréal",
          "Steak & Cheese Factory",
          "Wild Side Grill",
          "Bâton Rouge Steakhouse & Bar",
          "Iberia-Sur Restaurant",
          "Souriana",
          "Milestones Restaurants",
          "Eddie V's Prime Seafood",
          "Barbies",
          "Montana's BBQ & Bar",
          "Moxie's Grill & Bar",
          "Lanning's Restaurant",
          "Chop Steakhouse & Bar",
          "Buck & Honeys",
          "22 Church Steak House",
          "The Keg Steakhouse + Bar",
          "Burger de Ville",
          "Las Brassas Asados y Mariscos",
          "La Piazza",
          "Scotch 80 Prime",
          "Fuegos - Steak Tapas Vegan",
          "Hogtown Smoke",
          "Les Artistes Steakhouse",
          "Le Viking Restaurant & Bar",
          "Lone Star Steakhouse",
          "Levilla Restaurant",
          "Fuji Japanese Restaurant",
          "Binion's Cafe",
          "Buffalo Chip Saloon & Steakhouse",
          "Lone Star Steakhouse & Saloon",
          "Le Vieux Shack - Resto-Bar",
          "Montana Meat Company",
          "Bâton Rouge Steakhouse & Bar",
          "Barberian's Steak House",
          "Quinn's Steakhouse & Irish Bar",
          "Fleming's Prime Steakhouse & Wine Bar - Charlotte",
          "Applebee's Grill + Bar",
          "The Keg Steakhouse + Bar - Oakville",
          "High Seas Restaurant",
          "SC Prime Steakhouse & Bar",
          "Lawry's The Prime Rib",
          "Tribune Restaurant & Bar",
          "Zorro's Steakhouse",
          "LongHorn Steakhouse",
          "Triple Crown Bar & Grill",
          "Bâton Rouge",
          "Lone Star Texas Grill",
          "Mastro's Ocean Club",
          "Senior's Steak House",
          "LongHorn Steakhouse",
          "Keg Steakhouse & Bar",
          "Texas Ranch Steak House",
          "Applebee's Grill + Bar",
          "Applebee's Grill + Bar",
          "Yard House",
          "Blackstone Steakhouse and Grill",
          "Via Brasil Steakhouse on South Fort Apache and Charleston",
          "Outback Steakhouse",
          "Maxx Seafood & Grill",
          "Top Gun  Burgers",
          "Citizens Kitchen and Bar",
          "Del Frisco's Double Eagle Steakhouse",
          "Ichiban Steakhouse & Sushi Bar",
          "Miami Nights Grill, Bar, & Lounge",
          "Plato",
          "Sea Salt Brazilian Grill",
          "The Haymaker Restaurant",
          "Outback Steakhouse",
          "Moxie's Grill & Bar",
          "Bandera",
          "Ruth's Chris Steak House",
          "North 51 Steakhouse",
          "Montana's BBQ & Bar",
          "Halo Restaurant & Lounge",
          "Affy's Premium Grill",
          "Minder Binder",
          "Applebee's Grill + Bar",
          "Chuck's Roadhouse",
          "Texas Roadhouse",
          "Moxie's Grill & Bar",
          "Country Club",
          "Applebee's Grill + Bar",
          "Twin Creeks",
          "Treasures Gentlemen's Club & Steakhouse",
          "Ichiban Hibachi Steakhouse & Sushi Bar",
          "Sapporo Japanese Steakhouse",
          "Stetson Scottsdale Bar",
          "Smuggler's Inn",
          "Quaker Steak & Lube",
          "Chop Chandler",
          "Carolina Prime Restaurant & Steakhouse",
          "Steaks R US",
          "Corkscrew Saloon",
          "BOA Steakhouse",
          "Piero's Italian Cuisine",
          "Milestones Restaurants",
          "Sérénité Restaurant",
          "Local Bistro",
          "8oz Korean Steak House",
          "Prime Rib Steakhouse",
          "Hot Stone Grill",
          "Tony Roma's",
          "Texas Roadhouse",
          "Mr. Lucky's 24-7",
          "Nouveau Bistro & Lounge",
          "Ruth's Chris Steak House",
          "Camelot Steakhouse",
          "Sizzler",
          "Caledon Burger Co",
          "Bairrada Churrasqueira",
          "Oscar's Steakhouse",
          "STK Las Vegas",
          "Outback Steakhouse",
          "Whistlers Kitchen & Bar Wood-Fired",
          "Green Valley Ranch Resort & Spa",
          "Morels French Steakhouse & Bistro",
          "Wildfish Seafood Grille",
          "Nicky & Smitty's Deli Restaurant",
          "Brooklin Pour House",
          "Center Stage Restaurant",
          "Bâton Rouge Steakhouse & Bar",
          "Geisha House Steak & Sushi",
          "Ruth's Chris Steak House",
          "Applebee's Grill + Bar",
          "Ferris Steak House & Tavern",
          "Train 344",
          "Harry's Steakhouse & Banquet Center",
          "Ranchman's Cookhouse & Dancehall",
          "Bonsai Japanese Steak & Sushi",
          "Steak ’n Shake",
          "Steak Supreme",
          "Pampas Churrascaria Brazilian Grille",
          "Neros",
          "Village Tavern",
          "Michael's on Simcoe",
          "Rib Eye Jack's Ale House",
          "Moxie's Grill & Bar",
          "Pinot Brasserie",
          "Donovan's Steak & Chop House",
          "Sushi Rock",
          "Montana's BBQ & Bar",
          "Montana's BBQ & Bar",
          "Big Red's Steaks",
          "Medina Steak and Seafood Company",
          "Grill'n Go",
          "Fiesta Henderson",
          "Mantini's Woodfired",
          "Black Angus Steakhouse",
          "Handlebar J",
          "The Woodshed Restaurant",
          "Little Shmiddy's Hot Meat House",
          "Texas Roadhouse",
          "Bill Johnson's Big Apple Restaurants",
          "Girves Brown Derby",
          "Chejoys",
          "Tilted Grill",
          "Rôtisserie Scores",
          "Steak And Stone",
          "Tornado Steak House",
          "Webb Custom Kitchen",
          "O Steak",
          "Red The Steakhouse",
          "Red Wheel Restaurant",
          "Montana's BBQ & Bar",
          "Joe Vicari's Andiamo Italian Steakhouse",
          "Yokoso Japanese Steakhouse",
          "Noosa Bistro",
          "Yukon Grille",
          "Outback Steakhouse",
          "LongHorn Steakhouse",
          "Applebee's Grill + Bar",
          "Applebee's Grill + Bar",
          "Sushi Lounge & steakhouse",
          "Boston Steak House",
          "Applebee's Grill + Bar",
          "The Hilltop",
          "Bull & Bird Steakhouse",
          "Texas de Brazil",
          "Pub Victoria",
          "Bourbon & Bones",
          "Restaurant Houston Steaks et Cotes Levees",
          "LongHorn Steakhouse",
          "McCormick & Schmick's Seafood & Steaks",
          "Baxter's American Grille",
          "Fuji Japan",
          "Bâton Rouge Steakhouse & Bar",
          "The Tilted Dog Pub & Kitchen",
          "Goen Yakiniku",
          "Commander's Palace",
          "LongHorn Steakhouse",
          "Honmachi",
          "Sonoma Cellar",
          "Outback Steakhouse",
          "Moxie's Grill & Bar",
          "Paradise Farms Prime Beef Bistro",
          "Bill Johnson's Big Apple Restaurants",
          "Rustler's Rooste",
          "40 Westt",
          "Nick's Steak House & Pizza",
          "Louisiana Seafood and Steakhouse",
          "L'Gros Luxe Mile End",
          "Open Range",
          "Windsor",
          "Musashi Japanese Steakhouse",
          "Zero 8",
          "Steak 44",
          "Geisha House Steak & Sushi",
          "Arizona Grand Resort & Spa",
          "Krave Pizza & Bar",
          "Applebee's Grill + Bar",
          "Great Steak",
          "Scorpio Seafood & Steak House",
          "Top Gun Steak & Burgers",
          "Le St Mark",
          "Applebee's Grill + Bar",
          "Klondike",
          "Charley's Philly Steaks",
          "Applebee's Grill + Bar",
          "8 Seasons Grille",
          "The Fire Pit",
          "Calistoga Grill",
          "Rivers Casino",
          "Bâton Rouge Steakhouse & Bar",
          "Sushi Tower & Steakhouse",
          "Chart House",
          "Quaker Steak & Lube",
          "Chop Steakhouse & Bar",
          "Outback Steakhouse",
          "Billy Bob's Steakhouse",
          "Chicago Chophouse",
          "Quindici 15",
          "Cowgirls Bar & Grill",
          "Redwood Bar and Grill",
          "Dragonfly Lounge",
          "Harry's Grille & Tavern",
          "Texas de Brazil",
          "Logan's Roadhouse",
          "The Keg Steakhouse + Bar - Esplanade",
          "Biscayne Steak, Sea & Wine",
          "Grandview Saloon",
          "Applebee's Grill + Bar",
          "Charleys Philly Steak",
          "Meat & Potatoes",
          "Applebee's Grill + Bar",
          "Toko Japanese Steak House",
          "Applebee's Grill + Bar",
          "Mariscos Aguachiles Culichi",
          "Kings Corner",
          "Rampart Buffet",
          "Red Rocks Cafe- Charlotte",
          "Kosar's Wood-Fired Grill",
          "Ruth's Chris Steak House",
          "Reef 'n Beef",
          "Girves Brown Derby",
          "The Corned Beef House",
          "Au Vieux Duluth Restaurants",
          "Bâton Rouge Steakhouse & Bar",
          "CK's Steak House",
          "Ric's Grill",
          "Omaha Steaks",
          "Murrieta's Bar & Grill",
          "Marron Bistro",
          "Nao",
          "Nemo Grille",
          "The Broiler",
          "Angá",
          "Dessy B's Steak House",
          "Carvalho's Brazilian Kitchen",
          "Jjanga Steak & Sushi",
          "Nick's Steak House & Pizza",
          "Sonny's Steakhouse",
          "Firefly Seafood & Steak House",
          "Costa Del Sol At Sunset Station",
          "Chillfire Bar & Grill",
          "Pampa Brazilian Steakhouse",
          "AquaKnox",
          "Gyubee Japanese BBQ - Downtown",
          "Boulder Station Hotel & Casino",
          "A Cut Above Restaurant",
          "Logan's Roadhouse",
          "House of Lords at Sahara Hotel and Casino",
          "Viana Sol",
          "Lone Star Texas Grill",
          "Les Sottises",
          "Applebee's Grill + Bar",
          "Nakato",
          "Wasabi Japanese Steakhouse",
          "Outback Steakhouse",
          "Gyubee Japanese BBQ - Markham",
          "Stonehouse Grill",
          "Roaring Fork",
          "Wise Guys Lounge & Grill",
          "BBQ House",
          "Redwater Rustic Grille",
          "Modern Steak",
          "Kristofer's Steak House",
          "Chuck's Roadhouse Bar And Grill",
          "Moxie's Grill & Bar",
          "Touro Churrascaria",
          "Monti's La Casa Vieja",
          "El Torito Taqueria Bar",
          "Golden Corral Development",
          "Eddie Merlot's",
          "Elliott's BBQ and Steakhouse",
          "Five Lamps Chophouse & Tavern",
          "St-Charles Steak House",
          "AJ's Steakhouse",
          "Prince Japanese Steak House",
          "Pauls Pizza Steakhouse & Lounge",
          "The Keg Steakhouse + Bar - Laval",
          "The Broiler",
          "Red Rocks Cafe-Huntersville",
          "Black Ox Bistro",
          "The Capital Grille",
          "Cioppino Restaurant & Cigar Bar",
          "Pompette",
          "Fujiyama Steakhouse & Sushi Bar",
          "Saltlik Calgary",
          "Steak ’n Shake",
          "Dunn's Famous",
          "Pure Gold Club",
          "Montana's BBQ & Bar",
          "Quaker Steak & Lube",
          "Carve Prime Rib",
          "Primarily Prime Rib Restaurant",
          "La Castile Steak House & Seafood Restaurant",
          "Copacabana Brazilian Steakhouse",
          "Rio 40 Restaurant",
          "Simon Kitchen and Bar",
          "Wildfire Steakhouse & Wine Bar",
          "The School Fine Dining",
          "Madisons New York Bar & Grill",
          "Outback Steakhouse",
          "Bogey's Steak & Seafood",
          "Tony Roma's",
          "ML Tavern",
          "Barbie's Restaurant",
          "Porto Mar",
          "Saga Hibachi Steakhouse & Sushi Bar",
          "Moxie's Grill & Bar",
          "Dallas BBQ",
          "Kiley's Grill",
          "Dressler's - Charlotte",
          "The Oak Room",
          "Coyoacan Steakhouse",
          "Rouge Boeuf",
          "The Cattlebaron Alberta Steakhouse & Bar",
          "Applebee's Grill + Bar",
          "1909 Taverne Moderne",
          "Marssa",
          "Blake's Seafood Restaurant and Bar",
          "Vargas",
          "Sammy's Chophouse",
          "Tom Colicchio's Heritage Steak",
          "Chestermere Landing Steak House & Wine Bar",
          "Applebee's Neighborhood Grill & Bar",
          "Lone Star Texas Grill",
          "Prankster's Too",
          "Morton's The Steakhouse",
          "Rodízio Brasil",
          "John Q's Steakhouse",
          "Hillbilly's Bbq & Steaks",
          "Chef Marc's Trattoria",
          "Fyfe's Corner Bistro",
          "Beso",
          "Applebee's Grill + Bar",
          "Quaker Steak & Lube",
          "Charlie Palmer Steak",
          "Firegrill Steakhouse & Bar",
          "Zet's Restaurant",
          "Texas Pit Restaurant & Bar",
          "Hibachi Japanese Steakhouse",
          "E11even",
          "Bâton Rouge",
          "Texas Roadhouse",
          "Meritage - An Urban Tavern",
          "Amigo's Mexican Cantina",
          "Hy's Steakhouse & Cocktail Bar",
          "Fleming's Prime Steakhouse - Scottsdale",
          "Giuseppe's Italian Grille",
          "Caffe Siena",
          "Feng Japanese Steak Hibachi & Sushi House",
          "Steak Frites St-paul",
          "SW Steakhouse",
          "Grape Wine Bistro",
          "Claim Jumper Restaurant & Saloon",
          "Buck & Rider",
          "Ruth's Chris Steak House",
          "Shuhei",
          "Copacabana Brazilian Steak House",
          "Houston Avenue Bar & Grill",
          "Fogo de Chão Brazilian Steakhouse",
          "Tokyo Hibachi & Sushi",
          "Delaney's Charcoal Steaks",
          "Amber Jack Seafood & Steaks",
          "Chuck's Roadhouse Bar And Grill",
          "Mediterraneo Steakhouse",
          "Sarava At Shaker Square",
          "Outback Steakhouse",
          "Firebirds Wood Fired Grill",
          "Houston Avenue Bar & Grill",
          "Sakura Japanese Steakhouse + Sushi",
          "A l'Os",
          "Scarpetta",
          "Steak ’n Shake",
          "Hyde Park Prime Steakhouse",
          "Ruth's Chris Steak House",
          "Maria's Family Restaurant",
          "Hand Cut Burgers & Chophouse",
          "The Captain's Club",
          "Rhythm Kitchen",
          "TGI Fridays",
          "Saga Hibachi Steakhouse & Sushi Bar",
          "Steak Frites Saint-Paul",
          "Green Forest Churrascaria",
          "Applebee's Grill + Bar",
          "Pinnacle Peak Patio",
          "Outback Steakhouse",
          "Mon Ami Gabi",
          "Off The Strip at the LINQ",
          "Hyde Park Prime Steakhouse",
          "JoBlo",
          "Johnny's Italian Steakhouse",
          "Stakeout Dining Room & Lounge",
          "Ichi Ban Japanese",
          "Ace Of Steaks",
          "Trib Steakhouse",
          "Alan Albert's",
          "Firebirds Wood Fired Grill",
          "Black Angus Steakhouse",
          "Outback Steakhouse",
          "La Carcasse",
          "Ohjah Japanese Steakhouse",
          "Keg Steakhouse & Bar",
          "The Keg Steakhouse + Bar - Calgary",
          "Applebee's Grill + Bar",
          "Larsen's Grill",
          "Primo Prime",
          "Skyline Restaurant",
          "The Church Public Inn",
          "Hibachi Japanese Steakhouse",
          "Fogo de Chão Brazilian Steakhouse",
          "Riverbleu Steak & Fish",
          "Porter's Steakhouse",
          "Le Milsa",
          "Legends Steak",
          "Medici Cafe and Terrace",
          "Canyon Creek",
          "Preston's Steakhouse",
          "L'Aurochs",
          "The Capital Grille",
          "Ohjah Japanese Steakhouse",
          "Smith & Wollensky",
          "The Shore Club - Toronto",
          "The Lariat Restaurant and Lounge",
          "Xtreme Sushi & Sterling Steakhouse",
          "Outback Steakhouse",
          "C-Town Grill & Bar",
          "Yellowtail by Chef Akira Back",
          "Ruths Chris Steak House Toronto Airport",
          "Kanji Steak and Sushi",
          "Cowboy Steak Chicken Ribs",
          "The Restaurant At Los Prados",
          "Primo's Steakhouse",
          "Kobe Sizzlers",
          "Applebee's Grill + Bar",
          "Zach's Place",
          "Le Milsa",
          "Outback Steakhouse",
          "Outback Steakhouse",
          "D'vine Diner",
          "Outback Steakhouse",
          "Momofuku Daishō",
          "The Abbey Pub & Steak House",
          "Applebee's Grill + Bar",
          "Shogun",
          "Claim Jumper Restaurant & Saloon",
          "Bull & Barrister Draft House and Grille",
          "The Old Fashioned",
          "Waddells Longhorn Corral",
          "LongHorn Steakhouse",
          "Queue de Cheval",
          "Logan's Roadhouse",
          "Vieux-Port Steakhouse",
          "Caribou Gourmand",
          "Chart House",
          "Gus",
          "Michael T's Steaks, Ribs, & Burgers",
          "Rawhide Steakhouse & Saloon",
          "South Main Kitchen & Tavern",
          "LongHorn Steakhouse",
          "Local Tavern",
          "Golden Steer Steakhouse",
          "Steak Escape West Towne Mall",
          "Morton's The Steakhouse",
          "Montana's BBQ & Bar",
          "Tony Roma's",
          "The Wooden Nickel",
          "Waffle House",
          "THE Steak House",
          "LongHorn Steakhouse",
          "Red Violin",
          "Samurai Japanese Steakhouse & Sushi",
          "Applebee's Grill + Bar",
          "Carve",
          "Henry Wahner's Restaurant & Lounge",
          "Airport Gate Steak and Grill",
          "1909 Taverne Moderne",
          "Texas Roadhouse",
          "Outback Steakhouse",
          "Applebee's Grill + Bar",
          "Ruth's Chris Steak House",
          "Small Rooms",
          "Outback Steakhouse",
          "The Keg Steakhouse + Bar - Mansion",
          "Houston Avenue Bar & Grill",
          "The Capital Grille",
          "Taverne Of Richfield",
          "Terzetto",
          "R Steak & Seafood",
          "Outback Steakhouse",
          "Pacers Sports Bar & Grille",
          "Outback Steakhouse",
          "Wildfire Steakhouse & Wine Bar",
          "Trophy's Steakhouse",
          "Cholla Prime Steakhouse & Lounge",
          "LongHorn Steakhouse",
          "Cattlebaron Alberta Steak House and Bar",
          "Fazio's Restaurant",
          "Lakeside",
          "The Keg Steakhouse + Bar",
          "Fire + Spice",
          "Yard House",
          "The Tulip",
          "Outback Steakhouse",
          "Houston Steaks & Ribs",
          "The Garden Grill",
          "Trivs",
          "O'ribs",
          "CopaCabana Brazilian Steakhouse",
          "Aristotle's Steak & Seafood",
          "Nick's Steak & Tap House",
          "Showtime Bistro",
          "LongHorn Steakhouse",
          "Steakhouse at Bill's",
          "Sterlings Steakhouse",
          "Firebirds Wood Fired Grill",
          "Tequila Family Mexican Restaurant",
          "Legends Steak and Seafood",
          "T-Bones Sizzling Steaks & Burgers Drive-In Restaurant",
          "Ditka's",
          "XO Prime Steaks",
          "Logan's Roadhouse",
          "LVH - Las Vegas Hotel & Casino",
          "Montana's BBQ & Bar",
          "Black Angus Steakhouse",
          "Katana",
          "Fiesta Rancho",
          "Terrace On the Green",
          "Iggy's Grill Bar Patio at Lionhead",
          "DeSimone's Steakhouse",
          "Ruth's Chris Steak House",
          "Yard House",
          "Arizona Grill Lounge",
          "Zest - Bistro & Bar",
          "Lone Star Texas Grill",
          "Strip",
          "Speakeasy Saloon and Grill",
          "Applebee's Grill + Bar",
          "Kelly's Prime Steak & Seafood",
          "Cafe Arc De Triomphe",
          "Bourbon Steak",
          "MB Steak",
          "Cowboys Tap House And Grill",
          "The Capital Grille",
          "Wasabi Japanese Steakhouse",
          "Chenoy's Delicatessen",
          "Ranch House",
          "Smoky's Club",
          "Old Homestead Steakhouse",
          "Tessaro's",
          "The Keg Steakhouse + Bar",
          "LongHorn Steakhouse",
          "Applebee's Grill + Bar",
          "The Charcoal Room",
          "Kaizen Sushi Bar & Bio Gourmet Restaurant",
          "Brazz Carvery & Brazilian Steakhouse",
          "Switch Steak",
          "Outback Steakhouse",
          "Carmen's Steak House",
          "Chop Steakhouse & Bar",
          "Avenue 16 Kitchen & Bar",
          "Harry Buffalo",
          "Outback Steakhouse",
          "Remington's Restaurant",
          "Cru",
          "Wendel Clark's Classic Grill and Sports Lounge",
          "Moxie's Grill & Bar",
          "Bolero",
          "Parker's Grille & Tavern",
          "Wasabi Japanese Steak House",
          "The Wrangler",
          "OMO Teppan and Kitchen",
          "Hokkaido Teppanyaki Steak House",
          "Lone Star Steakhouse",
          "Fire Grill",
          "Lakeside Grill Estrella",
          "Yellowtail Sushi & Steak",
          "Ben & Jack's Steakhouse",
          "Toko Japanese Steak House",
          "Affy's Premium Grill",
          "Carvers Steaks & Chops",
          "Archi's Thai Kitchen",
          "Steaks R US",
          "Towne380",
          "Steak House Village",
          "L'Atelier d'Argentine",
          "LongHorn Steakhouse",
          "Ichi Ban Japanese Restaurant",
          "Ah-So",
          "The Capital Grille",
          "Philly Steak & Wings",
          "Applebee's Grill + Bar",
          "Montana Mike's",
          "Ryan's",
          "Hamilton Walker's",
          "Samurai Sushi and Steakhouse",
          "Picanha Steak Truck",
          "Bâton Rouge Steakhouse & Bar",
          "Cannon's Chop House",
          "Serano",
          "Eddie V's Prime Seafood",
          "Chop Steakhouse & Bar",
          "Kabuto Japanese Steakhouse And Sushi Bar",
          "Lone Star Steakhouse",
          "Andiron Steak & Sea",
          "Saddle Ranch Chop House",
          "Pink Pony",
          "Nobu Tei",
          "Sizzlers",
          "Canyon Creek",
          "ParkerHouse Grill & Wine Bar",
          "McCall's Heartland Grill",
          "Fleming's Prime Steakhouse - Scottsdale",
          "Reuben's",
          "Papa Luigi",
          "Chalks Billiards",
          "Love Me Tender - Steakhouse",
          "Market Street Kitchen",
          "Les Voltigeurs Restaurant",
          "Roy's Restaurant",
          "Toro Wine bar",
          "Marvelous Asian Cuisine",
          "Mancuso's Restaurant",
          "Port City Club",
          "Outback Steakhouse",
          "Applebee's Grill + Bar",
          "Steak ’n Shake",
          "Cadillac Ranch",
          "Wonder Bar Steakhouse",
          "Steak On a Stone",
          "Geisha House Steak & Sushi",
          "Montana's BBQ & Bar",
          "Chop Steakhouse & Bar",
          "Casey Jones Tavern",
          "Mastro's Steakhouse",
          "Applebee's Grill + Bar",
          "Quaker Steak & Lube",
          "Saveeda's American Bistro",
          "CrocoGrill",
          "Atria's Restaurant",
          "Steak Queen",
          "Hibachi Japan Steak House",
          "Texas Roadhouse",
          "La Banquette",
          "FIX",
          "Charya's",
          "Applebee's",
          "Gibbys",
          "Diablos",
          "Chicago Chophouse",
          "Steak Frites",
          "Onion Steak and Seafood",
          "Bottlescrew Bill's Pub / Buzzards Restaurant & Bar",
          "Lonestar Texas Grill",
          "Outback Steakhouse",
          "Baton Rouge Restaurant",
          "Echo & Rig",
          "Buccis",
          "Forty Rod Roadhouse",
          "Morton's The Steakhouse",
          "Da Silva",
          "The Keg Steakhouse & Bar",
          "LongHorn Steakhouse",
          "Manhattan Classic Grill",
          "Applebee's Grill + Bar",
          "Moe's Southwest Grill",
          "Tony Roma's",
          "Morso Me",
          "Outback Steakhouse",
          "Brazilian Grill",
          "LongHorn Steakhouse",
          "Old Stone Steakhouse",
          "Wellington's of Calgary Dining & Lounge",
          "The Metropolitan",
          "Le Bifthèque",
          "Village Steakhouse",
          "Restaurant la Bohème",
          "Applebee's Grill + Bar",
          "Don B's Steakhouse",
          "Tom Jones Steakhouse & Seafood",
          "Montana Meat Company - Durango",
          "Joes Seafood Prime Steak & Stone Crab",
          "Rare 120",
          "Brazilian Bull Steakhouse",
          "Sake Express",
          "Halo",
          "Steak And Stone",
          "LongHorn Steakhouse",
          "LongHorn Steakhouse",
          "Atria's Restaurant",
          "Evoke",
          "Grillades Torino",
          "Applebee's Grill + Bar",
          "Vegas CheeseSteaks",
          "Centro Restaurant & Lounge",
          "Armstrong's",
          "Master Steaks",
          "Del Frisco's Double Eagle Steakhouse",
          "Cowgirls Steakhouse and Saloon",
          "Les Deux Fours",
          "Bobby's Restaurant and Lounge",
          "Gordon Ramsay Steak",
          "Embers",
          "Kasai Asian Grill",
          "Madisons",
          "Steel City Steak House",
          "Tony Roma's",
          "Outback Steakhouse",
          "Lone Star Texas Grill",
          "Pullman Grille",
          "Shula's Steak House",
          "Bulldog Beer House",
          "Moxie's Grill & Bar",
          "Border Crossing",
          "Skyvue Restaurant",
          "Trio Restaurant & Lounge",
          "Grinder",
          "Steak",
          "Wendel Clark's",
          "Rawhide At Wild Horse Pass",
          "The Keg Steakhouse + Bar",
          "The Flame Steakhouse",
          "Boeuf Cochon",
          "Outback Steakhouse",
          "JC's Steakhouse",
          "The Keg Steakhouse + Bar - Mount Royal",
          "Zoes Kitchen",
          "Don & Charlie's",
          "3 Margaritas",
          "4u2 Shawarma & Steak",
          "Prime Rib Loft",
          "The Bottom Line",
          "Canyon Creek",
          "Lone Star Texas Grill",
          "Outback Steakhouse",
          "Rare Steakhouse",
          "Odyssey Pizza and Steakhouse",
          "Fleming's Prime Steakhouse & Wine Bar- Akron",
          "Texas de Brazil",
          "Kasper's Grill",
          "The Waterfront",
          "SouthPark Grill",
          "Texas Longhorn",
          "Cornerstone",
          "The Keg Steakhouse + Bar - Marlborough",
          "Geisha House Steak & Sushi",
          "Miller Tavern",
          "Mendoza's Cuisine",
          "Brasa Grill",
          "Outback Steakhouse",
          "Ken Stewart's Lodge",
          "Oakville Steakhouse",
          "Yard House",
          "Montana's BBQ & Bar",
          "Applebee's Grill + Bar",
          "Outback Steakhouse",
          "Onion Steak Sub",
          "Le Saint-Bock",
          "La Belle et la Boeuf",
          "Applebee's Neighborhood Grill & Bar",
          "Ted's Montana Grill - Waverly",
          "Herbs & Rye",
          "Turtle Jack's Muskoka Grill",
          "The Captain's Cap",
          "MRKT",
          "Mc Govern's Club and Restaurant",
          "Harold's Corral",
          "Botero",
          "The Lake Grill",
          "Applebee's Grill + Bar",
          "Applebee's Grill + Bar",
          "Paul Martin's American Grill",
          "Girves Brown Derby",
          "Ichiban Hibachi Steakhouse",
          "Texas Roadhouse",
          "Bally's Steakhouse",
          "Porta Bella Italian Restaurant",
          "CUT by Wolfgang Puck",
          "Lone Star Steakhouse & Saloon",
          "LongHorn Steakhouse",
          "The Palm Charlotte",
          "Cafe 28",
          "Great Steak",
          "Leyle's Restaurant",
          "Applebee's Grill + Bar",
          "Bâton Rouge Steakhouse & Bar",
          "Captains Galley Seafood Shack",
          "Gallery Restaurant",
          "The Angry Butcher",
          "Hibachi",
          "Hoss's Steak & Sea House",
          "Morton's The Steakhouse",
          "Steak ’n Shake",
          "Firebirds Wood Fired Grill",
          "The Keg Steakhouse + Bar - Montreal",
          "Caesar's Steak House",
          "Baldwins Steakhouse & Bar",
          "Texas Roadhouse",
          "Monstah Lobstah",
          "Durant's",
          "Applebee's Grill + Bar",
          "McCormick & Schmick's Seafood & Steaks",
          "Modern Steak",
          "Ochre Grill",
          "BlueBlood Steakhouse",
          "Casey's",
          "Applebee's Grill + Bar",
          "Joe Mamas",
          "Fitzgerald's",
          "Cabo Mexican Restaurant",
          "Montana's BBQ & Bar",
          "Le Steak Frites",
          "Nineteen10",
          "Charleston's",
          "Le Bordelais",
          "Samba",
          "The Carmel Room",
          "Texas Roadhouse",
          "Toyo Japanese Steak House",
          "Prime",
          "Oscar's Roadhouse",
          "Embassy Suites by Hilton Charlotte",
          "T-Bones Chophouse",
          "Montana's BBQ & Bar",
          "Ballantine",
          "Houston",
          "The Captain's Cap",
          "Mastro's Ocean Club",
          "Ohjah Japanese Steakhouse Sushi & Hibachi Flamingo",
          "L'Entrecôte Saint-Jean",
          "Scratch House Restaurant",
          "Ditka's Restaurant - Wexford",
          "Smokey Bones Bar & Fire Grill",
          "Chima Steakhouse",
          "Hikari",
          "Les Tetes De Cochon",
          "The Keg Steakhouse + Bar - Ajax",
          "Chartreuse",
          "Tavolo 72",
          "Applebee's Grill + Bar",
          "Etob Restaurant",
          "Straight From Philly",
          "Applebee's Grill + Bar",
          "The Brock House",
          "Ron's Steakhouse",
          "The Barrymore",
          "Outback Steakhouse",
          "Black Angus Steak House",
          "Roka Akor - Scottsdale",
          "Fleming's Prime Steakhouse - Peoria",
          "ENVY The Steakhouse",
          "Carnevino",
          "Brand Steakhouse",
          "Bâton Rouge Steakhouse & Bar",
          "Applebee's Grill + Bar",
          "Charcut Roast House",
          "Outback Steakhouse",
          "Ferris Steak House",
          "Gabriel's Restaurant Bar & Grill",
          "Hitchin Post Saloon & Steakhouse",
          "Shake Rabble & Roll",
          "Canyon Creek",
          "Windsor Arms Hotel",
          "Applebee's Grill + Bar",
          "The Range Steakhouse",
          "Hot Stove Club",
          "Quaker Steak & Lube",
          "Steak Frites",
          "Johnny Delmonico's Steakhouse",
          "3 Margaritas",
          "Beantown Tavern",
          "Canyon Creek",
          "Ditka's Restaurant",
          "Dressler's Restaurant - Birkdale Village",
          "Kavanaugh's Esquire Club",
          "lbs. Restaurant",
          "La Tradicion Restaurant",
          "Texas Roadhouse",
          "Moxie's Grill & Bar",
          "Eddie V's Prime Seafood",
          "Moxie's Grill & Bar",
          "Applebee's Grill + Bar",
          "Otto's Restaurant & Bar",
          "Vila Algarve",
          "Philly Steak and Pizza Express",
          "Smith Bros.",
          "Steak N Shake",
          "Simon Restaurant and Lounge",
          "Texas Land & Cattle",
          "Madrina Italian Steakhouse and Lounge",
          "LongHorn Steakhouse",
          "Moss' Prime Rib & Spaghetti House",
          "Silver Spur Saloon & Restaurant",
          "Bâton Rouge Steakhouse & Bar",
          "Tony Roma's",
          "Ruth's Chris Steak House",
          "Pearl Diver",
          "Pittsburgh Chop House",
          "Pittsburgh Rare",
          "Edge Steakhouse",
          "LongHorn Steakhouse",
          "Black Angus Steakhouse",
          "Arashi Japan Sushi & Steak House",
          "Prime Quarter Steak House",
          "VooDoo Rooftop Nightclub & Lounge",
          "The Porter's House",
          "Iguana Mack's",
          "Outback Steakhouse",
          "Desert Dave's",
          "The Roadhouse Cafe",
          "Cagneys Steakhouse & Wine Bar",
          "Madison's NY Grill & Bar",
          "Firebirds Wood Fired Grill",
          "Ocean Prime",
          "Claim Jumper Restaurants",
          "Donatos Fox Chapel",
          "McCormick & Schmick's Seafood & Steaks",
          "The Flying Rib",
          "Joe's Philly Steak & More",
          "Kabuto Japanese Steakhouse and Sushi Bar",
          "17 Steakhouse and Bar",
          "Dover Pizza & Steak House",
          "Red's Steakhouse",
          "Quaker Steak & Lube",
          "Blackod Steak and Fish House",
          "Jin's Kitchen and Club",
          "Top of the World",
          "Montana's BBQ & Bar",
          "Trafalgar Steakhouse & Grill Restaurant",
          "Charleys Philly Steaks",
          "Hillstone Restaurant",
          "Toscano Italian Steakhouse",
          "Applebee's Neighborhood Grill & Bar",
          "Applebee's Grill + Bar",
          "Le Darlington",
          "Mickey & Mooch",
          "Don's Pomeroy House",
          "Baba",
          "Rock & Vine Bar and Grill",
          "Pittsburgh Steak Company",
          "The Keg Steakhouse + Bar",
          "Americana",
          "Biagio Ristorante",
          "Rokerij",
          "The Capital Grille",
          "Bazaar Meat by José Andrés",
          "Geri's Olde Philadelphia Restaurant",
          "Magal BBQ",
          "VooDoo Steakhouse",
          "Montana's BBQ & Bar",
          "Tango Bistro",
          "ONoir",
          "Chick Fiesta",
          "Gamekeeper's Taverne",
          "Branca",
          "Second Street Grill",
          "Bavette's Steakhouse & Bar",
          "Moxies Grill and Bar",
          "The Backroom",
          "Bâton Rouge Steakhouse & Bar",
          "Fellini's Ristorante",
          "Essence and Herbs",
          "The Keg Steakhouse + Bar",
          "Madisons N Y Bar & Grill",
          "Binion's Gambling Hall",
          "MR MIKES SteakhouseCasual",
          "Applebee's Grill + Bar",
          "Rich II Fine Cuisine",
          "Great Scott Tavern",
          "T-Bones On the Lake",
          "Sizzler",
          "Fogo de Chão Brazilian Steakhouse",
          "Nove Ristorante",
          "Reata Pass Steakhouse",
          "Ohjah Japanese Steakhouse Hibachi",
          "Moxie's Grill & Bar",
          "Yard House",
          "Sushi Fix",
          "Feeney's Restaurant and Bar",
          "Wild Eagle Steak & Saloon",
          "Steak Frite St-Paul Village",
          "Jacobs & Co. Steakhouse",
          "Applebee's Grill + Bar",
          "Texas Longhorn",
          "40 Northh",
          "Silk Road Gourmet Chinese",
          "Carrabba's Italian Grill",
          "Austins Steakhouse",
          "Texas Roadhouse",
          "Lone Star Steakhouse & Saloon",
          "Restaurant Progress",
          "Carvers Steakhouse",
          "The Keg Steakhouse + Bar - Macleod Trail",
          "The Black Iron Grille",
          "Houston Avenue Bar & Grill - Quartier DIX30",
          "Reuben's Deli & Steakhouse",
          "The Speedway Club",
          "Watertower Chop House",
          "Hillbilly's Barbeque & Steaks",
          "Montana's BBQ & Bar",
          "Miki's Restaurant",
          "Red Ginger",
          "Red The Steakhouse",
          "Verona Chophouse",
          "Max Sports Grille",
          "Tom Colicchio's Craftsteak",
          "Fleming's Prime Steakhouse - Woodmere",
          "Montana's BBQ & Bar",
          "Joe Beef",
          "LongHorn Steakhouse",
          "Redwood Steakhouse",
          "Ric's Grill",
          "Alexander's Steakhouse",
          "Vertigo",
          "Charleston's",
          "DragonFire Steakhouse",
          "Global Restaurant",
          "Bobby Q - Biltmore",
          "Brown Derby",
          "Choplin's Restaurant",
          "Ruths Chris Steak House",
          "Bill Johnson's Big Apple Restaurants",
          "Crossroads Restaurant & Bar - Las Vegas",
          "Bâton Rouge Steakhouse & Bar",
          "McCormick & Schmick's Seafood & Steaks",
          "BLT Steak",
          "Le Steak Frites St-Paul",
          "Moxie's Grill & Bar",
          "Prime",
          "Kingo Bowl",
          "Universel",
          "Outback Steakhouse",
          "XS Lounge and Grill",
          "Delibee's",
          "Watami Hibachi Steakhouse",
          "The Keg Steakhouse & Bar",
          "Ta Pies",
          "Applebee's Grill + Bar",
          "Steak on a Stone",
          "Ken Stewart's Grille",
          "Redstone Grill",
          "Applebee's Grill + Bar",
          "Timber Lodge",
          "Texas Roadhouse",
          "The Keg Steakhouse + Bar",
          "Brasserie Capri",
          "Chophouse & Brewery",
          "LongHorn Steakhouse",
          "Moe's Bar et Grill",
          "City Tavern",
          "Applebee's Grill + Bar",
          "Moxie's Grill & Bar",
          "Vertigo",
          "Applebee's Grill + Bar",
          "Straight From Philly Steakout",
          "Pier 51 Seafood Restaurant",
          "FireRock Steakhouse",
          "Texas Roadhouse",
          "Restaurant Rube",
          "Outback Steakhouse",
          "T-Bone Steakhouse",
          "BLT Steak, Scottsdale",
          "Moxie's Grill & Bar",
          "Cortez Room",
          "Bâton Rouge Steakhouse & Bar",
          "Arrowhead Grill",
          "Applebee's Grill + Bar",
          "Redwater Rustic Grille",
          "The Melting Pot",
          "The Keg Steakhouse + Bar - Crowfoot",
          "Yard House",
          "Desert Rose Steakhouse",
          "Le Biftheque",
          "Cork'n Cleaver",
          "Delmonico Steakhouse",
          "Cadillac Mexican Kitchen & Tequila Bar",
          "Stack Restaurant & Bar",
          "Steakhouse 46",
          "Revel",
          "Char Bar No 7",
          "Montana's BBQ & Bar",
          "Palace Station Hotel & Casino",
          "Fuego Steakhouse",
          "Braised Bull Steakhouse",
          "The Cove",
          "The Palm Las Vegas",
          "Moxie's Grill & Bar",
          "Oceana Seafood Steakhouse & Bar",
          "Strip House",
          "Capitol ChopHouse",
          "Red Square Restaurant & Vodka Lounge",
          "Day & Night Angus Steak Raw Bar",
          "Shogun Japanese Steak House",
          "StripSteak",
          "Charleys Place",
          "Rusty Anchor",
          "Montana's BBQ & Bar",
          "Frasher's Steak House & Lounge",
          "The Miller Tavern",
          "J & G Steakhouse",
          "Don's Lighthouse",
          "Todd's Unique Dining",
          "El Congo Restaurant",
          "Michael Arthurs Pub",
          "The Keg Steakhouse + Bar - Stadium",
          "Gibbys",
          "Cleveland Chop",
          "Mother Tucker's",
          "The Keg Steakhouse & Bar",
          "Carver's Steakhouse",
          "Outback Steakhouse",
          "Rodeo Brazilian Steakhouse",
          "Jean Georges Steakhouse",
          "JOEY Barlow",
          "Morton's The Steakhouse",
          "B & M Restaurant",
          "Texas Roadhouse",
          "Mariners",
          "Bardi's Steak House",
          "Swine & Sow Wine & Ale House",
          "Bill Johnson's Big Apple Restaurants",
          "Fogo de Chão Brazilian Steakhouse",
          "Tiffany's",
          "XO Seafood & Oysters",
          "Hole-in-the-Wall",
          "Steak Pit Restaurant",
          "Moxie's Grill & Bar",
          "Hendriks Restaurant & Bar",
          "Hibachi Teppanyaki & Bar",
          "Texas De Brazil",
          "Moxie's Grill & Bar",
          "Harbour 60",
          "Houston's Restaurant",
          "Eiffel Tower",
          "Wilfrid sur Laurier",
          "Jargo",
          "STK Toronto",
          "Gyu-Kaku Japanese BBQ",
          "Zoes Kitchen",
          "Indigo Crow Restaurant & Bar",
          "The ROCK Cafe & Restaurant",
          "Golden Corral Family Steak House",
          "The Octagon Restaurant",
          "Applebee's Grill + Bar",
          "Bistro 70",
          "Hoss's Steak & Seahouse",
          "Bentley's on 27",
          "The Portuguese Chicken Guys",
          "Lancer's Bar & Lounge",
          "Delmonico's Steakhouse",
          "Veloce Restaurant",
          "The Steak Valet by Choplins",
          "The Keg Steakhouse + Bar",
          "The Horny Toad",
          "Douze Vingt-et-Un Steakhouse & Cigar Bar",
          "Charley's Grilled Subs",
          "Peppercorn Steak and Seafood",
          "Manhattan Steak House",
          "Osaka P83",
          "Village Tavern",
          "Sammy's Famous Corned Beef",
          "The Keg Steakhouse & Bar",
          "Gallagher's Steakhouse",
          "Texas Roadhouse",
          "Hyakumi Japanese Restaurant & Sushi Bar",
          "Sevens Steakhouse",
          "Applebee's Grill + Bar",
          "Alder & Birch",
          "Guadalajara",
          "Applebee's",
          "Claim Jumper Restaurant & Saloon",
          "Applebee's Grill + Bar",
          "Sizzler",
          "Twin Rivers",
          "Palmieri's Restaurants",
          "Silver Nugget Steak House",
          "The Keg Steakhouse + Bar - Estate Drive",
          "Timpone's",
          "Barbie's",
          "The Bank Restaurant",
          "Applebee's Grill + Bar",
          "The Toston",
          "Atami Japan",
          "Applebee's Grill + Bar",
          "All Star Wings & Ribs",
          "LongHorn Steakhouse",
          "The Lot at Edgewater",
          "The Fifth & Terrace",
          "35 Steaks + Martinis",
          "Applebee's Grill + Bar",
          "Tops Pizza & Sports Bar",
          "Italian Grotto",
          "Tony Roma's",
          "Day & Night Firewood Steakhouse",
          "Austin's Smokin' Steakhouse",
          "Santa Fe Station Hotel & Casino",
          "Hugo's Cellar",
          "The Rock",
          "A La Brasa Mexican Grill",
          "Rodizio Grill",
          "Full Of Bull Famous Roast Beef",
          "Sumo Japanese Steakhouse & Sushi Bar",
          "Brother's Restaurant",
          "Lone Star Texas Grill",
          "Steak Escape East Towne Mall",
          "Ballers' Bistro",
          "Roberta's Steakhouse",
          "Sahan Restaurant",
          "Shula's 2",
          "Paradise Farms Prime Beef Bistro",
          "Lone Star Texas Grill",
          "Purple Onion Restaurant",
          "Rôtisserie St-Hubert",
          "Backwood Smokehouse",
          "LongHorn Steakhouse",
          "Mortys Steakhouse Restaurant",
          "Hyde Park Prime Steakhouse",
          "Haze Lounge",
          "Cartwright's Modern Cuisine",
          "Dickens Cafe",
          "T2C Smokehouse",
          "Steak Eez",
          "The Groove Cheesesteak Co",
          "Applebee's Grill + Bar",
          "Black Angus Steakhouse",
          "Miro Spanish Grille",
          "Applebee's Grill + Bar",
          "Ooka Hibachi",
          "Claim Jumper Restaurant & Saloon",
          "Beff Pan Steak And Roll House",
          "Phil's Italian Steak House",
          "Logan's Roadhouse",
          "Parisco Cafe",
          "Sushi Bomb",
          "Rouge Boeuf",
          "Bill's Pit",
          "Silverado Steakhouse",
          "Ruth's Chris Steak House",
          "BLT Steak",
          "McCormick & Schmick's Seafood & Steaks",
          "Restaurant Charlie",
          "Fiesta Mexicana Grill",
          "The Ribeye",
          "Del Frisco's Grille",
          "Wagon Yard",
          "Matador Pizza & Steak House",
          "Triple George Grill",
          "Ah-So Sushi & Steak",
          "Coal Hill Steakhouse at Grandview Saloon",
          "Pittsburgh Steak Company",
          "Creo's Steakhouse",
          "Moxie's Grill & Bar",
          "Fuego Steakhouse & Poissons Frais",
          "Charbar",
          "Social",
          "Coach's Club",
          "Le Grill Barroso",
          "FATZ Cafe",
          "Moxie's Grill & Bar",
          "Steak ’n Shake",
          "Siegel's 1941",
          "Le Steak Frites",
          "Zoes Kitchen",
          "Grillin Hut",
          "Outback Steakhouse",
          "The Keg Steakhouse & Bar",
          "Montana's BBQ & Bar",
          "Outback Steakhouse",
          "Gazebo Burgers & Grill",
          "Charley's Steakery",
          "Zoes Kitchen",
          "Beer Park",
          "Jekyll's Kitchen",
          "Applebee's Grill + Bar",
          "Osaka Japanese Steakhouse",
          "The Mission at Minder Binder",
          "The Keg Steakhouse + Bar - Leslie",
          "Arby's",
          "Japanese Village",
          "Urban Farmer",
          "Tenaya Creek Brewery",
          "Ginza Sushi House",
          "BARDOT Brasserie",
          "The Keg Steakhouse + Bar - Bloor West Mall",
          "Texas Roadhouse",
          "Donovan Steakhouse",
          "Applebee's Grill + Bar",
          "Wasabi Japanese Steakhouse",
          "LongHorn Steakhouse",
          "Cover Girls Gentlemen's Club & Steakhouse",
          "Kokomo's Steak & Seafood",
          "RARE Fine Steak, Wine & Lounge",
          "Urban Roadhouse",
          "Pita Palms",
          "Walkers Wine Bar & Grill",
          "Madisons NY Bar& Grill",
          "Ric's Lounge & Grill"
         ],
         "lat": [
          35.156338,
          43.63887929999999,
          36.1362575,
          36.1161559,
          45.547261999999996,
          33.4630705155,
          41.470568,
          45.678745491099995,
          35.1466338,
          44.052445500000005,
          33.6321621,
          36.074289,
          36.108999,
          40.5700855645,
          35.527089694000004,
          41.476796,
          35.0960065,
          50.981476435,
          41.460555600000006,
          45.498739,
          36.2747255482,
          45.4640803605,
          43.8438185,
          33.5329519271,
          36.1188165,
          45.4794934,
          41.6577255335,
          33.338335863800005,
          33.5813336,
          36.115156899999995,
          36.118399,
          43.6499945,
          45.375821,
          41.4932113,
          36.1035296,
          35.02016,
          35.0857094,
          45.6193537,
          43.6139172,
          36.11654,
          41.3160058,
          45.5491665,
          35.0883861,
          33.817695,
          41.4975081374,
          40.369471999999995,
          36.126315000000005,
          33.5612361,
          45.483104,
          51.01958194310001,
          45.8918264,
          43.0747399,
          33.434038710100005,
          35.972629,
          41.742281266599996,
          45.5171696,
          35.9650514289,
          51.0798557,
          45.401767299999996,
          43.6932653,
          33.7149105285,
          51.0712956286,
          43.5718280657,
          33.3937655,
          33.637735,
          33.4473917315,
          40.3431797,
          45.497072100000004,
          51.167668342700004,
          35.3611081,
          36.144997,
          40.1182231,
          41.293935,
          41.1662529958,
          33.3185006589,
          43.8797893,
          35.294245000000004,
          45.515739,
          45.4928203,
          36.11475,
          41.336731,
          36.238313,
          43.736419399999996,
          43.6497314445,
          43.766352260299996,
          50.9928416732,
          41.399839,
          43.0819164,
          41.71438,
          41.398165500000005,
          41.62813,
          43.6469959,
          51.046049,
          41.2671076,
          35.9737209,
          33.4523351,
          43.6448066526,
          45.500546899999996,
          43.8345209687,
          51.044196,
          41.23964,
          45.8967006,
          36.140012,
          33.700779100000005,
          40.4396782,
          33.6729823,
          43.7420183,
          33.3063792,
          33.3024257,
          33.3856312,
          51.042678,
          36.133220722,
          43.853826,
          35.9713894,
          36.0594861,
          36.011478000000004,
          33.377291,
          41.5535852468,
          33.57689310000001,
          35.179294,
          36.0202484,
          51.037042023199994,
          41.1911681603,
          35.463159499999996,
          43.8288423324,
          43.772923799999994,
          41.28497,
          51.0527455174,
          36.159564399999994,
          43.7861437846,
          36.0695675256,
          45.4788529,
          45.496021999999996,
          51.0852903,
          43.649375299999996,
          36.114813700000006,
          36.175748999999996,
          43.036741,
          41.461945,
          36.170789899999995,
          41.4972786,
          36.0133950245,
          36.116436835100004,
          41.4632516,
          43.815124600000004,
          33.6253521407,
          45.4845979,
          36.1143535,
          36.199434580100004,
          41.500991,
          43.7603747,
          40.3683930071,
          33.683460902600004,
          51.130466,
          36.095355639699996,
          45.627144,
          43.194379999999995,
          45.50758870000001,
          43.6598045,
          41.466769,
          43.7058734068,
          51.0548223,
          43.812200399999995,
          36.033405480700004,
          43.133354,
          43.73150220000001,
          33.633165999999996,
          41.428593,
          33.45214,
          35.088609399999996,
          43.1695596,
          43.67774420000001,
          41.5003939675,
          50.880051,
          43.848318400000004,
          33.65198,
          33.5013952581,
          35.9949501,
          35.105919799999995,
          43.828298250299994,
          41.6291087,
          35.4632957,
          43.6507412,
          35.194894,
          36.048992157,
          45.4956322,
          33.731996,
          40.434352200000006,
          35.497608500000005,
          40.451402576,
          45.474481,
          36.1019828424,
          36.128561,
          40.441051,
          36.194508299999995,
          33.6308784,
          36.15853320000001,
          33.390848999999996,
          33.4528721912,
          51.076046500000004,
          33.5780591596,
          40.327443,
          33.6234810428,
          43.829678344899996,
          45.43865460000001,
          41.5007302384,
          43.6089211,
          41.2019564,
          33.6395601368,
          33.4477082,
          33.6391848,
          40.639515,
          36.060914000000004,
          40.446785999999996,
          43.877993700000005,
          43.868222314200004,
          45.4987549,
          41.1140412,
          33.42370519999999,
          33.540285939,
          35.211532,
          43.073930018599995,
          43.580505,
          33.452831800000006,
          51.0509097551,
          35.2101676933,
          33.4233846,
          45.516541,
          43.8675989404,
          33.433210771999995,
          43.8709053,
          35.2619021,
          35.221917,
          36.067414457,
          36.1702390246,
          41.6937211,
          35.368956,
          41.237163,
          41.499484,
          40.110827,
          33.523984000000006,
          33.495676,
          36.125908,
          43.593871299999996,
          33.6568431658,
          40.429789,
          35.062054700000004,
          33.581421,
          43.7084823,
          45.725013,
          33.3822058,
          41.389171000000005,
          33.4628556191,
          36.1060800087,
          45.891108,
          40.4379704,
          43.687081,
          43.5149610469,
          36.171234999999996,
          36.1430055233,
          50.993534999999994,
          33.234378,
          35.1800007,
          33.6382668,
          41.050746000000004,
          43.83546870000001,
          35.349089299999996,
          50.957504,
          41.1335789823,
          33.6340691,
          33.578692,
          45.484233,
          33.4461951337,
          35.1282274625,
          33.7124261365,
          45.505390999999996,
          43.659909999999996,
          33.2880227,
          43.6433142625,
          43.6542445,
          45.496287200000005,
          51.086223062799995,
          40.4397355,
          45.53656711359999,
          43.840823480299996,
          43.726654421800006,
          41.157915100000004,
          50.9952995522,
          43.199453723299996,
          43.8537675,
          43.7664822466,
          45.4532844,
          36.190867499999996,
          45.5134840896,
          36.114762,
          43.079759499999994,
          43.6490919,
          36.124423,
          46.0312391,
          33.5087239,
          51.0380023161,
          36.10064860000001,
          36.1716327,
          33.831683500000004,
          40.451052000000004,
          45.7770751,
          36.27389960000001,
          45.507498999999996,
          43.6575924,
          43.6510886,
          35.2254656104,
          33.393553999999995,
          43.484961301999995,
          43.63613,
          36.16915170000001,
          36.1151617,
          51.0456304,
          43.697752,
          35.132053000000006,
          43.74138370000001,
          45.482959,
          43.6448944,
          33.6240763,
          43.687081,
          41.4614963334,
          43.64702376140001,
          35.2804915,
          41.1353967,
          40.267979700000005,
          36.068655,
          43.5862983171,
          36.156898362199996,
          33.6562553802,
          43.8478622437,
          43.6550342,
          36.091726,
          35.151670229299995,
          40.6335562,
          41.474455999999996,
          51.0301326484,
          35.0035317,
          33.640232,
          41.13404620000001,
          50.9066235,
          33.492381,
          33.5392596581,
          51.134223999999996,
          43.687163700000006,
          50.9329829,
          43.7225834,
          33.422746999999994,
          41.461461,
          43.863996311,
          41.60434,
          43.5933270528,
          36.12672,
          40.449253000000006,
          36.0419145304,
          36.139986,
          40.269682,
          40.440003600000004,
          33.4998233,
          50.992013712200006,
          41.1632528157,
          33.260696,
          35.1789812,
          33.3652505,
          41.1395078,
          36.175,
          36.13191,
          43.6091794,
          41.138940600000005,
          33.6713104605,
          36.1256249415,
          41.497577,
          35.447409,
          36.144308216599995,
          41.4246092,
          36.1091,
          41.664739600000004,
          36.118838399999994,
          36.0986438265,
          33.5813674,
          43.8712902,
          43.6501049,
          36.1718351907,
          36.1098294728,
          36.120669,
          41.4535031,
          36.020552,
          36.1246035827,
          33.5020036166,
          41.3455767405,
          43.9586835,
          36.1721756,
          43.6538951,
          36.0765586,
          36.1195756555,
          33.6407934,
          41.470545,
          45.633328999999996,
          41.4083787,
          50.9697307,
          36.0556567698,
          40.4134446,
          43.810455,
          36.108761,
          36.1162194,
          35.15475,
          43.6481427,
          43.598348905200005,
          43.764826,
          36.121792,
          33.509526,
          41.5004234,
          43.594732,
          43.644913,
          43.073336100000006,
          41.1389647,
          45.567575965799996,
          36.0319583,
          40.428952,
          43.6452181628,
          33.5832099,
          35.358043,
          43.6679145,
          40.5620812755,
          33.4610622,
          41.373934000000006,
          45.538789,
          51.0368857,
          45.449236799999994,
          33.462996000000004,
          43.07243,
          35.262475200000004,
          45.535562,
          40.44141389999999,
          40.306676200000005,
          43.869145700000004,
          36.16944,
          40.4090643,
          41.714279299999994,
          36.1242508,
          33.4522506,
          41.1195369,
          40.426319,
          41.424583,
          35.972819,
          43.7878272,
          40.429457,
          43.0847455388,
          41.4316593,
          36.070096,
          45.4999888,
          33.4970073,
          45.456099350600006,
          33.5988384,
          36.1150754866,
          40.0972098875,
          34.9702063086,
          45.599471,
          43.66283,
          43.8415653484,
          36.110732299999995,
          40.5712919,
          36.012764000000004,
          36.0613739924,
          33.301284100000004,
          51.0949342,
          43.8712902,
          33.4506964,
          33.3703478235,
          45.480670865,
          51.072392,
          43.6659334,
          45.5253533,
          51.0621881,
          45.4747529,
          36.117758,
          45.541650700000005,
          33.511470811100004,
          36.1296013,
          33.375155199999995,
          51.28703070939999,
          36.057609,
          36.0678405392,
          43.658999,
          43.7451084,
          45.536293,
          35.13521420000001,
          45.4033441,
          35.1680872,
          41.156434999999995,
          43.0695351,
          43.626200588100005,
          45.44528,
          40.447182083600005,
          43.508964299999995,
          36.114553799999996,
          36.1700962,
          40.4505157938,
          51.0943445,
          41.5200109,
          36.1128082,
          51.0453657,
          45.533416100000004,
          33.467220000000005,
          36.173087,
          41.48593220000001,
          35.138279600000004,
          36.070135799999996,
          35.260224,
          43.6466444346,
          36.0990311,
          40.4381076,
          33.642151,
          35.349888899999996,
          40.4431445863,
          36.12920857,
          41.240225200000005,
          36.168318400000004,
          36.2045604,
          43.6436172,
          36.175746999999994,
          35.156539,
          41.3482407821,
          41.500146,
          51.0707972,
          41.137678,
          43.7853691,
          45.572428,
          45.572764,
          41.670854799999994,
          51.112322600000006,
          35.035338,
          51.0453155,
          43.7004787,
          43.672245240200006,
          41.4521407,
          36.1337103,
          45.5172354,
          36.0996904,
          33.7006985225,
          36.076449200000006,
          51.0299384,
          33.6002537931,
          43.8482531542,
          36.0608495631,
          35.445119899999995,
          51.043582799999996,
          36.122881,
          43.6671472,
          36.132937899999995,
          36.325699799999995,
          33.301901199999996,
          36.142229,
          45.5006444,
          43.647498999999996,
          45.483175861099994,
          41.3783479,
          35.088386,
          41.45797720000001,
          41.312926000000004,
          43.8157563,
          41.4578959,
          33.508695278000005,
          41.113011799999995,
          33.363563,
          50.972535125,
          33.5023225,
          36.135655,
          43.557564899999996,
          43.8478656815,
          43.847076799999996,
          33.429221000000005,
          41.4787931075,
          35.012950399999994,
          33.6970334404,
          40.325374100000005,
          43.866671999999994,
          45.644188799999995,
          36.1100828,
          43.648768,
          51.290191899999996,
          45.5722947623,
          36.1441893,
          35.445159000000004,
          43.794709399999995,
          33.51023428,
          40.4541644108,
          45.517528999999996,
          41.4683699,
          51.045299299999996,
          41.133571307800004,
          45.5522936,
          43.4974676,
          43.7456889,
          41.425227407,
          36.238313,
          36.011422700000004,
          43.6263381,
          43.64834408229999,
          43.67744570000001,
          36.1100828,
          43.7336349,
          43.8401146,
          45.567862299999994,
          40.5759448527,
          33.4908904485,
          36.1710444967,
          41.4547126,
          45.4446344,
          45.5024705,
          40.3418115205,
          51.047291799999996,
          45.5686843,
          33.341688,
          35.2123518,
          33.4220453,
          33.364569,
          45.5620785,
          51.0828816,
          40.3912084505,
          45.496038,
          36.11426877,
          41.4602245533,
          45.501487,
          51.022388899999996,
          36.1216084937,
          51.0518282,
          33.712105757399996,
          43.8195876,
          33.478946,
          35.2285596703,
          45.507884000000004,
          41.4997221553,
          35.253456899999996,
          36.1429690732,
          43.08814,
          36.0808197834,
          41.312262,
          41.400715000000005,
          36.0909158,
          45.500011900000004,
          43.69306029999999,
          43.774218700000006,
          41.4411018,
          43.642801069799994,
          50.9630585,
          40.117932,
          33.6835743,
          36.032336598,
          51.0459732605,
          33.5302696775,
          36.001746000000004,
          35.227054200000005,
          40.46395820000001,
          45.4547337659,
          36.126167080100004,
          33.700033000000005,
          36.025837200000005,
          33.509163,
          35.149794299999996,
          41.4640061,
          43.7078631,
          45.5010051,
          36.1150184807,
          41.156908,
          43.057938,
          35.218871,
          44.018597645,
          45.503909,
          41.4841708,
          33.4959382,
          35.352548999999996,
          45.5024364,
          34.9692698,
          45.524175899999996,
          51.042700399999994,
          41.3567961662,
          41.460402200000004,
          43.5922701,
          41.611009,
          33.5012802443,
          41.6420348,
          36.0732079,
          36.1168182129,
          40.2753121846,
          45.5306133,
          40.446357054,
          35.431762,
          33.7273959088,
          41.6904375,
          36.112859,
          36.117683,
          41.1367374795,
          45.4657348,
          43.09372929999999,
          43.96568320000001,
          33.3784436,
          36.142713,
          51.045752,
          36.1050656,
          33.3071941,
          33.5775166,
          35.371132,
          45.3626338,
          36.1987541,
          43.7620313,
          51.049735600000005,
          35.0080161,
          36.0671402448,
          35.1975303,
          43.6410203,
          43.9506701,
          41.539156299999995,
          40.4406418146,
          35.1023452,
          41.460381,
          45.4972277,
          33.4306568,
          36.1022631,
          43.6893282,
          33.6992252,
          45.4415776681,
          33.6371089,
          36.044715000000004,
          36.104648600000004,
          43.6457882121,
          33.822031,
          36.0261968,
          40.4383688,
          41.313369,
          36.113508959099995,
          43.6876966,
          36.0764726,
          35.458582,
          36.253425,
          36.168849,
          43.6100337,
          41.416571000000005,
          41.3713716,
          45.521217702,
          41.397420272199994,
          35.2001308,
          50.9848325,
          40.331151,
          43.6493689,
          43.6530612,
          41.675927,
          35.254031299999994,
          33.3789141,
          35.324582085,
          43.0761862475,
          33.466339500000004,
          41.3958031,
          45.497198299999994,
          33.301889,
          45.506172984799996,
          45.5244308,
          33.5508893717,
          45.530638399999994,
          36.055391,
          33.2698478031,
          35.2965273,
          41.40035579999999,
          41.728457899999995,
          36.144141,
          43.0584893289,
          36.114842971,
          43.78378529999999,
          36.1964438,
          40.330275,
          34.9715535,
          36.137040999999996,
          33.4742811,
          43.6762554,
          36.063167,
          41.606367999999996,
          36.1079011,
          41.154442100000004,
          43.6955829758,
          45.5558671,
          33.4641047,
          33.5979824,
          36.065659000000004,
          43.097460399999996,
          43.7643506,
          33.5751723,
          43.6668151,
          43.647529,
          40.4407195879,
          41.2400486,
          35.964772100000005,
          36.1356446,
          36.057689,
          41.675955,
          35.270281,
          43.6487518,
          33.2842645463,
          33.4540376686,
          41.3123585,
          50.905727301599995,
          41.374809899999995,
          36.1265763848,
          43.715565999999995,
          33.411060600000006,
          33.676234043499996,
          43.666488,
          33.6384672631,
          43.6475281,
          36.1369777,
          41.3139309,
          45.3317907,
          43.784552000000005,
          43.596092299999995,
          35.262501,
          43.8213424,
          41.165060499999996,
          36.124423,
          45.562239,
          41.453669,
          34.9506144,
          36.0998842,
          43.7353417,
          40.448471999999995,
          41.4998531,
          35.0105345,
          36.1362575,
          51.128558078000005,
          33.3063858,
          40.389900899999994,
          36.2032027,
          43.640789,
          43.642272999999996,
          35.9741221,
          35.226181,
          36.1567959455,
          43.6837428,
          35.9951511,
          43.686862,
          41.453573,
          33.3058418,
          33.478183,
          36.1186973,
          43.784972100000005,
          33.6452130895,
          36.108422999999995,
          51.2931352,
          35.2283137726,
          41.394991600000004,
          45.538582662299994,
          35.234463,
          43.0749956,
          36.1169221843,
          40.462808,
          33.4325515877,
          35.446819,
          33.348729,
          36.2505580649,
          45.4876197,
          35.223187599999996,
          36.128561,
          35.2907763582,
          43.6634541,
          43.785149,
          51.083142206800005,
          41.687151,
          40.4573706,
          33.539202,
          45.500556599999996,
          43.488974600000006,
          43.7767555,
          50.9921485,
          41.495123,
          41.130511299999995,
          36.198710299999995,
          51.007791999999995,
          36.1248839,
          40.3502247038,
          45.4937999547,
          33.3552153,
          33.6464133,
          33.4959382,
          41.1554880172,
          43.5987595,
          33.610031299999996,
          36.1148045,
          33.3922795,
          45.5772398,
          45.5193033,
          45.5000326,
          35.3174783,
          33.464277,
          33.6377381,
          36.1276483735,
          33.393892,
          41.519618,
          40.128228,
          40.136306,
          40.117490999999994,
          41.315657,
          36.0765176,
          43.87130429999999,
          40.2750230347,
          45.43315,
          33.6255468878,
          43.600964399999995,
          35.088184000000005,
          41.415037700000006,
          36.152929,
          33.4990986,
          33.4925859,
          41.396544,
          43.6621594254,
          43.592718255200005,
          51.0474769,
          36.147384499999994,
          33.674238,
          45.501649799999996,
          45.897034999999995,
          50.9180115,
          43.67002960000001,
          33.6748775,
          45.6111972,
          33.3194145644,
          43.65001229999999,
          44.010299200000006,
          33.447796000000004,
          35.4644316592,
          43.128671000000004,
          33.407106,
          35.372168,
          40.4394024356,
          43.0521965,
          41.1312495,
          36.1139473,
          51.073898264499995,
          43.6865881,
          41.4637155,
          33.700875399999994,
          41.409718,
          40.447148,
          34.9997055,
          45.549134,
          40.4470921252,
          43.71488970000001,
          41.1297363,
          43.133746,
          45.527196999999994,
          36.1138449002,
          40.327321999999995,
          35.0616561,
          45.8897964632,
          45.5142451,
          51.045883200000006,
          45.575851899999996,
          43.822681599999996,
          51.0436825,
          43.6901839,
          36.2390804,
          43.6089153,
          36.166576,
          41.370087299999994,
          35.187215,
          43.6697130529,
          45.5167260517,
          43.6094460126,
          33.388522200000004,
          43.7186121,
          40.567197,
          35.3488949069,
          50.930702000000004,
          43.6428929,
          40.144954999999996,
          36.017627000000005,
          33.319410600000005,
          35.2417027,
          50.960260999999996,
          51.045887,
          45.5687809,
          36.1455794,
          45.894074100000005,
          33.476397399999996,
          36.169390299999996,
          43.6490668001,
          36.021932,
          36.1189331996,
          36.1295416,
          33.3039011,
          35.262031,
          50.941474299999996,
          33.331082099999996,
          40.1413941,
          40.404148,
          40.265839,
          35.216868700000006,
          45.50111,
          33.377958,
          36.2030945,
          43.7114497,
          40.3596095475,
          43.6535451,
          36.1180324,
          33.467220000000005,
          45.524226,
          33.6228883,
          36.1123377749,
          36.163671152,
          33.61646470000001,
          45.568622,
          40.3981061,
          43.689747499999996,
          43.065887200000006,
          43.8476126,
          36.172928799999994,
          33.2809543785,
          45.4691951,
          43.598748799999996,
          51.0371575,
          40.3505751,
          43.82171339999999,
          45.488752500000004,
          36.013921,
          43.68647512729999,
          33.270196,
          43.6130306975,
          36.169148,
          45.7779745286,
          34.977484000000004,
          33.320727695100004,
          51.0424931,
          33.4946565072,
          33.501821,
          33.640232,
          43.7074032489,
          36.1025498,
          43.6467649,
          43.645102164799994,
          44.074586100000005,
          35.088117,
          43.0752825,
          51.0459233,
          41.1353804,
          41.4609961208,
          35.3425169,
          43.8138455,
          35.1546655668,
          43.597781,
          36.1168108056,
          51.0550086,
          36.279651,
          43.7407705874,
          43.8842819,
          41.498819299999994,
          41.474908,
          41.187538,
          36.099044799999994,
          33.5035824,
          44.0531876,
          40.422441799999994,
          41.11789,
          36.2216662493,
          45.5158203,
          45.6271693895,
          35.138729,
          35.0512589,
          36.143924215300004,
          43.6385753892,
          35.253448600000006,
          36.2925630351,
          43.1824466,
          33.8301614,
          36.127516,
          43.8600737,
          36.197393100000006,
          33.4644845,
          33.528218412600005,
          41.2396771,
          40.487953499999996,
          35.2686658,
          36.1142391,
          43.0741441325,
          36.123559,
          36.114859,
          40.5702237445,
          35.14684929999999,
          43.85311289999999,
          33.436861275,
          43.8277098,
          33.322134000000005,
          45.403071000000004,
          35.4462561,
          35.056435,
          36.112895200000004,
          43.454062086899995,
          40.422690505,
          33.5080183,
          34.976034000000006,
          33.3045866,
          45.506085399999996,
          51.0497126,
          44.0014739,
          33.3237681,
          36.0194669,
          33.4772064084,
          41.395621999999996,
          35.226437348299996,
          51.0522813118,
          50.9072648,
          43.678037100000005,
          45.4454285632,
          40.142104700000004,
          43.6462636,
          43.10859310000001,
          36.061504546900004,
          51.156178811000004,
          45.5025893,
          41.1521348,
          33.384363199999996,
          45.5460849,
          36.121117392399995,
          36.167,
          33.4673323,
          45.552063700000005,
          36.113596,
          43.7256160514,
          35.18009910000001,
          36.1559383512,
          43.635832516099995,
          41.6404065,
          45.561386999999996,
          35.4741703632,
          36.1079241113,
          36.11541629999999,
          45.5010275,
          35.978345000000004,
          40.642662,
          35.3073652,
          35.226268,
          36.1128939,
          45.9485823,
          43.863673299999995,
          43.8437976,
          41.3699534,
          43.130028,
          43.725496,
          36.0438829,
          43.052330299999994,
          43.8930835472,
          36.163438,
          36.1319294,
          33.6522903,
          43.64485436020001,
          33.54268,
          33.55211,
          36.127396999999995,
          36.1248436068,
          36.1047801463,
          45.494583,
          41.461935,
          51.0447273742,
          36.0557884597,
          41.4806039,
          43.5991184,
          36.2231775639,
          43.875886,
          43.8223044,
          43.668808399999996,
          40.348595,
          36.1183787,
          43.6435205,
          43.0980569322,
          45.5216565,
          43.074020700000005,
          33.6386577,
          35.116499,
          43.777194,
          33.3094058514,
          35.446135,
          43.111265,
          43.649920950900004,
          33.464434999999995,
          40.429314588400004,
          44.0518391,
          35.227433000000005,
          43.689726631599996,
          33.552168,
          43.0600543,
          36.1016863464,
          36.018285999999996,
          43.7288866354,
          40.569355,
          36.114303,
          35.3654956,
          51.07108710000001,
          41.13466939999999,
          41.3676581,
          33.8314857483,
          43.8435304,
          51.079836392,
          33.5089836,
          43.6515394,
          40.4421231,
          40.434690100000005,
          36.134859000000006,
          35.441455,
          33.464998200000004,
          41.4649568211,
          43.115195899999996,
          36.1162803216,
          35.0509577257,
          33.326925,
          36.114025399999996,
          33.607984,
          33.4149112251,
          43.582603000000006,
          45.393185700000004,
          35.1559943107,
          33.675081923,
          36.170226299999996,
          40.4883350846,
          40.4412400187,
          41.4771228,
          33.553389,
          35.1620992,
          43.640171,
          51.053568251899996,
          33.4938068,
          40.4973775273,
          43.7343668,
          36.1273969,
          36.147408,
          43.786606,
          43.5665869487,
          41.3475989366,
          33.510143400000004,
          36.1186973,
          35.371214200000004,
          41.463149200000004,
          45.5052936,
          35.4437042131,
          41.315104299999994,
          45.507842,
          33.6998757747,
          40.428323999999996,
          43.6862701,
          36.207220663499996,
          43.650184499999995,
          33.530392600000006,
          41.502243,
          36.1433720854,
          36.10064860000001,
          36.1268216,
          36.116174,
          43.6238986203,
          50.9921485,
          45.5151150881,
          43.761639790100006,
          41.431709999999995,
          43.649927500000004,
          36.1709271,
          36.10433,
          45.502963,
          36.1137281505,
          43.7792849,
          36.1481329465,
          36.1016495,
          33.307846000000005,
          45.48587379999999,
          36.1716327,
          51.268333,
          36.2391,
          43.825815982600005,
          41.608624,
          35.1069966,
          33.395974,
          33.529908,
          43.8062562003,
          33.731615999999995,
          36.1438778,
          51.037625382799995,
          33.534123,
          33.6371533,
          33.5300089,
          41.3165307,
          45.5192835,
          43.6453987612,
          33.5096506,
          43.5916469,
          45.894573,
          40.3591070736,
          33.3211912,
          36.1979948329,
          35.1258766,
          40.1374723,
          33.4994892966,
          33.6103662415,
          50.9905360478,
          41.1895032168,
          45.444936,
          45.4996565,
          35.353006,
          43.183051,
          35.263714,
          43.608028999999995,
          35.1257063,
          35.224055179299995,
          41.4985864,
          33.2907071,
          33.4806016262,
          36.102642001,
          41.462988,
          50.9323490992,
          45.4830986019,
          33.279525,
          36.1730667437,
          51.039289146499996,
          40.136796000000004,
          45.5028086701,
          33.321281,
          40.357621,
          35.0858607085,
          33.510151,
          41.51933579999999,
          35.480913,
          40.439454,
          33.494408,
          36.0930666381,
          45.628568,
          40.428137705,
          36.113669,
          45.5720105676,
          43.777990100000004,
          43.66882460000001,
          33.4136484709,
          45.506137071000005,
          36.143583364,
          51.111953299999996,
          45.4506157,
          40.348620600000004,
          44.013867142399995,
          45.51688,
          36.158608,
          41.400869,
          41.1133044,
          36.0979526,
          33.379498,
          41.198189,
          36.2403263,
          33.6752379517,
          45.482406700000006,
          36.0858850095,
          33.638459999999995,
          45.8936214,
          35.0610109,
          36.125282,
          51.0845700846,
          45.628127,
          33.5825095,
          36.0558867,
          35.3972525155,
          36.2719424,
          33.3851483,
          45.4508299,
          41.3764322,
          33.3539999936,
          33.534083783,
          43.7871508901,
          36.1160368623,
          45.57107307729999,
          33.653089200000004,
          36.00202,
          51.0689789748,
          33.6626966153,
          51.128336,
          36.117541659400004,
          33.536646999999995,
          45.483859,
          33.5115803,
          36.123183000000004,
          36.1702509335,
          36.1217103886,
          36.1156902,
          40.4401718,
          35.1756932683,
          43.885251399999994,
          36.14264,
          36.032175206999995,
          43.8544718,
          35.1191635,
          36.119004043000004,
          43.636475,
          51.052108000000004,
          36.110555,
          43.07289058600001,
          36.092788511900004,
          43.8707424,
          41.6234996,
          36.0911934011,
          33.6109727,
          41.498234000000004,
          43.82862315770001,
          33.4716681,
          43.6423578537,
          33.507508157800004,
          41.484518,
          36.071281,
          36.2020349,
          35.18496,
          51.069174600000004,
          45.5013607,
          41.4994315,
          51.043442299999995,
          43.7045231,
          51.0820601,
          35.1355461,
          43.6762554,
          36.1071523736,
          51.081156899999996,
          40.442382826599996,
          45.524206799999995,
          41.182831,
          43.1489218,
          43.64622,
          51.0474721,
          33.4938552,
          36.151531799999994,
          45.4980539,
          41.462926,
          33.548933,
          43.726691100000004,
          51.0170664,
          43.653501,
          43.6431385252,
          41.462876,
          43.6464472846,
          43.642078999999995,
          33.526145,
          36.112477,
          45.5205641534,
          45.512230200000005,
          43.6703902,
          51.047933,
          33.6183545163,
          33.8296784,
          51.0625440533,
          35.2935852,
          43.811173,
          33.3783947,
          41.7268783,
          40.503824,
          35.2248873,
          43.65386289999999,
          41.5081226,
          41.394690000000004,
          35.99463,
          35.480913,
          33.3052029,
          33.833117,
          45.4973632,
          36.23982,
          43.812218,
          45.5699577,
          33.630420039499995,
          33.5643780085,
          40.4391575,
          50.9325525,
          36.102645,
          33.278223,
          36.1161559,
          36.1137792,
          35.311003,
          36.1025627391,
          36.132771000000005,
          33.3360094,
          33.667827220999996,
          40.069624,
          33.4952826,
          35.1067908213,
          40.451836,
          36.1987787,
          43.7826208,
          40.1064232,
          45.452656,
          51.0452146,
          33.436882000000004,
          43.8494284,
          40.331215596199996,
          41.1627972867,
          43.8835706671,
          43.0594110063,
          40.5134185854,
          43.649307944099995,
          36.1100828,
          41.238960600000006,
          51.101366999999996,
          33.492918800000005,
          50.993184,
          43.8275033,
          41.5391989,
          36.250338,
          36.169849,
          51.0379383,
          43.0719925103,
          41.399473,
          43.075128899999996,
          43.122722700000004,
          43.8818856837,
          43.707496220100005,
          43.128224100000004,
          43.6126976505,
          36.169089,
          43.7450295438,
          41.3935252598,
          43.768657213199994,
          43.513564143900005,
          43.6655814,
          45.4080276195,
          43.655448299999996,
          41.6823019,
          45.4823714,
          40.446175,
          43.5997436,
          33.833795,
          43.8663797,
          35.3352529,
          41.153345,
          40.4283701,
          41.308400799999994,
          33.6388576,
          35.068661391999996,
          36.0977743,
          33.630439,
          36.158642,
          43.798166135200006,
          36.1245709977,
          33.2979107,
          43.637473,
          40.45254310000001,
          45.3840169,
          43.8233523508,
          36.0124982093,
          43.6496155,
          35.22622929999999,
          35.1529699851,
          36.1407035,
          35.428211600000004,
          40.0961489,
          33.5092305009,
          33.640032700000006,
          51.0929125871,
          36.1718195,
          33.6348021,
          40.4381076,
          40.428323999999996,
          41.101796500000006,
          43.71374829999999,
          45.4757652,
          51.0479050964,
          36.1166965674,
          43.1142554,
          45.4336190212,
          35.4184425,
          50.9582016,
          41.4496327,
          36.16884864,
          45.50523,
          33.4655102024,
          43.689124,
          33.3213292,
          44.070728,
          43.7306521,
          35.439915,
          43.457581,
          43.58904520000001,
          33.5009342365,
          36.111993083099996,
          41.4313496171,
          41.118736,
          33.3857365,
          33.4227863,
          43.7588997,
          33.6392628656,
          51.0433487,
          41.5036701,
          36.215959121,
          41.49660720000001,
          36.1072817167,
          43.6347459,
          40.333963675,
          33.399032592800005,
          40.525277,
          41.400242,
          35.0058315,
          36.1290784,
          36.1213605528,
          35.98718970000001,
          41.6740925,
          33.456514238000004,
          43.52597038,
          45.597048,
          51.0834342
         ],
         "legendgroup": "",
         "lon": [
          -80.831878,
          -79.53763190000001,
          -115.15125259999998,
          -115.17505759999999,
          -73.641411,
          -112.27787686719999,
          -81.83640600000001,
          -73.9104820398,
          -80.8311183,
          -79.4265604,
          -112.23756609999998,
          -115.08286299999999,
          -115.173179,
          -79.8012596369,
          -80.86754431119999,
          -81.786777,
          -80.78013809999999,
          -114.045262756,
          -81.958732,
          -73.574025,
          -115.24578703579999,
          -73.8300067602,
          -79.62935350000001,
          -112.2607618891,
          -115.1542185,
          -73.57186829999999,
          -81.3782529441,
          -111.97039735850001,
          -111.8795047,
          -115.14971000000001,
          -115.172945,
          -79.3839517,
          -73.706218,
          -81.70214759999999,
          -115.1723424,
          -80.578648,
          -80.8789629,
          -73.8130869,
          -79.5598625,
          -115.15426950000001,
          -81.83480870000001,
          -73.7444668,
          -80.8788478,
          -111.95425,
          -81.6929593866,
          -80.1050829,
          -115.21425900000001,
          -112.0737398,
          -73.62945069999999,
          -114.1679570385,
          -74.1536574,
          -89.451447,
          -111.8669054657,
          -114.91200400000001,
          -81.2812566164,
          -73.5790995,
          -115.1695347474,
          -114.0025499,
          -73.6755614,
          -79.31587359999999,
          -112.11608526059999,
          -113.99895546309999,
          -79.6993885379,
          -111.91018999999999,
          -112.230921,
          -112.0728310466,
          -80.0564538,
          -73.5703988,
          -114.12899941209999,
          -80.71107959999999,
          -115.175625,
          -88.2435515,
          -81.835899,
          -81.4771411779,
          -111.96805842639999,
          -79.3958599,
          -80.7398903,
          -73.5644282,
          -73.3948825,
          -115.1941,
          -81.7847172,
          -115.1190625,
          -79.2517496,
          -79.38295497909999,
          -79.4128442067,
          -114.0707807006,
          -81.661344,
          -89.5234428,
          -81.298804,
          -82.2264716,
          -81.427725,
          -79.5133058,
          -114.0661432,
          -81.8401667,
          -114.841642,
          -111.68837350000001,
          -79.3990968747,
          -73.56894,
          -79.5207216312,
          -114.062799,
          -81.441799,
          -74.1472566,
          -115.173705,
          -111.9239862,
          -79.9959316,
          -111.8904749,
          -79.6986344,
          -111.88623770000001,
          -111.8422554,
          -111.6791041,
          -114.06837900000001,
          -115.08484758770001,
          -79.43248,
          -114.85125320000002,
          -115.0468547,
          -115.17414099999999,
          -111.859058,
          -81.6056878286,
          -112.1161256,
          -80.876098,
          -115.0899679,
          -114.0711225197,
          -81.3395862798,
          -80.9936223,
          -79.54905051739999,
          -79.5307054,
          -82.0645052,
          -114.0672777484,
          -115.28644950000002,
          -79.54860373449999,
          -115.1737473847,
          -73.5689757,
          -73.571486,
          -114.17813429999998,
          -79.66152530000001,
          -115.2031568,
          -115.29175500000001,
          -89.45473299999999,
          -82.0489288,
          -115.13956019999999,
          -81.6936338,
          -114.99275905430001,
          -115.1721597683,
          -81.4933324,
          -79.0831733,
          -111.9261671417,
          -73.7980204,
          -115.12184769999999,
          -115.2418681725,
          -81.534645,
          -79.3019936,
          -80.1065956659,
          -111.9657790484,
          -114.01019099999999,
          -115.176614273,
          -73.750833,
          -89.4624497,
          -73.55302879999999,
          -79.3465475,
          -81.495942,
          -79.3978145943,
          -114.1057886,
          -79.3581215,
          -115.20842602799999,
          -89.302295,
          -79.403663,
          -111.8851047514,
          -82.20456,
          -111.73272,
          -80.87699599999999,
          -89.2659537,
          -79.5062481,
          -81.68881464100001,
          -113.95646200000002,
          -79.3757322,
          -112.36833200000001,
          -111.9319242239,
          -115.2062178,
          -80.8815736,
          -79.53568235649999,
          -81.48362990000001,
          -80.9936798,
          -79.35801740000001,
          -80.767442,
          -115.1715393066,
          -73.5747077,
          -111.8537854,
          -80.00541109999999,
          -80.8493255,
          -80.16183143399999,
          -73.834951,
          -115.20149141549999,
          -115.17112979999999,
          -80.004537,
          -115.24166640000001,
          -112.2382757,
          -115.2857479,
          -111.682547,
          -112.06854956299999,
          -114.00255870000001,
          -112.11812552059999,
          -80.034616,
          -111.9249184251,
          -79.5398973991,
          -73.62320770000001,
          -81.7043933334,
          -79.6966007,
          -81.63835759999999,
          -112.04735443,
          -112.070093,
          -111.9245314,
          -79.938648,
          -115.04064199999999,
          -80.022094,
          -78.9413965,
          -78.9126650603,
          -73.65897259999998,
          -81.4659925,
          -111.7728895,
          -111.86944146409999,
          -80.858501,
          -89.3796241524,
          -79.7353431,
          -111.696707,
          -114.0782224343,
          -80.8599308917,
          -111.9398479,
          -73.5781873,
          -78.9000769705,
          -111.90333667659999,
          -79.26820009999999,
          -81.1341213,
          -80.842555,
          -115.04101283850001,
          -115.1446098089,
          -81.2846589,
          -80.711873,
          -81.807751,
          -81.70045390000001,
          -88.231612,
          -112.04698,
          -112.35453000000001,
          -115.197906,
          -79.78690040000001,
          -111.9322760556,
          -79.795402,
          -80.81574599999999,
          -111.925694,
          -79.6375569,
          -73.501875,
          -111.75441370000001,
          -82.10636600000001,
          -112.3917724028,
          -115.1747367341,
          -74.161277,
          -80.0183184,
          -79.3935286,
          -79.68932501970001,
          -115.14406100000001,
          -115.174380141,
          -114.0843131,
          -111.85651100000001,
          -80.8912165,
          -112.3577872,
          -81.729462,
          -79.08970390000002,
          -80.8558106,
          -114.06952,
          -81.65361205159999,
          -112.2352814,
          -112.11829080000001,
          -73.629563,
          -111.9749346142,
          -80.7024335861,
          -112.112801671,
          -73.5257755,
          -79.37929,
          -111.6863001,
          -79.3884122468,
          -79.4229429,
          -73.5757801,
          -114.1545041693,
          -79.9971547,
          -73.46532798289999,
          -79.4282240453,
          -79.4516359374,
          -81.6366997,
          -114.07429454540001,
          -89.22614799959999,
          -79.0552859,
          -79.4118910655,
          -73.6459719,
          -115.06259340000001,
          -73.7117132051,
          -115.19408999999999,
          -89.369608,
          -79.3746483,
          -115.146372,
          -74.0547415,
          -112.04390900000001,
          -114.17078293649999,
          -115.099351,
          -115.14426340000001,
          -111.9345868,
          -80.17501379999999,
          -74.0031069,
          -115.26926540000001,
          -73.565436,
          -79.38216240000001,
          -79.3829192,
          -80.84301884930001,
          -111.695745,
          -79.71653774020001,
          -79.520546,
          -115.2913521,
          -115.1597903,
          -114.06413130000001,
          -79.65651899999999,
          -80.711299,
          -79.3167491,
          -73.465852,
          -79.3861668,
          -111.93056200000001,
          -79.3935286,
          -81.8521149967,
          -79.3740709238,
          -80.7929172,
          -81.640996,
          -80.12834000000001,
          -115.177945,
          -79.741328362,
          -115.2919117492,
          -111.9316076825,
          -79.3759918213,
          -79.4019624,
          -115.17664599999999,
          -80.8394354582,
          -80.0575352,
          -81.90065799999999,
          -114.1421840695,
          -80.5536603,
          -111.979545,
          -81.65464899999999,
          -114.06728740000001,
          -111.9259469,
          -111.92264109850001,
          -114.00274920000001,
          -79.5854596,
          -114.06651740000001,
          -79.2888483,
          -111.9082,
          -81.689881,
          -79.0117618069,
          -81.438285,
          -79.6444008328,
          -115.16355300000001,
          -80.161891,
          -115.1834365118,
          -115.173878,
          -80.12658,
          -80.09091059999999,
          -111.9235156,
          -114.0709375159,
          -81.8629302084,
          -111.88542199999999,
          -80.8808078,
          -111.8606173,
          -81.87899279999999,
          -115.136389,
          -115.155983,
          -79.69097020000001,
          -81.8723983,
          -111.9060049182,
          -115.20257830950001,
          -81.69851700000001,
          -80.891425,
          -115.14569083290002,
          -81.7383189,
          -115.154526,
          -81.24140809999999,
          -115.15448020000001,
          -115.1753811344,
          -112.12260090000001,
          -79.86860659999999,
          -79.43408120000001,
          -115.1465995795,
          -115.17361841430001,
          -115.17168400000001,
          -82.03302240000001,
          -115.08998400000002,
          -115.1689884856,
          -111.9280350208,
          -81.3759839141,
          -78.9601093,
          -115.1468294,
          -79.38018670000001,
          -115.2986392,
          -115.17219717969999,
          -112.1178845,
          -81.83628890000001,
          -73.7948434,
          -81.6408735,
          -114.0727229,
          -115.24326229190001,
          -79.9044468,
          -79.338234,
          -115.170129,
          -115.1745719,
          -80.836843,
          -79.3866412,
          -79.7372379899,
          -79.4127798,
          -115.16955300000001,
          -112.01554640000002,
          -81.49679590000001,
          -79.788843,
          -79.63457,
          -89.396349,
          -81.8724508,
          -73.6539808289,
          -115.00912779999999,
          -79.98595,
          -79.5219870799,
          -111.92760990000002,
          -81.09512600000001,
          -79.369457,
          -80.0259171054,
          -112.34155990000002,
          -81.830332,
          -73.73411999999999,
          -114.07114409999998,
          -73.44262370000001,
          -111.71933899999999,
          -89.38434000000001,
          -81.1836637,
          -73.663376,
          -79.9947082,
          -88.174452,
          -78.912657,
          -115.142905,
          -79.9157974,
          -81.2984618,
          -115.0756976,
          -111.7902051,
          -81.4784828,
          -79.88890400000001,
          -81.73530179999999,
          -114.84878400000001,
          -79.2672266,
          -79.811206,
          -89.6559139572,
          -81.3936093,
          -115.17529850000001,
          -73.5599343,
          -111.9264107,
          -73.7531246953,
          -111.9827632,
          -115.15694132540001,
          -88.24582993979999,
          -80.9926740825,
          -73.564676,
          -79.36754040000001,
          -79.3993877428,
          -115.1722365,
          -80.0229697,
          -115.13605600000001,
          -115.04091891719999,
          -111.74241620000001,
          -114.0003785,
          -79.86860659999999,
          -112.00005230000001,
          -111.9735761889,
          -73.7953591347,
          -114.1171595,
          -79.73195799999999,
          -73.60378390000001,
          -114.0554586,
          -73.47413979999999,
          -115.154519,
          -73.6080089,
          -111.9860756349,
          -115.0927902,
          -111.9713456,
          -114.015515882,
          -115.145127,
          -115.040977058,
          -79.6512865,
          -79.29813850000001,
          -73.512638,
          -80.714618,
          -73.9518165,
          -80.9702321,
          -81.40768800000001,
          -89.3896261,
          -79.6801342683,
          -73.812365,
          -80.0211379383,
          -79.6664146,
          -115.3075865,
          -115.1449611,
          -80.1756812708,
          -113.9989856,
          -81.47364509999998,
          -115.06228870000001,
          -114.058351,
          -73.614767,
          -112.34031100000001,
          -115.144799,
          -81.704615,
          -80.9331723,
          -115.1753479,
          -81.12876700000001,
          -79.374950318,
          -115.1708014,
          -80.0185368,
          -112.35568799999999,
          -80.85192990000002,
          -80.0011037908,
          -115.13693810000001,
          -81.33744899999999,
          -115.0616584,
          -115.1152174,
          -79.40520500000001,
          -115.2917528,
          -80.794655,
          -81.5245421767,
          -81.692228,
          -113.98144540000001,
          -81.79619770000001,
          -79.5560776,
          -73.720667,
          -73.403759,
          -81.2416989,
          -113.98179979999999,
          -80.8041,
          -114.06520060000001,
          -79.4286329,
          -79.3958546904,
          -82.0347739,
          -115.0850568,
          -73.5680881,
          -115.1195912,
          -111.923719424,
          -115.2986212,
          -114.0949331,
          -111.98339011520001,
          -79.349912297,
          -115.04022098549999,
          -80.9963911,
          -114.0721717,
          -115.168939,
          -79.400645,
          -115.08469699999999,
          -115.32898159999999,
          -111.7430967,
          -115.15648300000001,
          -73.4202516,
          -79.3864714,
          -73.5617352761,
          -81.7891682,
          -80.862882,
          -81.4873233,
          -81.5161822,
          -79.3500531,
          -81.8957897,
          -111.9270801544,
          -81.51067440000001,
          -111.876153,
          -114.07211780549999,
          -111.92879860000001,
          -115.161507,
          -79.6457634,
          -79.3749418005,
          -79.37635440000001,
          -111.940425,
          -81.7691058666,
          -80.5692334,
          -111.92399698870001,
          -79.956298,
          -79.31184990000001,
          -73.8623392,
          -115.15387140000001,
          -79.604671,
          -114.0028105,
          -73.75400800930001,
          -115.17444920000001,
          -80.87941500000001,
          -79.24032779999999,
          -112.0272009918,
          -79.983040405,
          -73.58109809999999,
          -82.0155941,
          -114.06333590000001,
          -81.6431227108,
          -73.7578806,
          -79.6432806,
          -79.69624859999999,
          -82.0858277287,
          -115.1190625,
          -115.1752019,
          -79.5667095,
          -79.3878309801,
          -79.4464837,
          -115.15387140000001,
          -79.40477,
          -79.3168393,
          -73.5519524,
          -80.0262372225,
          -111.6706386968,
          -115.14303535219999,
          -81.4437063,
          -73.7211023,
          -73.5548667,
          -80.0552053647,
          -114.0808524,
          -73.55221390000001,
          -111.85961699999999,
          -80.8358725,
          -111.8292378,
          -112.07361200000001,
          -73.7287581,
          -113.9977912,
          -80.069188,
          -73.570552,
          -114.9222815037,
          -81.9518280029,
          -73.56738299999999,
          -113.99004599999999,
          -115.17399971479999,
          -113.81640790000002,
          -112.1113291524,
          -79.11387109999998,
          -111.9105257,
          -80.8452783837,
          -73.5543227,
          -81.6958446545,
          -81.16747159999998,
          -115.2801029384,
          -89.3652468,
          -115.2227296509,
          -81.823707,
          -81.62562199999999,
          -115.1737761,
          -73.5751515,
          -79.6273534,
          -79.6121669,
          -81.86085279999999,
          -79.38124144300001,
          -114.0079726,
          -88.2810949,
          -111.965985,
          -115.0085191363,
          -114.0707984939,
          -111.9263505936,
          -115.10233999999998,
          -80.8396357,
          -79.95288670000001,
          -73.8587602925,
          -115.1668136525,
          -111.888462,
          -115.0859834,
          -111.9887419,
          -80.83907629999999,
          -81.5141728,
          -79.39415600000001,
          -73.57548270000001,
          -115.15645444389999,
          -81.861845,
          -89.495496,
          -81.0828387,
          -79.4488033512,
          -73.678141,
          -81.5897355,
          -111.9221449,
          -80.85118100000001,
          -73.5623366,
          -80.9891863,
          -73.5947639,
          -114.03932420000001,
          -81.389581,
          -81.9520721,
          -79.6381662,
          -81.523539,
          -111.9285190939,
          -81.4394437,
          -115.2085074,
          -115.1920738526,
          -80.166563936,
          -73.5863535,
          -79.82681934600001,
          -80.604326,
          -111.85555981030001,
          -81.3324994,
          -115.17243400000001,
          -115.17124799999999,
          -81.6465704509,
          -73.56685329999999,
          -89.5267453,
          -79.2753072,
          -111.85925379999999,
          -115.22253,
          -114.06376200000001,
          -115.17278030000001,
          -111.74785459999998,
          -112.1179183,
          -80.72256800000001,
          -73.5723402,
          -115.24279140000002,
          -79.4109727,
          -114.0690082,
          -80.5618929,
          -115.04285192209998,
          -80.82553850000001,
          -79.4351593,
          -79.83684000000001,
          -81.4529642,
          -79.9984258041,
          -80.9845723,
          -81.492778,
          -73.5774177,
          -111.8776122,
          -114.93175740000001,
          -79.5843113,
          -111.89267690000001,
          -73.43961284699999,
          -111.92407,
          -115.1008555,
          -115.1727668,
          -79.3866276741,
          -111.90897,
          -115.12047040000002,
          -79.7594217,
          -81.685682,
          -115.1750483518,
          -79.6004615,
          -115.29857690000001,
          -80.86835,
          -115.215753,
          -115.29128200000001,
          -79.6969952,
          -81.909751,
          -81.8685955,
          -73.5533809662,
          -81.6505957894,
          -80.84383170000001,
          -114.08314140000002,
          -80.068668,
          -79.3859219,
          -79.4279396,
          -81.312288,
          -81.1785179,
          -111.96470829999998,
          -80.9464529157,
          -89.3837572172,
          -112.4782722,
          -81.4633444,
          -73.5732314,
          -111.74313300000001,
          -73.5535884709,
          -73.5963672,
          -111.92399165129999,
          -73.6080747,
          -115.25173899999999,
          -111.9841279791,
          -81.0167687,
          -81.6626427,
          -81.2564865,
          -115.161171,
          -89.50497415790001,
          -115.15319556,
          -79.25315429999999,
          -115.24027590000001,
          -79.74271800000001,
          -80.9902446,
          -115.16461100000001,
          -112.22000600000001,
          -79.3581314,
          -115.037421,
          -81.437927,
          -115.05637240000001,
          -81.33603000000001,
          -79.6303405613,
          -73.7214316,
          -112.3871902,
          -111.9793102,
          -115.04656200000001,
          -89.5229994,
          -79.4824287,
          -112.11625749999999,
          -79.3779253,
          -79.37654559999999,
          -80.0000391542,
          -81.6554434,
          -115.1684896,
          -115.1615118,
          -115.0468544,
          -81.315428,
          -81.15077729999999,
          -79.3770532,
          -111.6850938317,
          -111.8859316851,
          -81.8207402,
          -114.05731928719999,
          -81.902066,
          -115.1669352029,
          -79.723799,
          -111.97036010000001,
          -111.9711772712,
          -79.31704620000001,
          -112.17962145790001,
          -79.3765439,
          -115.1633366,
          -81.819294,
          -73.27913079999999,
          -79.565759,
          -79.75672309999999,
          -81.18356,
          -79.24630429999999,
          -81.8627817,
          -115.146372,
          -73.745387,
          -81.48619599999999,
          -81.01977600000001,
          -115.1722956,
          -79.25612590000001,
          -80.163196,
          -81.6984516,
          -80.5634186,
          -115.15125259999998,
          -114.2028415133,
          -111.89053429999998,
          -80.04066170000002,
          -115.1986936,
          -79.79553680000001,
          -79.787881,
          -114.91184399999999,
          -80.8451741,
          -115.33438682559999,
          -79.59291340000001,
          -115.20684009999998,
          -79.59729300000001,
          -82.033843,
          -111.96935490000001,
          -112.220155,
          -115.15426950000001,
          -79.41682349999999,
          -111.916881741,
          -115.154643,
          -114.00167009999998,
          -80.8419989013,
          -82.10778149999999,
          -73.7340036896,
          -80.93390500000001,
          -89.4416756,
          -115.17501095639999,
          -79.9506473,
          -111.9071245193,
          -80.5991685,
          -111.965406,
          -115.2440329054,
          -73.5865671,
          -80.8466272,
          -115.17112979999999,
          -80.7624988936,
          -79.3826256,
          -79.543813,
          -114.20700542799999,
          -81.28996500000001,
          -80.1791796,
          -111.92663200000001,
          -73.50997459999999,
          -79.7182607,
          -79.25900809999999,
          -114.070811,
          -82.0222371,
          -81.6543561,
          -115.1237903,
          -114.067885,
          -115.3250841,
          -79.9411557,
          -73.7043952833,
          -112.4298449,
          -112.23657320000001,
          -111.9221449,
          -81.3269842509,
          -79.7470602,
          -112.23562439999999,
          -115.2309225,
          -111.7525453,
          -73.71040390000002,
          -73.555246,
          -73.55379520000001,
          -80.77837609999999,
          -112.269802,
          -112.18985159999998,
          -115.1683280326,
          -111.863257,
          -81.475164,
          -88.199861,
          -88.2619969,
          -88.243875,
          -81.81521500000001,
          -115.1533426,
          -78.9074536,
          -80.1665849354,
          -73.64576,
          -111.9236499469,
          -79.7411705,
          -80.851089,
          -81.8995466,
          -115.333119,
          -111.9259123,
          -111.9257988,
          -81.465911,
          -79.383430481,
          -79.6494087204,
          -114.06486399999999,
          -115.1566778,
          -111.889288,
          -73.5710942,
          -74.153173,
          -114.06724679999999,
          -79.30173,
          -111.88857800000001,
          -73.7925582,
          -111.9659755345,
          -79.434764,
          -79.446699,
          -112.07021100000001,
          -80.8934640688,
          -89.3063473,
          -111.92571699999999,
          -80.722624,
          -80.1478385925,
          -89.3797132,
          -81.65343859999999,
          -115.30459109999998,
          -113.98924545979999,
          -79.5871641,
          -81.790812,
          -111.8896983,
          -81.619864,
          -80.006405,
          -80.69941159999999,
          -73.744231,
          -80.00404638100001,
          -79.5863938,
          -81.4839233,
          -89.298753,
          -73.76223399999999,
          -115.1753912051,
          -80.042015,
          -80.813185,
          -74.1651766749,
          -73.573006,
          -114.0740138,
          -73.4475535,
          -79.3009536,
          -114.0650951,
          -79.754039,
          -115.17756809999999,
          -79.6920991,
          -115.28623200000001,
          -81.8255857,
          -80.687325,
          -79.3949747086,
          -73.55775833130001,
          -79.68975954359999,
          -111.85774350000001,
          -79.4559215,
          -79.802797,
          -80.85602995010001,
          -113.972669,
          -79.40845959999999,
          -88.257228,
          -115.11828390000001,
          -111.96906329999999,
          -81.0378824,
          -114.0696193,
          -114.06913,
          -73.4482459,
          -115.3006961,
          -74.1580938,
          -111.98646699999999,
          -115.1430844,
          -79.3753722991,
          -115.279583,
          -115.17375194440001,
          -115.13258970000001,
          -111.9784087,
          -81.157035,
          -114.0687253,
          -111.7912298,
          -88.25847579999999,
          -79.918819,
          -80.1280336,
          -80.8385574,
          -73.5722427,
          -112.1713,
          -115.22448529999998,
          -79.3995315,
          -80.00244140619999,
          -79.6442017,
          -115.1554271,
          -112.34031100000001,
          -73.583963,
          -111.9293764,
          -115.17169613709999,
          -115.28929492540001,
          -111.92639890000001,
          -73.445274,
          -79.7690515,
          -79.58585479999999,
          -89.5239951,
          -79.37528590000001,
          -115.14561929999999,
          -111.97479688700001,
          -73.54145279999999,
          -79.78341640000001,
          -113.9812337,
          -79.9231862,
          -79.5389216,
          -73.5678103,
          -114.99288,
          -79.7605296224,
          -111.98698,
          -79.5594561473,
          -115.13865,
          -74.0173865835,
          -80.989951,
          -111.7893141881,
          -114.07431969999999,
          -111.98815485840001,
          -111.91993799999999,
          -111.979545,
          -79.2499235272,
          -115.2016926,
          -79.3779693,
          -79.3841520552,
          -79.4845817,
          -80.861651,
          -89.3861265,
          -114.1420122,
          -81.6430213,
          -81.9525268849,
          -80.7706849,
          -79.0810856,
          -80.8375291311,
          -79.59813100000001,
          -115.1939211572,
          -113.98264240000002,
          -115.206043,
          -79.40574646,
          -78.9227215,
          -81.70082190000001,
          -81.8956237,
          -81.635807,
          -115.1704519,
          -111.9294274,
          -79.4806272,
          -79.65999040000001,
          -81.4734065,
          -115.3290244192,
          -73.5646577,
          -73.8481265775,
          -80.9364581,
          -80.7675985,
          -115.1917272624,
          -79.6922707558,
          -81.0266824,
          -115.18076371069999,
          -89.22751690000001,
          -111.93296629999999,
          -115.16591299999999,
          -78.9340836,
          -115.24133300000001,
          -112.356724,
          -111.926276476,
          -81.3441212,
          -79.8869153,
          -81.1462827,
          -115.1727367,
          -89.3955963625,
          -115.16841000000001,
          -115.13663899999999,
          -79.7974224031,
          -80.8277877,
          -79.3827196,
          -111.9993724258,
          -79.4263009,
          -111.68879199999999,
          -74.0500363,
          -80.5980255,
          -80.84809440000001,
          -115.06235339999999,
          -79.6864909306,
          -79.6636728922,
          -112.0270172,
          -80.9841647639,
          -111.90065109999999,
          -73.5536098,
          -114.0723136,
          -79.4606047,
          -111.68755149999998,
          -115.117383,
          -112.0735331216,
          -82.107428,
          -80.844559595,
          -114.08742402760001,
          -114.10603529999999,
          -79.4094439,
          -73.4366311607,
          -88.25847579999999,
          -79.3906272,
          -89.5111557,
          -115.0402058288,
          -114.1591705268,
          -73.5611507,
          -81.3561211,
          -111.8051102,
          -73.6966754,
          -115.174633683,
          -115.28133999999999,
          -112.22111629999999,
          -73.7470913,
          -115.17492299999999,
          -79.7154045139,
          -80.891087,
          -115.3329598904,
          -79.6915373483,
          -81.40638440000001,
          -73.74171,
          -80.9932619421,
          -115.17405509950001,
          -115.3140301,
          -73.57520629999999,
          -114.836529,
          -80.067024,
          -80.74975429999999,
          -80.843786,
          -115.26139340000002,
          -74.12970920000001,
          -79.0169152,
          -79.628608,
          -81.8256366,
          -89.303978,
          -79.551521,
          -115.0467533,
          -89.474161,
          -78.9480221272,
          -115.20717900000001,
          -115.16265320000001,
          -112.3689358,
          -79.52303799229999,
          -111.92514299999999,
          -112.268533,
          -115.15404699999999,
          -115.16865505770001,
          -115.1749268102,
          -73.655658,
          -81.850732,
          -114.0633697282,
          -115.17159020860001,
          -81.74444840000001,
          -79.73619709999998,
          -115.08256480690001,
          -78.95979190000001,
          -79.54214820000001,
          -79.3905524,
          -79.948077,
          -115.17262020000001,
          -79.3790818,
          -89.5192287862,
          -73.57784029999999,
          -89.3813538,
          -112.1709332,
          -80.71957929999999,
          -79.261772,
          -112.15701463090001,
          -80.87982099999999,
          -89.363442,
          -79.3783497454,
          -112.030898,
          -79.80992384439999,
          -79.4803635,
          -80.843648,
          -79.59079871739999,
          -112.260046,
          -89.49067240000001,
          -115.2255495006,
          -115.1179043,
          -79.2882227898,
          -79.79831800000001,
          -115.199059,
          -80.7120321,
          -113.98065659999999,
          -81.6536064,
          -82.1087015,
          -111.9456558228,
          -79.3767323,
          -114.00261631469999,
          -112.03397749999999,
          -79.37376,
          -80.15703740000001,
          -80.006389,
          -115.151882,
          -80.866159,
          -112.3552449,
          -81.9519542608,
          -89.32817320000001,
          -115.1861043359,
          -80.7663660834,
          -111.858251,
          -115.10140770000001,
          -111.71994299999999,
          -111.6809874773,
          -79.71763929999999,
          -73.5861187,
          -80.8239325442,
          -111.96317195889999,
          -115.14457,
          -79.88283755890001,
          -79.9997471273,
          -81.77295759999998,
          -112.0997744,
          -80.8862462,
          -79.624602,
          -113.9568582023,
          -112.3550971,
          -80.2437835566,
          -79.4044224,
          -115.2240685,
          -115.155726,
          -79.47148709999999,
          -79.8233437607,
          -82.06750778520001,
          -112.0243027,
          -115.15426950000001,
          -80.7169504,
          -82.0164237,
          -73.5641517,
          -80.8647873637,
          -81.8357309,
          -73.56556429999999,
          -111.8886880933,
          -79.97809699999999,
          -79.5974335,
          -115.267927,
          -79.37225620000001,
          -112.0470739,
          -81.5014604,
          -115.15702746459999,
          -115.099351,
          -115.196836,
          -115.187304,
          -79.5162963867,
          -114.070811,
          -73.5713909601,
          -79.2256938731,
          -81.39355,
          -79.43902829999999,
          -115.14315159999998,
          -115.1755933333,
          -73.568619,
          -115.1523211598,
          -79.25714040000001,
          -115.1557731628,
          -114.93073590000002,
          -111.74184,
          -73.8015392,
          -115.14426340000001,
          -114.00272700000001,
          -115.165306,
          -79.3043476139,
          -81.528842,
          -81.0405927,
          -111.8406513,
          -111.92643799999999,
          -79.5508621022,
          -111.846116,
          -115.2926022,
          -114.09286864020001,
          -112.26126799999999,
          -112.20005420000001,
          -112.05669590000001,
          -81.6514588,
          -73.55541509999999,
          -79.3980279011,
          -112.0733496,
          -79.57578029999999,
          -74.1576627,
          -80.00208978180001,
          -111.9698085,
          -115.1921561671,
          -80.706238,
          -88.2586063,
          -112.083034525,
          -112.2354912758,
          -114.070915286,
          -81.3471599099,
          -73.43794399999999,
          -73.5730592,
          -80.688579,
          -89.214044,
          -81.091149,
          -79.65418000000001,
          -80.70849059999999,
          -80.8455877508,
          -81.6895733,
          -111.9456801,
          -111.9280468783,
          -115.1686254367,
          -81.4739017,
          -113.96454862350001,
          -73.575179914,
          -111.790245,
          -115.1448063583,
          -114.08145593280001,
          -88.245076,
          -73.56890337029999,
          -111.97080600000001,
          -80.0503804,
          -80.8904967384,
          -112.0137937,
          -81.48631540000001,
          -80.882426,
          -80.003658,
          -112.126279,
          -115.1755435722,
          -73.847296,
          -79.96648064899999,
          -115.16893300000001,
          -73.7426093558,
          -79.34409140000001,
          -79.3910772,
          -111.87582964180001,
          -73.56735795739999,
          -115.2809156285,
          -113.9802926,
          -73.7922275,
          -79.94892790000002,
          -79.416217804,
          -73.590151,
          -115.20368799999999,
          -81.95321899999999,
          -81.57861120000001,
          -115.29721529999999,
          -111.787772,
          -81.841278,
          -115.1248429,
          -111.975650172,
          -73.5678403,
          -115.137501955,
          -112.36405819999999,
          -74.1566863,
          -80.98943840000001,
          -115.243528,
          -114.154080461,
          -73.848042,
          -112.1857439,
          -115.05630659999998,
          -80.6091291683,
          -115.2631531,
          -111.8049239,
          -74.22931340000001,
          -81.7354122,
          -112.0994552735,
          -111.96493362540001,
          -79.5434074446,
          -115.1924228668,
          -73.7512054964,
          -112.2357645,
          -115.10889099999999,
          -114.1309721734,
          -112.18817108280001,
          -114.20289029999999,
          -115.16866151239999,
          -112.1820031,
          -73.6946229,
          -111.98667900000001,
          -115.16918999999999,
          -115.14471575620001,
          -115.1741890718,
          -115.1713943,
          -80.0012482,
          -80.6543249237,
          -79.37202359999999,
          -115.17568999999999,
          -115.01006120870001,
          -79.2557449,
          -81.08749509999998,
          -115.17576111700001,
          -79.690546,
          -114.07873899999998,
          -115.17190500000001,
          -89.38052084540001,
          -115.1761562834,
          -79.304082,
          -81.4441874,
          -115.1765743919,
          -112.15376909999999,
          -81.707026,
          -79.5404904064,
          -111.9265148,
          -79.3773051191,
          -111.9495310291,
          -81.746095,
          -115.07878400000001,
          -115.24176659999999,
          -80.65482,
          -114.12958379999999,
          -73.5550035,
          -81.6993047,
          -114.0705761,
          -79.78611219999999,
          -114.0001743,
          -80.7128656,
          -79.3581314,
          -115.1771307395,
          -114.00401049999999,
          -80.00087231399999,
          -73.6002283,
          -81.476215,
          -89.4070057,
          -79.383074,
          -114.064706,
          -112.1217764,
          -115.33301570000002,
          -73.65781120000001,
          -81.47059499999999,
          -112.04624799999999,
          -79.41778719999999,
          -114.16725690000001,
          -79.380048,
          -79.40205065149999,
          -81.480056,
          -79.3843205981,
          -79.3784532,
          -111.925422,
          -115.17218899999999,
          -73.5949744152,
          -73.56946500000001,
          -79.394312,
          -114.07602800000001,
          -111.9250793203,
          -111.9289621,
          -113.9807510376,
          -80.75725609999999,
          -79.42251970000001,
          -112.033152,
          -81.2429631,
          -80.205281,
          -80.843337,
          -79.4256272,
          -81.6792273,
          -81.648719,
          -115.11896999999999,
          -80.882426,
          -111.8964962,
          -111.93503500000001,
          -73.57175720000001,
          -115.04346000000001,
          -79.243907,
          -73.723587,
          -112.23785436360001,
          -111.9244696232,
          -79.9989143,
          -113.9697057,
          -115.17453400000001,
          -111.78914099999999,
          -115.17505759999999,
          -115.1524787,
          -80.752344,
          -115.2011897042,
          -115.085169,
          -111.8076143,
          -112.125528,
          -88.249764,
          -112.16840390000002,
          -81.0407938635,
          -79.72728029999999,
          -115.1238543,
          -79.23499699999999,
          -88.2236145,
          -73.467329,
          -114.0646064,
          -111.718355,
          -79.2521301,
          -79.743302594,
          -81.8616357116,
          -79.4406867755,
          -89.5035026245,
          -79.843872169,
          -79.3893122699,
          -115.15387140000001,
          -81.35002440000001,
          -114.07065209999999,
          -111.92589029999999,
          -114.070923,
          -79.2924667,
          -81.44285550000001,
          -115.24400200000001,
          -115.143368,
          -114.09576229999999,
          -89.3895536687,
          -81.625168,
          -89.394324,
          -89.314762,
          -78.9305550544,
          -79.7351124221,
          -89.3041965,
          -79.68608256430001,
          -115.138595,
          -79.2963746935,
          -81.6505193499,
          -79.3799060583,
          -79.6906834533,
          -79.46944090000001,
          -74.0341464634,
          -79.4141735,
          -81.2976018,
          -73.6305373,
          -80.0082771,
          -79.64013990000001,
          -111.936527,
          -79.38606300000001,
          -80.7990185,
          -81.35844959999999,
          -79.9775372,
          -81.516568,
          -112.22271709999998,
          -80.8411020633,
          -115.29666840000002,
          -112.237821,
          -115.29101000000001,
          -79.4252293929,
          -115.1724276826,
          -111.9011943,
          -79.404951,
          -80.16027270000001,
          -73.54237109999998,
          -79.4723059136,
          -115.17542012860001,
          -79.3854472,
          -80.8414542,
          -80.834318954,
          -115.18231370000001,
          -80.60839240000001,
          -88.2453958,
          -112.0240036021,
          -112.0249314,
          -114.153620009,
          -115.1423178,
          -112.2208443,
          -80.0185368,
          -79.97809699999999,
          -81.4813685,
          -79.7257467,
          -73.640781,
          -114.04977045950001,
          -115.20294414,
          -89.6586769,
          -73.6910181615,
          -80.67542399999999,
          -114.072322,
          -81.81786340000001,
          -115.1390386295,
          -73.553595,
          -112.0816370845,
          -79.67118,
          -111.96906329999999,
          -79.483602,
          -79.7653132,
          -80.87087120000001,
          -79.6821118,
          -79.6441198,
          -111.92840008469999,
          -115.1724253893,
          -81.3927800884,
          -81.476753,
          -111.68605490000002,
          -111.90810970000001,
          -79.3604731,
          -112.2752561682,
          -114.0691902,
          -81.691598,
          -115.2513092065,
          -81.6818193,
          -115.17654776280001,
          -79.56141070000001,
          -79.9448867667,
          -111.7972412109,
          -80.00591999999999,
          -81.66211700000001,
          -80.5589054,
          -115.18849099999998,
          -115.17404204280001,
          -115.1016247,
          -81.3247251,
          -112.39442825319999,
          -79.67923597640001,
          -73.56128709999999,
          -114.20663200000001
         ],
         "marker": {
          "color": [
           3.5,
           4,
           4,
           3.5,
           4.5,
           2.5,
           2.5,
           3.5,
           4,
           3,
           3.5,
           2.5,
           3,
           3,
           4,
           3.5,
           3,
           3,
           4,
           3.5,
           3.5,
           4,
           3.5,
           2.5,
           4.5,
           3.5,
           3,
           3.5,
           3.5,
           4.5,
           4,
           4,
           4,
           3,
           3.5,
           2.5,
           2.5,
           5,
           3.5,
           3,
           4,
           3.5,
           2.5,
           4,
           4.5,
           3,
           4.5,
           3.5,
           4,
           2.5,
           3.5,
           3.5,
           2.5,
           4,
           3,
           4,
           4,
           2.5,
           3,
           3.5,
           3.5,
           3,
           2.5,
           3.5,
           3,
           4,
           2.5,
           2.5,
           4,
           2,
           3,
           3.5,
           3.5,
           2.5,
           3.5,
           4,
           3,
           3.5,
           3,
           4,
           3,
           4,
           4.5,
           3.5,
           3,
           3,
           2.5,
           3,
           2.5,
           3,
           2.5,
           3,
           3,
           2.5,
           4.5,
           3.5,
           4,
           4,
           3.5,
           4,
           3.5,
           3,
           4.5,
           4,
           3.5,
           3.5,
           3,
           3,
           3.5,
           2.5,
           4,
           3.5,
           2.5,
           3.5,
           3.5,
           4.5,
           3,
           4.5,
           3,
           3.5,
           4,
           4,
           3.5,
           1.5,
           4.5,
           4,
           4.5,
           4,
           2.5,
           3,
           4,
           2.5,
           2.5,
           4,
           4,
           3.5,
           4,
           3.5,
           3.5,
           2.5,
           3.5,
           4.5,
           3,
           4,
           3.5,
           3,
           2,
           3,
           3.5,
           2.5,
           4,
           3,
           3.5,
           2.5,
           3.5,
           2.5,
           3.5,
           3.5,
           3.5,
           4,
           3.5,
           4.5,
           2,
           4,
           2,
           4,
           3,
           2.5,
           3.5,
           3.5,
           2,
           5,
           4,
           3,
           4,
           3,
           4,
           4,
           2.5,
           2.5,
           4,
           2.5,
           3.5,
           2,
           4,
           4,
           4,
           4,
           3.5,
           3.5,
           3.5,
           4,
           3,
           4,
           3,
           4,
           4,
           3,
           3.5,
           3.5,
           3.5,
           3.5,
           4,
           3.5,
           4.5,
           3.5,
           3.5,
           3.5,
           4,
           3.5,
           4,
           2.5,
           3.5,
           3.5,
           4,
           3,
           4,
           1.5,
           5,
           4,
           5,
           4,
           3.5,
           2.5,
           4,
           4,
           2.5,
           4,
           2.5,
           2.5,
           4.5,
           3.5,
           3,
           2,
           4.5,
           2.5,
           3.5,
           2.5,
           2.5,
           2,
           4,
           4,
           3.5,
           4,
           2.5,
           3,
           4,
           3.5,
           4,
           2.5,
           4,
           3,
           3,
           4.5,
           4,
           3.5,
           3,
           3,
           4,
           4,
           3.5,
           4.5,
           3,
           3,
           2.5,
           3.5,
           4,
           4.5,
           1.5,
           3.5,
           3.5,
           5,
           4,
           3.5,
           3,
           2.5,
           2.5,
           3,
           2.5,
           4,
           4.5,
           3,
           4.5,
           3.5,
           3,
           3,
           4,
           3.5,
           3.5,
           3,
           4,
           3.5,
           3,
           4,
           4.5,
           3.5,
           4,
           3.5,
           5,
           3.5,
           3.5,
           4,
           3,
           3.5,
           3.5,
           3.5,
           3.5,
           3,
           4,
           3.5,
           3.5,
           3,
           3.5,
           4,
           4,
           4,
           3,
           4,
           3,
           2,
           2.5,
           3.5,
           4,
           3,
           3,
           4,
           3.5,
           2.5,
           2.5,
           4,
           4,
           4,
           3,
           3,
           4,
           3,
           4,
           3.5,
           2,
           3,
           4.5,
           3.5,
           2.5,
           3,
           4,
           4,
           4.5,
           2,
           4,
           2,
           3.5,
           2,
           4,
           3.5,
           3,
           4,
           3,
           4,
           3,
           4,
           3.5,
           3.5,
           4,
           3,
           3.5,
           3.5,
           3,
           4,
           4,
           4,
           3,
           4.5,
           4,
           4.5,
           3.5,
           3.5,
           3,
           3.5,
           3.5,
           4,
           3.5,
           3.5,
           2.5,
           3,
           3,
           4,
           4,
           3.5,
           4,
           3.5,
           3.5,
           4,
           3.5,
           2,
           4.5,
           3,
           3.5,
           4,
           2.5,
           3.5,
           4.5,
           3.5,
           3,
           4,
           2,
           3,
           3,
           3.5,
           4,
           4,
           3.5,
           3,
           3.5,
           3.5,
           2.5,
           3,
           3,
           4,
           3.5,
           4,
           2.5,
           3,
           2.5,
           3.5,
           3.5,
           4.5,
           3.5,
           2.5,
           3,
           3,
           3.5,
           3,
           4,
           4,
           4.5,
           4,
           3,
           3,
           2.5,
           4.5,
           3,
           3.5,
           3.5,
           3,
           3.5,
           2.5,
           3.5,
           4.5,
           2,
           2.5,
           3.5,
           4.5,
           4.5,
           3.5,
           4,
           2,
           3.5,
           3.5,
           4,
           4,
           3.5,
           4.5,
           3.5,
           5,
           3.5,
           3,
           4,
           3,
           3.5,
           4,
           3,
           3,
           4,
           3.5,
           2,
           4,
           4,
           2.5,
           4,
           5,
           4.5,
           4,
           3,
           5,
           2.5,
           1.5,
           4,
           3,
           4.5,
           2.5,
           2,
           2.5,
           3.5,
           3.5,
           3.5,
           2.5,
           3,
           3.5,
           4,
           4,
           3,
           4,
           3.5,
           3,
           3.5,
           4,
           1.5,
           4,
           4,
           4,
           4,
           3.5,
           4,
           4,
           3,
           2.5,
           1.5,
           4,
           3,
           4,
           3,
           4,
           4.5,
           2.5,
           4,
           3,
           4,
           3.5,
           4,
           4.5,
           3.5,
           3,
           3,
           1.5,
           3.5,
           4,
           4.5,
           4,
           4.5,
           4,
           3,
           3.5,
           4.5,
           4.5,
           3,
           2.5,
           2,
           4.5,
           4,
           4,
           4,
           4,
           2.5,
           2.5,
           3,
           3.5,
           5,
           3.5,
           4,
           3,
           3.5,
           3.5,
           2.5,
           3.5,
           3.5,
           4,
           4,
           4,
           4,
           4,
           3,
           3,
           3,
           3.5,
           3.5,
           4,
           3,
           4,
           4,
           2.5,
           3.5,
           3.5,
           3.5,
           3.5,
           4,
           3.5,
           4,
           3.5,
           4.5,
           4,
           4.5,
           3,
           3.5,
           3,
           3.5,
           2.5,
           2.5,
           3,
           4.5,
           4,
           4,
           3.5,
           4,
           4,
           3,
           3.5,
           3,
           2.5,
           3.5,
           2.5,
           4,
           2.5,
           4.5,
           3,
           3.5,
           2.5,
           3,
           4.5,
           3,
           2.5,
           1.5,
           4,
           3,
           3,
           4,
           3.5,
           3.5,
           4.5,
           3.5,
           3,
           2.5,
           3,
           3.5,
           4,
           2.5,
           3.5,
           3.5,
           4.5,
           4,
           3.5,
           3,
           3,
           4,
           3.5,
           4,
           3.5,
           2.5,
           3.5,
           3,
           3.5,
           3.5,
           3,
           4.5,
           4,
           3.5,
           3.5,
           4,
           2.5,
           4,
           4,
           3.5,
           4.5,
           4,
           4,
           3.5,
           3.5,
           4.5,
           4,
           3.5,
           3.5,
           3,
           4.5,
           4,
           3,
           4,
           2.5,
           4,
           4,
           3.5,
           2,
           4,
           3.5,
           2.5,
           4,
           3,
           3.5,
           2.5,
           3,
           2,
           4.5,
           2.5,
           3.5,
           2.5,
           4,
           3.5,
           4,
           3.5,
           3.5,
           3.5,
           3.5,
           4.5,
           4,
           4,
           4,
           3,
           3.5,
           4,
           4.5,
           2.5,
           3.5,
           2,
           4,
           4.5,
           4,
           4,
           2.5,
           4,
           3,
           3.5,
           3.5,
           3,
           4,
           3.5,
           4,
           3,
           4,
           4,
           4,
           4,
           3,
           2.5,
           3,
           4.5,
           3.5,
           2.5,
           4.5,
           3.5,
           5,
           4,
           3.5,
           2.5,
           3.5,
           4,
           2.5,
           3,
           3.5,
           3,
           3.5,
           2,
           2.5,
           2,
           3,
           2,
           4,
           2.5,
           3,
           3,
           3,
           3.5,
           4,
           3,
           4.5,
           4,
           2.5,
           3.5,
           3.5,
           4,
           4,
           4,
           4,
           2.5,
           2.5,
           3,
           3,
           4,
           3.5,
           3,
           4,
           2,
           4,
           3.5,
           3.5,
           3,
           3.5,
           3.5,
           3,
           3.5,
           4,
           3.5,
           4,
           3,
           4,
           3.5,
           4,
           4,
           3.5,
           3.5,
           2.5,
           4,
           3,
           4.5,
           3,
           4,
           3,
           3.5,
           4,
           3.5,
           3.5,
           3,
           3.5,
           2.5,
           3,
           4,
           3.5,
           3.5,
           3.5,
           3,
           3.5,
           3.5,
           3,
           2.5,
           3.5,
           3.5,
           3.5,
           3,
           3.5,
           3.5,
           3,
           2.5,
           2,
           3.5,
           3,
           2.5,
           3.5,
           4,
           4,
           4,
           4,
           2.5,
           4.5,
           3,
           4,
           2.5,
           2,
           2.5,
           3,
           4,
           4.5,
           1.5,
           4.5,
           3,
           2.5,
           3.5,
           3.5,
           4,
           4,
           4,
           4,
           2.5,
           3.5,
           3,
           3.5,
           3.5,
           3,
           3.5,
           3,
           2.5,
           2.5,
           4,
           3,
           4.5,
           2,
           3,
           3.5,
           4,
           3.5,
           4,
           4,
           4,
           3,
           3,
           5,
           4,
           3,
           3.5,
           2.5,
           3,
           4,
           2.5,
           3,
           3,
           3.5,
           3.5,
           2,
           4,
           4.5,
           4,
           2.5,
           3,
           2,
           3.5,
           3.5,
           4,
           3,
           3.5,
           3.5,
           4,
           3.5,
           3,
           2,
           4,
           3.5,
           3.5,
           3.5,
           3,
           4,
           3.5,
           4,
           3.5,
           3.5,
           3.5,
           3.5,
           3.5,
           3.5,
           2.5,
           4,
           4.5,
           3.5,
           4,
           3.5,
           3,
           2.5,
           3,
           2.5,
           4,
           2.5,
           4,
           2,
           4,
           4.5,
           4,
           3,
           3.5,
           4.5,
           3,
           3,
           3.5,
           3,
           3.5,
           3.5,
           3.5,
           4,
           3,
           4,
           3,
           3.5,
           3.5,
           4,
           3.5,
           4,
           3,
           3,
           4.5,
           3,
           1.5,
           4,
           3.5,
           4,
           3.5,
           3,
           2.5,
           2.5,
           2.5,
           4.5,
           3.5,
           3,
           3.5,
           3.5,
           3.5,
           2.5,
           3,
           4.5,
           4.5,
           2.5,
           4,
           3.5,
           3.5,
           4.5,
           3,
           2.5,
           3.5,
           2,
           3.5,
           3,
           3,
           3.5,
           3.5,
           3.5,
           2,
           3.5,
           3.5,
           3.5,
           3,
           4.5,
           2.5,
           4,
           3,
           4,
           4,
           3.5,
           3.5,
           2.5,
           2.5,
           2.5,
           3,
           4,
           3.5,
           4,
           3.5,
           3.5,
           3.5,
           3.5,
           3.5,
           3,
           2,
           3,
           4,
           3.5,
           4.5,
           3,
           3.5,
           3,
           4,
           4,
           2.5,
           4,
           3.5,
           2.5,
           3.5,
           3,
           3,
           4,
           3.5,
           4,
           4,
           3.5,
           3,
           3.5,
           2.5,
           4,
           3.5,
           3.5,
           3,
           3.5,
           3,
           3,
           3.5,
           4,
           3.5,
           2,
           2.5,
           3.5,
           4,
           4,
           3.5,
           2,
           3,
           4,
           3,
           3,
           4,
           3,
           3.5,
           4,
           3.5,
           2.5,
           2.5,
           4,
           3.5,
           3.5,
           3.5,
           3.5,
           2.5,
           4,
           4,
           3.5,
           3.5,
           3,
           3,
           4,
           2.5,
           4.5,
           3,
           3.5,
           4,
           3.5,
           3.5,
           4,
           2.5,
           4,
           4,
           3.5,
           3.5,
           3.5,
           3,
           4,
           2.5,
           3,
           4,
           4.5,
           3.5,
           2.5,
           2,
           3.5,
           2.5,
           3,
           3,
           3,
           3.5,
           4,
           3.5,
           3,
           3.5,
           3.5,
           3.5,
           4,
           3.5,
           3,
           3.5,
           3.5,
           3.5,
           3,
           2,
           4.5,
           4.5,
           4,
           3.5,
           3,
           2.5,
           4,
           4,
           4,
           4.5,
           3.5,
           3.5,
           2,
           4.5,
           4,
           2,
           3.5,
           4,
           4,
           3,
           4,
           4,
           4,
           4,
           3.5,
           4,
           3.5,
           3,
           4,
           3.5,
           3.5,
           4,
           4,
           3.5,
           3.5,
           3,
           3,
           4,
           4,
           3,
           3,
           4,
           2.5,
           3,
           3.5,
           3,
           4,
           3,
           3,
           4.5,
           3.5,
           3.5,
           4.5,
           3.5,
           2.5,
           4,
           4.5,
           2,
           4,
           2,
           3.5,
           3,
           4,
           3,
           3,
           2.5,
           3.5,
           3,
           4,
           4,
           3,
           2.5,
           4.5,
           3.5,
           3.5,
           3.5,
           4,
           3.5,
           4,
           3,
           3,
           3,
           2.5,
           4,
           4.5,
           4,
           4,
           3.5,
           3,
           3,
           3.5,
           3.5,
           2.5,
           4,
           4.5,
           2.5,
           3,
           2,
           3.5,
           4,
           2.5,
           4,
           2.5,
           4,
           4,
           2,
           3,
           3,
           3.5,
           4,
           3.5,
           3,
           2.5,
           4,
           4.5,
           4,
           4,
           4,
           4,
           4,
           4.5,
           3.5,
           3,
           4,
           4.5,
           4,
           3.5,
           4,
           4,
           4.5,
           3.5,
           4,
           3,
           4,
           4,
           4,
           3.5,
           3.5,
           3,
           3,
           2,
           3.5,
           2.5,
           3,
           4,
           4,
           3,
           4.5,
           2.5,
           4,
           4.5,
           4,
           3,
           2.5,
           4.5,
           2.5,
           2.5,
           4.5,
           4,
           3.5,
           4,
           3.5,
           3,
           4.5,
           3,
           3.5,
           3.5,
           2.5,
           4,
           3.5,
           3,
           3.5,
           2.5,
           4,
           3,
           4,
           4,
           3,
           4,
           3.5,
           3,
           4,
           3,
           4.5,
           3.5,
           3,
           3,
           4,
           2.5,
           4,
           4.5,
           3,
           4,
           4,
           3,
           3.5,
           2.5,
           3,
           4,
           4,
           3.5,
           3,
           4,
           3.5,
           3.5,
           3.5,
           4,
           4.5,
           3.5,
           4.5,
           2,
           3.5,
           4,
           4,
           2.5,
           4,
           5,
           4,
           3.5,
           3,
           3.5,
           3.5,
           3,
           2.5,
           2.5,
           3,
           2.5,
           4.5,
           4,
           3.5,
           3.5,
           4,
           3,
           3,
           4,
           3.5,
           3.5,
           3.5,
           4,
           2.5,
           3.5,
           3.5,
           4,
           4,
           3.5,
           2.5,
           4,
           4,
           4,
           4,
           3.5,
           3.5,
           3,
           3,
           2.5,
           4,
           3,
           3.5,
           4,
           3.5,
           3.5,
           4,
           3.5,
           4,
           3,
           3.5,
           4,
           3.5,
           3.5,
           2,
           4,
           3,
           4,
           3.5,
           4,
           4.5,
           4.5,
           3.5,
           4,
           3.5,
           3,
           3.5,
           4,
           3,
           3,
           3.5,
           3.5,
           3.5,
           4,
           3.5,
           3.5,
           3.5,
           3.5,
           3.5,
           4,
           3.5,
           3.5,
           3,
           4,
           3,
           4,
           4,
           4,
           3,
           3.5,
           4,
           4,
           4,
           3.5,
           3,
           4.5,
           3.5,
           4,
           4.5,
           3,
           3.5,
           2.5,
           4.5,
           3.5,
           4,
           3.5,
           5,
           3.5,
           4,
           4.5,
           4,
           3.5,
           4,
           2,
           3,
           2,
           3.5,
           4,
           2.5,
           4.5,
           4,
           3.5,
           3,
           4,
           1.5,
           4.5,
           3,
           2.5,
           3,
           2,
           3,
           2,
           4,
           3.5,
           4,
           3.5,
           3.5,
           2,
           2.5,
           4.5,
           4,
           2.5,
           3,
           3.5,
           4,
           4,
           4,
           3,
           3,
           2.5,
           2,
           3,
           3,
           2.5,
           4.5,
           5,
           4,
           3,
           2.5,
           3.5,
           4,
           3,
           4,
           2.5,
           4.5,
           4.5,
           3,
           3.5,
           2.5,
           3,
           3.5,
           3.5,
           3.5,
           2,
           4,
           3.5,
           3.5,
           3.5,
           4,
           3,
           3,
           2.5,
           3.5,
           4,
           3,
           3,
           3,
           4,
           3,
           3.5,
           3.5,
           4,
           2.5,
           2.5,
           4,
           3.5,
           4,
           3.5,
           4,
           4.5,
           3.5,
           3.5,
           3.5,
           3.5,
           4,
           3,
           2,
           2.5,
           2.5,
           3.5,
           2.5,
           3.5,
           4,
           3.5,
           3,
           3,
           2.5,
           2.5,
           3.5,
           3,
           3.5,
           3.5,
           3,
           4,
           3,
           3,
           4,
           3,
           4,
           3.5,
           3.5,
           2.5,
           4,
           4,
           4,
           3.5,
           3.5,
           3.5,
           4,
           3.5,
           4,
           3.5,
           3.5,
           2.5,
           2,
           4,
           3,
           4,
           3.5,
           3,
           4,
           4,
           3.5,
           3.5,
           3.5
          ],
          "coloraxis": "coloraxis",
          "size": [
           16,
           22,
           60,
           21,
           39,
           236,
           4,
           3,
           102,
           10,
           320,
           258,
           165,
           9,
           36,
           13,
           123,
           11,
           126,
           94,
           459,
           43,
           6,
           574,
           44,
           23,
           66,
           246,
           138,
           463,
           236,
           229,
           7,
           16,
           130,
           10,
           38,
           4,
           32,
           86,
           96,
           4,
           3,
           56,
           65,
           69,
           297,
           9,
           14,
           31,
           10,
           120,
           36,
           15,
           179,
           38,
           265,
           21,
           4,
           11,
           153,
           26,
           12,
           175,
           30,
           1972,
           9,
           29,
           7,
           9,
           263,
           46,
           177,
           13,
           313,
           15,
           86,
           18,
           6,
           838,
           8,
           89,
           12,
           107,
           67,
           28,
           26,
           3,
           30,
           29,
           20,
           9,
           75,
           30,
           482,
           151,
           95,
           217,
           33,
           65,
           6,
           10,
           9,
           103,
           95,
           19,
           15,
           94,
           356,
           149,
           123,
           35,
           52,
           55,
           50,
           165,
           86,
           14,
           5,
           334,
           441,
           16,
           12,
           13,
           20,
           12,
           18,
           91,
           83,
           43,
           389,
           3,
           29,
           10,
           24,
           14,
           88,
           9,
           70,
           14,
           85,
           306,
           261,
           89,
           98,
           173,
           6,
           14,
           11,
           19,
           21,
           174,
           340,
           44,
           473,
           7,
           34,
           104,
           7,
           173,
           84,
           16,
           39,
           529,
           8,
           35,
           4,
           19,
           32,
           92,
           20,
           90,
           173,
           6,
           159,
           139,
           886,
           1429,
           79,
           4,
           59,
           35,
           57,
           10,
           969,
           43,
           125,
           238,
           209,
           52,
           19,
           56,
           61,
           186,
           216,
           436,
           404,
           100,
           235,
           15,
           149,
           29,
           443,
           61,
           4,
           60,
           54,
           36,
           9,
           160,
           288,
           12,
           542,
           62,
           6,
           31,
           52,
           7,
           98,
           562,
           4,
           240,
           16,
           14,
           31,
           258,
           264,
           214,
           15,
           175,
           130,
           35,
           21,
           8,
           692,
           14,
           123,
           17,
           196,
           30,
           566,
           135,
           145,
           40,
           81,
           69,
           302,
           7,
           16,
           5,
           316,
           34,
           165,
           301,
           15,
           60,
           3,
           9,
           328,
           137,
           7,
           61,
           28,
           144,
           21,
           53,
           58,
           37,
           18,
           195,
           272,
           4,
           389,
           98,
           196,
           9,
           24,
           40,
           64,
           9,
           12,
           48,
           142,
           3,
           59,
           102,
           49,
           79,
           195,
           4,
           40,
           53,
           3,
           4,
           111,
           194,
           39,
           52,
           4,
           89,
           29,
           25,
           215,
           335,
           5,
           3,
           214,
           117,
           238,
           94,
           243,
           80,
           30,
           17,
           107,
           1016,
           5,
           72,
           55,
           15,
           8,
           81,
           659,
           4,
           53,
           11,
           23,
           17,
           19,
           1375,
           53,
           679,
           128,
           11,
           136,
           1009,
           337,
           50,
           20,
           8,
           23,
           251,
           38,
           16,
           669,
           402,
           6,
           40,
           25,
           9,
           53,
           24,
           14,
           79,
           95,
           269,
           26,
           311,
           185,
           24,
           24,
           8,
           94,
           33,
           320,
           93,
           3,
           98,
           190,
           442,
           50,
           18,
           478,
           277,
           16,
           22,
           21,
           95,
           880,
           44,
           76,
           238,
           34,
           4,
           5,
           533,
           1578,
           191,
           52,
           893,
           686,
           505,
           39,
           7,
           3,
           110,
           65,
           471,
           121,
           76,
           3,
           89,
           16,
           287,
           103,
           21,
           2412,
           63,
           207,
           117,
           42,
           56,
           139,
           346,
           134,
           14,
           37,
           16,
           14,
           24,
           292,
           15,
           15,
           166,
           33,
           16,
           56,
           40,
           54,
           3,
           15,
           5,
           532,
           490,
           312,
           14,
           55,
           23,
           18,
           576,
           163,
           94,
           30,
           112,
           38,
           26,
           18,
           10,
           18,
           27,
           17,
           11,
           778,
           11,
           311,
           86,
           174,
           238,
           52,
           69,
           19,
           56,
           14,
           21,
           33,
           10,
           145,
           152,
           52,
           4,
           95,
           972,
           54,
           64,
           48,
           67,
           42,
           9,
           683,
           4,
           950,
           158,
           527,
           5,
           106,
           28,
           6,
           30,
           7,
           34,
           26,
           13,
           12,
           43,
           60,
           6,
           237,
           32,
           217,
           356,
           111,
           34,
           6,
           105,
           5,
           14,
           9,
           93,
           28,
           268,
           991,
           35,
           112,
           140,
           146,
           75,
           6,
           1755,
           149,
           102,
           101,
           37,
           17,
           169,
           156,
           76,
           60,
           19,
           60,
           9,
           7,
           10,
           21,
           3,
           6,
           90,
           7,
           34,
           113,
           86,
           4,
           148,
           324,
           901,
           5,
           10,
           77,
           7,
           158,
           58,
           504,
           106,
           313,
           28,
           167,
           17,
           4,
           20,
           7,
           18,
           106,
           159,
           58,
           287,
           43,
           1072,
           28,
           152,
           63,
           239,
           4,
           15,
           124,
           195,
           257,
           150,
           9,
           140,
           17,
           6,
           3,
           13,
           62,
           30,
           57,
           26,
           184,
           112,
           419,
           180,
           10,
           59,
           127,
           22,
           16,
           4,
           29,
           57,
           6,
           233,
           92,
           275,
           41,
           13,
           122,
           44,
           27,
           68,
           6,
           332,
           56,
           17,
           19,
           67,
           45,
           5,
           15,
           328,
           112,
           3,
           3,
           75,
           30,
           25,
           126,
           7,
           66,
           6,
           472,
           3,
           80,
           35,
           112,
           131,
           45,
           27,
           40,
           273,
           3,
           47,
           26,
           114,
           470,
           85,
           333,
           8,
           59,
           144,
           12,
           96,
           131,
           70,
           53,
           370,
           207,
           97,
           103,
           3,
           1189,
           27,
           310,
           691,
           156,
           153,
           338,
           8,
           1130,
           38,
           75,
           48,
           24,
           10,
           44,
           8,
           196,
           46,
           38,
           9,
           47,
           41,
           56,
           85,
           9,
           339,
           27,
           668,
           180,
           12,
           4,
           156,
           21,
           137,
           49,
           8348,
           643,
           51,
           31,
           195,
           22,
           42,
           50,
           32,
           7,
           114,
           140,
           74,
           7,
           361,
           4,
           61,
           11,
           197,
           12,
           54,
           4,
           50,
           75,
           106,
           7,
           29,
           17,
           15,
           59,
           186,
           24,
           300,
           270,
           467,
           163,
           28,
           234,
           71,
           3,
           934,
           15,
           92,
           99,
           4,
           4,
           60,
           17,
           8,
           4,
           61,
           64,
           12,
           48,
           237,
           13,
           13,
           25,
           358,
           37,
           1672,
           68,
           47,
           158,
           101,
           203,
           28,
           229,
           77,
           140,
           65,
           32,
           54,
           46,
           873,
           4,
           310,
           51,
           31,
           24,
           12,
           666,
           93,
           20,
           423,
           28,
           97,
           53,
           6,
           4,
           226,
           154,
           174,
           109,
           10,
           120,
           289,
           50,
           264,
           60,
           26,
           110,
           346,
           22,
           65,
           86,
           54,
           254,
           37,
           46,
           6,
           450,
           47,
           49,
           547,
           91,
           174,
           33,
           57,
           80,
           3,
           101,
           23,
           56,
           44,
           21,
           26,
           14,
           53,
           45,
           6,
           115,
           204,
           175,
           42,
           945,
           31,
           172,
           138,
           109,
           11,
           9,
           68,
           184,
           936,
           86,
           566,
           63,
           198,
           30,
           89,
           35,
           18,
           311,
           102,
           3,
           390,
           34,
           3,
           11,
           75,
           544,
           383,
           363,
           36,
           109,
           188,
           24,
           144,
           146,
           85,
           64,
           45,
           3,
           41,
           34,
           106,
           7,
           6,
           92,
           77,
           76,
           115,
           13,
           23,
           182,
           20,
           29,
           11,
           215,
           49,
           54,
           67,
           14,
           412,
           4,
           11,
           16,
           86,
           68,
           61,
           190,
           727,
           110,
           29,
           12,
           23,
           144,
           117,
           31,
           20,
           74,
           5,
           491,
           96,
           85,
           42,
           513,
           170,
           178,
           101,
           7,
           79,
           17,
           139,
           223,
           108,
           6,
           4,
           15,
           233,
           5,
           391,
           9,
           10,
           138,
           210,
           68,
           122,
           67,
           182,
           128,
           27,
           276,
           42,
           161,
           3,
           348,
           11,
           7,
           73,
           5,
           95,
           14,
           51,
           119,
           3,
           658,
           17,
           16,
           6,
           75,
           23,
           3,
           7,
           59,
           13,
           162,
           9,
           2442,
           9,
           6,
           98,
           30,
           75,
           174,
           4,
           12,
           43,
           14,
           12,
           50,
           11,
           164,
           115,
           30,
           63,
           7,
           3,
           7,
           145,
           4,
           38,
           377,
           2417,
           75,
           162,
           79,
           13,
           241,
           66,
           94,
           56,
           98,
           8,
           118,
           6,
           22,
           116,
           85,
           1379,
           21,
           5,
           169,
           3547,
           156,
           616,
           3,
           36,
           9,
           65,
           5,
           5,
           208,
           3,
           46,
           4,
           38,
           17,
           97,
           7,
           17,
           206,
           45,
           80,
           8,
           60,
           208,
           13,
           19,
           615,
           8,
           3,
           272,
           40,
           160,
           23,
           95,
           216,
           3,
           93,
           96,
           25,
           60,
           48,
           26,
           82,
           22,
           344,
           109,
           3,
           159,
           53,
           73,
           51,
           494,
           18,
           18,
           32,
           99,
           184,
           12,
           45,
           143,
           1461,
           59,
           23,
           196,
           16,
           384,
           434,
           21,
           162,
           113,
           407,
           82,
           77,
           83,
           67,
           97,
           1397,
           5,
           31,
           134,
           10,
           7,
           35,
           105,
           7,
           24,
           85,
           132,
           31,
           30,
           25,
           53,
           500,
           185,
           77,
           7,
           193,
           48,
           873,
           14,
           245,
           62,
           3,
           69,
           12,
           39,
           67,
           36,
           100,
           24,
           62,
           9,
           304,
           3,
           280,
           60,
           198,
           8,
           907,
           13,
           100,
           440,
           25,
           95,
           20,
           21,
           1406,
           362,
           101,
           86,
           25,
           27,
           454,
           800,
           20,
           50,
           7,
           12,
           48,
           5,
           119,
           58,
           36,
           80,
           908,
           121,
           16,
           811,
           324,
           508,
           1367,
           491,
           46,
           28,
           307,
           291,
           8,
           20,
           74,
           18,
           38,
           44,
           42,
           105,
           5,
           139,
           21,
           126,
           12,
           115,
           87,
           63,
           132,
           61,
           104,
           3,
           28,
           21,
           93,
           75,
           102,
           81,
           190,
           4,
           286,
           15,
           349,
           147,
           3,
           23,
           12,
           29,
           111,
           22,
           63,
           517,
           4,
           9,
           96,
           40,
           140,
           110,
           31,
           516,
           102,
           113,
           12,
           35,
           10,
           89,
           6,
           167,
           247,
           274,
           47,
           131,
           20,
           75,
           29,
           40,
           5,
           13,
           36,
           7,
           15,
           1401,
           35,
           3,
           7,
           701,
           51,
           32,
           12,
           9,
           135,
           129,
           15,
           20,
           10,
           122,
           353,
           30,
           680,
           96,
           895,
           45,
           511,
           317,
           56,
           65,
           72,
           25,
           92,
           86,
           99,
           251,
           60,
           5,
           47,
           201,
           79,
           377,
           18,
           252,
           27,
           145,
           6,
           69,
           190,
           70,
           1168,
           14,
           10,
           73,
           14,
           943,
           236,
           337,
           40,
           26,
           488,
           150,
           15,
           8,
           112,
           155,
           122,
           140,
           4,
           143,
           9,
           51,
           60,
           15,
           489,
           14,
           54,
           37,
           27,
           40,
           213,
           209,
           56,
           74,
           2269,
           88,
           21,
           554,
           4,
           64,
           19,
           72,
           17,
           249,
           28,
           151,
           206,
           52,
           175,
           124,
           21,
           96,
           3,
           138,
           587,
           7,
           126,
           18,
           88,
           60,
           240,
           9,
           9,
           14,
           35,
           117,
           105,
           18,
           101,
           3,
           94,
           142,
           5,
           400,
           7,
           206,
           205,
           9,
           97,
           101,
           52,
           7,
           90,
           169,
           37,
           774,
           300,
           7,
           55,
           181,
           197,
           56,
           92,
           33,
           550,
           140,
           33,
           219,
           61,
           1015,
           128,
           25,
           20,
           1613,
           156,
           857,
           21,
           199,
           76,
           38,
           770,
           130,
           7,
           50,
           714,
           59,
           27,
           589,
           71,
           637,
           77,
           24,
           1169,
           25,
           52,
           34,
           136,
           81,
           278,
           137,
           342,
           29,
           6,
           52,
           320,
           252,
           6,
           26,
           13,
           91,
           72,
           792,
           61,
           105,
           44,
           68,
           64,
           30,
           31,
           5,
           275,
           33,
           32,
           98,
           12,
           16,
           43,
           61,
           112,
           69,
           206,
           574,
           1852,
           26,
           4,
           122,
           72,
           123,
           200,
           18,
           27,
           100,
           73,
           46,
           4,
           142,
           34,
           4,
           116,
           7,
           6,
           330,
           247,
           4,
           9,
           9,
           4,
           240,
           366,
           9,
           46,
           1148,
           218,
           3,
           9,
           60,
           146,
           57,
           14,
           216,
           28,
           39,
           18,
           16,
           3,
           70,
           95,
           14,
           6,
           63,
           6,
           26,
           9,
           107,
           75,
           44,
           55,
           181,
           23,
           8,
           587,
           18,
           59,
           54,
           287,
           888,
           67,
           105,
           30,
           25,
           100,
           27,
           24,
           3,
           26,
           3,
           34,
           81,
           54,
           34,
           53,
           6,
           18,
           34,
           4,
           192,
           59,
           204,
           48,
           4,
           5,
           78,
           21,
           138,
           195,
           159,
           16,
           362,
           64,
           160,
           4,
           24,
           21,
           5,
           16,
           176,
           198,
           78,
           151,
           29,
           85,
           68,
           181,
           107,
           53,
           1064,
           164,
           52,
           73,
           14,
           72,
           3,
           137,
           19,
           26,
           3,
           48,
           24,
           46,
           208,
           24,
           183,
           21,
           126,
           20,
           26,
           56,
           23,
           12,
           200,
           536,
           174,
           20,
           449,
           176,
           116,
           16,
           85,
           472,
           103,
           40,
           932,
           23,
           18,
           3,
           29,
           155,
           31,
           4,
           140,
           7,
           35,
           166,
           41,
           7,
           6
          ],
          "sizemode": "area",
          "sizeref": 0.8348
         },
         "mode": "markers",
         "name": "",
         "showlegend": false,
         "subplot": "mapbox",
         "type": "scattermapbox"
        }
       ],
       "layout": {
        "coloraxis": {
         "colorbar": {
          "title": {
           "text": "stars"
          }
         },
         "colorscale": [
          [
           0,
           "#000004"
          ],
          [
           0.1111111111111111,
           "#180f3d"
          ],
          [
           0.2222222222222222,
           "#440f76"
          ],
          [
           0.3333333333333333,
           "#721f81"
          ],
          [
           0.4444444444444444,
           "#9e2f7f"
          ],
          [
           0.5555555555555556,
           "#cd4071"
          ],
          [
           0.6666666666666666,
           "#f1605d"
          ],
          [
           0.7777777777777778,
           "#fd9668"
          ],
          [
           0.8888888888888888,
           "#feca8d"
          ],
          [
           1,
           "#fcfdbf"
          ]
         ]
        },
        "height": 600,
        "legend": {
         "itemsizing": "constant",
         "tracegroupgap": 0
        },
        "mapbox": {
         "center": {
          "lat": 40.04546938406231,
          "lon": -94.06921788776776
         },
         "domain": {
          "x": [
           0,
           0.98
          ],
          "y": [
           0,
           1
          ]
         },
         "style": "open-street-map",
         "zoom": 10
        },
        "margin": {
         "b": 0,
         "l": 0,
         "r": 0,
         "t": 0
        },
        "template": {
         "data": {
          "bar": [
           {
            "error_x": {
             "color": "#2a3f5f"
            },
            "error_y": {
             "color": "#2a3f5f"
            },
            "marker": {
             "line": {
              "color": "#E5ECF6",
              "width": 0.5
             }
            },
            "type": "bar"
           }
          ],
          "barpolar": [
           {
            "marker": {
             "line": {
              "color": "#E5ECF6",
              "width": 0.5
             }
            },
            "type": "barpolar"
           }
          ],
          "carpet": [
           {
            "aaxis": {
             "endlinecolor": "#2a3f5f",
             "gridcolor": "white",
             "linecolor": "white",
             "minorgridcolor": "white",
             "startlinecolor": "#2a3f5f"
            },
            "baxis": {
             "endlinecolor": "#2a3f5f",
             "gridcolor": "white",
             "linecolor": "white",
             "minorgridcolor": "white",
             "startlinecolor": "#2a3f5f"
            },
            "type": "carpet"
           }
          ],
          "choropleth": [
           {
            "colorbar": {
             "outlinewidth": 0,
             "ticks": ""
            },
            "type": "choropleth"
           }
          ],
          "contour": [
           {
            "colorbar": {
             "outlinewidth": 0,
             "ticks": ""
            },
            "colorscale": [
             [
              0,
              "#0d0887"
             ],
             [
              0.1111111111111111,
              "#46039f"
             ],
             [
              0.2222222222222222,
              "#7201a8"
             ],
             [
              0.3333333333333333,
              "#9c179e"
             ],
             [
              0.4444444444444444,
              "#bd3786"
             ],
             [
              0.5555555555555556,
              "#d8576b"
             ],
             [
              0.6666666666666666,
              "#ed7953"
             ],
             [
              0.7777777777777778,
              "#fb9f3a"
             ],
             [
              0.8888888888888888,
              "#fdca26"
             ],
             [
              1,
              "#f0f921"
             ]
            ],
            "type": "contour"
           }
          ],
          "contourcarpet": [
           {
            "colorbar": {
             "outlinewidth": 0,
             "ticks": ""
            },
            "type": "contourcarpet"
           }
          ],
          "heatmap": [
           {
            "colorbar": {
             "outlinewidth": 0,
             "ticks": ""
            },
            "colorscale": [
             [
              0,
              "#0d0887"
             ],
             [
              0.1111111111111111,
              "#46039f"
             ],
             [
              0.2222222222222222,
              "#7201a8"
             ],
             [
              0.3333333333333333,
              "#9c179e"
             ],
             [
              0.4444444444444444,
              "#bd3786"
             ],
             [
              0.5555555555555556,
              "#d8576b"
             ],
             [
              0.6666666666666666,
              "#ed7953"
             ],
             [
              0.7777777777777778,
              "#fb9f3a"
             ],
             [
              0.8888888888888888,
              "#fdca26"
             ],
             [
              1,
              "#f0f921"
             ]
            ],
            "type": "heatmap"
           }
          ],
          "heatmapgl": [
           {
            "colorbar": {
             "outlinewidth": 0,
             "ticks": ""
            },
            "colorscale": [
             [
              0,
              "#0d0887"
             ],
             [
              0.1111111111111111,
              "#46039f"
             ],
             [
              0.2222222222222222,
              "#7201a8"
             ],
             [
              0.3333333333333333,
              "#9c179e"
             ],
             [
              0.4444444444444444,
              "#bd3786"
             ],
             [
              0.5555555555555556,
              "#d8576b"
             ],
             [
              0.6666666666666666,
              "#ed7953"
             ],
             [
              0.7777777777777778,
              "#fb9f3a"
             ],
             [
              0.8888888888888888,
              "#fdca26"
             ],
             [
              1,
              "#f0f921"
             ]
            ],
            "type": "heatmapgl"
           }
          ],
          "histogram": [
           {
            "marker": {
             "colorbar": {
              "outlinewidth": 0,
              "ticks": ""
             }
            },
            "type": "histogram"
           }
          ],
          "histogram2d": [
           {
            "colorbar": {
             "outlinewidth": 0,
             "ticks": ""
            },
            "colorscale": [
             [
              0,
              "#0d0887"
             ],
             [
              0.1111111111111111,
              "#46039f"
             ],
             [
              0.2222222222222222,
              "#7201a8"
             ],
             [
              0.3333333333333333,
              "#9c179e"
             ],
             [
              0.4444444444444444,
              "#bd3786"
             ],
             [
              0.5555555555555556,
              "#d8576b"
             ],
             [
              0.6666666666666666,
              "#ed7953"
             ],
             [
              0.7777777777777778,
              "#fb9f3a"
             ],
             [
              0.8888888888888888,
              "#fdca26"
             ],
             [
              1,
              "#f0f921"
             ]
            ],
            "type": "histogram2d"
           }
          ],
          "histogram2dcontour": [
           {
            "colorbar": {
             "outlinewidth": 0,
             "ticks": ""
            },
            "colorscale": [
             [
              0,
              "#0d0887"
             ],
             [
              0.1111111111111111,
              "#46039f"
             ],
             [
              0.2222222222222222,
              "#7201a8"
             ],
             [
              0.3333333333333333,
              "#9c179e"
             ],
             [
              0.4444444444444444,
              "#bd3786"
             ],
             [
              0.5555555555555556,
              "#d8576b"
             ],
             [
              0.6666666666666666,
              "#ed7953"
             ],
             [
              0.7777777777777778,
              "#fb9f3a"
             ],
             [
              0.8888888888888888,
              "#fdca26"
             ],
             [
              1,
              "#f0f921"
             ]
            ],
            "type": "histogram2dcontour"
           }
          ],
          "mesh3d": [
           {
            "colorbar": {
             "outlinewidth": 0,
             "ticks": ""
            },
            "type": "mesh3d"
           }
          ],
          "parcoords": [
           {
            "line": {
             "colorbar": {
              "outlinewidth": 0,
              "ticks": ""
             }
            },
            "type": "parcoords"
           }
          ],
          "scatter": [
           {
            "marker": {
             "colorbar": {
              "outlinewidth": 0,
              "ticks": ""
             }
            },
            "type": "scatter"
           }
          ],
          "scatter3d": [
           {
            "line": {
             "colorbar": {
              "outlinewidth": 0,
              "ticks": ""
             }
            },
            "marker": {
             "colorbar": {
              "outlinewidth": 0,
              "ticks": ""
             }
            },
            "type": "scatter3d"
           }
          ],
          "scattercarpet": [
           {
            "marker": {
             "colorbar": {
              "outlinewidth": 0,
              "ticks": ""
             }
            },
            "type": "scattercarpet"
           }
          ],
          "scattergeo": [
           {
            "marker": {
             "colorbar": {
              "outlinewidth": 0,
              "ticks": ""
             }
            },
            "type": "scattergeo"
           }
          ],
          "scattergl": [
           {
            "marker": {
             "colorbar": {
              "outlinewidth": 0,
              "ticks": ""
             }
            },
            "type": "scattergl"
           }
          ],
          "scattermapbox": [
           {
            "marker": {
             "colorbar": {
              "outlinewidth": 0,
              "ticks": ""
             }
            },
            "type": "scattermapbox"
           }
          ],
          "scatterpolar": [
           {
            "marker": {
             "colorbar": {
              "outlinewidth": 0,
              "ticks": ""
             }
            },
            "type": "scatterpolar"
           }
          ],
          "scatterpolargl": [
           {
            "marker": {
             "colorbar": {
              "outlinewidth": 0,
              "ticks": ""
             }
            },
            "type": "scatterpolargl"
           }
          ],
          "scatterternary": [
           {
            "marker": {
             "colorbar": {
              "outlinewidth": 0,
              "ticks": ""
             }
            },
            "type": "scatterternary"
           }
          ],
          "surface": [
           {
            "colorbar": {
             "outlinewidth": 0,
             "ticks": ""
            },
            "colorscale": [
             [
              0,
              "#0d0887"
             ],
             [
              0.1111111111111111,
              "#46039f"
             ],
             [
              0.2222222222222222,
              "#7201a8"
             ],
             [
              0.3333333333333333,
              "#9c179e"
             ],
             [
              0.4444444444444444,
              "#bd3786"
             ],
             [
              0.5555555555555556,
              "#d8576b"
             ],
             [
              0.6666666666666666,
              "#ed7953"
             ],
             [
              0.7777777777777778,
              "#fb9f3a"
             ],
             [
              0.8888888888888888,
              "#fdca26"
             ],
             [
              1,
              "#f0f921"
             ]
            ],
            "type": "surface"
           }
          ],
          "table": [
           {
            "cells": {
             "fill": {
              "color": "#EBF0F8"
             },
             "line": {
              "color": "white"
             }
            },
            "header": {
             "fill": {
              "color": "#C8D4E3"
             },
             "line": {
              "color": "white"
             }
            },
            "type": "table"
           }
          ]
         },
         "layout": {
          "annotationdefaults": {
           "arrowcolor": "#2a3f5f",
           "arrowhead": 0,
           "arrowwidth": 1
          },
          "colorscale": {
           "diverging": [
            [
             0,
             "#8e0152"
            ],
            [
             0.1,
             "#c51b7d"
            ],
            [
             0.2,
             "#de77ae"
            ],
            [
             0.3,
             "#f1b6da"
            ],
            [
             0.4,
             "#fde0ef"
            ],
            [
             0.5,
             "#f7f7f7"
            ],
            [
             0.6,
             "#e6f5d0"
            ],
            [
             0.7,
             "#b8e186"
            ],
            [
             0.8,
             "#7fbc41"
            ],
            [
             0.9,
             "#4d9221"
            ],
            [
             1,
             "#276419"
            ]
           ],
           "sequential": [
            [
             0,
             "#0d0887"
            ],
            [
             0.1111111111111111,
             "#46039f"
            ],
            [
             0.2222222222222222,
             "#7201a8"
            ],
            [
             0.3333333333333333,
             "#9c179e"
            ],
            [
             0.4444444444444444,
             "#bd3786"
            ],
            [
             0.5555555555555556,
             "#d8576b"
            ],
            [
             0.6666666666666666,
             "#ed7953"
            ],
            [
             0.7777777777777778,
             "#fb9f3a"
            ],
            [
             0.8888888888888888,
             "#fdca26"
            ],
            [
             1,
             "#f0f921"
            ]
           ],
           "sequentialminus": [
            [
             0,
             "#0d0887"
            ],
            [
             0.1111111111111111,
             "#46039f"
            ],
            [
             0.2222222222222222,
             "#7201a8"
            ],
            [
             0.3333333333333333,
             "#9c179e"
            ],
            [
             0.4444444444444444,
             "#bd3786"
            ],
            [
             0.5555555555555556,
             "#d8576b"
            ],
            [
             0.6666666666666666,
             "#ed7953"
            ],
            [
             0.7777777777777778,
             "#fb9f3a"
            ],
            [
             0.8888888888888888,
             "#fdca26"
            ],
            [
             1,
             "#f0f921"
            ]
           ]
          },
          "colorway": [
           "#636efa",
           "#EF553B",
           "#00cc96",
           "#ab63fa",
           "#FFA15A",
           "#19d3f3",
           "#FF6692",
           "#B6E880",
           "#FF97FF",
           "#FECB52"
          ],
          "font": {
           "color": "#2a3f5f"
          },
          "geo": {
           "bgcolor": "white",
           "lakecolor": "white",
           "landcolor": "#E5ECF6",
           "showlakes": true,
           "showland": true,
           "subunitcolor": "white"
          },
          "hoverlabel": {
           "align": "left"
          },
          "hovermode": "closest",
          "mapbox": {
           "style": "light"
          },
          "paper_bgcolor": "white",
          "plot_bgcolor": "#E5ECF6",
          "polar": {
           "angularaxis": {
            "gridcolor": "white",
            "linecolor": "white",
            "ticks": ""
           },
           "bgcolor": "#E5ECF6",
           "radialaxis": {
            "gridcolor": "white",
            "linecolor": "white",
            "ticks": ""
           }
          },
          "scene": {
           "xaxis": {
            "backgroundcolor": "#E5ECF6",
            "gridcolor": "white",
            "gridwidth": 2,
            "linecolor": "white",
            "showbackground": true,
            "ticks": "",
            "zerolinecolor": "white"
           },
           "yaxis": {
            "backgroundcolor": "#E5ECF6",
            "gridcolor": "white",
            "gridwidth": 2,
            "linecolor": "white",
            "showbackground": true,
            "ticks": "",
            "zerolinecolor": "white"
           },
           "zaxis": {
            "backgroundcolor": "#E5ECF6",
            "gridcolor": "white",
            "gridwidth": 2,
            "linecolor": "white",
            "showbackground": true,
            "ticks": "",
            "zerolinecolor": "white"
           }
          },
          "shapedefaults": {
           "line": {
            "color": "#2a3f5f"
           }
          },
          "ternary": {
           "aaxis": {
            "gridcolor": "white",
            "linecolor": "white",
            "ticks": ""
           },
           "baxis": {
            "gridcolor": "white",
            "linecolor": "white",
            "ticks": ""
           },
           "bgcolor": "#E5ECF6",
           "caxis": {
            "gridcolor": "white",
            "linecolor": "white",
            "ticks": ""
           }
          },
          "title": {
           "x": 0.05
          },
          "xaxis": {
           "automargin": true,
           "gridcolor": "white",
           "linecolor": "white",
           "ticks": "",
           "zerolinecolor": "white",
           "zerolinewidth": 2
          },
          "yaxis": {
           "automargin": true,
           "gridcolor": "white",
           "linecolor": "white",
           "ticks": "",
           "zerolinecolor": "white",
           "zerolinewidth": 2
          }
         }
        }
       }
      },
      "text/html": [
       "<div>\n",
       "        \n",
       "        \n",
       "            <div id=\"ddca43d2-bba3-425b-bdd3-34c682da7109\" class=\"plotly-graph-div\" style=\"height:600px; width:100%;\"></div>\n",
       "            <script type=\"text/javascript\">\n",
       "                require([\"plotly\"], function(Plotly) {\n",
       "                    window.PLOTLYENV=window.PLOTLYENV || {};\n",
       "                    \n",
       "                if (document.getElementById(\"ddca43d2-bba3-425b-bdd3-34c682da7109\")) {\n",
       "                    Plotly.newPlot(\n",
       "                        'ddca43d2-bba3-425b-bdd3-34c682da7109',\n",
       "                        [{\"customdata\": [[\"NC\", 3.5], [\"ON\", 4.0], [\"NV\", 4.0], [\"NV\", 3.5], [\"QC\", 4.5], [\"AZ\", 2.5], [\"OH\", 2.5], [\"QC\", 3.5], [\"NC\", 4.0], [\"ON\", 3.0], [\"AZ\", 3.5], [\"NV\", 2.5], [\"NV\", 3.0], [\"PA\", 3.0], [\"NC\", 4.0], [\"OH\", 3.5], [\"NC\", 3.0], [\"AB\", 3.0], [\"OH\", 4.0], [\"QC\", 3.5], [\"NV\", 3.5], [\"QC\", 4.0], [\"ON\", 3.5], [\"AZ\", 2.5], [\"NV\", 4.5], [\"QC\", 3.5], [\"OH\", 3.0], [\"AZ\", 3.5], [\"AZ\", 3.5], [\"NV\", 4.5], [\"NV\", 4.0], [\"ON\", 4.0], [\"QC\", 4.0], [\"OH\", 3.0], [\"NV\", 3.5], [\"NC\", 2.5], [\"NC\", 2.5], [\"QC\", 5.0], [\"ON\", 3.5], [\"NV\", 3.0], [\"OH\", 4.0], [\"QC\", 3.5], [\"NC\", 2.5], [\"AZ\", 4.0], [\"OH\", 4.5], [\"PA\", 3.0], [\"NV\", 4.5], [\"AZ\", 3.5], [\"QC\", 4.0], [\"AB\", 2.5], [\"QC\", 3.5], [\"WI\", 3.5], [\"AZ\", 2.5], [\"NV\", 4.0], [\"OH\", 3.0], [\"QC\", 4.0], [\"NV\", 4.0], [\"AB\", 2.5], [\"QC\", 3.0], [\"ON\", 3.5], [\"AZ\", 3.5], [\"AB\", 3.0], [\"ON\", 2.5], [\"AZ\", 3.5], [\"AZ\", 3.0], [\"AZ\", 4.0], [\"PA\", 2.5], [\"QC\", 2.5], [\"AB\", 4.0], [\"NC\", 2.0], [\"NV\", 3.0], [\"IL\", 3.5], [\"OH\", 3.5], [\"OH\", 2.5], [\"AZ\", 3.5], [\"ON\", 4.0], [\"NC\", 3.0], [\"QC\", 3.5], [\"QC\", 3.0], [\"NV\", 4.0], [\"OH\", 3.0], [\"NV\", 4.0], [\"ON\", 4.5], [\"ON\", 3.5], [\"ON\", 3.0], [\"AB\", 3.0], [\"OH\", 2.5], [\"WI\", 3.0], [\"OH\", 2.5], [\"OH\", 3.0], [\"OH\", 2.5], [\"ON\", 3.0], [\"AB\", 3.0], [\"OH\", 2.5], [\"NV\", 4.5], [\"AZ\", 3.5], [\"ON\", 4.0], [\"QC\", 4.0], [\"ON\", 3.5], [\"AB\", 4.0], [\"OH\", 3.5], [\"QC\", 3.0], [\"NV\", 4.5], [\"AZ\", 4.0], [\"PA\", 3.5], [\"AZ\", 3.5], [\"ON\", 3.0], [\"AZ\", 3.0], [\"AZ\", 3.5], [\"AZ\", 2.5], [\"AB\", 4.0], [\"NV\", 3.5], [\"ON\", 2.5], [\"NV\", 3.5], [\"NV\", 3.5], [\"NV\", 4.5], [\"AZ\", 3.0], [\"OH\", 4.5], [\"AZ\", 3.0], [\"NC\", 3.5], [\"NV\", 4.0], [\"AB\", 4.0], [\"OH\", 3.5], [\"NC\", 1.5], [\"ON\", 4.5], [\"ON\", 4.0], [\"OH\", 4.5], [\"AB\", 4.0], [\"NV\", 2.5], [\"ON\", 3.0], [\"NV\", 4.0], [\"QC\", 2.5], [\"QC\", 2.5], [\"AB\", 4.0], [\"ON\", 4.0], [\"NV\", 3.5], [\"NV\", 4.0], [\"WI\", 3.5], [\"OH\", 3.5], [\"NM\", 2.5], [\"OH\", 3.5], [\"NV\", 4.5], [\"NV\", 3.0], [\"OH\", 4.0], [\"ON\", 3.5], [\"AZ\", 3.0], [\"QC\", 2.0], [\"NV\", 3.0], [\"NV\", 3.5], [\"OH\", 2.5], [\"ON\", 4.0], [\"PA\", 3.0], [\"AZ\", 3.5], [\"AB\", 2.5], [\"NV\", 3.5], [\"QC\", 2.5], [\"WI\", 3.5], [\"QC\", 3.5], [\"ON\", 3.5], [\"OH\", 4.0], [\"ON\", 3.5], [\"AB\", 4.5], [\"ON\", 2.0], [\"NV\", 4.0], [\"WI\", 2.0], [\"ON\", 4.0], [\"AZ\", 3.0], [\"OH\", 2.5], [\"AZ\", 3.5], [\"NC\", 3.5], [\"WI\", 2.0], [\"ON\", 5.0], [\"OH\", 4.0], [\"AB\", 3.0], [\"ON\", 4.0], [\"AZ\", 3.0], [\"AZ\", 4.0], [\"NV\", 4.0], [\"NC\", 2.5], [\"ON\", 2.5], [\"OH\", 4.0], [\"NC\", 2.5], [\"ON\", 3.5], [\"NC\", 2.0], [\"NV\", 4.0], [\"QC\", 4.0], [\"AZ\", 4.0], [\"PA\", 4.0], [\"NC\", 3.5], [\"PA\", 3.5], [\"QC\", 3.5], [\"NV\", 4.0], [\"NV\", 3.0], [\"PA\", 4.0], [\"NV\", 3.0], [\"AZ\", 4.0], [\"NV\", 4.0], [\"AZ\", 3.0], [\"AZ\", 3.5], [\"AB\", 3.5], [\"AZ\", 3.5], [\"PA\", 3.5], [\"AZ\", 4.0], [\"ON\", 3.5], [\"QC\", 4.5], [\"OH\", 3.5], [\"ON\", 3.5], [\"OH\", 3.5], [\"AZ\", 4.0], [\"AZ\", 3.5], [\"AZ\", 4.0], [\"PA\", 2.5], [\"NV\", 3.5], [\"PA\", 3.5], [\"ON\", 4.0], [\"ON\", 3.0], [\"QC\", 4.0], [\"OH\", 1.5], [\"AZ\", 5.0], [\"AZ\", 4.0], [\"NC\", 5.0], [\"WI\", 4.0], [\"ON\", 3.5], [\"AZ\", 2.5], [\"AB\", 4.0], [\"NC\", 4.0], [\"AZ\", 2.5], [\"QC\", 4.0], [\"ON\", 2.5], [\"AZ\", 2.5], [\"ON\", 4.5], [\"NC\", 3.5], [\"NC\", 3.0], [\"NE\", 2.0], [\"NV\", 4.5], [\"OH\", 2.5], [\"NC\", 3.5], [\"OH\", 2.5], [\"OH\", 2.5], [\"IL\", 2.0], [\"AZ\", 4.0], [\"AZ\", 4.0], [\"NV\", 3.5], [\"ON\", 4.0], [\"AZ\", 2.5], [\"PA\", 3.0], [\"NC\", 4.0], [\"AZ\", 3.5], [\"ON\", 4.0], [\"QC\", 2.5], [\"AZ\", 4.0], [\"OH\", 3.0], [\"AZ\", 3.0], [\"NV\", 4.5], [\"QC\", 4.0], [\"PA\", 3.5], [\"ON\", 3.0], [\"ON\", 3.0], [\"NV\", 4.0], [\"NV\", 4.0], [\"AB\", 3.5], [\"AZ\", 4.5], [\"NC\", 3.0], [\"AZ\", 3.0], [\"OH\", 2.5], [\"ON\", 3.5], [\"NC\", 4.0], [\"AB\", 4.5], [\"OH\", 1.5], [\"AZ\", 3.5], [\"AZ\", 3.5], [\"QC\", 5.0], [\"AZ\", 4.0], [\"NC\", 3.5], [\"AZ\", 3.0], [\"QC\", 2.5], [\"ON\", 2.5], [\"AZ\", 3.0], [\"ON\", 2.5], [\"ON\", 4.0], [\"QC\", 4.5], [\"AB\", 3.0], [\"PA\", 4.5], [\"QC\", 3.5], [\"ON\", 3.0], [\"ON\", 3.0], [\"OH\", 4.0], [\"AB\", 3.5], [\"WI\", 3.5], [\"ON\", 3.0], [\"ON\", 4.0], [\"QC\", 3.5], [\"NV\", 3.0], [\"QC\", 4.0], [\"NV\", 4.5], [\"WI\", 3.5], [\"ON\", 4.0], [\"NV\", 3.5], [\"QC\", 5.0], [\"AZ\", 3.5], [\"AB\", 3.5], [\"NV\", 4.0], [\"NV\", 3.0], [\"AZ\", 3.5], [\"PA\", 3.5], [\"QC\", 3.5], [\"NV\", 3.5], [\"QC\", 3.0], [\"ON\", 4.0], [\"ON\", 3.5], [\"NC\", 3.5], [\"AZ\", 3.0], [\"ON\", 3.5], [\"ON\", 4.0], [\"NV\", 4.0], [\"NV\", 4.0], [\"AB\", 3.0], [\"ON\", 4.0], [\"NC\", 3.0], [\"ON\", 2.0], [\"QC\", 2.5], [\"ON\", 3.5], [\"AZ\", 4.0], [\"ON\", 3.0], [\"OH\", 3.0], [\"ON\", 4.0], [\"NC\", 3.5], [\"OH\", 2.5], [\"PA\", 2.5], [\"NV\", 4.0], [\"ON\", 4.0], [\"NV\", 4.0], [\"AZ\", 3.0], [\"ON\", 3.0], [\"ON\", 4.0], [\"NV\", 3.0], [\"NC\", 4.0], [\"PA\", 3.5], [\"OH\", 2.0], [\"AB\", 3.0], [\"NC\", 4.5], [\"AZ\", 3.5], [\"OH\", 2.5], [\"AB\", 3.0], [\"AZ\", 4.0], [\"AZ\", 4.0], [\"AB\", 4.5], [\"ON\", 2.0], [\"AB\", 4.0], [\"ON\", 2.0], [\"AZ\", 3.5], [\"OH\", 2.0], [\"ON\", 4.0], [\"OH\", 3.5], [\"ON\", 3.0], [\"NV\", 4.0], [\"PA\", 3.0], [\"NV\", 4.0], [\"NV\", 3.0], [\"PA\", 4.0], [\"PA\", 3.5], [\"AZ\", 3.5], [\"AB\", 4.0], [\"OH\", 3.0], [\"AZ\", 3.5], [\"NC\", 3.5], [\"AZ\", 3.0], [\"OH\", 4.0], [\"NV\", 4.0], [\"NV\", 4.0], [\"ON\", 3.0], [\"OH\", 4.5], [\"AZ\", 4.0], [\"NV\", 4.5], [\"OH\", 3.5], [\"NC\", 3.5], [\"NV\", 3.0], [\"OH\", 3.5], [\"NV\", 3.5], [\"OH\", 4.0], [\"NV\", 3.5], [\"NV\", 3.5], [\"AZ\", 2.5], [\"ON\", 3.0], [\"ON\", 3.0], [\"NV\", 4.0], [\"NV\", 4.0], [\"NV\", 3.5], [\"OH\", 4.0], [\"NV\", 3.5], [\"NV\", 3.5], [\"AZ\", 4.0], [\"OH\", 3.5], [\"ON\", 2.0], [\"NV\", 4.5], [\"ON\", 3.0], [\"NV\", 3.5], [\"NV\", 4.0], [\"AZ\", 2.5], [\"OH\", 3.5], [\"QC\", 4.5], [\"OH\", 3.5], [\"AB\", 3.0], [\"NV\", 4.0], [\"PA\", 2.0], [\"ON\", 3.0], [\"NV\", 3.0], [\"NV\", 3.5], [\"NC\", 4.0], [\"ON\", 4.0], [\"ON\", 3.5], [\"ON\", 3.0], [\"NV\", 3.5], [\"AZ\", 3.5], [\"OH\", 2.5], [\"ON\", 3.0], [\"ON\", 3.0], [\"WI\", 4.0], [\"OH\", 3.5], [\"QC\", 4.0], [\"NV\", 2.5], [\"PA\", 3.0], [\"ON\", 2.5], [\"AZ\", 3.5], [\"NC\", 3.5], [\"ON\", 4.5], [\"PA\", 3.5], [\"AZ\", 2.5], [\"OH\", 3.0], [\"QC\", 3.0], [\"AB\", 3.5], [\"QC\", 3.0], [\"AZ\", 4.0], [\"WI\", 4.0], [\"NC\", 4.5], [\"QC\", 4.0], [\"PA\", 3.0], [\"IL\", 3.0], [\"ON\", 2.5], [\"NV\", 4.5], [\"PA\", 3.0], [\"OH\", 3.5], [\"NV\", 3.5], [\"AZ\", 3.0], [\"OH\", 3.5], [\"PA\", 2.5], [\"OH\", 3.5], [\"NV\", 4.5], [\"ON\", 2.0], [\"PA\", 2.5], [\"WI\", 3.5], [\"OH\", 4.5], [\"NV\", 4.5], [\"QC\", 3.5], [\"AZ\", 4.0], [\"QC\", 2.0], [\"AZ\", 3.5], [\"NV\", 3.5], [\"IL\", 4.0], [\"SC\", 4.0], [\"QC\", 3.5], [\"ON\", 4.5], [\"ON\", 3.5], [\"NV\", 5.0], [\"PA\", 3.5], [\"NV\", 3.0], [\"NV\", 4.0], [\"AZ\", 3.0], [\"AB\", 3.5], [\"ON\", 4.0], [\"AZ\", 3.0], [\"AZ\", 3.0], [\"QC\", 4.0], [\"AB\", 3.5], [\"ON\", 2.0], [\"QC\", 4.0], [\"AB\", 4.0], [\"QC\", 2.5], [\"NV\", 4.0], [\"QC\", 5.0], [\"AZ\", 4.5], [\"NV\", 4.0], [\"AZ\", 3.0], [\"AB\", 5.0], [\"NV\", 2.5], [\"NV\", 1.5], [\"ON\", 4.0], [\"ON\", 3.0], [\"QC\", 4.5], [\"NC\", 2.5], [\"QC\", 2.0], [\"NC\", 2.5], [\"OH\", 3.5], [\"WI\", 3.5], [\"ON\", 3.5], [\"QC\", 2.5], [\"PA\", 3.0], [\"ON\", 3.5], [\"NV\", 4.0], [\"NV\", 4.0], [\"PA\", 3.0], [\"AB\", 4.0], [\"OH\", 3.5], [\"NV\", 3.0], [\"AB\", 3.5], [\"QC\", 4.0], [\"AZ\", 1.5], [\"NV\", 4.0], [\"OH\", 4.0], [\"NC\", 4.0], [\"TX\", 4.0], [\"NC\", 3.5], [\"ON\", 4.0], [\"NV\", 4.0], [\"PA\", 3.0], [\"AZ\", 2.5], [\"NC\", 1.5], [\"PA\", 4.0], [\"NV\", 3.0], [\"OH\", 4.0], [\"NV\", 3.0], [\"NV\", 4.0], [\"ON\", 4.5], [\"NV\", 2.5], [\"NC\", 4.0], [\"OH\", 3.0], [\"OH\", 4.0], [\"AB\", 3.5], [\"OH\", 4.0], [\"ON\", 4.5], [\"QC\", 3.5], [\"QC\", 3.0], [\"OH\", 3.0], [\"AB\", 1.5], [\"NC\", 3.5], [\"AB\", 4.0], [\"ON\", 4.5], [\"ON\", 4.0], [\"OH\", 4.5], [\"NV\", 4.0], [\"QC\", 3.0], [\"NV\", 3.5], [\"AZ\", 4.5], [\"NV\", 4.5], [\"AB\", 3.0], [\"AZ\", 2.5], [\"ON\", 2.0], [\"NV\", 4.5], [\"NC\", 4.0], [\"AB\", 4.0], [\"NV\", 4.0], [\"ON\", 4.0], [\"NV\", 2.5], [\"NV\", 2.5], [\"AZ\", 3.0], [\"NV\", 3.5], [\"QC\", 5.0], [\"ON\", 3.5], [\"QC\", 4.0], [\"OH\", 3.0], [\"NC\", 3.5], [\"OH\", 3.5], [\"OH\", 2.5], [\"ON\", 3.5], [\"OH\", 3.5], [\"AZ\", 4.0], [\"OH\", 4.0], [\"AZ\", 4.0], [\"AB\", 4.0], [\"AZ\", 4.0], [\"NV\", 3.0], [\"ON\", 3.0], [\"ON\", 3.0], [\"ON\", 3.5], [\"AZ\", 3.5], [\"OH\", 4.0], [\"NC\", 3.0], [\"AZ\", 4.0], [\"PA\", 4.0], [\"ON\", 2.5], [\"QC\", 3.5], [\"NV\", 3.5], [\"ON\", 3.5], [\"AB\", 3.5], [\"QC\", 4.0], [\"NV\", 3.5], [\"NC\", 4.0], [\"ON\", 3.5], [\"AZ\", 4.5], [\"PA\", 4.0], [\"QC\", 4.5], [\"OH\", 3.0], [\"AB\", 3.5], [\"OH\", 3.0], [\"QC\", 3.5], [\"ON\", 2.5], [\"ON\", 2.5], [\"OH\", 3.0], [\"NV\", 4.5], [\"NV\", 4.0], [\"ON\", 4.0], [\"ON\", 3.5], [\"ON\", 4.0], [\"NV\", 4.0], [\"ON\", 3.0], [\"ON\", 3.5], [\"QC\", 3.0], [\"PA\", 2.5], [\"AZ\", 3.5], [\"NV\", 2.5], [\"OH\", 4.0], [\"QC\", 2.5], [\"QC\", 4.5], [\"PA\", 3.0], [\"AB\", 3.5], [\"QC\", 2.5], [\"AZ\", 3.0], [\"NC\", 4.5], [\"AZ\", 3.0], [\"AZ\", 2.5], [\"QC\", 1.5], [\"AB\", 4.0], [\"PA\", 3.0], [\"QC\", 3.0], [\"NV\", 4.0], [\"OH\", 3.5], [\"QC\", 3.5], [\"AB\", 4.5], [\"NV\", 3.5], [\"AB\", 3.0], [\"AZ\", 2.5], [\"ON\", 3.0], [\"AZ\", 3.5], [\"NC\", 4.0], [\"QC\", 2.5], [\"OH\", 3.5], [\"NC\", 3.5], [\"NV\", 4.5], [\"WI\", 4.0], [\"NV\", 3.5], [\"OH\", 3.0], [\"OH\", 3.0], [\"NV\", 4.0], [\"QC\", 3.5], [\"ON\", 4.0], [\"ON\", 3.5], [\"OH\", 2.5], [\"ON\", 3.5], [\"AB\", 3.0], [\"IL\", 3.5], [\"AZ\", 3.5], [\"NV\", 3.0], [\"AB\", 4.5], [\"AZ\", 4.0], [\"NV\", 3.5], [\"NC\", 3.5], [\"PA\", 4.0], [\"QC\", 2.5], [\"NV\", 4.0], [\"AZ\", 4.0], [\"NV\", 3.5], [\"AZ\", 4.5], [\"NC\", 4.0], [\"OH\", 4.0], [\"ON\", 3.5], [\"QC\", 3.5], [\"NV\", 4.5], [\"OH\", 4.0], [\"WI\", 3.5], [\"NC\", 3.5], [\"ON\", 3.0], [\"QC\", 4.5], [\"OH\", 4.0], [\"AZ\", 3.0], [\"NC\", 4.0], [\"QC\", 2.5], [\"SC\", 4.0], [\"QC\", 4.0], [\"AB\", 3.5], [\"OH\", 2.0], [\"OH\", 4.0], [\"ON\", 3.5], [\"OH\", 2.5], [\"AZ\", 4.0], [\"OH\", 3.0], [\"NV\", 3.5], [\"NV\", 2.5], [\"PA\", 3.0], [\"QC\", 2.0], [\"PA\", 4.5], [\"NC\", 2.5], [\"AZ\", 3.5], [\"OH\", 2.5], [\"NV\", 4.0], [\"NV\", 3.5], [\"OH\", 4.0], [\"QC\", 3.5], [\"WI\", 3.5], [\"ON\", 3.5], [\"AZ\", 3.5], [\"NV\", 4.5], [\"AB\", 4.0], [\"NV\", 4.0], [\"AZ\", 4.0], [\"AZ\", 3.0], [\"NC\", 3.5], [\"QC\", 4.0], [\"NV\", 4.5], [\"ON\", 2.5], [\"AB\", 3.5], [\"NC\", 2.0], [\"NV\", 4.0], [\"NC\", 4.5], [\"ON\", 4.0], [\"ON\", 4.0], [\"OH\", 2.5], [\"PA\", 4.0], [\"NC\", 3.0], [\"OH\", 3.5], [\"QC\", 3.5], [\"AZ\", 3.0], [\"NV\", 4.0], [\"ON\", 3.5], [\"AZ\", 4.0], [\"QC\", 3.0], [\"AZ\", 4.0], [\"NV\", 4.0], [\"NV\", 4.0], [\"ON\", 4.0], [\"AZ\", 3.0], [\"NV\", 2.5], [\"PA\", 3.0], [\"OH\", 4.5], [\"NV\", 3.5], [\"ON\", 2.5], [\"NV\", 4.5], [\"NC\", 3.5], [\"NV\", 5.0], [\"NV\", 4.0], [\"ON\", 3.5], [\"OH\", 2.5], [\"OH\", 3.5], [\"QC\", 4.0], [\"OH\", 2.5], [\"NC\", 3.0], [\"AB\", 3.5], [\"PA\", 3.0], [\"ON\", 3.5], [\"ON\", 2.0], [\"OH\", 2.5], [\"NC\", 2.0], [\"AZ\", 3.0], [\"NC\", 2.0], [\"WI\", 4.0], [\"AZ\", 2.5], [\"OH\", 3.0], [\"QC\", 3.0], [\"AZ\", 3.0], [\"QC\", 3.5], [\"QC\", 4.0], [\"AZ\", 3.0], [\"QC\", 4.5], [\"NV\", 4.0], [\"AZ\", 2.5], [\"NC\", 3.5], [\"OH\", 3.5], [\"OH\", 4.0], [\"NV\", 4.0], [\"WI\", 4.0], [\"NV\", 4.0], [\"ON\", 2.5], [\"NV\", 2.5], [\"PA\", 3.0], [\"SC\", 3.0], [\"NV\", 4.0], [\"AZ\", 3.5], [\"ON\", 3.0], [\"NV\", 4.0], [\"OH\", 2.0], [\"NV\", 4.0], [\"OH\", 3.5], [\"ON\", 3.5], [\"QC\", 3.0], [\"AZ\", 3.5], [\"AZ\", 3.5], [\"NV\", 3.0], [\"WI\", 3.5], [\"ON\", 4.0], [\"AZ\", 3.5], [\"ON\", 4.0], [\"ON\", 3.0], [\"PA\", 4.0], [\"OH\", 3.5], [\"NV\", 4.0], [\"NV\", 4.0], [\"NV\", 3.5], [\"OH\", 3.5], [\"NC\", 2.5], [\"ON\", 4.0], [\"AZ\", 3.0], [\"AZ\", 4.5], [\"OH\", 3.0], [\"AB\", 4.0], [\"OH\", 3.0], [\"NV\", 3.5], [\"ON\", 4.0], [\"AZ\", 3.5], [\"AZ\", 3.5], [\"ON\", 3.0], [\"AZ\", 3.5], [\"ON\", 2.5], [\"NV\", 3.0], [\"OH\", 4.0], [\"QC\", 3.5], [\"ON\", 3.5], [\"ON\", 3.5], [\"NC\", 3.0], [\"ON\", 3.5], [\"OH\", 3.5], [\"NV\", 3.0], [\"QC\", 2.5], [\"OH\", 3.5], [\"SC\", 3.5], [\"NV\", 3.5], [\"ON\", 3.0], [\"PA\", 3.5], [\"OH\", 3.5], [\"NC\", 3.0], [\"NV\", 2.5], [\"AB\", 2.0], [\"AZ\", 3.5], [\"PA\", 3.0], [\"NV\", 2.5], [\"ON\", 3.5], [\"ON\", 4.0], [\"NV\", 4.0], [\"NC\", 4.0], [\"NV\", 4.0], [\"ON\", 2.5], [\"NV\", 4.5], [\"ON\", 3.0], [\"OH\", 4.0], [\"AZ\", 2.5], [\"AZ\", 2.0], [\"NV\", 2.5], [\"ON\", 3.0], [\"AZ\", 4.0], [\"NV\", 4.5], [\"AB\", 1.5], [\"NC\", 4.5], [\"OH\", 3.0], [\"QC\", 2.5], [\"NC\", 3.5], [\"WI\", 3.5], [\"NV\", 4.0], [\"PA\", 4.0], [\"AZ\", 4.0], [\"NC\", 4.0], [\"AZ\", 2.5], [\"NV\", 3.5], [\"QC\", 3.0], [\"NC\", 3.5], [\"NV\", 3.5], [\"NC\", 3.0], [\"ON\", 3.5], [\"ON\", 3.0], [\"AB\", 2.5], [\"OH\", 2.5], [\"PA\", 4.0], [\"AZ\", 3.0], [\"QC\", 4.5], [\"ON\", 2.0], [\"ON\", 3.0], [\"AB\", 3.5], [\"OH\", 4.0], [\"OH\", 3.5], [\"NV\", 4.0], [\"AB\", 4.0], [\"NV\", 4.0], [\"PA\", 3.0], [\"QC\", 3.0], [\"AZ\", 5.0], [\"AZ\", 4.0], [\"AZ\", 3.0], [\"OH\", 3.5], [\"ON\", 2.5], [\"AZ\", 3.0], [\"NV\", 4.0], [\"AZ\", 2.5], [\"QC\", 3.0], [\"QC\", 3.0], [\"QC\", 3.5], [\"NC\", 3.5], [\"AZ\", 2.0], [\"AZ\", 4.0], [\"NV\", 4.5], [\"AZ\", 4.0], [\"OH\", 2.5], [\"IL\", 3.0], [\"IL\", 2.0], [\"IL\", 3.5], [\"OH\", 3.5], [\"NV\", 4.0], [\"ON\", 3.0], [\"PA\", 3.5], [\"QC\", 3.5], [\"AZ\", 4.0], [\"ON\", 3.5], [\"NC\", 3.0], [\"OH\", 2.0], [\"NV\", 4.0], [\"AZ\", 3.5], [\"AZ\", 3.5], [\"OH\", 3.5], [\"ON\", 3.0], [\"ON\", 4.0], [\"AB\", 3.5], [\"NV\", 4.0], [\"AZ\", 3.5], [\"QC\", 3.5], [\"QC\", 3.5], [\"AB\", 3.5], [\"ON\", 3.5], [\"AZ\", 3.5], [\"QC\", 2.5], [\"AZ\", 4.0], [\"ON\", 4.5], [\"ON\", 3.5], [\"AZ\", 4.0], [\"NC\", 3.5], [\"WI\", 3.0], [\"AZ\", 2.5], [\"NC\", 3.0], [\"PA\", 2.5], [\"WI\", 4.0], [\"OH\", 2.5], [\"NV\", 4.0], [\"AB\", 2.0], [\"ON\", 4.0], [\"OH\", 4.5], [\"AZ\", 4.0], [\"OH\", 3.0], [\"PA\", 3.5], [\"NC\", 4.5], [\"QC\", 3.0], [\"PA\", 3.0], [\"ON\", 3.5], [\"OH\", 3.0], [\"WI\", 3.5], [\"QC\", 3.5], [\"NV\", 3.5], [\"PA\", 4.0], [\"NC\", 3.0], [\"QC\", 4.0], [\"QC\", 3.0], [\"AB\", 3.5], [\"QC\", 3.5], [\"ON\", 4.0], [\"AB\", 3.5], [\"ON\", 4.0], [\"NV\", 3.0], [\"ON\", 3.0], [\"NV\", 4.5], [\"OH\", 3.0], [\"NC\", 1.5], [\"ON\", 4.0], [\"QC\", 3.5], [\"ON\", 4.0], [\"AZ\", 3.5], [\"ON\", 3.0], [\"PA\", 2.5], [\"NC\", 2.5], [\"AB\", 2.5], [\"ON\", 4.5], [\"IL\", 3.5], [\"NV\", 3.0], [\"AZ\", 3.5], [\"NC\", 3.5], [\"AB\", 3.5], [\"AB\", 2.5], [\"QC\", 3.0], [\"NV\", 4.5], [\"QC\", 4.5], [\"AZ\", 2.5], [\"NV\", 4.0], [\"ON\", 3.5], [\"NV\", 3.5], [\"NV\", 4.5], [\"NV\", 3.0], [\"AZ\", 2.5], [\"NC\", 3.5], [\"AB\", 2.0], [\"AZ\", 3.5], [\"IL\", 3.0], [\"PA\", 3.0], [\"PA\", 3.5], [\"NC\", 3.5], [\"QC\", 3.5], [\"AZ\", 2.0], [\"NV\", 3.5], [\"ON\", 3.5], [\"PA\", 3.5], [\"ON\", 3.0], [\"NV\", 4.5], [\"AZ\", 2.5], [\"QC\", 4.0], [\"AZ\", 3.0], [\"NV\", 4.0], [\"NV\", 4.0], [\"AZ\", 3.5], [\"QC\", 3.5], [\"PA\", 2.5], [\"ON\", 2.5], [\"WI\", 2.5], [\"ON\", 3.0], [\"NV\", 4.0], [\"AZ\", 3.5], [\"QC\", 4.0], [\"ON\", 3.5], [\"AB\", 3.5], [\"PA\", 3.5], [\"ON\", 3.5], [\"QC\", 3.5], [\"NV\", 3.0], [\"ON\", 2.0], [\"AZ\", 3.0], [\"ON\", 4.0], [\"NV\", 3.5], [\"QC\", 4.5], [\"SC\", 3.0], [\"AZ\", 3.5], [\"AB\", 3.0], [\"AZ\", 4.0], [\"AZ\", 4.0], [\"AZ\", 2.5], [\"ON\", 4.0], [\"NV\", 3.5], [\"ON\", 2.5], [\"ON\", 3.5], [\"ON\", 3.0], [\"NC\", 3.0], [\"WI\", 4.0], [\"AB\", 3.5], [\"OH\", 4.0], [\"OH\", 4.0], [\"NC\", 3.5], [\"ON\", 3.0], [\"NC\", 3.5], [\"ON\", 2.5], [\"NV\", 4.0], [\"AB\", 3.5], [\"NV\", 3.5], [\"ON\", 3.0], [\"ON\", 3.5], [\"OH\", 3.0], [\"OH\", 3.0], [\"OH\", 3.5], [\"NV\", 4.0], [\"AZ\", 3.5], [\"ON\", 2.0], [\"PA\", 2.5], [\"OH\", 3.5], [\"NV\", 4.0], [\"QC\", 4.0], [\"QC\", 3.5], [\"NC\", 2.0], [\"NC\", 3.0], [\"NV\", 4.0], [\"ON\", 3.0], [\"NC\", 3.0], [\"NV\", 4.0], [\"WI\", 3.0], [\"AZ\", 3.5], [\"NV\", 4.0], [\"ON\", 3.5], [\"NV\", 2.5], [\"AZ\", 2.5], [\"AZ\", 4.0], [\"OH\", 3.5], [\"PA\", 3.5], [\"NC\", 3.5], [\"NV\", 3.5], [\"WI\", 2.5], [\"NV\", 4.0], [\"NV\", 4.0], [\"PA\", 3.5], [\"NC\", 3.5], [\"ON\", 3.0], [\"AZ\", 3.0], [\"ON\", 4.0], [\"AZ\", 2.5], [\"QC\", 4.5], [\"NC\", 3.0], [\"NC\", 3.5], [\"NV\", 4.0], [\"ON\", 3.5], [\"PA\", 3.5], [\"AZ\", 4.0], [\"SC\", 2.5], [\"AZ\", 4.0], [\"QC\", 4.0], [\"AB\", 3.5], [\"ON\", 3.5], [\"AZ\", 3.5], [\"NV\", 3.0], [\"AZ\", 4.0], [\"OH\", 2.5], [\"NC\", 3.0], [\"AB\", 4.0], [\"AB\", 4.5], [\"ON\", 3.5], [\"QC\", 2.5], [\"IL\", 2.0], [\"ON\", 3.5], [\"WI\", 2.5], [\"NV\", 3.0], [\"AB\", 3.0], [\"QC\", 3.0], [\"OH\", 3.5], [\"AZ\", 4.0], [\"QC\", 3.5], [\"NV\", 3.0], [\"NV\", 3.5], [\"AZ\", 3.5], [\"QC\", 3.5], [\"NV\", 4.0], [\"ON\", 3.5], [\"NC\", 3.0], [\"NV\", 3.5], [\"ON\", 3.5], [\"OH\", 3.5], [\"QC\", 3.0], [\"NC\", 2.0], [\"NV\", 4.5], [\"NV\", 4.5], [\"QC\", 4.0], [\"NV\", 3.5], [\"PA\", 3.0], [\"NC\", 2.5], [\"NC\", 4.0], [\"NV\", 4.0], [\"QC\", 4.0], [\"ON\", 4.5], [\"ON\", 3.5], [\"OH\", 3.5], [\"WI\", 2.0], [\"ON\", 4.5], [\"NV\", 4.0], [\"WI\", 2.0], [\"ON\", 3.5], [\"NV\", 4.0], [\"NV\", 4.0], [\"AZ\", 3.0], [\"ON\", 4.0], [\"AZ\", 4.0], [\"AZ\", 4.0], [\"NV\", 4.0], [\"NV\", 3.5], [\"NV\", 4.0], [\"QC\", 3.5], [\"OH\", 3.0], [\"AB\", 4.0], [\"NV\", 3.5], [\"OH\", 3.5], [\"ON\", 4.0], [\"NV\", 4.0], [\"ON\", 3.5], [\"ON\", 3.5], [\"ON\", 3.0], [\"PA\", 3.0], [\"NV\", 4.0], [\"ON\", 4.0], [\"WI\", 3.0], [\"QC\", 3.0], [\"WI\", 4.0], [\"AZ\", 2.5], [\"NC\", 3.0], [\"ON\", 3.5], [\"AZ\", 3.0], [\"NC\", 4.0], [\"WI\", 3.0], [\"ON\", 3.0], [\"AZ\", 4.5], [\"PA\", 3.5], [\"ON\", 3.5], [\"NC\", 4.5], [\"ON\", 3.5], [\"AZ\", 2.5], [\"WI\", 4.0], [\"NV\", 4.5], [\"NV\", 2.0], [\"ON\", 4.0], [\"PA\", 2.0], [\"NV\", 3.5], [\"NC\", 3.0], [\"AB\", 4.0], [\"OH\", 3.0], [\"OH\", 3.0], [\"AZ\", 2.5], [\"ON\", 3.5], [\"AB\", 3.0], [\"AZ\", 4.0], [\"ON\", 4.0], [\"PA\", 3.0], [\"PA\", 2.5], [\"NV\", 4.5], [\"NC\", 3.5], [\"AZ\", 3.5], [\"OH\", 3.5], [\"WI\", 4.0], [\"NV\", 3.5], [\"NC\", 4.0], [\"AZ\", 3.0], [\"NV\", 3.0], [\"AZ\", 3.0], [\"AZ\", 2.5], [\"ON\", 4.0], [\"QC\", 4.5], [\"NC\", 4.0], [\"AZ\", 4.0], [\"NV\", 3.5], [\"PA\", 3.0], [\"PA\", 3.0], [\"OH\", 3.5], [\"AZ\", 3.5], [\"NC\", 2.5], [\"ON\", 4.0], [\"AB\", 4.5], [\"AZ\", 2.5], [\"PA\", 3.0], [\"ON\", 2.0], [\"NV\", 3.5], [\"NV\", 4.0], [\"ON\", 2.5], [\"ON\", 4.0], [\"OH\", 2.5], [\"AZ\", 4.0], [\"NV\", 4.0], [\"NC\", 2.0], [\"OH\", 3.0], [\"QC\", 3.0], [\"NC\", 3.5], [\"OH\", 4.0], [\"QC\", 3.5], [\"AZ\", 3.0], [\"PA\", 2.5], [\"ON\", 4.0], [\"NV\", 4.5], [\"ON\", 4.0], [\"AZ\", 4.0], [\"OH\", 4.0], [\"NV\", 4.0], [\"NV\", 4.0], [\"NV\", 4.5], [\"NV\", 3.5], [\"ON\", 3.0], [\"AB\", 4.0], [\"QC\", 4.5], [\"ON\", 4.0], [\"OH\", 3.5], [\"ON\", 4.0], [\"NV\", 4.0], [\"NV\", 4.5], [\"QC\", 3.5], [\"NV\", 4.0], [\"ON\", 3.0], [\"NV\", 4.0], [\"NV\", 4.0], [\"AZ\", 4.0], [\"QC\", 3.5], [\"NV\", 3.5], [\"AB\", 3.0], [\"NV\", 3.0], [\"ON\", 2.0], [\"OH\", 3.5], [\"SC\", 2.5], [\"AZ\", 3.0], [\"AZ\", 4.0], [\"ON\", 4.0], [\"AZ\", 3.0], [\"NV\", 4.5], [\"AB\", 2.5], [\"AZ\", 4.0], [\"AZ\", 4.5], [\"AZ\", 4.0], [\"OH\", 3.0], [\"QC\", 2.5], [\"ON\", 4.5], [\"AZ\", 2.5], [\"ON\", 2.5], [\"QC\", 4.5], [\"PA\", 4.0], [\"AZ\", 3.5], [\"NV\", 4.0], [\"NC\", 3.5], [\"IL\", 3.0], [\"AZ\", 4.5], [\"AZ\", 3.0], [\"AB\", 3.5], [\"OH\", 3.5], [\"QC\", 2.5], [\"QC\", 4.0], [\"NC\", 3.5], [\"WI\", 3.0], [\"NC\", 3.5], [\"ON\", 2.5], [\"NC\", 4.0], [\"NC\", 3.0], [\"OH\", 4.0], [\"AZ\", 4.0], [\"AZ\", 3.0], [\"NV\", 4.0], [\"OH\", 3.5], [\"AB\", 3.0], [\"QC\", 4.0], [\"AZ\", 3.0], [\"NV\", 4.5], [\"AB\", 3.5], [\"IL\", 3.0], [\"QC\", 3.0], [\"AZ\", 4.0], [\"PA\", 2.5], [\"NC\", 4.0], [\"AZ\", 4.5], [\"OH\", 3.0], [\"NC\", 4.0], [\"PA\", 4.0], [\"AZ\", 3.0], [\"NV\", 3.5], [\"QC\", 2.5], [\"PA\", 3.0], [\"NV\", 4.0], [\"QC\", 4.0], [\"ON\", 3.5], [\"ON\", 3.0], [\"AZ\", 4.0], [\"QC\", 3.5], [\"NV\", 3.5], [\"AB\", 3.5], [\"QC\", 4.0], [\"PA\", 4.5], [\"ON\", 3.5], [\"QC\", 4.5], [\"NV\", 2.0], [\"OH\", 3.5], [\"OH\", 4.0], [\"NV\", 4.0], [\"AZ\", 2.5], [\"OH\", 4.0], [\"NV\", 5.0], [\"AZ\", 4.0], [\"QC\", 3.5], [\"NV\", 3.0], [\"AZ\", 3.5], [\"QC\", 3.5], [\"SC\", 3.0], [\"NV\", 2.5], [\"AB\", 2.5], [\"QC\", 3.0], [\"AZ\", 2.5], [\"NV\", 4.5], [\"NC\", 4.0], [\"NV\", 3.5], [\"AZ\", 3.5], [\"QC\", 4.0], [\"OH\", 3.0], [\"AZ\", 3.0], [\"AZ\", 4.0], [\"ON\", 3.5], [\"NV\", 3.5], [\"QC\", 3.5], [\"AZ\", 4.0], [\"NV\", 2.5], [\"AB\", 3.5], [\"AZ\", 3.5], [\"AB\", 4.0], [\"NV\", 4.0], [\"AZ\", 3.5], [\"QC\", 2.5], [\"AZ\", 4.0], [\"NV\", 4.0], [\"NV\", 4.0], [\"NV\", 4.0], [\"NV\", 3.5], [\"PA\", 3.5], [\"NC\", 3.0], [\"ON\", 3.0], [\"NV\", 2.5], [\"NV\", 4.0], [\"ON\", 3.0], [\"SC\", 3.5], [\"NV\", 4.0], [\"ON\", 3.5], [\"AB\", 3.5], [\"NV\", 4.0], [\"WI\", 3.5], [\"NV\", 4.0], [\"ON\", 3.0], [\"OH\", 3.5], [\"NV\", 4.0], [\"AZ\", 3.5], [\"OH\", 3.5], [\"ON\", 2.0], [\"AZ\", 4.0], [\"ON\", 3.0], [\"AZ\", 4.0], [\"OH\", 3.5], [\"NV\", 4.0], [\"NV\", 4.5], [\"NC\", 4.5], [\"AB\", 3.5], [\"QC\", 4.0], [\"OH\", 3.5], [\"AB\", 3.0], [\"ON\", 3.5], [\"AB\", 4.0], [\"NC\", 3.0], [\"ON\", 3.0], [\"NV\", 3.5], [\"AB\", 3.5], [\"PA\", 3.5], [\"QC\", 4.0], [\"OH\", 3.5], [\"WI\", 3.5], [\"ON\", 3.5], [\"AB\", 3.5], [\"AZ\", 3.5], [\"NV\", 4.0], [\"QC\", 3.5], [\"OH\", 3.5], [\"AZ\", 3.0], [\"ON\", 4.0], [\"AB\", 3.0], [\"ON\", 4.0], [\"ON\", 4.0], [\"OH\", 4.0], [\"ON\", 3.0], [\"ON\", 3.5], [\"AZ\", 4.0], [\"NV\", 4.0], [\"QC\", 4.0], [\"QC\", 3.5], [\"ON\", 3.0], [\"AB\", 4.5], [\"AZ\", 3.5], [\"AZ\", 4.0], [\"AB\", 4.5], [\"NC\", 3.0], [\"ON\", 3.5], [\"AZ\", 2.5], [\"OH\", 4.5], [\"PA\", 3.5], [\"NC\", 4.0], [\"ON\", 3.5], [\"OH\", 5.0], [\"OH\", 3.5], [\"NV\", 4.0], [\"NC\", 4.5], [\"AZ\", 4.0], [\"AZ\", 3.5], [\"QC\", 4.0], [\"NV\", 2.0], [\"ON\", 3.0], [\"QC\", 2.0], [\"AZ\", 3.5], [\"AZ\", 4.0], [\"PA\", 2.5], [\"AB\", 4.5], [\"NV\", 4.0], [\"AZ\", 3.5], [\"NV\", 3.0], [\"NV\", 4.0], [\"NC\", 1.5], [\"NV\", 4.5], [\"NV\", 3.0], [\"AZ\", 2.5], [\"AZ\", 3.0], [\"IL\", 2.0], [\"AZ\", 3.0], [\"SC\", 2.0], [\"PA\", 4.0], [\"NV\", 3.5], [\"ON\", 4.0], [\"IL\", 3.5], [\"QC\", 3.5], [\"AB\", 2.0], [\"AZ\", 2.5], [\"ON\", 4.5], [\"PA\", 4.0], [\"OH\", 2.5], [\"ON\", 3.0], [\"WI\", 3.5], [\"PA\", 4.0], [\"ON\", 4.0], [\"NV\", 4.0], [\"OH\", 3.0], [\"AB\", 3.0], [\"AZ\", 2.5], [\"AB\", 2.0], [\"ON\", 3.0], [\"OH\", 3.0], [\"NV\", 2.5], [\"NV\", 4.5], [\"AB\", 5.0], [\"WI\", 4.0], [\"OH\", 3.0], [\"WI\", 2.5], [\"WI\", 3.5], [\"ON\", 4.0], [\"ON\", 3.0], [\"WI\", 4.0], [\"ON\", 2.5], [\"NV\", 4.5], [\"ON\", 4.5], [\"OH\", 3.0], [\"ON\", 3.5], [\"ON\", 2.5], [\"ON\", 3.0], [\"QC\", 3.5], [\"ON\", 3.5], [\"OH\", 3.5], [\"QC\", 2.0], [\"PA\", 4.0], [\"ON\", 3.5], [\"AZ\", 3.5], [\"ON\", 3.5], [\"NC\", 4.0], [\"OH\", 3.0], [\"PA\", 3.0], [\"OH\", 2.5], [\"AZ\", 3.5], [\"NC\", 4.0], [\"NV\", 3.0], [\"AZ\", 3.0], [\"NV\", 3.0], [\"ON\", 4.0], [\"NV\", 3.0], [\"AZ\", 3.5], [\"ON\", 3.5], [\"PA\", 4.0], [\"QC\", 2.5], [\"ON\", 2.5], [\"NV\", 4.0], [\"ON\", 3.5], [\"NC\", 4.0], [\"NC\", 3.5], [\"NV\", 4.0], [\"NC\", 4.5], [\"IL\", 3.5], [\"AZ\", 3.5], [\"AZ\", 3.5], [\"AB\", 3.5], [\"NV\", 4.0], [\"AZ\", 3.0], [\"PA\", 2.0], [\"PA\", 2.5], [\"OH\", 2.5], [\"ON\", 3.5], [\"QC\", 2.5], [\"AB\", 3.5], [\"NV\", 4.0], [\"WI\", 3.5], [\"QC\", 3.0], [\"NC\", 3.0], [\"AB\", 2.5], [\"OH\", 2.5], [\"NV\", 3.5], [\"QC\", 3.0], [\"AZ\", 3.5], [\"ON\", 3.5], [\"AZ\", 3.0], [\"ON\", 4.0], [\"ON\", 3.0], [\"NC\", 3.0], [\"ON\", 4.0], [\"ON\", 3.0], [\"AZ\", 4.0], [\"NV\", 3.5], [\"OH\", 3.5], [\"OH\", 2.5], [\"AZ\", 4.0], [\"AZ\", 4.0], [\"ON\", 4.0], [\"AZ\", 3.5], [\"AB\", 3.5], [\"OH\", 3.5], [\"NV\", 4.0], [\"OH\", 3.5], [\"NV\", 4.0], [\"ON\", 3.5], [\"PA\", 3.5], [\"AZ\", 2.5], [\"PA\", 2.0], [\"OH\", 4.0], [\"NC\", 3.0], [\"NV\", 4.0], [\"NV\", 3.5], [\"NV\", 3.0], [\"OH\", 4.0], [\"AZ\", 4.0], [\"ON\", 3.5], [\"QC\", 3.5], [\"AB\", 3.5]], \"hoverlabel\": {\"namelength\": 0}, \"hovertemplate\": \"<b>%{hovertext}</b><br><br>review_count=%{marker.size}<br>state=%{customdata[0]}<br>stars=%{marker.color}<br>latitude=%{lat}<br>longitude=%{lon}\", \"hovertext\": [\"Manzetti's Tavern\", \"Medium Rare\", \"TJ's Steakhouse\", \"Empress Court\", \"Auberge du Dragon Rouge\", \"Claim Jumper Restaurant & Saloon\", \"O'malley's Rockcliff\", \"Barbies\", \"Oak Steakhouse Charlotte\", \"Big Foot Smoke House And Bar\", \"Texas Roadhouse\", \"Bertolucci Brazilian Steakhouse\", \"Beso Steakhouse\", \"Steak \\u2019n Shake\", \"Table 31\", \"Lakewood Village Tavern\", \"Mickey & Mooch\", \"Moxie's Grill & Bar\", \"Cabin Club\", \"Mister Steer\", \"Bob Taylor's Ranch House\", \"The Keg Steakhouse + Bar - Pointe-Claire\", \"XXI Chophouse\", \"Saddle Ranch Chop House\", \"Cleaver -  Butchered Meats, Seafood & Cocktails\", \"Magnan\", \"Quaker Steak & Lube\", \"Texas Roadhouse\", \"Black & Bleu American Grill\", \"Roy's Restaurant\", \"P.J. Clarke's New York Chophouse\", \"The Keg Steakhouse + Bar - York Street\", \"Robbie's\", \"Diamond Men's Club\", \"Outback Steakhouse\", \"Lone Star Steakhouse\", \"Applebee's Grill + Bar\", \"Ch\\u00e2teau d'Or\", \"Canyon Creek\", \"Yolie's Brazilian Steak House\", \"Square 22 Restaurant and Bar\", \"Bon App\\u00e9tit Ch\\u00e9ri\", \"Lone Star Steakhouse & Saloon\", \"Wagon Wheel\", \"Hyde Park Prime Steakhouse\", \"Texas Roadhouse\", \"Rincon De Buenos Aires\", \"Central Grille\", \"Chops\", \"Montana's BBQ & Bar\", \"Le Steak Frites St-Paul\", \"Fleming's Prime Steakhouse & Wine Bar\", \"Logan's Roadhouse\", \"The Steakhouse at The Pass\", \"Pickle Bill's Lobster House\", \"Local Jerk\", \"Anthony's Prime Steak & Seafood\", \"Tony Roma's\", \"Maddie's Place\", \"The Rib House Restaurant\", \"Texas Roadhouse\", \"Ric's Lounge & Grill\", \"Old Barber House\", \"Outback Steakhouse\", \"Applebee's Grill + Bar\", \"The Arrogant Butcher\", \"South Philly Steak & Fries\", \"Madisons New York Grill & Bar\", \"MR MIKES SteakhouseCasual\", \"Lodge Wood Fired Grill\", \"Landry's Seafood House\", \"Jim Gould\", \"Shinto Japanese Steakhouse & Sushi Bar\", \"Applebee's Grill + Bar\", \"Fleming's Prime Steakhouse & Wine Bar- Chandler\", \"Jakes Bistro + Bar\", \"Kabuto Japanese Steak House & Sushi Bar\", \"Zero 8\", \"Restaurant Yotis\", \"N9NE Steakhouse\", \"Butch's Saloon\", \"Waverly's Steak House\", \"Black Forest Steak House & Tavern\", \"Hy's Steakhouse & Cocktail Bar\", \"B\\u00e2ton Rouge Steakhouse & Bar\", \"Pasquales on Macleod\", \"Applebee's Grill + Bar\", \"George's Chop House\", \"Brown Derby\", \"Cork's and Stubby's\", \"Steak on a Stone\", \"1800 Degrees\", \"The Guild\", \"Bianca's Ristorante Italiano & Lounge\", \"Little City Grille\", \"IL Forno Italian Restaurant\", \"The Keg Steakhouse & Bar\", \"The Keg Steakhouse + Bar - Place Ville Marie\", \"Sparks Premium Grill + Bar\", \"Ruth's Chris Steak House\", \"Reserve Inn\", \"B\\u00e2ton Rouge Steakhouse & Bar\", \"The Steakhouse at Treasures\", \"The Bourbon Cellar\", \"The Carlton\", \"Eddie V's Prime Seafood\", \"Kelseys Original Roadhouse\", \"Outback Steakhouse\", \"DC Steak House\", \"Outback Steakhouse\", \"Vintage Chophouse & Tavern\", \"Boulder Station Pasta Cucina\", \"Lone Star Texas Grill\", \"The Bistro\", \"Tony Roma's\", \"Michael's Gourmet Room\", \"Applebee's Grill + Bar\", \"Bratenahl Place Bistro\", \"Lone Star Steakhouse & Saloon\", \"Beef 'N Bottle\", \"Hank's Fine Steaks & Martinis\", \"LeVilla Chophouse\", \"The Overlook\", \"Yamato\", \"Teppan Cave\", \"La Luce Ristorante\", \"The Unicorn Restaurant & Pub\", \"Minas Brazilian Steakhouse\", \"Applebee's Neighborhood Grill & Bar\", \"B\\u00e2ton Rouge Steakhouse & Bar\", \"Fleming's Prime Steakhouse & Wine Bar - Las Vegas\", \"A la Fine Pointe\", \"B\\u00e2ton Rouge Steakhouse & Bar\", \"The Place Steakhouse\", \"Oliver's Ale House\", \"Ruth's Chris Steak House\", \"Hawthorn Grill\", \"Feiler's\", \"Mulligans Pub and Grill\", \"The  Landmark Grill\", \"Morton's The Steakhouse\", \"Il Chianti Italian Steak & Seafood\", \"Center Cut Steakhouse\", \"Hyde Park Prime Steakhouse\", \"PORT\", \"Morton's The Steakhouse\", \"Dunn's Famous\", \"The Tillerman\", \"Omaha Steaks\", \"Applebee's Grill + Bar\", \"Blackhorn Steakhouse\", \"Rumfish Grille\", \"Roy's Restaurant\", \"Chili's\", \"TENDER Steakhouse\", \"Boucher Double\", \"Rex's Innkeeper\", \"Maggie Oakes\", \"M'Eat Resto Butcher\", \"Red, the Steakhouse\", \"The Keg Steakhouse + Bar - Yonge + Eglinton\", \"Vina Pizza & Steak House\", \"Montana's BBQ & Bar\", \"Ohjah Japanese Steakhouse Sushi & Hibachi\", \"Ginza of Tokyo\", \"The Monkey Bar\", \"Monterra at WestWorld\", \"Applebee's Grill + Bar\", \"Mesa Grill Co\", \"LongHorn Steakhouse\", \"Johnny's Italian Steakhouse\", \"New Orleans Seafood & Steakhouse\", \"Marble Room Steaks and Raw Bar\", \"The Kitchen Table\", \"The Keg Steakhouse + Bar - Richmond Hill\", \"Texas Roadhouse\", \"Mastro's City Hall\", \"Rise & Shine - A Steak & Egg Place\", \"Steak \\u2019n Shake\", \"TBG's Balkan Steakhouse\", \"The Cabin of Willowick\", \"Homesteads Grill and Taphouse\", \"The Boiler House\", \"Brazas Brazilian Grill\", \"The Bootlegger Italian Bistro\", \"Restaurant Da Vinci\", \"Talavera\", \"Texas de Brazil\", \"FlatIron Kitchen & Taphouse\", \"LongHorn Steakhouse\", \"B\\u00e2ton Rouge Steakhouse & Bar\", \"Canal Street\", \"Union Restaurant & Lounge\", \"Eddie Merlot's - Pittsburgh\", \"Outback Steakhouse\", \"Firebirds Wood Fired Grill\", \"Fleming's Prime Steakhouse & Wine Bar\", \"Black Angus Steakhouse\", \"1130 The Restaurant\", \"Shark Club Sports Bar & Grill\", \"LongHorn Steakhouse\", \"Ann's Chophouse\", \"Dominick's Steakhouse\", \"The Keg Steakhouse & Bar\", \"La Grillia d'Oro\", \"Ken Stewart's East Bank\", \"Pepper Walk\", \"Clearview Restaurant & Pub\", \"Ariel's Grill Point\", \"Kincaid's Classic American Dining\", \"Charleston's\", \"Applebee's Grill + Bar\", \"Sunset Station\", \"Andrew's Steak and Seafood\", \"Social Resto Lounge\", \"Lone Star Texas Grill\", \"Rib 'N Reef Steakhouse\", \"Brown Derby Roadhouse\", \"Pollos LaChuya\", \"Orange Sky\", \"McIntosh's Steaks & Seafood\", \"Tempest Oyster Bar\", \"Gladiator Burger & Steak\", \"Grand View Steakhouse\", \"Buchanan's Chop House Whisky Bar\", \"Sullivan's Steakhouse\", \"Steak \\u2019n Shake\", \"Moishe's Steakhouse\", \"Chuck's Roadhouse Bar and Grill\", \"Cadillac Ranch\", \"Peter's Fine Dining Steak and Seafood\", \"LongHorn Steakhouse\", \"Suki Akor\", \"Homestead Steaks\", \"Vic & Anthony's Steakhouse\", \"Hellriegel's Inn\", \"Texas Roadhouse\", \"Applebee's Grill + Bar\", \"Tomo Sushi & Hibachi\", \"Koto Ramen\", \"TEXAZ Grill\", \"Litchfield's\", \"Yagyu Yakiniku\", \"The Keg\", \"Sakura Sushi & Steakhouse\", \"Saga Hibachi Steakhouse & Sushi Bar\", \"Firebirds Wood Fired Grill\", \"Rio Sabor Brazilian Steakhouse\", \"Topiary's Steak & Seafood\", \"B\\u00e2ton Rouge\", \"Rodizio Grill - Mesa\", \"Texas Roadhouse\", \"Ah-So Sushi & Steak\", \"Twist by Pierre Gagnaire\", \"Restaurant le Rio\", \"Bella Vista\", \"Senior's Dining Nook\", \"Montana's BBQ & Bar\", \"Top of Binion's Steakhouse\", \"The Charcoal Room\", \"Red Carpet\", \"Cuisine & Wine Bistro - Chandler\", \"Omaha Steak House\", \"Hayashi Japanese Steakhouse\", \"Applebee's Grill + Bar\", \"Moxie's Grill & Bar\", \"Shane's Rib Shack\", \"Caesar's Steak House\", \"Fiore's Italian Steakhouse\", \"Serra Gaucha Brazilian Steakhouse\", \"Texas Roadhouse\", \"Le Petit P\\u00eacheur\", \"Stockyards Restaurant\", \"Amor de Brazil\", \"Logan's Roadhouse\", \"Le Montr\\u00e9al\", \"Steak & Cheese Factory\", \"Wild Side Grill\", \"B\\u00e2ton Rouge Steakhouse & Bar\", \"Iberia-Sur Restaurant\", \"Souriana\", \"Milestones Restaurants\", \"Eddie V's Prime Seafood\", \"Barbies\", \"Montana's BBQ & Bar\", \"Moxie's Grill & Bar\", \"Lanning's Restaurant\", \"Chop Steakhouse & Bar\", \"Buck & Honeys\", \"22 Church Steak House\", \"The Keg Steakhouse + Bar\", \"Burger de Ville\", \"Las Brassas Asados y Mariscos\", \"La Piazza\", \"Scotch 80 Prime\", \"Fuegos - Steak Tapas Vegan\", \"Hogtown Smoke\", \"Les Artistes Steakhouse\", \"Le Viking Restaurant & Bar\", \"Lone Star Steakhouse\", \"Levilla Restaurant\", \"Fuji Japanese Restaurant\", \"Binion's Cafe\", \"Buffalo Chip Saloon & Steakhouse\", \"Lone Star Steakhouse & Saloon\", \"Le Vieux Shack - Resto-Bar\", \"Montana Meat Company\", \"B\\u00e2ton Rouge Steakhouse & Bar\", \"Barberian's Steak House\", \"Quinn's Steakhouse & Irish Bar\", \"Fleming's Prime Steakhouse & Wine Bar - Charlotte\", \"Applebee's Grill + Bar\", \"The Keg Steakhouse + Bar - Oakville\", \"High Seas Restaurant\", \"SC Prime Steakhouse & Bar\", \"Lawry's The Prime Rib\", \"Tribune Restaurant & Bar\", \"Zorro's Steakhouse\", \"LongHorn Steakhouse\", \"Triple Crown Bar & Grill\", \"B\\u00e2ton Rouge\", \"Lone Star Texas Grill\", \"Mastro's Ocean Club\", \"Senior's Steak House\", \"LongHorn Steakhouse\", \"Keg Steakhouse & Bar\", \"Texas Ranch Steak House\", \"Applebee's Grill + Bar\", \"Applebee's Grill + Bar\", \"Yard House\", \"Blackstone Steakhouse and Grill\", \"Via Brasil Steakhouse on South Fort Apache and Charleston\", \"Outback Steakhouse\", \"Maxx Seafood & Grill\", \"Top Gun  Burgers\", \"Citizens Kitchen and Bar\", \"Del Frisco's Double Eagle Steakhouse\", \"Ichiban Steakhouse & Sushi Bar\", \"Miami Nights Grill, Bar, & Lounge\", \"Plato\", \"Sea Salt Brazilian Grill\", \"The Haymaker Restaurant\", \"Outback Steakhouse\", \"Moxie's Grill & Bar\", \"Bandera\", \"Ruth's Chris Steak House\", \"North 51 Steakhouse\", \"Montana's BBQ & Bar\", \"Halo Restaurant & Lounge\", \"Affy's Premium Grill\", \"Minder Binder\", \"Applebee's Grill + Bar\", \"Chuck's Roadhouse\", \"Texas Roadhouse\", \"Moxie's Grill & Bar\", \"Country Club\", \"Applebee's Grill + Bar\", \"Twin Creeks\", \"Treasures Gentlemen's Club & Steakhouse\", \"Ichiban Hibachi Steakhouse & Sushi Bar\", \"Sapporo Japanese Steakhouse\", \"Stetson Scottsdale Bar\", \"Smuggler's Inn\", \"Quaker Steak & Lube\", \"Chop Chandler\", \"Carolina Prime Restaurant & Steakhouse\", \"Steaks R US\", \"Corkscrew Saloon\", \"BOA Steakhouse\", \"Piero's Italian Cuisine\", \"Milestones Restaurants\", \"S\\u00e9r\\u00e9nit\\u00e9 Restaurant\", \"Local Bistro\", \"8oz Korean Steak House\", \"Prime Rib Steakhouse\", \"Hot Stone Grill\", \"Tony Roma's\", \"Texas Roadhouse\", \"Mr. Lucky's 24-7\", \"Nouveau Bistro & Lounge\", \"Ruth's Chris Steak House\", \"Camelot Steakhouse\", \"Sizzler\", \"Caledon Burger Co\", \"Bairrada Churrasqueira\", \"Oscar's Steakhouse\", \"STK Las Vegas\", \"Outback Steakhouse\", \"Whistlers Kitchen & Bar Wood-Fired\", \"Green Valley Ranch Resort & Spa\", \"Morels French Steakhouse & Bistro\", \"Wildfish Seafood Grille\", \"Nicky & Smitty's Deli Restaurant\", \"Brooklin Pour House\", \"Center Stage Restaurant\", \"B\\u00e2ton Rouge Steakhouse & Bar\", \"Geisha House Steak & Sushi\", \"Ruth's Chris Steak House\", \"Applebee's Grill + Bar\", \"Ferris Steak House & Tavern\", \"Train 344\", \"Harry's Steakhouse & Banquet Center\", \"Ranchman's Cookhouse & Dancehall\", \"Bonsai Japanese Steak & Sushi\", \"Steak \\u2019n Shake\", \"Steak Supreme\", \"Pampas Churrascaria Brazilian Grille\", \"Neros\", \"Village Tavern\", \"Michael's on Simcoe\", \"Rib Eye Jack's Ale House\", \"Moxie's Grill & Bar\", \"Pinot Brasserie\", \"Donovan's Steak & Chop House\", \"Sushi Rock\", \"Montana's BBQ & Bar\", \"Montana's BBQ & Bar\", \"Big Red's Steaks\", \"Medina Steak and Seafood Company\", \"Grill'n Go\", \"Fiesta Henderson\", \"Mantini's Woodfired\", \"Black Angus Steakhouse\", \"Handlebar J\", \"The Woodshed Restaurant\", \"Little Shmiddy's Hot Meat House\", \"Texas Roadhouse\", \"Bill Johnson's Big Apple Restaurants\", \"Girves Brown Derby\", \"Chejoys\", \"Tilted Grill\", \"R\\u00f4tisserie Scores\", \"Steak And Stone\", \"Tornado Steak House\", \"Webb Custom Kitchen\", \"O Steak\", \"Red The Steakhouse\", \"Red Wheel Restaurant\", \"Montana's BBQ & Bar\", \"Joe Vicari's Andiamo Italian Steakhouse\", \"Yokoso Japanese Steakhouse\", \"Noosa Bistro\", \"Yukon Grille\", \"Outback Steakhouse\", \"LongHorn Steakhouse\", \"Applebee's Grill + Bar\", \"Applebee's Grill + Bar\", \"Sushi Lounge & steakhouse\", \"Boston Steak House\", \"Applebee's Grill + Bar\", \"The Hilltop\", \"Bull & Bird Steakhouse\", \"Texas de Brazil\", \"Pub Victoria\", \"Bourbon & Bones\", \"Restaurant Houston Steaks et Cotes Levees\", \"LongHorn Steakhouse\", \"McCormick & Schmick's Seafood & Steaks\", \"Baxter's American Grille\", \"Fuji Japan\", \"B\\u00e2ton Rouge Steakhouse & Bar\", \"The Tilted Dog Pub & Kitchen\", \"Goen Yakiniku\", \"Commander's Palace\", \"LongHorn Steakhouse\", \"Honmachi\", \"Sonoma Cellar\", \"Outback Steakhouse\", \"Moxie's Grill & Bar\", \"Paradise Farms Prime Beef Bistro\", \"Bill Johnson's Big Apple Restaurants\", \"Rustler's Rooste\", \"40 Westt\", \"Nick's Steak House & Pizza\", \"Louisiana Seafood and Steakhouse\", \"L'Gros Luxe Mile End\", \"Open Range\", \"Windsor\", \"Musashi Japanese Steakhouse\", \"Zero 8\", \"Steak 44\", \"Geisha House Steak & Sushi\", \"Arizona Grand Resort & Spa\", \"Krave Pizza & Bar\", \"Applebee's Grill + Bar\", \"Great Steak\", \"Scorpio Seafood & Steak House\", \"Top Gun Steak & Burgers\", \"Le St Mark\", \"Applebee's Grill + Bar\", \"Klondike\", \"Charley's Philly Steaks\", \"Applebee's Grill + Bar\", \"8 Seasons Grille\", \"The Fire Pit\", \"Calistoga Grill\", \"Rivers Casino\", \"B\\u00e2ton Rouge Steakhouse & Bar\", \"Sushi Tower & Steakhouse\", \"Chart House\", \"Quaker Steak & Lube\", \"Chop Steakhouse & Bar\", \"Outback Steakhouse\", \"Billy Bob's Steakhouse\", \"Chicago Chophouse\", \"Quindici 15\", \"Cowgirls Bar & Grill\", \"Redwood Bar and Grill\", \"Dragonfly Lounge\", \"Harry's Grille & Tavern\", \"Texas de Brazil\", \"Logan's Roadhouse\", \"The Keg Steakhouse + Bar - Esplanade\", \"Biscayne Steak, Sea & Wine\", \"Grandview Saloon\", \"Applebee's Grill + Bar\", \"Charleys Philly Steak\", \"Meat & Potatoes\", \"Applebee's Grill + Bar\", \"Toko Japanese Steak House\", \"Applebee's Grill + Bar\", \"Mariscos Aguachiles Culichi\", \"Kings Corner\", \"Rampart Buffet\", \"Red Rocks Cafe- Charlotte\", \"Kosar's Wood-Fired Grill\", \"Ruth's Chris Steak House\", \"Reef 'n Beef\", \"Girves Brown Derby\", \"The Corned Beef House\", \"Au Vieux Duluth Restaurants\", \"B\\u00e2ton Rouge Steakhouse & Bar\", \"CK's Steak House\", \"Ric's Grill\", \"Omaha Steaks\", \"Murrieta's Bar & Grill\", \"Marron Bistro\", \"Nao\", \"Nemo Grille\", \"The Broiler\", \"Ang\\u00e1\", \"Dessy B's Steak House\", \"Carvalho's Brazilian Kitchen\", \"Jjanga Steak & Sushi\", \"Nick's Steak House & Pizza\", \"Sonny's Steakhouse\", \"Firefly Seafood & Steak House\", \"Costa Del Sol At Sunset Station\", \"Chillfire Bar & Grill\", \"Pampa Brazilian Steakhouse\", \"AquaKnox\", \"Gyubee Japanese BBQ - Downtown\", \"Boulder Station Hotel & Casino\", \"A Cut Above Restaurant\", \"Logan's Roadhouse\", \"House of Lords at Sahara Hotel and Casino\", \"Viana Sol\", \"Lone Star Texas Grill\", \"Les Sottises\", \"Applebee's Grill + Bar\", \"Nakato\", \"Wasabi Japanese Steakhouse\", \"Outback Steakhouse\", \"Gyubee Japanese BBQ - Markham\", \"Stonehouse Grill\", \"Roaring Fork\", \"Wise Guys Lounge & Grill\", \"BBQ House\", \"Redwater Rustic Grille\", \"Modern Steak\", \"Kristofer's Steak House\", \"Chuck's Roadhouse Bar And Grill\", \"Moxie's Grill & Bar\", \"Touro Churrascaria\", \"Monti's La Casa Vieja\", \"El Torito Taqueria Bar\", \"Golden Corral Development\", \"Eddie Merlot's\", \"Elliott's BBQ and Steakhouse\", \"Five Lamps Chophouse & Tavern\", \"St-Charles Steak House\", \"AJ's Steakhouse\", \"Prince Japanese Steak House\", \"Pauls Pizza Steakhouse & Lounge\", \"The Keg Steakhouse + Bar - Laval\", \"The Broiler\", \"Red Rocks Cafe-Huntersville\", \"Black Ox Bistro\", \"The Capital Grille\", \"Cioppino Restaurant & Cigar Bar\", \"Pompette\", \"Fujiyama Steakhouse & Sushi Bar\", \"Saltlik Calgary\", \"Steak \\u2019n Shake\", \"Dunn's Famous\", \"Pure Gold Club\", \"Montana's BBQ & Bar\", \"Quaker Steak & Lube\", \"Carve Prime Rib\", \"Primarily Prime Rib Restaurant\", \"La Castile Steak House & Seafood Restaurant\", \"Copacabana Brazilian Steakhouse\", \"Rio 40 Restaurant\", \"Simon Kitchen and Bar\", \"Wildfire Steakhouse & Wine Bar\", \"The School Fine Dining\", \"Madisons New York Bar & Grill\", \"Outback Steakhouse\", \"Bogey's Steak & Seafood\", \"Tony Roma's\", \"ML Tavern\", \"Barbie's Restaurant\", \"Porto Mar\", \"Saga Hibachi Steakhouse & Sushi Bar\", \"Moxie's Grill & Bar\", \"Dallas BBQ\", \"Kiley's Grill\", \"Dressler's - Charlotte\", \"The Oak Room\", \"Coyoacan Steakhouse\", \"Rouge Boeuf\", \"The Cattlebaron Alberta Steakhouse & Bar\", \"Applebee's Grill + Bar\", \"1909 Taverne Moderne\", \"Marssa\", \"Blake's Seafood Restaurant and Bar\", \"Vargas\", \"Sammy's Chophouse\", \"Tom Colicchio's Heritage Steak\", \"Chestermere Landing Steak House & Wine Bar\", \"Applebee's Neighborhood Grill & Bar\", \"Lone Star Texas Grill\", \"Prankster's Too\", \"Morton's The Steakhouse\", \"Rod\\u00edzio Brasil\", \"John Q's Steakhouse\", \"Hillbilly's Bbq & Steaks\", \"Chef Marc's Trattoria\", \"Fyfe's Corner Bistro\", \"Beso\", \"Applebee's Grill + Bar\", \"Quaker Steak & Lube\", \"Charlie Palmer Steak\", \"Firegrill Steakhouse & Bar\", \"Zet's Restaurant\", \"Texas Pit Restaurant & Bar\", \"Hibachi Japanese Steakhouse\", \"E11even\", \"B\\u00e2ton Rouge\", \"Texas Roadhouse\", \"Meritage - An Urban Tavern\", \"Amigo's Mexican Cantina\", \"Hy's Steakhouse & Cocktail Bar\", \"Fleming's Prime Steakhouse - Scottsdale\", \"Giuseppe's Italian Grille\", \"Caffe Siena\", \"Feng Japanese Steak Hibachi & Sushi House\", \"Steak Frites St-paul\", \"SW Steakhouse\", \"Grape Wine Bistro\", \"Claim Jumper Restaurant & Saloon\", \"Buck & Rider\", \"Ruth's Chris Steak House\", \"Shuhei\", \"Copacabana Brazilian Steak House\", \"Houston Avenue Bar & Grill\", \"Fogo de Ch\\u00e3o Brazilian Steakhouse\", \"Tokyo Hibachi & Sushi\", \"Delaney's Charcoal Steaks\", \"Amber Jack Seafood & Steaks\", \"Chuck's Roadhouse Bar And Grill\", \"Mediterraneo Steakhouse\", \"Sarava At Shaker Square\", \"Outback Steakhouse\", \"Firebirds Wood Fired Grill\", \"Houston Avenue Bar & Grill\", \"Sakura Japanese Steakhouse + Sushi\", \"A l'Os\", \"Scarpetta\", \"Steak \\u2019n Shake\", \"Hyde Park Prime Steakhouse\", \"Ruth's Chris Steak House\", \"Maria's Family Restaurant\", \"Hand Cut Burgers & Chophouse\", \"The Captain's Club\", \"Rhythm Kitchen\", \"TGI Fridays\", \"Saga Hibachi Steakhouse & Sushi Bar\", \"Steak Frites Saint-Paul\", \"Green Forest Churrascaria\", \"Applebee's Grill + Bar\", \"Pinnacle Peak Patio\", \"Outback Steakhouse\", \"Mon Ami Gabi\", \"Off The Strip at the LINQ\", \"Hyde Park Prime Steakhouse\", \"JoBlo\", \"Johnny's Italian Steakhouse\", \"Stakeout Dining Room & Lounge\", \"Ichi Ban Japanese\", \"Ace Of Steaks\", \"Trib Steakhouse\", \"Alan Albert's\", \"Firebirds Wood Fired Grill\", \"Black Angus Steakhouse\", \"Outback Steakhouse\", \"La Carcasse\", \"Ohjah Japanese Steakhouse\", \"Keg Steakhouse & Bar\", \"The Keg Steakhouse + Bar - Calgary\", \"Applebee's Grill + Bar\", \"Larsen's Grill\", \"Primo Prime\", \"Skyline Restaurant\", \"The Church Public Inn\", \"Hibachi Japanese Steakhouse\", \"Fogo de Ch\\u00e3o Brazilian Steakhouse\", \"Riverbleu Steak & Fish\", \"Porter's Steakhouse\", \"Le Milsa\", \"Legends Steak\", \"Medici Cafe and Terrace\", \"Canyon Creek\", \"Preston's Steakhouse\", \"L'Aurochs\", \"The Capital Grille\", \"Ohjah Japanese Steakhouse\", \"Smith & Wollensky\", \"The Shore Club - Toronto\", \"The Lariat Restaurant and Lounge\", \"Xtreme Sushi & Sterling Steakhouse\", \"Outback Steakhouse\", \"C-Town Grill & Bar\", \"Yellowtail by Chef Akira Back\", \"Ruths Chris Steak House Toronto Airport\", \"Kanji Steak and Sushi\", \"Cowboy Steak Chicken Ribs\", \"The Restaurant At Los Prados\", \"Primo's Steakhouse\", \"Kobe Sizzlers\", \"Applebee's Grill + Bar\", \"Zach's Place\", \"Le Milsa\", \"Outback Steakhouse\", \"Outback Steakhouse\", \"D'vine Diner\", \"Outback Steakhouse\", \"Momofuku Daish\\u014d\", \"The Abbey Pub & Steak House\", \"Applebee's Grill + Bar\", \"Shogun\", \"Claim Jumper Restaurant & Saloon\", \"Bull & Barrister Draft House and Grille\", \"The Old Fashioned\", \"Waddells Longhorn Corral\", \"LongHorn Steakhouse\", \"Queue de Cheval\", \"Logan's Roadhouse\", \"Vieux-Port Steakhouse\", \"Caribou Gourmand\", \"Chart House\", \"Gus\", \"Michael T's Steaks, Ribs, & Burgers\", \"Rawhide Steakhouse & Saloon\", \"South Main Kitchen & Tavern\", \"LongHorn Steakhouse\", \"Local Tavern\", \"Golden Steer Steakhouse\", \"Steak Escape West Towne Mall\", \"Morton's The Steakhouse\", \"Montana's BBQ & Bar\", \"Tony Roma's\", \"The Wooden Nickel\", \"Waffle House\", \"THE Steak House\", \"LongHorn Steakhouse\", \"Red Violin\", \"Samurai Japanese Steakhouse & Sushi\", \"Applebee's Grill + Bar\", \"Carve\", \"Henry Wahner's Restaurant & Lounge\", \"Airport Gate Steak and Grill\", \"1909\\u00a0Taverne Moderne\", \"Texas Roadhouse\", \"Outback Steakhouse\", \"Applebee's Grill + Bar\", \"Ruth's Chris Steak House\", \"Small Rooms\", \"Outback Steakhouse\", \"The Keg Steakhouse + Bar - Mansion\", \"Houston Avenue Bar & Grill\", \"The Capital Grille\", \"Taverne Of Richfield\", \"Terzetto\", \"R Steak & Seafood\", \"Outback Steakhouse\", \"Pacers Sports Bar & Grille\", \"Outback Steakhouse\", \"Wildfire Steakhouse & Wine Bar\", \"Trophy's Steakhouse\", \"Cholla Prime Steakhouse & Lounge\", \"LongHorn Steakhouse\", \"Cattlebaron Alberta Steak House and Bar\", \"Fazio's Restaurant\", \"Lakeside\", \"The Keg Steakhouse + Bar\", \"Fire + Spice\", \"Yard House\", \"The Tulip\", \"Outback Steakhouse\", \"Houston Steaks & Ribs\", \"The Garden Grill\", \"Trivs\", \"O'ribs\", \"CopaCabana Brazilian Steakhouse\", \"Aristotle's Steak & Seafood\", \"Nick's Steak & Tap House\", \"Showtime Bistro\", \"LongHorn Steakhouse\", \"Steakhouse at Bill's\", \"Sterlings Steakhouse\", \"Firebirds Wood Fired Grill\", \"Tequila Family Mexican Restaurant\", \"Legends Steak and Seafood\", \"T-Bones Sizzling Steaks & Burgers Drive-In Restaurant\", \"Ditka's\", \"XO Prime Steaks\", \"Logan's Roadhouse\", \"LVH - Las Vegas Hotel & Casino\", \"Montana's BBQ & Bar\", \"Black Angus Steakhouse\", \"Katana\", \"Fiesta Rancho\", \"Terrace On the Green\", \"Iggy's Grill Bar Patio at Lionhead\", \"DeSimone's Steakhouse\", \"Ruth's Chris Steak House\", \"Yard House\", \"Arizona Grill Lounge\", \"Zest - Bistro & Bar\", \"Lone Star Texas Grill\", \"Strip\", \"Speakeasy Saloon and Grill\", \"Applebee's Grill + Bar\", \"Kelly's Prime Steak & Seafood\", \"Cafe Arc De Triomphe\", \"Bourbon Steak\", \"MB Steak\", \"Cowboys Tap House And Grill\", \"The Capital Grille\", \"Wasabi Japanese Steakhouse\", \"Chenoy's Delicatessen\", \"Ranch House\", \"Smoky's Club\", \"Old Homestead Steakhouse\", \"Tessaro's\", \"The Keg Steakhouse + Bar\", \"LongHorn Steakhouse\", \"Applebee's Grill + Bar\", \"The Charcoal Room\", \"Kaizen Sushi Bar & Bio Gourmet Restaurant\", \"Brazz Carvery & Brazilian Steakhouse\", \"Switch Steak\", \"Outback Steakhouse\", \"Carmen's Steak House\", \"Chop Steakhouse & Bar\", \"Avenue 16 Kitchen & Bar\", \"Harry Buffalo\", \"Outback Steakhouse\", \"Remington's Restaurant\", \"Cru\", \"Wendel Clark's Classic Grill and Sports Lounge\", \"Moxie's Grill & Bar\", \"Bolero\", \"Parker's Grille & Tavern\", \"Wasabi Japanese Steak House\", \"The Wrangler\", \"OMO Teppan and Kitchen\", \"Hokkaido Teppanyaki Steak House\", \"Lone Star Steakhouse\", \"Fire Grill\", \"Lakeside Grill Estrella\", \"Yellowtail Sushi & Steak\", \"Ben & Jack's Steakhouse\", \"Toko Japanese Steak House\", \"Affy's Premium Grill\", \"Carvers Steaks & Chops\", \"Archi's Thai Kitchen\", \"Steaks R US\", \"Towne380\", \"Steak House Village\", \"L'Atelier d'Argentine\", \"LongHorn Steakhouse\", \"Ichi Ban Japanese Restaurant\", \"Ah-So\", \"The Capital Grille\", \"Philly Steak & Wings\", \"Applebee's Grill + Bar\", \"Montana Mike's\", \"Ryan's\", \"Hamilton Walker's\", \"Samurai Sushi and Steakhouse\", \"Picanha Steak Truck\", \"B\\u00e2ton Rouge Steakhouse & Bar\", \"Cannon's Chop House\", \"Serano\", \"Eddie V's Prime Seafood\", \"Chop Steakhouse & Bar\", \"Kabuto Japanese Steakhouse And Sushi Bar\", \"Lone Star Steakhouse\", \"Andiron Steak & Sea\", \"Saddle Ranch Chop House\", \"Pink Pony\", \"Nobu Tei\", \"Sizzlers\", \"Canyon Creek\", \"ParkerHouse Grill & Wine Bar\", \"McCall's Heartland Grill\", \"Fleming's Prime Steakhouse - Scottsdale\", \"Reuben's\", \"Papa Luigi\", \"Chalks Billiards\", \"Love Me Tender - Steakhouse\", \"Market Street Kitchen\", \"Les Voltigeurs Restaurant\", \"Roy's Restaurant\", \"Toro Wine bar\", \"Marvelous Asian Cuisine\", \"Mancuso's Restaurant\", \"Port City Club\", \"Outback Steakhouse\", \"Applebee's Grill + Bar\", \"Steak \\u2019n Shake\", \"Cadillac Ranch\", \"Wonder Bar Steakhouse\", \"Steak On a Stone\", \"Geisha House Steak & Sushi\", \"Montana's BBQ & Bar\", \"Chop Steakhouse & Bar\", \"Casey Jones Tavern\", \"Mastro's Steakhouse\", \"Applebee's Grill + Bar\", \"Quaker Steak & Lube\", \"Saveeda's American Bistro\", \"CrocoGrill\", \"Atria's Restaurant\", \"Steak Queen\", \"Hibachi Japan Steak House\", \"Texas Roadhouse\", \"La Banquette\", \"FIX\", \"Charya's\", \"Applebee's\", \"Gibbys\", \"Diablos\", \"Chicago Chophouse\", \"Steak Frites\", \"Onion Steak and Seafood\", \"Bottlescrew Bill's Pub / Buzzards Restaurant & Bar\", \"Lonestar Texas Grill\", \"Outback Steakhouse\", \"Baton Rouge Restaurant\", \"Echo & Rig\", \"Buccis\", \"Forty Rod Roadhouse\", \"Morton's The Steakhouse\", \"Da Silva\", \"The Keg Steakhouse & Bar\", \"LongHorn Steakhouse\", \"Manhattan Classic Grill\", \"Applebee's Grill + Bar\", \"Moe's Southwest Grill\", \"Tony Roma's\", \"Morso Me\", \"Outback Steakhouse\", \"Brazilian Grill\", \"LongHorn Steakhouse\", \"Old Stone Steakhouse\", \"Wellington's of Calgary Dining & Lounge\", \"The Metropolitan\", \"Le Bifth\\u00e8que\", \"Village Steakhouse\", \"Restaurant la Boh\\u00e8me\", \"Applebee's Grill + Bar\", \"Don B's Steakhouse\", \"Tom Jones Steakhouse & Seafood\", \"Montana Meat Company - Durango\", \"Joes Seafood Prime Steak & Stone Crab\", \"Rare 120\", \"Brazilian Bull Steakhouse\", \"Sake Express\", \"Halo\", \"Steak And Stone\", \"LongHorn Steakhouse\", \"LongHorn Steakhouse\", \"Atria's Restaurant\", \"Evoke\", \"Grillades Torino\", \"Applebee's Grill + Bar\", \"Vegas CheeseSteaks\", \"Centro Restaurant & Lounge\", \"Armstrong's\", \"Master Steaks\", \"Del Frisco's Double Eagle Steakhouse\", \"Cowgirls Steakhouse and Saloon\", \"Les Deux Fours\", \"Bobby's Restaurant and Lounge\", \"Gordon Ramsay Steak\", \"Embers\", \"Kasai Asian Grill\", \"Madisons\", \"Steel City Steak House\", \"Tony Roma's\", \"Outback Steakhouse\", \"Lone Star Texas Grill\", \"Pullman Grille\", \"Shula's Steak House\", \"Bulldog Beer House\", \"Moxie's Grill & Bar\", \"Border Crossing\", \"Skyvue Restaurant\", \"Trio Restaurant & Lounge\", \"Grinder\", \"Steak\", \"Wendel Clark's\", \"Rawhide At Wild Horse Pass\", \"The Keg Steakhouse + Bar\", \"The Flame Steakhouse\", \"Boeuf Cochon\", \"Outback Steakhouse\", \"JC's Steakhouse\", \"The Keg Steakhouse + Bar - Mount Royal\", \"Zoes Kitchen\", \"Don & Charlie's\", \"3 Margaritas\", \"4u2 Shawarma & Steak\", \"Prime Rib Loft\", \"The Bottom Line\", \"Canyon Creek\", \"Lone Star Texas Grill\", \"Outback Steakhouse\", \"Rare Steakhouse\", \"Odyssey Pizza and Steakhouse\", \"Fleming's Prime Steakhouse & Wine Bar- Akron\", \"Texas de Brazil\", \"Kasper's Grill\", \"The Waterfront\", \"SouthPark Grill\", \"Texas Longhorn\", \"Cornerstone\", \"The Keg Steakhouse + Bar - Marlborough\", \"Geisha House Steak & Sushi\", \"Miller Tavern\", \"Mendoza's Cuisine\", \"Brasa Grill\", \"Outback Steakhouse\", \"Ken Stewart's Lodge\", \"Oakville Steakhouse\", \"Yard House\", \"Montana's BBQ & Bar\", \"Applebee's Grill + Bar\", \"Outback Steakhouse\", \"Onion Steak Sub\", \"Le Saint-Bock\", \"La Belle et la Boeuf\", \"Applebee's Neighborhood Grill & Bar\", \"Ted's Montana Grill - Waverly\", \"Herbs & Rye\", \"Turtle Jack's Muskoka Grill\", \"The Captain's Cap\", \"MRKT\", \"Mc Govern's Club and Restaurant\", \"Harold's Corral\", \"Botero\", \"The Lake Grill\", \"Applebee's Grill + Bar\", \"Applebee's Grill + Bar\", \"Paul Martin's American Grill\", \"Girves Brown Derby\", \"Ichiban Hibachi Steakhouse\", \"Texas Roadhouse\", \"Bally's Steakhouse\", \"Porta Bella Italian Restaurant\", \"CUT by Wolfgang Puck\", \"Lone Star Steakhouse & Saloon\", \"LongHorn Steakhouse\", \"The Palm Charlotte\", \"Cafe 28\", \"Great Steak\", \"Leyle's Restaurant\", \"Applebee's Grill + Bar\", \"B\\u00e2ton Rouge Steakhouse & Bar\", \"Captains Galley Seafood Shack\", \"Gallery Restaurant\", \"The Angry Butcher\", \"Hibachi\", \"Hoss's Steak & Sea House\", \"Morton's The Steakhouse\", \"Steak \\u2019n Shake\", \"Firebirds Wood Fired Grill\", \"The Keg Steakhouse + Bar - Montreal\", \"Caesar's Steak House\", \"Baldwins Steakhouse & Bar\", \"Texas Roadhouse\", \"Monstah Lobstah\", \"Durant's\", \"Applebee's Grill + Bar\", \"McCormick & Schmick's Seafood & Steaks\", \"Modern Steak\", \"Ochre Grill\", \"BlueBlood Steakhouse\", \"Casey's\", \"Applebee's Grill + Bar\", \"Joe Mamas\", \"Fitzgerald's\", \"Cabo Mexican Restaurant\", \"Montana's BBQ & Bar\", \"Le Steak Frites\", \"Nineteen10\", \"Charleston's\", \"Le Bordelais\", \"Samba\", \"The Carmel Room\", \"Texas Roadhouse\", \"Toyo Japanese Steak House\", \"Prime\", \"Oscar's Roadhouse\", \"Embassy Suites by Hilton Charlotte\", \"T-Bones Chophouse\", \"Montana's BBQ & Bar\", \"Ballantine\", \"Houston\", \"The Captain's Cap\", \"Mastro's Ocean Club\", \"Ohjah Japanese Steakhouse Sushi & Hibachi Flamingo\", \"L'Entrec\\u00f4te Saint-Jean\", \"Scratch House Restaurant\", \"Ditka's Restaurant - Wexford\", \"Smokey Bones Bar & Fire Grill\", \"Chima Steakhouse\", \"Hikari\", \"Les Tetes De Cochon\", \"The Keg Steakhouse + Bar - Ajax\", \"Chartreuse\", \"Tavolo 72\", \"Applebee's Grill + Bar\", \"Etob Restaurant\", \"Straight From Philly\", \"Applebee's Grill + Bar\", \"The Brock House\", \"Ron's Steakhouse\", \"The Barrymore\", \"Outback Steakhouse\", \"Black Angus Steak House\", \"Roka Akor - Scottsdale\", \"Fleming's Prime Steakhouse - Peoria\", \"ENVY The Steakhouse\", \"Carnevino\", \"Brand Steakhouse\", \"B\\u00e2ton Rouge Steakhouse & Bar\", \"Applebee's Grill + Bar\", \"Charcut Roast House\", \"Outback Steakhouse\", \"Ferris Steak House\", \"Gabriel's Restaurant Bar & Grill\", \"Hitchin Post Saloon & Steakhouse\", \"Shake Rabble & Roll\", \"Canyon Creek\", \"Windsor Arms Hotel\", \"Applebee's Grill + Bar\", \"The Range Steakhouse\", \"Hot Stove Club\", \"Quaker Steak & Lube\", \"Steak Frites\", \"Johnny Delmonico's Steakhouse\", \"3 Margaritas\", \"Beantown Tavern\", \"Canyon Creek\", \"Ditka's Restaurant\", \"Dressler's Restaurant - Birkdale Village\", \"Kavanaugh's Esquire Club\", \"lbs. Restaurant\", \"La Tradicion Restaurant\", \"Texas Roadhouse\", \"Moxie's Grill & Bar\", \"Eddie V's Prime Seafood\", \"Moxie's Grill & Bar\", \"Applebee's Grill + Bar\", \"Otto's Restaurant & Bar\", \"Vila Algarve\", \"Philly Steak and Pizza Express\", \"Smith Bros.\", \"Steak N Shake\", \"Simon Restaurant and Lounge\", \"Texas Land & Cattle\", \"Madrina Italian Steakhouse and Lounge\", \"LongHorn Steakhouse\", \"Moss' Prime Rib & Spaghetti House\", \"Silver Spur Saloon & Restaurant\", \"B\\u00e2ton Rouge Steakhouse & Bar\", \"Tony Roma's\", \"Ruth's Chris Steak House\", \"Pearl Diver\", \"Pittsburgh Chop House\", \"Pittsburgh Rare\", \"Edge Steakhouse\", \"LongHorn Steakhouse\", \"Black Angus Steakhouse\", \"Arashi Japan Sushi & Steak House\", \"Prime Quarter Steak House\", \"VooDoo Rooftop Nightclub & Lounge\", \"The Porter's House\", \"Iguana Mack's\", \"Outback Steakhouse\", \"Desert Dave's\", \"The Roadhouse Cafe\", \"Cagneys Steakhouse & Wine Bar\", \"Madison's NY Grill & Bar\", \"Firebirds Wood Fired Grill\", \"Ocean Prime\", \"Claim Jumper Restaurants\", \"Donatos Fox Chapel\", \"McCormick & Schmick's Seafood & Steaks\", \"The Flying Rib\", \"Joe's Philly Steak & More\", \"Kabuto Japanese Steakhouse and Sushi Bar\", \"17 Steakhouse and Bar\", \"Dover Pizza & Steak House\", \"Red's Steakhouse\", \"Quaker Steak & Lube\", \"Blackod Steak and Fish House\", \"Jin's Kitchen and Club\", \"Top of the World\", \"Montana's BBQ & Bar\", \"Trafalgar Steakhouse & Grill Restaurant\", \"Charleys Philly Steaks\", \"Hillstone Restaurant\", \"Toscano Italian Steakhouse\", \"Applebee's Neighborhood Grill & Bar\", \"Applebee's Grill + Bar\", \"Le Darlington\", \"Mickey & Mooch\", \"Don's Pomeroy House\", \"Baba\", \"Rock & Vine Bar and Grill\", \"Pittsburgh Steak Company\", \"The Keg Steakhouse + Bar\", \"Americana\", \"Biagio Ristorante\", \"Rokerij\", \"The Capital Grille\", \"Bazaar Meat by Jos\\u00e9 Andr\\u00e9s\", \"Geri's Olde Philadelphia Restaurant\", \"Magal BBQ\", \"VooDoo Steakhouse\", \"Montana's BBQ & Bar\", \"Tango Bistro\", \"ONoir\", \"Chick Fiesta\", \"Gamekeeper's Taverne\", \"Branca\", \"Second Street Grill\", \"Bavette's Steakhouse & Bar\", \"Moxies Grill and Bar\", \"The Backroom\", \"B\\u00e2ton Rouge Steakhouse & Bar\", \"Fellini's Ristorante\", \"Essence and Herbs\", \"The Keg Steakhouse + Bar\", \"Madisons N Y Bar & Grill\", \"Binion's Gambling Hall\", \"MR MIKES SteakhouseCasual\", \"Applebee's Grill + Bar\", \"Rich II Fine Cuisine\", \"Great Scott Tavern\", \"T-Bones On the Lake\", \"Sizzler\", \"Fogo de Ch\\u00e3o Brazilian Steakhouse\", \"Nove Ristorante\", \"Reata Pass Steakhouse\", \"Ohjah Japanese Steakhouse Hibachi\", \"Moxie's Grill & Bar\", \"Yard House\", \"Sushi Fix\", \"Feeney's Restaurant and Bar\", \"Wild Eagle Steak & Saloon\", \"Steak Frite St-Paul Village\", \"Jacobs & Co. Steakhouse\", \"Applebee's Grill + Bar\", \"Texas Longhorn\", \"40 Northh\", \"Silk Road Gourmet Chinese\", \"Carrabba's Italian Grill\", \"Austins Steakhouse\", \"Texas Roadhouse\", \"Lone Star Steakhouse & Saloon\", \"Restaurant Progress\", \"Carvers Steakhouse\", \"The Keg Steakhouse + Bar - Macleod Trail\", \"The Black Iron Grille\", \"Houston Avenue Bar & Grill - Quartier DIX30\", \"Reuben's Deli & Steakhouse\", \"The Speedway Club\", \"Watertower Chop House\", \"Hillbilly's Barbeque & Steaks\", \"Montana's BBQ & Bar\", \"Miki's Restaurant\", \"Red Ginger\", \"Red The Steakhouse\", \"Verona Chophouse\", \"Max Sports Grille\", \"Tom Colicchio's Craftsteak\", \"Fleming's Prime Steakhouse - Woodmere\", \"Montana's BBQ & Bar\", \"Joe Beef\", \"LongHorn Steakhouse\", \"Redwood Steakhouse\", \"Ric's Grill\", \"Alexander's Steakhouse\", \"Vertigo\", \"Charleston's\", \"DragonFire Steakhouse\", \"Global Restaurant\", \"Bobby Q - Biltmore\", \"Brown Derby\", \"Choplin's Restaurant\", \"Ruths Chris Steak House\", \"Bill Johnson's Big Apple Restaurants\", \"Crossroads Restaurant & Bar - Las Vegas\", \"B\\u00e2ton Rouge Steakhouse & Bar\", \"McCormick & Schmick's Seafood & Steaks\", \"BLT Steak\", \"Le Steak Frites St-Paul\", \"Moxie's Grill & Bar\", \"Prime\", \"Kingo Bowl\", \"Universel\", \"Outback Steakhouse\", \"XS Lounge and Grill\", \"Delibee's\", \"Watami Hibachi Steakhouse\", \"The Keg Steakhouse & Bar\", \"Ta Pies\", \"Applebee's Grill + Bar\", \"Steak on a Stone\", \"Ken Stewart's Grille\", \"Redstone Grill\", \"Applebee's Grill + Bar\", \"Timber Lodge\", \"Texas Roadhouse\", \"The Keg Steakhouse + Bar\", \"Brasserie Capri\", \"Chophouse & Brewery\", \"LongHorn Steakhouse\", \"Moe's Bar et Grill\", \"City Tavern\", \"Applebee's Grill + Bar\", \"Moxie's Grill & Bar\", \"Vertigo\", \"Applebee's Grill + Bar\", \"Straight From Philly Steakout\", \"Pier 51 Seafood Restaurant\", \"FireRock Steakhouse\", \"Texas Roadhouse\", \"Restaurant Rube\", \"Outback Steakhouse\", \"T-Bone Steakhouse\", \"BLT Steak, Scottsdale\", \"Moxie's Grill & Bar\", \"Cortez Room\", \"B\\u00e2ton Rouge Steakhouse & Bar\", \"Arrowhead Grill\", \"Applebee's Grill + Bar\", \"Redwater Rustic Grille\", \"The Melting Pot\", \"The Keg Steakhouse + Bar - Crowfoot\", \"Yard House\", \"Desert Rose Steakhouse\", \"Le Biftheque\", \"Cork'n Cleaver\", \"Delmonico Steakhouse\", \"Cadillac Mexican Kitchen & Tequila Bar\", \"Stack Restaurant & Bar\", \"Steakhouse 46\", \"Revel\", \"Char Bar No 7\", \"Montana's BBQ & Bar\", \"Palace Station Hotel & Casino\", \"Fuego Steakhouse\", \"Braised Bull Steakhouse\", \"The Cove\", \"The Palm Las Vegas\", \"Moxie's Grill & Bar\", \"Oceana Seafood Steakhouse & Bar\", \"Strip House\", \"Capitol ChopHouse\", \"Red Square Restaurant & Vodka Lounge\", \"Day & Night Angus Steak Raw Bar\", \"Shogun Japanese Steak House\", \"StripSteak\", \"Charleys Place\", \"Rusty Anchor\", \"Montana's BBQ & Bar\", \"Frasher's Steak House & Lounge\", \"The Miller Tavern\", \"J & G Steakhouse\", \"Don's Lighthouse\", \"Todd's Unique Dining\", \"El Congo Restaurant\", \"Michael Arthurs Pub\", \"The Keg Steakhouse + Bar - Stadium\", \"Gibbys\", \"Cleveland Chop\", \"Mother Tucker's\", \"The Keg Steakhouse & Bar\", \"Carver's Steakhouse\", \"Outback Steakhouse\", \"Rodeo Brazilian Steakhouse\", \"Jean Georges Steakhouse\", \"JOEY Barlow\", \"Morton's The Steakhouse\", \"B & M Restaurant\", \"Texas Roadhouse\", \"Mariners\", \"Bardi's Steak House\", \"Swine & Sow Wine & Ale House\", \"Bill Johnson's Big Apple Restaurants\", \"Fogo de Ch\\u00e3o Brazilian Steakhouse\", \"Tiffany's\", \"XO Seafood & Oysters\", \"Hole-in-the-Wall\", \"Steak Pit Restaurant\", \"Moxie's Grill & Bar\", \"Hendriks Restaurant & Bar\", \"Hibachi Teppanyaki & Bar\", \"Texas De Brazil\", \"Moxie's Grill & Bar\", \"Harbour 60\", \"Houston's Restaurant\", \"Eiffel Tower\", \"Wilfrid sur Laurier\", \"Jargo\", \"STK Toronto\", \"Gyu-Kaku Japanese BBQ\", \"Zoes Kitchen\", \"Indigo Crow Restaurant & Bar\", \"The ROCK Cafe & Restaurant\", \"Golden Corral Family Steak House\", \"The Octagon Restaurant\", \"Applebee's Grill + Bar\", \"Bistro 70\", \"Hoss's Steak & Seahouse\", \"Bentley's on 27\", \"The Portuguese Chicken Guys\", \"Lancer's Bar & Lounge\", \"Delmonico's Steakhouse\", \"Veloce Restaurant\", \"The Steak Valet by Choplins\", \"The Keg Steakhouse + Bar\", \"The Horny Toad\", \"Douze Vingt-et-Un Steakhouse & Cigar Bar\", \"Charley's Grilled Subs\", \"Peppercorn Steak and Seafood\", \"Manhattan Steak House\", \"Osaka P83\", \"Village Tavern\", \"Sammy's Famous Corned Beef\", \"The Keg Steakhouse & Bar\", \"Gallagher's Steakhouse\", \"Texas Roadhouse\", \"Hyakumi Japanese Restaurant & Sushi Bar\", \"Sevens Steakhouse\", \"Applebee's Grill + Bar\", \"Alder & Birch\", \"Guadalajara\", \"Applebee's\", \"Claim Jumper Restaurant & Saloon\", \"Applebee's Grill + Bar\", \"Sizzler\", \"Twin Rivers\", \"Palmieri's Restaurants\", \"Silver Nugget Steak House\", \"The Keg Steakhouse + Bar - Estate Drive\", \"Timpone's\", \"Barbie's\", \"The Bank Restaurant\", \"Applebee's Grill + Bar\", \"The Toston\", \"Atami Japan\", \"Applebee's Grill + Bar\", \"All Star Wings & Ribs\", \"LongHorn Steakhouse\", \"The Lot at Edgewater\", \"The Fifth & Terrace\", \"35 Steaks + Martinis\", \"Applebee's Grill + Bar\", \"Tops Pizza & Sports Bar\", \"Italian Grotto\", \"Tony Roma's\", \"Day & Night Firewood Steakhouse\", \"Austin's Smokin' Steakhouse\", \"Santa Fe Station Hotel & Casino\", \"Hugo's Cellar\", \"The Rock\", \"A La Brasa Mexican Grill\", \"Rodizio Grill\", \"Full Of Bull Famous Roast Beef\", \"Sumo Japanese Steakhouse & Sushi Bar\", \"Brother's Restaurant\", \"Lone Star Texas Grill\", \"Steak Escape East Towne Mall\", \"Ballers' Bistro\", \"Roberta's Steakhouse\", \"Sahan Restaurant\", \"Shula's 2\", \"Paradise Farms Prime Beef Bistro\", \"Lone Star Texas Grill\", \"Purple Onion Restaurant\", \"R\\u00f4tisserie St-Hubert\", \"Backwood Smokehouse\", \"LongHorn Steakhouse\", \"Mortys Steakhouse Restaurant\", \"Hyde Park Prime Steakhouse\", \"Haze Lounge\", \"Cartwright's Modern Cuisine\", \"Dickens Cafe\", \"T2C Smokehouse\", \"Steak Eez\", \"The Groove Cheesesteak Co\", \"Applebee's Grill + Bar\", \"Black Angus Steakhouse\", \"Miro Spanish Grille\", \"Applebee's Grill + Bar\", \"Ooka Hibachi\", \"Claim Jumper Restaurant & Saloon\", \"Beff Pan Steak And Roll House\", \"Phil's Italian Steak House\", \"Logan's Roadhouse\", \"Parisco Cafe\", \"Sushi Bomb\", \"Rouge Boeuf\", \"Bill's Pit\", \"Silverado Steakhouse\", \"Ruth's Chris Steak House\", \"BLT Steak\", \"McCormick & Schmick's Seafood & Steaks\", \"Restaurant Charlie\", \"Fiesta Mexicana Grill\", \"The Ribeye\", \"Del Frisco's Grille\", \"Wagon Yard\", \"Matador Pizza & Steak House\", \"Triple George Grill\", \"Ah-So Sushi & Steak\", \"Coal Hill Steakhouse at Grandview Saloon\", \"Pittsburgh Steak Company\", \"Creo's Steakhouse\", \"Moxie's Grill & Bar\", \"Fuego Steakhouse & Poissons Frais\", \"Charbar\", \"Social\", \"Coach's Club\", \"Le Grill Barroso\", \"FATZ Cafe\", \"Moxie's Grill & Bar\", \"Steak \\u2019n Shake\", \"Siegel's 1941\", \"Le Steak Frites\", \"Zoes Kitchen\", \"Grillin Hut\", \"Outback Steakhouse\", \"The Keg Steakhouse & Bar\", \"Montana's BBQ & Bar\", \"Outback Steakhouse\", \"Gazebo Burgers & Grill\", \"Charley's Steakery\", \"Zoes Kitchen\", \"Beer Park\", \"Jekyll's Kitchen\", \"Applebee's Grill + Bar\", \"Osaka Japanese Steakhouse\", \"The Mission at Minder Binder\", \"The Keg Steakhouse + Bar - Leslie\", \"Arby's\", \"Japanese Village\", \"Urban Farmer\", \"Tenaya Creek Brewery\", \"Ginza Sushi House\", \"BARDOT Brasserie\", \"The Keg Steakhouse + Bar - Bloor West Mall\", \"Texas Roadhouse\", \"Donovan Steakhouse\", \"Applebee's Grill + Bar\", \"Wasabi Japanese Steakhouse\", \"LongHorn Steakhouse\", \"Cover Girls Gentlemen's Club & Steakhouse\", \"Kokomo's Steak & Seafood\", \"RARE Fine Steak, Wine & Lounge\", \"Urban Roadhouse\", \"Pita Palms\", \"Walkers Wine Bar & Grill\", \"Madisons NY Bar& Grill\", \"Ric's Lounge & Grill\"], \"lat\": [35.156338, 43.63887929999999, 36.1362575, 36.1161559, 45.547261999999996, 33.4630705155, 41.470568, 45.678745491099995, 35.1466338, 44.052445500000005, 33.6321621, 36.074289, 36.108999, 40.5700855645, 35.527089694000004, 41.476796, 35.0960065, 50.981476435, 41.460555600000006, 45.498739, 36.2747255482, 45.4640803605, 43.8438185, 33.5329519271, 36.1188165, 45.4794934, 41.6577255335, 33.338335863800005, 33.5813336, 36.115156899999995, 36.118399, 43.6499945, 45.375821, 41.4932113, 36.1035296, 35.02016, 35.0857094, 45.6193537, 43.6139172, 36.11654, 41.3160058, 45.5491665, 35.0883861, 33.817695, 41.4975081374, 40.369471999999995, 36.126315000000005, 33.5612361, 45.483104, 51.01958194310001, 45.8918264, 43.0747399, 33.434038710100005, 35.972629, 41.742281266599996, 45.5171696, 35.9650514289, 51.0798557, 45.401767299999996, 43.6932653, 33.7149105285, 51.0712956286, 43.5718280657, 33.3937655, 33.637735, 33.4473917315, 40.3431797, 45.497072100000004, 51.167668342700004, 35.3611081, 36.144997, 40.1182231, 41.293935, 41.1662529958, 33.3185006589, 43.8797893, 35.294245000000004, 45.515739, 45.4928203, 36.11475, 41.336731, 36.238313, 43.736419399999996, 43.6497314445, 43.766352260299996, 50.9928416732, 41.399839, 43.0819164, 41.71438, 41.398165500000005, 41.62813, 43.6469959, 51.046049, 41.2671076, 35.9737209, 33.4523351, 43.6448066526, 45.500546899999996, 43.8345209687, 51.044196, 41.23964, 45.8967006, 36.140012, 33.700779100000005, 40.4396782, 33.6729823, 43.7420183, 33.3063792, 33.3024257, 33.3856312, 51.042678, 36.133220722, 43.853826, 35.9713894, 36.0594861, 36.011478000000004, 33.377291, 41.5535852468, 33.57689310000001, 35.179294, 36.0202484, 51.037042023199994, 41.1911681603, 35.463159499999996, 43.8288423324, 43.772923799999994, 41.28497, 51.0527455174, 36.159564399999994, 43.7861437846, 36.0695675256, 45.4788529, 45.496021999999996, 51.0852903, 43.649375299999996, 36.114813700000006, 36.175748999999996, 43.036741, 41.461945, 36.170789899999995, 41.4972786, 36.0133950245, 36.116436835100004, 41.4632516, 43.815124600000004, 33.6253521407, 45.4845979, 36.1143535, 36.199434580100004, 41.500991, 43.7603747, 40.3683930071, 33.683460902600004, 51.130466, 36.095355639699996, 45.627144, 43.194379999999995, 45.50758870000001, 43.6598045, 41.466769, 43.7058734068, 51.0548223, 43.812200399999995, 36.033405480700004, 43.133354, 43.73150220000001, 33.633165999999996, 41.428593, 33.45214, 35.088609399999996, 43.1695596, 43.67774420000001, 41.5003939675, 50.880051, 43.848318400000004, 33.65198, 33.5013952581, 35.9949501, 35.105919799999995, 43.828298250299994, 41.6291087, 35.4632957, 43.6507412, 35.194894, 36.048992157, 45.4956322, 33.731996, 40.434352200000006, 35.497608500000005, 40.451402576, 45.474481, 36.1019828424, 36.128561, 40.441051, 36.194508299999995, 33.6308784, 36.15853320000001, 33.390848999999996, 33.4528721912, 51.076046500000004, 33.5780591596, 40.327443, 33.6234810428, 43.829678344899996, 45.43865460000001, 41.5007302384, 43.6089211, 41.2019564, 33.6395601368, 33.4477082, 33.6391848, 40.639515, 36.060914000000004, 40.446785999999996, 43.877993700000005, 43.868222314200004, 45.4987549, 41.1140412, 33.42370519999999, 33.540285939, 35.211532, 43.073930018599995, 43.580505, 33.452831800000006, 51.0509097551, 35.2101676933, 33.4233846, 45.516541, 43.8675989404, 33.433210771999995, 43.8709053, 35.2619021, 35.221917, 36.067414457, 36.1702390246, 41.6937211, 35.368956, 41.237163, 41.499484, 40.110827, 33.523984000000006, 33.495676, 36.125908, 43.593871299999996, 33.6568431658, 40.429789, 35.062054700000004, 33.581421, 43.7084823, 45.725013, 33.3822058, 41.389171000000005, 33.4628556191, 36.1060800087, 45.891108, 40.4379704, 43.687081, 43.5149610469, 36.171234999999996, 36.1430055233, 50.993534999999994, 33.234378, 35.1800007, 33.6382668, 41.050746000000004, 43.83546870000001, 35.349089299999996, 50.957504, 41.1335789823, 33.6340691, 33.578692, 45.484233, 33.4461951337, 35.1282274625, 33.7124261365, 45.505390999999996, 43.659909999999996, 33.2880227, 43.6433142625, 43.6542445, 45.496287200000005, 51.086223062799995, 40.4397355, 45.53656711359999, 43.840823480299996, 43.726654421800006, 41.157915100000004, 50.9952995522, 43.199453723299996, 43.8537675, 43.7664822466, 45.4532844, 36.190867499999996, 45.5134840896, 36.114762, 43.079759499999994, 43.6490919, 36.124423, 46.0312391, 33.5087239, 51.0380023161, 36.10064860000001, 36.1716327, 33.831683500000004, 40.451052000000004, 45.7770751, 36.27389960000001, 45.507498999999996, 43.6575924, 43.6510886, 35.2254656104, 33.393553999999995, 43.484961301999995, 43.63613, 36.16915170000001, 36.1151617, 51.0456304, 43.697752, 35.132053000000006, 43.74138370000001, 45.482959, 43.6448944, 33.6240763, 43.687081, 41.4614963334, 43.64702376140001, 35.2804915, 41.1353967, 40.267979700000005, 36.068655, 43.5862983171, 36.156898362199996, 33.6562553802, 43.8478622437, 43.6550342, 36.091726, 35.151670229299995, 40.6335562, 41.474455999999996, 51.0301326484, 35.0035317, 33.640232, 41.13404620000001, 50.9066235, 33.492381, 33.5392596581, 51.134223999999996, 43.687163700000006, 50.9329829, 43.7225834, 33.422746999999994, 41.461461, 43.863996311, 41.60434, 43.5933270528, 36.12672, 40.449253000000006, 36.0419145304, 36.139986, 40.269682, 40.440003600000004, 33.4998233, 50.992013712200006, 41.1632528157, 33.260696, 35.1789812, 33.3652505, 41.1395078, 36.175, 36.13191, 43.6091794, 41.138940600000005, 33.6713104605, 36.1256249415, 41.497577, 35.447409, 36.144308216599995, 41.4246092, 36.1091, 41.664739600000004, 36.118838399999994, 36.0986438265, 33.5813674, 43.8712902, 43.6501049, 36.1718351907, 36.1098294728, 36.120669, 41.4535031, 36.020552, 36.1246035827, 33.5020036166, 41.3455767405, 43.9586835, 36.1721756, 43.6538951, 36.0765586, 36.1195756555, 33.6407934, 41.470545, 45.633328999999996, 41.4083787, 50.9697307, 36.0556567698, 40.4134446, 43.810455, 36.108761, 36.1162194, 35.15475, 43.6481427, 43.598348905200005, 43.764826, 36.121792, 33.509526, 41.5004234, 43.594732, 43.644913, 43.073336100000006, 41.1389647, 45.567575965799996, 36.0319583, 40.428952, 43.6452181628, 33.5832099, 35.358043, 43.6679145, 40.5620812755, 33.4610622, 41.373934000000006, 45.538789, 51.0368857, 45.449236799999994, 33.462996000000004, 43.07243, 35.262475200000004, 45.535562, 40.44141389999999, 40.306676200000005, 43.869145700000004, 36.16944, 40.4090643, 41.714279299999994, 36.1242508, 33.4522506, 41.1195369, 40.426319, 41.424583, 35.972819, 43.7878272, 40.429457, 43.0847455388, 41.4316593, 36.070096, 45.4999888, 33.4970073, 45.456099350600006, 33.5988384, 36.1150754866, 40.0972098875, 34.9702063086, 45.599471, 43.66283, 43.8415653484, 36.110732299999995, 40.5712919, 36.012764000000004, 36.0613739924, 33.301284100000004, 51.0949342, 43.8712902, 33.4506964, 33.3703478235, 45.480670865, 51.072392, 43.6659334, 45.5253533, 51.0621881, 45.4747529, 36.117758, 45.541650700000005, 33.511470811100004, 36.1296013, 33.375155199999995, 51.28703070939999, 36.057609, 36.0678405392, 43.658999, 43.7451084, 45.536293, 35.13521420000001, 45.4033441, 35.1680872, 41.156434999999995, 43.0695351, 43.626200588100005, 45.44528, 40.447182083600005, 43.508964299999995, 36.114553799999996, 36.1700962, 40.4505157938, 51.0943445, 41.5200109, 36.1128082, 51.0453657, 45.533416100000004, 33.467220000000005, 36.173087, 41.48593220000001, 35.138279600000004, 36.070135799999996, 35.260224, 43.6466444346, 36.0990311, 40.4381076, 33.642151, 35.349888899999996, 40.4431445863, 36.12920857, 41.240225200000005, 36.168318400000004, 36.2045604, 43.6436172, 36.175746999999994, 35.156539, 41.3482407821, 41.500146, 51.0707972, 41.137678, 43.7853691, 45.572428, 45.572764, 41.670854799999994, 51.112322600000006, 35.035338, 51.0453155, 43.7004787, 43.672245240200006, 41.4521407, 36.1337103, 45.5172354, 36.0996904, 33.7006985225, 36.076449200000006, 51.0299384, 33.6002537931, 43.8482531542, 36.0608495631, 35.445119899999995, 51.043582799999996, 36.122881, 43.6671472, 36.132937899999995, 36.325699799999995, 33.301901199999996, 36.142229, 45.5006444, 43.647498999999996, 45.483175861099994, 41.3783479, 35.088386, 41.45797720000001, 41.312926000000004, 43.8157563, 41.4578959, 33.508695278000005, 41.113011799999995, 33.363563, 50.972535125, 33.5023225, 36.135655, 43.557564899999996, 43.8478656815, 43.847076799999996, 33.429221000000005, 41.4787931075, 35.012950399999994, 33.6970334404, 40.325374100000005, 43.866671999999994, 45.644188799999995, 36.1100828, 43.648768, 51.290191899999996, 45.5722947623, 36.1441893, 35.445159000000004, 43.794709399999995, 33.51023428, 40.4541644108, 45.517528999999996, 41.4683699, 51.045299299999996, 41.133571307800004, 45.5522936, 43.4974676, 43.7456889, 41.425227407, 36.238313, 36.011422700000004, 43.6263381, 43.64834408229999, 43.67744570000001, 36.1100828, 43.7336349, 43.8401146, 45.567862299999994, 40.5759448527, 33.4908904485, 36.1710444967, 41.4547126, 45.4446344, 45.5024705, 40.3418115205, 51.047291799999996, 45.5686843, 33.341688, 35.2123518, 33.4220453, 33.364569, 45.5620785, 51.0828816, 40.3912084505, 45.496038, 36.11426877, 41.4602245533, 45.501487, 51.022388899999996, 36.1216084937, 51.0518282, 33.712105757399996, 43.8195876, 33.478946, 35.2285596703, 45.507884000000004, 41.4997221553, 35.253456899999996, 36.1429690732, 43.08814, 36.0808197834, 41.312262, 41.400715000000005, 36.0909158, 45.500011900000004, 43.69306029999999, 43.774218700000006, 41.4411018, 43.642801069799994, 50.9630585, 40.117932, 33.6835743, 36.032336598, 51.0459732605, 33.5302696775, 36.001746000000004, 35.227054200000005, 40.46395820000001, 45.4547337659, 36.126167080100004, 33.700033000000005, 36.025837200000005, 33.509163, 35.149794299999996, 41.4640061, 43.7078631, 45.5010051, 36.1150184807, 41.156908, 43.057938, 35.218871, 44.018597645, 45.503909, 41.4841708, 33.4959382, 35.352548999999996, 45.5024364, 34.9692698, 45.524175899999996, 51.042700399999994, 41.3567961662, 41.460402200000004, 43.5922701, 41.611009, 33.5012802443, 41.6420348, 36.0732079, 36.1168182129, 40.2753121846, 45.5306133, 40.446357054, 35.431762, 33.7273959088, 41.6904375, 36.112859, 36.117683, 41.1367374795, 45.4657348, 43.09372929999999, 43.96568320000001, 33.3784436, 36.142713, 51.045752, 36.1050656, 33.3071941, 33.5775166, 35.371132, 45.3626338, 36.1987541, 43.7620313, 51.049735600000005, 35.0080161, 36.0671402448, 35.1975303, 43.6410203, 43.9506701, 41.539156299999995, 40.4406418146, 35.1023452, 41.460381, 45.4972277, 33.4306568, 36.1022631, 43.6893282, 33.6992252, 45.4415776681, 33.6371089, 36.044715000000004, 36.104648600000004, 43.6457882121, 33.822031, 36.0261968, 40.4383688, 41.313369, 36.113508959099995, 43.6876966, 36.0764726, 35.458582, 36.253425, 36.168849, 43.6100337, 41.416571000000005, 41.3713716, 45.521217702, 41.397420272199994, 35.2001308, 50.9848325, 40.331151, 43.6493689, 43.6530612, 41.675927, 35.254031299999994, 33.3789141, 35.324582085, 43.0761862475, 33.466339500000004, 41.3958031, 45.497198299999994, 33.301889, 45.506172984799996, 45.5244308, 33.5508893717, 45.530638399999994, 36.055391, 33.2698478031, 35.2965273, 41.40035579999999, 41.728457899999995, 36.144141, 43.0584893289, 36.114842971, 43.78378529999999, 36.1964438, 40.330275, 34.9715535, 36.137040999999996, 33.4742811, 43.6762554, 36.063167, 41.606367999999996, 36.1079011, 41.154442100000004, 43.6955829758, 45.5558671, 33.4641047, 33.5979824, 36.065659000000004, 43.097460399999996, 43.7643506, 33.5751723, 43.6668151, 43.647529, 40.4407195879, 41.2400486, 35.964772100000005, 36.1356446, 36.057689, 41.675955, 35.270281, 43.6487518, 33.2842645463, 33.4540376686, 41.3123585, 50.905727301599995, 41.374809899999995, 36.1265763848, 43.715565999999995, 33.411060600000006, 33.676234043499996, 43.666488, 33.6384672631, 43.6475281, 36.1369777, 41.3139309, 45.3317907, 43.784552000000005, 43.596092299999995, 35.262501, 43.8213424, 41.165060499999996, 36.124423, 45.562239, 41.453669, 34.9506144, 36.0998842, 43.7353417, 40.448471999999995, 41.4998531, 35.0105345, 36.1362575, 51.128558078000005, 33.3063858, 40.389900899999994, 36.2032027, 43.640789, 43.642272999999996, 35.9741221, 35.226181, 36.1567959455, 43.6837428, 35.9951511, 43.686862, 41.453573, 33.3058418, 33.478183, 36.1186973, 43.784972100000005, 33.6452130895, 36.108422999999995, 51.2931352, 35.2283137726, 41.394991600000004, 45.538582662299994, 35.234463, 43.0749956, 36.1169221843, 40.462808, 33.4325515877, 35.446819, 33.348729, 36.2505580649, 45.4876197, 35.223187599999996, 36.128561, 35.2907763582, 43.6634541, 43.785149, 51.083142206800005, 41.687151, 40.4573706, 33.539202, 45.500556599999996, 43.488974600000006, 43.7767555, 50.9921485, 41.495123, 41.130511299999995, 36.198710299999995, 51.007791999999995, 36.1248839, 40.3502247038, 45.4937999547, 33.3552153, 33.6464133, 33.4959382, 41.1554880172, 43.5987595, 33.610031299999996, 36.1148045, 33.3922795, 45.5772398, 45.5193033, 45.5000326, 35.3174783, 33.464277, 33.6377381, 36.1276483735, 33.393892, 41.519618, 40.128228, 40.136306, 40.117490999999994, 41.315657, 36.0765176, 43.87130429999999, 40.2750230347, 45.43315, 33.6255468878, 43.600964399999995, 35.088184000000005, 41.415037700000006, 36.152929, 33.4990986, 33.4925859, 41.396544, 43.6621594254, 43.592718255200005, 51.0474769, 36.147384499999994, 33.674238, 45.501649799999996, 45.897034999999995, 50.9180115, 43.67002960000001, 33.6748775, 45.6111972, 33.3194145644, 43.65001229999999, 44.010299200000006, 33.447796000000004, 35.4644316592, 43.128671000000004, 33.407106, 35.372168, 40.4394024356, 43.0521965, 41.1312495, 36.1139473, 51.073898264499995, 43.6865881, 41.4637155, 33.700875399999994, 41.409718, 40.447148, 34.9997055, 45.549134, 40.4470921252, 43.71488970000001, 41.1297363, 43.133746, 45.527196999999994, 36.1138449002, 40.327321999999995, 35.0616561, 45.8897964632, 45.5142451, 51.045883200000006, 45.575851899999996, 43.822681599999996, 51.0436825, 43.6901839, 36.2390804, 43.6089153, 36.166576, 41.370087299999994, 35.187215, 43.6697130529, 45.5167260517, 43.6094460126, 33.388522200000004, 43.7186121, 40.567197, 35.3488949069, 50.930702000000004, 43.6428929, 40.144954999999996, 36.017627000000005, 33.319410600000005, 35.2417027, 50.960260999999996, 51.045887, 45.5687809, 36.1455794, 45.894074100000005, 33.476397399999996, 36.169390299999996, 43.6490668001, 36.021932, 36.1189331996, 36.1295416, 33.3039011, 35.262031, 50.941474299999996, 33.331082099999996, 40.1413941, 40.404148, 40.265839, 35.216868700000006, 45.50111, 33.377958, 36.2030945, 43.7114497, 40.3596095475, 43.6535451, 36.1180324, 33.467220000000005, 45.524226, 33.6228883, 36.1123377749, 36.163671152, 33.61646470000001, 45.568622, 40.3981061, 43.689747499999996, 43.065887200000006, 43.8476126, 36.172928799999994, 33.2809543785, 45.4691951, 43.598748799999996, 51.0371575, 40.3505751, 43.82171339999999, 45.488752500000004, 36.013921, 43.68647512729999, 33.270196, 43.6130306975, 36.169148, 45.7779745286, 34.977484000000004, 33.320727695100004, 51.0424931, 33.4946565072, 33.501821, 33.640232, 43.7074032489, 36.1025498, 43.6467649, 43.645102164799994, 44.074586100000005, 35.088117, 43.0752825, 51.0459233, 41.1353804, 41.4609961208, 35.3425169, 43.8138455, 35.1546655668, 43.597781, 36.1168108056, 51.0550086, 36.279651, 43.7407705874, 43.8842819, 41.498819299999994, 41.474908, 41.187538, 36.099044799999994, 33.5035824, 44.0531876, 40.422441799999994, 41.11789, 36.2216662493, 45.5158203, 45.6271693895, 35.138729, 35.0512589, 36.143924215300004, 43.6385753892, 35.253448600000006, 36.2925630351, 43.1824466, 33.8301614, 36.127516, 43.8600737, 36.197393100000006, 33.4644845, 33.528218412600005, 41.2396771, 40.487953499999996, 35.2686658, 36.1142391, 43.0741441325, 36.123559, 36.114859, 40.5702237445, 35.14684929999999, 43.85311289999999, 33.436861275, 43.8277098, 33.322134000000005, 45.403071000000004, 35.4462561, 35.056435, 36.112895200000004, 43.454062086899995, 40.422690505, 33.5080183, 34.976034000000006, 33.3045866, 45.506085399999996, 51.0497126, 44.0014739, 33.3237681, 36.0194669, 33.4772064084, 41.395621999999996, 35.226437348299996, 51.0522813118, 50.9072648, 43.678037100000005, 45.4454285632, 40.142104700000004, 43.6462636, 43.10859310000001, 36.061504546900004, 51.156178811000004, 45.5025893, 41.1521348, 33.384363199999996, 45.5460849, 36.121117392399995, 36.167, 33.4673323, 45.552063700000005, 36.113596, 43.7256160514, 35.18009910000001, 36.1559383512, 43.635832516099995, 41.6404065, 45.561386999999996, 35.4741703632, 36.1079241113, 36.11541629999999, 45.5010275, 35.978345000000004, 40.642662, 35.3073652, 35.226268, 36.1128939, 45.9485823, 43.863673299999995, 43.8437976, 41.3699534, 43.130028, 43.725496, 36.0438829, 43.052330299999994, 43.8930835472, 36.163438, 36.1319294, 33.6522903, 43.64485436020001, 33.54268, 33.55211, 36.127396999999995, 36.1248436068, 36.1047801463, 45.494583, 41.461935, 51.0447273742, 36.0557884597, 41.4806039, 43.5991184, 36.2231775639, 43.875886, 43.8223044, 43.668808399999996, 40.348595, 36.1183787, 43.6435205, 43.0980569322, 45.5216565, 43.074020700000005, 33.6386577, 35.116499, 43.777194, 33.3094058514, 35.446135, 43.111265, 43.649920950900004, 33.464434999999995, 40.429314588400004, 44.0518391, 35.227433000000005, 43.689726631599996, 33.552168, 43.0600543, 36.1016863464, 36.018285999999996, 43.7288866354, 40.569355, 36.114303, 35.3654956, 51.07108710000001, 41.13466939999999, 41.3676581, 33.8314857483, 43.8435304, 51.079836392, 33.5089836, 43.6515394, 40.4421231, 40.434690100000005, 36.134859000000006, 35.441455, 33.464998200000004, 41.4649568211, 43.115195899999996, 36.1162803216, 35.0509577257, 33.326925, 36.114025399999996, 33.607984, 33.4149112251, 43.582603000000006, 45.393185700000004, 35.1559943107, 33.675081923, 36.170226299999996, 40.4883350846, 40.4412400187, 41.4771228, 33.553389, 35.1620992, 43.640171, 51.053568251899996, 33.4938068, 40.4973775273, 43.7343668, 36.1273969, 36.147408, 43.786606, 43.5665869487, 41.3475989366, 33.510143400000004, 36.1186973, 35.371214200000004, 41.463149200000004, 45.5052936, 35.4437042131, 41.315104299999994, 45.507842, 33.6998757747, 40.428323999999996, 43.6862701, 36.207220663499996, 43.650184499999995, 33.530392600000006, 41.502243, 36.1433720854, 36.10064860000001, 36.1268216, 36.116174, 43.6238986203, 50.9921485, 45.5151150881, 43.761639790100006, 41.431709999999995, 43.649927500000004, 36.1709271, 36.10433, 45.502963, 36.1137281505, 43.7792849, 36.1481329465, 36.1016495, 33.307846000000005, 45.48587379999999, 36.1716327, 51.268333, 36.2391, 43.825815982600005, 41.608624, 35.1069966, 33.395974, 33.529908, 43.8062562003, 33.731615999999995, 36.1438778, 51.037625382799995, 33.534123, 33.6371533, 33.5300089, 41.3165307, 45.5192835, 43.6453987612, 33.5096506, 43.5916469, 45.894573, 40.3591070736, 33.3211912, 36.1979948329, 35.1258766, 40.1374723, 33.4994892966, 33.6103662415, 50.9905360478, 41.1895032168, 45.444936, 45.4996565, 35.353006, 43.183051, 35.263714, 43.608028999999995, 35.1257063, 35.224055179299995, 41.4985864, 33.2907071, 33.4806016262, 36.102642001, 41.462988, 50.9323490992, 45.4830986019, 33.279525, 36.1730667437, 51.039289146499996, 40.136796000000004, 45.5028086701, 33.321281, 40.357621, 35.0858607085, 33.510151, 41.51933579999999, 35.480913, 40.439454, 33.494408, 36.0930666381, 45.628568, 40.428137705, 36.113669, 45.5720105676, 43.777990100000004, 43.66882460000001, 33.4136484709, 45.506137071000005, 36.143583364, 51.111953299999996, 45.4506157, 40.348620600000004, 44.013867142399995, 45.51688, 36.158608, 41.400869, 41.1133044, 36.0979526, 33.379498, 41.198189, 36.2403263, 33.6752379517, 45.482406700000006, 36.0858850095, 33.638459999999995, 45.8936214, 35.0610109, 36.125282, 51.0845700846, 45.628127, 33.5825095, 36.0558867, 35.3972525155, 36.2719424, 33.3851483, 45.4508299, 41.3764322, 33.3539999936, 33.534083783, 43.7871508901, 36.1160368623, 45.57107307729999, 33.653089200000004, 36.00202, 51.0689789748, 33.6626966153, 51.128336, 36.117541659400004, 33.536646999999995, 45.483859, 33.5115803, 36.123183000000004, 36.1702509335, 36.1217103886, 36.1156902, 40.4401718, 35.1756932683, 43.885251399999994, 36.14264, 36.032175206999995, 43.8544718, 35.1191635, 36.119004043000004, 43.636475, 51.052108000000004, 36.110555, 43.07289058600001, 36.092788511900004, 43.8707424, 41.6234996, 36.0911934011, 33.6109727, 41.498234000000004, 43.82862315770001, 33.4716681, 43.6423578537, 33.507508157800004, 41.484518, 36.071281, 36.2020349, 35.18496, 51.069174600000004, 45.5013607, 41.4994315, 51.043442299999995, 43.7045231, 51.0820601, 35.1355461, 43.6762554, 36.1071523736, 51.081156899999996, 40.442382826599996, 45.524206799999995, 41.182831, 43.1489218, 43.64622, 51.0474721, 33.4938552, 36.151531799999994, 45.4980539, 41.462926, 33.548933, 43.726691100000004, 51.0170664, 43.653501, 43.6431385252, 41.462876, 43.6464472846, 43.642078999999995, 33.526145, 36.112477, 45.5205641534, 45.512230200000005, 43.6703902, 51.047933, 33.6183545163, 33.8296784, 51.0625440533, 35.2935852, 43.811173, 33.3783947, 41.7268783, 40.503824, 35.2248873, 43.65386289999999, 41.5081226, 41.394690000000004, 35.99463, 35.480913, 33.3052029, 33.833117, 45.4973632, 36.23982, 43.812218, 45.5699577, 33.630420039499995, 33.5643780085, 40.4391575, 50.9325525, 36.102645, 33.278223, 36.1161559, 36.1137792, 35.311003, 36.1025627391, 36.132771000000005, 33.3360094, 33.667827220999996, 40.069624, 33.4952826, 35.1067908213, 40.451836, 36.1987787, 43.7826208, 40.1064232, 45.452656, 51.0452146, 33.436882000000004, 43.8494284, 40.331215596199996, 41.1627972867, 43.8835706671, 43.0594110063, 40.5134185854, 43.649307944099995, 36.1100828, 41.238960600000006, 51.101366999999996, 33.492918800000005, 50.993184, 43.8275033, 41.5391989, 36.250338, 36.169849, 51.0379383, 43.0719925103, 41.399473, 43.075128899999996, 43.122722700000004, 43.8818856837, 43.707496220100005, 43.128224100000004, 43.6126976505, 36.169089, 43.7450295438, 41.3935252598, 43.768657213199994, 43.513564143900005, 43.6655814, 45.4080276195, 43.655448299999996, 41.6823019, 45.4823714, 40.446175, 43.5997436, 33.833795, 43.8663797, 35.3352529, 41.153345, 40.4283701, 41.308400799999994, 33.6388576, 35.068661391999996, 36.0977743, 33.630439, 36.158642, 43.798166135200006, 36.1245709977, 33.2979107, 43.637473, 40.45254310000001, 45.3840169, 43.8233523508, 36.0124982093, 43.6496155, 35.22622929999999, 35.1529699851, 36.1407035, 35.428211600000004, 40.0961489, 33.5092305009, 33.640032700000006, 51.0929125871, 36.1718195, 33.6348021, 40.4381076, 40.428323999999996, 41.101796500000006, 43.71374829999999, 45.4757652, 51.0479050964, 36.1166965674, 43.1142554, 45.4336190212, 35.4184425, 50.9582016, 41.4496327, 36.16884864, 45.50523, 33.4655102024, 43.689124, 33.3213292, 44.070728, 43.7306521, 35.439915, 43.457581, 43.58904520000001, 33.5009342365, 36.111993083099996, 41.4313496171, 41.118736, 33.3857365, 33.4227863, 43.7588997, 33.6392628656, 51.0433487, 41.5036701, 36.215959121, 41.49660720000001, 36.1072817167, 43.6347459, 40.333963675, 33.399032592800005, 40.525277, 41.400242, 35.0058315, 36.1290784, 36.1213605528, 35.98718970000001, 41.6740925, 33.456514238000004, 43.52597038, 45.597048, 51.0834342], \"legendgroup\": \"\", \"lon\": [-80.831878, -79.53763190000001, -115.15125259999998, -115.17505759999999, -73.641411, -112.27787686719999, -81.83640600000001, -73.9104820398, -80.8311183, -79.4265604, -112.23756609999998, -115.08286299999999, -115.173179, -79.8012596369, -80.86754431119999, -81.786777, -80.78013809999999, -114.045262756, -81.958732, -73.574025, -115.24578703579999, -73.8300067602, -79.62935350000001, -112.2607618891, -115.1542185, -73.57186829999999, -81.3782529441, -111.97039735850001, -111.8795047, -115.14971000000001, -115.172945, -79.3839517, -73.706218, -81.70214759999999, -115.1723424, -80.578648, -80.8789629, -73.8130869, -79.5598625, -115.15426950000001, -81.83480870000001, -73.7444668, -80.8788478, -111.95425, -81.6929593866, -80.1050829, -115.21425900000001, -112.0737398, -73.62945069999999, -114.1679570385, -74.1536574, -89.451447, -111.8669054657, -114.91200400000001, -81.2812566164, -73.5790995, -115.1695347474, -114.0025499, -73.6755614, -79.31587359999999, -112.11608526059999, -113.99895546309999, -79.6993885379, -111.91018999999999, -112.230921, -112.0728310466, -80.0564538, -73.5703988, -114.12899941209999, -80.71107959999999, -115.175625, -88.2435515, -81.835899, -81.4771411779, -111.96805842639999, -79.3958599, -80.7398903, -73.5644282, -73.3948825, -115.1941, -81.7847172, -115.1190625, -79.2517496, -79.38295497909999, -79.4128442067, -114.0707807006, -81.661344, -89.5234428, -81.298804, -82.2264716, -81.427725, -79.5133058, -114.0661432, -81.8401667, -114.841642, -111.68837350000001, -79.3990968747, -73.56894, -79.5207216312, -114.062799, -81.441799, -74.1472566, -115.173705, -111.9239862, -79.9959316, -111.8904749, -79.6986344, -111.88623770000001, -111.8422554, -111.6791041, -114.06837900000001, -115.08484758770001, -79.43248, -114.85125320000002, -115.0468547, -115.17414099999999, -111.859058, -81.6056878286, -112.1161256, -80.876098, -115.0899679, -114.0711225197, -81.3395862798, -80.9936223, -79.54905051739999, -79.5307054, -82.0645052, -114.0672777484, -115.28644950000002, -79.54860373449999, -115.1737473847, -73.5689757, -73.571486, -114.17813429999998, -79.66152530000001, -115.2031568, -115.29175500000001, -89.45473299999999, -82.0489288, -115.13956019999999, -81.6936338, -114.99275905430001, -115.1721597683, -81.4933324, -79.0831733, -111.9261671417, -73.7980204, -115.12184769999999, -115.2418681725, -81.534645, -79.3019936, -80.1065956659, -111.9657790484, -114.01019099999999, -115.176614273, -73.750833, -89.4624497, -73.55302879999999, -79.3465475, -81.495942, -79.3978145943, -114.1057886, -79.3581215, -115.20842602799999, -89.302295, -79.403663, -111.8851047514, -82.20456, -111.73272, -80.87699599999999, -89.2659537, -79.5062481, -81.68881464100001, -113.95646200000002, -79.3757322, -112.36833200000001, -111.9319242239, -115.2062178, -80.8815736, -79.53568235649999, -81.48362990000001, -80.9936798, -79.35801740000001, -80.767442, -115.1715393066, -73.5747077, -111.8537854, -80.00541109999999, -80.8493255, -80.16183143399999, -73.834951, -115.20149141549999, -115.17112979999999, -80.004537, -115.24166640000001, -112.2382757, -115.2857479, -111.682547, -112.06854956299999, -114.00255870000001, -112.11812552059999, -80.034616, -111.9249184251, -79.5398973991, -73.62320770000001, -81.7043933334, -79.6966007, -81.63835759999999, -112.04735443, -112.070093, -111.9245314, -79.938648, -115.04064199999999, -80.022094, -78.9413965, -78.9126650603, -73.65897259999998, -81.4659925, -111.7728895, -111.86944146409999, -80.858501, -89.3796241524, -79.7353431, -111.696707, -114.0782224343, -80.8599308917, -111.9398479, -73.5781873, -78.9000769705, -111.90333667659999, -79.26820009999999, -81.1341213, -80.842555, -115.04101283850001, -115.1446098089, -81.2846589, -80.711873, -81.807751, -81.70045390000001, -88.231612, -112.04698, -112.35453000000001, -115.197906, -79.78690040000001, -111.9322760556, -79.795402, -80.81574599999999, -111.925694, -79.6375569, -73.501875, -111.75441370000001, -82.10636600000001, -112.3917724028, -115.1747367341, -74.161277, -80.0183184, -79.3935286, -79.68932501970001, -115.14406100000001, -115.174380141, -114.0843131, -111.85651100000001, -80.8912165, -112.3577872, -81.729462, -79.08970390000002, -80.8558106, -114.06952, -81.65361205159999, -112.2352814, -112.11829080000001, -73.629563, -111.9749346142, -80.7024335861, -112.112801671, -73.5257755, -79.37929, -111.6863001, -79.3884122468, -79.4229429, -73.5757801, -114.1545041693, -79.9971547, -73.46532798289999, -79.4282240453, -79.4516359374, -81.6366997, -114.07429454540001, -89.22614799959999, -79.0552859, -79.4118910655, -73.6459719, -115.06259340000001, -73.7117132051, -115.19408999999999, -89.369608, -79.3746483, -115.146372, -74.0547415, -112.04390900000001, -114.17078293649999, -115.099351, -115.14426340000001, -111.9345868, -80.17501379999999, -74.0031069, -115.26926540000001, -73.565436, -79.38216240000001, -79.3829192, -80.84301884930001, -111.695745, -79.71653774020001, -79.520546, -115.2913521, -115.1597903, -114.06413130000001, -79.65651899999999, -80.711299, -79.3167491, -73.465852, -79.3861668, -111.93056200000001, -79.3935286, -81.8521149967, -79.3740709238, -80.7929172, -81.640996, -80.12834000000001, -115.177945, -79.741328362, -115.2919117492, -111.9316076825, -79.3759918213, -79.4019624, -115.17664599999999, -80.8394354582, -80.0575352, -81.90065799999999, -114.1421840695, -80.5536603, -111.979545, -81.65464899999999, -114.06728740000001, -111.9259469, -111.92264109850001, -114.00274920000001, -79.5854596, -114.06651740000001, -79.2888483, -111.9082, -81.689881, -79.0117618069, -81.438285, -79.6444008328, -115.16355300000001, -80.161891, -115.1834365118, -115.173878, -80.12658, -80.09091059999999, -111.9235156, -114.0709375159, -81.8629302084, -111.88542199999999, -80.8808078, -111.8606173, -81.87899279999999, -115.136389, -115.155983, -79.69097020000001, -81.8723983, -111.9060049182, -115.20257830950001, -81.69851700000001, -80.891425, -115.14569083290002, -81.7383189, -115.154526, -81.24140809999999, -115.15448020000001, -115.1753811344, -112.12260090000001, -79.86860659999999, -79.43408120000001, -115.1465995795, -115.17361841430001, -115.17168400000001, -82.03302240000001, -115.08998400000002, -115.1689884856, -111.9280350208, -81.3759839141, -78.9601093, -115.1468294, -79.38018670000001, -115.2986392, -115.17219717969999, -112.1178845, -81.83628890000001, -73.7948434, -81.6408735, -114.0727229, -115.24326229190001, -79.9044468, -79.338234, -115.170129, -115.1745719, -80.836843, -79.3866412, -79.7372379899, -79.4127798, -115.16955300000001, -112.01554640000002, -81.49679590000001, -79.788843, -79.63457, -89.396349, -81.8724508, -73.6539808289, -115.00912779999999, -79.98595, -79.5219870799, -111.92760990000002, -81.09512600000001, -79.369457, -80.0259171054, -112.34155990000002, -81.830332, -73.73411999999999, -114.07114409999998, -73.44262370000001, -111.71933899999999, -89.38434000000001, -81.1836637, -73.663376, -79.9947082, -88.174452, -78.912657, -115.142905, -79.9157974, -81.2984618, -115.0756976, -111.7902051, -81.4784828, -79.88890400000001, -81.73530179999999, -114.84878400000001, -79.2672266, -79.811206, -89.6559139572, -81.3936093, -115.17529850000001, -73.5599343, -111.9264107, -73.7531246953, -111.9827632, -115.15694132540001, -88.24582993979999, -80.9926740825, -73.564676, -79.36754040000001, -79.3993877428, -115.1722365, -80.0229697, -115.13605600000001, -115.04091891719999, -111.74241620000001, -114.0003785, -79.86860659999999, -112.00005230000001, -111.9735761889, -73.7953591347, -114.1171595, -79.73195799999999, -73.60378390000001, -114.0554586, -73.47413979999999, -115.154519, -73.6080089, -111.9860756349, -115.0927902, -111.9713456, -114.015515882, -115.145127, -115.040977058, -79.6512865, -79.29813850000001, -73.512638, -80.714618, -73.9518165, -80.9702321, -81.40768800000001, -89.3896261, -79.6801342683, -73.812365, -80.0211379383, -79.6664146, -115.3075865, -115.1449611, -80.1756812708, -113.9989856, -81.47364509999998, -115.06228870000001, -114.058351, -73.614767, -112.34031100000001, -115.144799, -81.704615, -80.9331723, -115.1753479, -81.12876700000001, -79.374950318, -115.1708014, -80.0185368, -112.35568799999999, -80.85192990000002, -80.0011037908, -115.13693810000001, -81.33744899999999, -115.0616584, -115.1152174, -79.40520500000001, -115.2917528, -80.794655, -81.5245421767, -81.692228, -113.98144540000001, -81.79619770000001, -79.5560776, -73.720667, -73.403759, -81.2416989, -113.98179979999999, -80.8041, -114.06520060000001, -79.4286329, -79.3958546904, -82.0347739, -115.0850568, -73.5680881, -115.1195912, -111.923719424, -115.2986212, -114.0949331, -111.98339011520001, -79.349912297, -115.04022098549999, -80.9963911, -114.0721717, -115.168939, -79.400645, -115.08469699999999, -115.32898159999999, -111.7430967, -115.15648300000001, -73.4202516, -79.3864714, -73.5617352761, -81.7891682, -80.862882, -81.4873233, -81.5161822, -79.3500531, -81.8957897, -111.9270801544, -81.51067440000001, -111.876153, -114.07211780549999, -111.92879860000001, -115.161507, -79.6457634, -79.3749418005, -79.37635440000001, -111.940425, -81.7691058666, -80.5692334, -111.92399698870001, -79.956298, -79.31184990000001, -73.8623392, -115.15387140000001, -79.604671, -114.0028105, -73.75400800930001, -115.17444920000001, -80.87941500000001, -79.24032779999999, -112.0272009918, -79.983040405, -73.58109809999999, -82.0155941, -114.06333590000001, -81.6431227108, -73.7578806, -79.6432806, -79.69624859999999, -82.0858277287, -115.1190625, -115.1752019, -79.5667095, -79.3878309801, -79.4464837, -115.15387140000001, -79.40477, -79.3168393, -73.5519524, -80.0262372225, -111.6706386968, -115.14303535219999, -81.4437063, -73.7211023, -73.5548667, -80.0552053647, -114.0808524, -73.55221390000001, -111.85961699999999, -80.8358725, -111.8292378, -112.07361200000001, -73.7287581, -113.9977912, -80.069188, -73.570552, -114.9222815037, -81.9518280029, -73.56738299999999, -113.99004599999999, -115.17399971479999, -113.81640790000002, -112.1113291524, -79.11387109999998, -111.9105257, -80.8452783837, -73.5543227, -81.6958446545, -81.16747159999998, -115.2801029384, -89.3652468, -115.2227296509, -81.823707, -81.62562199999999, -115.1737761, -73.5751515, -79.6273534, -79.6121669, -81.86085279999999, -79.38124144300001, -114.0079726, -88.2810949, -111.965985, -115.0085191363, -114.0707984939, -111.9263505936, -115.10233999999998, -80.8396357, -79.95288670000001, -73.8587602925, -115.1668136525, -111.888462, -115.0859834, -111.9887419, -80.83907629999999, -81.5141728, -79.39415600000001, -73.57548270000001, -115.15645444389999, -81.861845, -89.495496, -81.0828387, -79.4488033512, -73.678141, -81.5897355, -111.9221449, -80.85118100000001, -73.5623366, -80.9891863, -73.5947639, -114.03932420000001, -81.389581, -81.9520721, -79.6381662, -81.523539, -111.9285190939, -81.4394437, -115.2085074, -115.1920738526, -80.166563936, -73.5863535, -79.82681934600001, -80.604326, -111.85555981030001, -81.3324994, -115.17243400000001, -115.17124799999999, -81.6465704509, -73.56685329999999, -89.5267453, -79.2753072, -111.85925379999999, -115.22253, -114.06376200000001, -115.17278030000001, -111.74785459999998, -112.1179183, -80.72256800000001, -73.5723402, -115.24279140000002, -79.4109727, -114.0690082, -80.5618929, -115.04285192209998, -80.82553850000001, -79.4351593, -79.83684000000001, -81.4529642, -79.9984258041, -80.9845723, -81.492778, -73.5774177, -111.8776122, -114.93175740000001, -79.5843113, -111.89267690000001, -73.43961284699999, -111.92407, -115.1008555, -115.1727668, -79.3866276741, -111.90897, -115.12047040000002, -79.7594217, -81.685682, -115.1750483518, -79.6004615, -115.29857690000001, -80.86835, -115.215753, -115.29128200000001, -79.6969952, -81.909751, -81.8685955, -73.5533809662, -81.6505957894, -80.84383170000001, -114.08314140000002, -80.068668, -79.3859219, -79.4279396, -81.312288, -81.1785179, -111.96470829999998, -80.9464529157, -89.3837572172, -112.4782722, -81.4633444, -73.5732314, -111.74313300000001, -73.5535884709, -73.5963672, -111.92399165129999, -73.6080747, -115.25173899999999, -111.9841279791, -81.0167687, -81.6626427, -81.2564865, -115.161171, -89.50497415790001, -115.15319556, -79.25315429999999, -115.24027590000001, -79.74271800000001, -80.9902446, -115.16461100000001, -112.22000600000001, -79.3581314, -115.037421, -81.437927, -115.05637240000001, -81.33603000000001, -79.6303405613, -73.7214316, -112.3871902, -111.9793102, -115.04656200000001, -89.5229994, -79.4824287, -112.11625749999999, -79.3779253, -79.37654559999999, -80.0000391542, -81.6554434, -115.1684896, -115.1615118, -115.0468544, -81.315428, -81.15077729999999, -79.3770532, -111.6850938317, -111.8859316851, -81.8207402, -114.05731928719999, -81.902066, -115.1669352029, -79.723799, -111.97036010000001, -111.9711772712, -79.31704620000001, -112.17962145790001, -79.3765439, -115.1633366, -81.819294, -73.27913079999999, -79.565759, -79.75672309999999, -81.18356, -79.24630429999999, -81.8627817, -115.146372, -73.745387, -81.48619599999999, -81.01977600000001, -115.1722956, -79.25612590000001, -80.163196, -81.6984516, -80.5634186, -115.15125259999998, -114.2028415133, -111.89053429999998, -80.04066170000002, -115.1986936, -79.79553680000001, -79.787881, -114.91184399999999, -80.8451741, -115.33438682559999, -79.59291340000001, -115.20684009999998, -79.59729300000001, -82.033843, -111.96935490000001, -112.220155, -115.15426950000001, -79.41682349999999, -111.916881741, -115.154643, -114.00167009999998, -80.8419989013, -82.10778149999999, -73.7340036896, -80.93390500000001, -89.4416756, -115.17501095639999, -79.9506473, -111.9071245193, -80.5991685, -111.965406, -115.2440329054, -73.5865671, -80.8466272, -115.17112979999999, -80.7624988936, -79.3826256, -79.543813, -114.20700542799999, -81.28996500000001, -80.1791796, -111.92663200000001, -73.50997459999999, -79.7182607, -79.25900809999999, -114.070811, -82.0222371, -81.6543561, -115.1237903, -114.067885, -115.3250841, -79.9411557, -73.7043952833, -112.4298449, -112.23657320000001, -111.9221449, -81.3269842509, -79.7470602, -112.23562439999999, -115.2309225, -111.7525453, -73.71040390000002, -73.555246, -73.55379520000001, -80.77837609999999, -112.269802, -112.18985159999998, -115.1683280326, -111.863257, -81.475164, -88.199861, -88.2619969, -88.243875, -81.81521500000001, -115.1533426, -78.9074536, -80.1665849354, -73.64576, -111.9236499469, -79.7411705, -80.851089, -81.8995466, -115.333119, -111.9259123, -111.9257988, -81.465911, -79.383430481, -79.6494087204, -114.06486399999999, -115.1566778, -111.889288, -73.5710942, -74.153173, -114.06724679999999, -79.30173, -111.88857800000001, -73.7925582, -111.9659755345, -79.434764, -79.446699, -112.07021100000001, -80.8934640688, -89.3063473, -111.92571699999999, -80.722624, -80.1478385925, -89.3797132, -81.65343859999999, -115.30459109999998, -113.98924545979999, -79.5871641, -81.790812, -111.8896983, -81.619864, -80.006405, -80.69941159999999, -73.744231, -80.00404638100001, -79.5863938, -81.4839233, -89.298753, -73.76223399999999, -115.1753912051, -80.042015, -80.813185, -74.1651766749, -73.573006, -114.0740138, -73.4475535, -79.3009536, -114.0650951, -79.754039, -115.17756809999999, -79.6920991, -115.28623200000001, -81.8255857, -80.687325, -79.3949747086, -73.55775833130001, -79.68975954359999, -111.85774350000001, -79.4559215, -79.802797, -80.85602995010001, -113.972669, -79.40845959999999, -88.257228, -115.11828390000001, -111.96906329999999, -81.0378824, -114.0696193, -114.06913, -73.4482459, -115.3006961, -74.1580938, -111.98646699999999, -115.1430844, -79.3753722991, -115.279583, -115.17375194440001, -115.13258970000001, -111.9784087, -81.157035, -114.0687253, -111.7912298, -88.25847579999999, -79.918819, -80.1280336, -80.8385574, -73.5722427, -112.1713, -115.22448529999998, -79.3995315, -80.00244140619999, -79.6442017, -115.1554271, -112.34031100000001, -73.583963, -111.9293764, -115.17169613709999, -115.28929492540001, -111.92639890000001, -73.445274, -79.7690515, -79.58585479999999, -89.5239951, -79.37528590000001, -115.14561929999999, -111.97479688700001, -73.54145279999999, -79.78341640000001, -113.9812337, -79.9231862, -79.5389216, -73.5678103, -114.99288, -79.7605296224, -111.98698, -79.5594561473, -115.13865, -74.0173865835, -80.989951, -111.7893141881, -114.07431969999999, -111.98815485840001, -111.91993799999999, -111.979545, -79.2499235272, -115.2016926, -79.3779693, -79.3841520552, -79.4845817, -80.861651, -89.3861265, -114.1420122, -81.6430213, -81.9525268849, -80.7706849, -79.0810856, -80.8375291311, -79.59813100000001, -115.1939211572, -113.98264240000002, -115.206043, -79.40574646, -78.9227215, -81.70082190000001, -81.8956237, -81.635807, -115.1704519, -111.9294274, -79.4806272, -79.65999040000001, -81.4734065, -115.3290244192, -73.5646577, -73.8481265775, -80.9364581, -80.7675985, -115.1917272624, -79.6922707558, -81.0266824, -115.18076371069999, -89.22751690000001, -111.93296629999999, -115.16591299999999, -78.9340836, -115.24133300000001, -112.356724, -111.926276476, -81.3441212, -79.8869153, -81.1462827, -115.1727367, -89.3955963625, -115.16841000000001, -115.13663899999999, -79.7974224031, -80.8277877, -79.3827196, -111.9993724258, -79.4263009, -111.68879199999999, -74.0500363, -80.5980255, -80.84809440000001, -115.06235339999999, -79.6864909306, -79.6636728922, -112.0270172, -80.9841647639, -111.90065109999999, -73.5536098, -114.0723136, -79.4606047, -111.68755149999998, -115.117383, -112.0735331216, -82.107428, -80.844559595, -114.08742402760001, -114.10603529999999, -79.4094439, -73.4366311607, -88.25847579999999, -79.3906272, -89.5111557, -115.0402058288, -114.1591705268, -73.5611507, -81.3561211, -111.8051102, -73.6966754, -115.174633683, -115.28133999999999, -112.22111629999999, -73.7470913, -115.17492299999999, -79.7154045139, -80.891087, -115.3329598904, -79.6915373483, -81.40638440000001, -73.74171, -80.9932619421, -115.17405509950001, -115.3140301, -73.57520629999999, -114.836529, -80.067024, -80.74975429999999, -80.843786, -115.26139340000002, -74.12970920000001, -79.0169152, -79.628608, -81.8256366, -89.303978, -79.551521, -115.0467533, -89.474161, -78.9480221272, -115.20717900000001, -115.16265320000001, -112.3689358, -79.52303799229999, -111.92514299999999, -112.268533, -115.15404699999999, -115.16865505770001, -115.1749268102, -73.655658, -81.850732, -114.0633697282, -115.17159020860001, -81.74444840000001, -79.73619709999998, -115.08256480690001, -78.95979190000001, -79.54214820000001, -79.3905524, -79.948077, -115.17262020000001, -79.3790818, -89.5192287862, -73.57784029999999, -89.3813538, -112.1709332, -80.71957929999999, -79.261772, -112.15701463090001, -80.87982099999999, -89.363442, -79.3783497454, -112.030898, -79.80992384439999, -79.4803635, -80.843648, -79.59079871739999, -112.260046, -89.49067240000001, -115.2255495006, -115.1179043, -79.2882227898, -79.79831800000001, -115.199059, -80.7120321, -113.98065659999999, -81.6536064, -82.1087015, -111.9456558228, -79.3767323, -114.00261631469999, -112.03397749999999, -79.37376, -80.15703740000001, -80.006389, -115.151882, -80.866159, -112.3552449, -81.9519542608, -89.32817320000001, -115.1861043359, -80.7663660834, -111.858251, -115.10140770000001, -111.71994299999999, -111.6809874773, -79.71763929999999, -73.5861187, -80.8239325442, -111.96317195889999, -115.14457, -79.88283755890001, -79.9997471273, -81.77295759999998, -112.0997744, -80.8862462, -79.624602, -113.9568582023, -112.3550971, -80.2437835566, -79.4044224, -115.2240685, -115.155726, -79.47148709999999, -79.8233437607, -82.06750778520001, -112.0243027, -115.15426950000001, -80.7169504, -82.0164237, -73.5641517, -80.8647873637, -81.8357309, -73.56556429999999, -111.8886880933, -79.97809699999999, -79.5974335, -115.267927, -79.37225620000001, -112.0470739, -81.5014604, -115.15702746459999, -115.099351, -115.196836, -115.187304, -79.5162963867, -114.070811, -73.5713909601, -79.2256938731, -81.39355, -79.43902829999999, -115.14315159999998, -115.1755933333, -73.568619, -115.1523211598, -79.25714040000001, -115.1557731628, -114.93073590000002, -111.74184, -73.8015392, -115.14426340000001, -114.00272700000001, -115.165306, -79.3043476139, -81.528842, -81.0405927, -111.8406513, -111.92643799999999, -79.5508621022, -111.846116, -115.2926022, -114.09286864020001, -112.26126799999999, -112.20005420000001, -112.05669590000001, -81.6514588, -73.55541509999999, -79.3980279011, -112.0733496, -79.57578029999999, -74.1576627, -80.00208978180001, -111.9698085, -115.1921561671, -80.706238, -88.2586063, -112.083034525, -112.2354912758, -114.070915286, -81.3471599099, -73.43794399999999, -73.5730592, -80.688579, -89.214044, -81.091149, -79.65418000000001, -80.70849059999999, -80.8455877508, -81.6895733, -111.9456801, -111.9280468783, -115.1686254367, -81.4739017, -113.96454862350001, -73.575179914, -111.790245, -115.1448063583, -114.08145593280001, -88.245076, -73.56890337029999, -111.97080600000001, -80.0503804, -80.8904967384, -112.0137937, -81.48631540000001, -80.882426, -80.003658, -112.126279, -115.1755435722, -73.847296, -79.96648064899999, -115.16893300000001, -73.7426093558, -79.34409140000001, -79.3910772, -111.87582964180001, -73.56735795739999, -115.2809156285, -113.9802926, -73.7922275, -79.94892790000002, -79.416217804, -73.590151, -115.20368799999999, -81.95321899999999, -81.57861120000001, -115.29721529999999, -111.787772, -81.841278, -115.1248429, -111.975650172, -73.5678403, -115.137501955, -112.36405819999999, -74.1566863, -80.98943840000001, -115.243528, -114.154080461, -73.848042, -112.1857439, -115.05630659999998, -80.6091291683, -115.2631531, -111.8049239, -74.22931340000001, -81.7354122, -112.0994552735, -111.96493362540001, -79.5434074446, -115.1924228668, -73.7512054964, -112.2357645, -115.10889099999999, -114.1309721734, -112.18817108280001, -114.20289029999999, -115.16866151239999, -112.1820031, -73.6946229, -111.98667900000001, -115.16918999999999, -115.14471575620001, -115.1741890718, -115.1713943, -80.0012482, -80.6543249237, -79.37202359999999, -115.17568999999999, -115.01006120870001, -79.2557449, -81.08749509999998, -115.17576111700001, -79.690546, -114.07873899999998, -115.17190500000001, -89.38052084540001, -115.1761562834, -79.304082, -81.4441874, -115.1765743919, -112.15376909999999, -81.707026, -79.5404904064, -111.9265148, -79.3773051191, -111.9495310291, -81.746095, -115.07878400000001, -115.24176659999999, -80.65482, -114.12958379999999, -73.5550035, -81.6993047, -114.0705761, -79.78611219999999, -114.0001743, -80.7128656, -79.3581314, -115.1771307395, -114.00401049999999, -80.00087231399999, -73.6002283, -81.476215, -89.4070057, -79.383074, -114.064706, -112.1217764, -115.33301570000002, -73.65781120000001, -81.47059499999999, -112.04624799999999, -79.41778719999999, -114.16725690000001, -79.380048, -79.40205065149999, -81.480056, -79.3843205981, -79.3784532, -111.925422, -115.17218899999999, -73.5949744152, -73.56946500000001, -79.394312, -114.07602800000001, -111.9250793203, -111.9289621, -113.9807510376, -80.75725609999999, -79.42251970000001, -112.033152, -81.2429631, -80.205281, -80.843337, -79.4256272, -81.6792273, -81.648719, -115.11896999999999, -80.882426, -111.8964962, -111.93503500000001, -73.57175720000001, -115.04346000000001, -79.243907, -73.723587, -112.23785436360001, -111.9244696232, -79.9989143, -113.9697057, -115.17453400000001, -111.78914099999999, -115.17505759999999, -115.1524787, -80.752344, -115.2011897042, -115.085169, -111.8076143, -112.125528, -88.249764, -112.16840390000002, -81.0407938635, -79.72728029999999, -115.1238543, -79.23499699999999, -88.2236145, -73.467329, -114.0646064, -111.718355, -79.2521301, -79.743302594, -81.8616357116, -79.4406867755, -89.5035026245, -79.843872169, -79.3893122699, -115.15387140000001, -81.35002440000001, -114.07065209999999, -111.92589029999999, -114.070923, -79.2924667, -81.44285550000001, -115.24400200000001, -115.143368, -114.09576229999999, -89.3895536687, -81.625168, -89.394324, -89.314762, -78.9305550544, -79.7351124221, -89.3041965, -79.68608256430001, -115.138595, -79.2963746935, -81.6505193499, -79.3799060583, -79.6906834533, -79.46944090000001, -74.0341464634, -79.4141735, -81.2976018, -73.6305373, -80.0082771, -79.64013990000001, -111.936527, -79.38606300000001, -80.7990185, -81.35844959999999, -79.9775372, -81.516568, -112.22271709999998, -80.8411020633, -115.29666840000002, -112.237821, -115.29101000000001, -79.4252293929, -115.1724276826, -111.9011943, -79.404951, -80.16027270000001, -73.54237109999998, -79.4723059136, -115.17542012860001, -79.3854472, -80.8414542, -80.834318954, -115.18231370000001, -80.60839240000001, -88.2453958, -112.0240036021, -112.0249314, -114.153620009, -115.1423178, -112.2208443, -80.0185368, -79.97809699999999, -81.4813685, -79.7257467, -73.640781, -114.04977045950001, -115.20294414, -89.6586769, -73.6910181615, -80.67542399999999, -114.072322, -81.81786340000001, -115.1390386295, -73.553595, -112.0816370845, -79.67118, -111.96906329999999, -79.483602, -79.7653132, -80.87087120000001, -79.6821118, -79.6441198, -111.92840008469999, -115.1724253893, -81.3927800884, -81.476753, -111.68605490000002, -111.90810970000001, -79.3604731, -112.2752561682, -114.0691902, -81.691598, -115.2513092065, -81.6818193, -115.17654776280001, -79.56141070000001, -79.9448867667, -111.7972412109, -80.00591999999999, -81.66211700000001, -80.5589054, -115.18849099999998, -115.17404204280001, -115.1016247, -81.3247251, -112.39442825319999, -79.67923597640001, -73.56128709999999, -114.20663200000001], \"marker\": {\"color\": [3.5, 4.0, 4.0, 3.5, 4.5, 2.5, 2.5, 3.5, 4.0, 3.0, 3.5, 2.5, 3.0, 3.0, 4.0, 3.5, 3.0, 3.0, 4.0, 3.5, 3.5, 4.0, 3.5, 2.5, 4.5, 3.5, 3.0, 3.5, 3.5, 4.5, 4.0, 4.0, 4.0, 3.0, 3.5, 2.5, 2.5, 5.0, 3.5, 3.0, 4.0, 3.5, 2.5, 4.0, 4.5, 3.0, 4.5, 3.5, 4.0, 2.5, 3.5, 3.5, 2.5, 4.0, 3.0, 4.0, 4.0, 2.5, 3.0, 3.5, 3.5, 3.0, 2.5, 3.5, 3.0, 4.0, 2.5, 2.5, 4.0, 2.0, 3.0, 3.5, 3.5, 2.5, 3.5, 4.0, 3.0, 3.5, 3.0, 4.0, 3.0, 4.0, 4.5, 3.5, 3.0, 3.0, 2.5, 3.0, 2.5, 3.0, 2.5, 3.0, 3.0, 2.5, 4.5, 3.5, 4.0, 4.0, 3.5, 4.0, 3.5, 3.0, 4.5, 4.0, 3.5, 3.5, 3.0, 3.0, 3.5, 2.5, 4.0, 3.5, 2.5, 3.5, 3.5, 4.5, 3.0, 4.5, 3.0, 3.5, 4.0, 4.0, 3.5, 1.5, 4.5, 4.0, 4.5, 4.0, 2.5, 3.0, 4.0, 2.5, 2.5, 4.0, 4.0, 3.5, 4.0, 3.5, 3.5, 2.5, 3.5, 4.5, 3.0, 4.0, 3.5, 3.0, 2.0, 3.0, 3.5, 2.5, 4.0, 3.0, 3.5, 2.5, 3.5, 2.5, 3.5, 3.5, 3.5, 4.0, 3.5, 4.5, 2.0, 4.0, 2.0, 4.0, 3.0, 2.5, 3.5, 3.5, 2.0, 5.0, 4.0, 3.0, 4.0, 3.0, 4.0, 4.0, 2.5, 2.5, 4.0, 2.5, 3.5, 2.0, 4.0, 4.0, 4.0, 4.0, 3.5, 3.5, 3.5, 4.0, 3.0, 4.0, 3.0, 4.0, 4.0, 3.0, 3.5, 3.5, 3.5, 3.5, 4.0, 3.5, 4.5, 3.5, 3.5, 3.5, 4.0, 3.5, 4.0, 2.5, 3.5, 3.5, 4.0, 3.0, 4.0, 1.5, 5.0, 4.0, 5.0, 4.0, 3.5, 2.5, 4.0, 4.0, 2.5, 4.0, 2.5, 2.5, 4.5, 3.5, 3.0, 2.0, 4.5, 2.5, 3.5, 2.5, 2.5, 2.0, 4.0, 4.0, 3.5, 4.0, 2.5, 3.0, 4.0, 3.5, 4.0, 2.5, 4.0, 3.0, 3.0, 4.5, 4.0, 3.5, 3.0, 3.0, 4.0, 4.0, 3.5, 4.5, 3.0, 3.0, 2.5, 3.5, 4.0, 4.5, 1.5, 3.5, 3.5, 5.0, 4.0, 3.5, 3.0, 2.5, 2.5, 3.0, 2.5, 4.0, 4.5, 3.0, 4.5, 3.5, 3.0, 3.0, 4.0, 3.5, 3.5, 3.0, 4.0, 3.5, 3.0, 4.0, 4.5, 3.5, 4.0, 3.5, 5.0, 3.5, 3.5, 4.0, 3.0, 3.5, 3.5, 3.5, 3.5, 3.0, 4.0, 3.5, 3.5, 3.0, 3.5, 4.0, 4.0, 4.0, 3.0, 4.0, 3.0, 2.0, 2.5, 3.5, 4.0, 3.0, 3.0, 4.0, 3.5, 2.5, 2.5, 4.0, 4.0, 4.0, 3.0, 3.0, 4.0, 3.0, 4.0, 3.5, 2.0, 3.0, 4.5, 3.5, 2.5, 3.0, 4.0, 4.0, 4.5, 2.0, 4.0, 2.0, 3.5, 2.0, 4.0, 3.5, 3.0, 4.0, 3.0, 4.0, 3.0, 4.0, 3.5, 3.5, 4.0, 3.0, 3.5, 3.5, 3.0, 4.0, 4.0, 4.0, 3.0, 4.5, 4.0, 4.5, 3.5, 3.5, 3.0, 3.5, 3.5, 4.0, 3.5, 3.5, 2.5, 3.0, 3.0, 4.0, 4.0, 3.5, 4.0, 3.5, 3.5, 4.0, 3.5, 2.0, 4.5, 3.0, 3.5, 4.0, 2.5, 3.5, 4.5, 3.5, 3.0, 4.0, 2.0, 3.0, 3.0, 3.5, 4.0, 4.0, 3.5, 3.0, 3.5, 3.5, 2.5, 3.0, 3.0, 4.0, 3.5, 4.0, 2.5, 3.0, 2.5, 3.5, 3.5, 4.5, 3.5, 2.5, 3.0, 3.0, 3.5, 3.0, 4.0, 4.0, 4.5, 4.0, 3.0, 3.0, 2.5, 4.5, 3.0, 3.5, 3.5, 3.0, 3.5, 2.5, 3.5, 4.5, 2.0, 2.5, 3.5, 4.5, 4.5, 3.5, 4.0, 2.0, 3.5, 3.5, 4.0, 4.0, 3.5, 4.5, 3.5, 5.0, 3.5, 3.0, 4.0, 3.0, 3.5, 4.0, 3.0, 3.0, 4.0, 3.5, 2.0, 4.0, 4.0, 2.5, 4.0, 5.0, 4.5, 4.0, 3.0, 5.0, 2.5, 1.5, 4.0, 3.0, 4.5, 2.5, 2.0, 2.5, 3.5, 3.5, 3.5, 2.5, 3.0, 3.5, 4.0, 4.0, 3.0, 4.0, 3.5, 3.0, 3.5, 4.0, 1.5, 4.0, 4.0, 4.0, 4.0, 3.5, 4.0, 4.0, 3.0, 2.5, 1.5, 4.0, 3.0, 4.0, 3.0, 4.0, 4.5, 2.5, 4.0, 3.0, 4.0, 3.5, 4.0, 4.5, 3.5, 3.0, 3.0, 1.5, 3.5, 4.0, 4.5, 4.0, 4.5, 4.0, 3.0, 3.5, 4.5, 4.5, 3.0, 2.5, 2.0, 4.5, 4.0, 4.0, 4.0, 4.0, 2.5, 2.5, 3.0, 3.5, 5.0, 3.5, 4.0, 3.0, 3.5, 3.5, 2.5, 3.5, 3.5, 4.0, 4.0, 4.0, 4.0, 4.0, 3.0, 3.0, 3.0, 3.5, 3.5, 4.0, 3.0, 4.0, 4.0, 2.5, 3.5, 3.5, 3.5, 3.5, 4.0, 3.5, 4.0, 3.5, 4.5, 4.0, 4.5, 3.0, 3.5, 3.0, 3.5, 2.5, 2.5, 3.0, 4.5, 4.0, 4.0, 3.5, 4.0, 4.0, 3.0, 3.5, 3.0, 2.5, 3.5, 2.5, 4.0, 2.5, 4.5, 3.0, 3.5, 2.5, 3.0, 4.5, 3.0, 2.5, 1.5, 4.0, 3.0, 3.0, 4.0, 3.5, 3.5, 4.5, 3.5, 3.0, 2.5, 3.0, 3.5, 4.0, 2.5, 3.5, 3.5, 4.5, 4.0, 3.5, 3.0, 3.0, 4.0, 3.5, 4.0, 3.5, 2.5, 3.5, 3.0, 3.5, 3.5, 3.0, 4.5, 4.0, 3.5, 3.5, 4.0, 2.5, 4.0, 4.0, 3.5, 4.5, 4.0, 4.0, 3.5, 3.5, 4.5, 4.0, 3.5, 3.5, 3.0, 4.5, 4.0, 3.0, 4.0, 2.5, 4.0, 4.0, 3.5, 2.0, 4.0, 3.5, 2.5, 4.0, 3.0, 3.5, 2.5, 3.0, 2.0, 4.5, 2.5, 3.5, 2.5, 4.0, 3.5, 4.0, 3.5, 3.5, 3.5, 3.5, 4.5, 4.0, 4.0, 4.0, 3.0, 3.5, 4.0, 4.5, 2.5, 3.5, 2.0, 4.0, 4.5, 4.0, 4.0, 2.5, 4.0, 3.0, 3.5, 3.5, 3.0, 4.0, 3.5, 4.0, 3.0, 4.0, 4.0, 4.0, 4.0, 3.0, 2.5, 3.0, 4.5, 3.5, 2.5, 4.5, 3.5, 5.0, 4.0, 3.5, 2.5, 3.5, 4.0, 2.5, 3.0, 3.5, 3.0, 3.5, 2.0, 2.5, 2.0, 3.0, 2.0, 4.0, 2.5, 3.0, 3.0, 3.0, 3.5, 4.0, 3.0, 4.5, 4.0, 2.5, 3.5, 3.5, 4.0, 4.0, 4.0, 4.0, 2.5, 2.5, 3.0, 3.0, 4.0, 3.5, 3.0, 4.0, 2.0, 4.0, 3.5, 3.5, 3.0, 3.5, 3.5, 3.0, 3.5, 4.0, 3.5, 4.0, 3.0, 4.0, 3.5, 4.0, 4.0, 3.5, 3.5, 2.5, 4.0, 3.0, 4.5, 3.0, 4.0, 3.0, 3.5, 4.0, 3.5, 3.5, 3.0, 3.5, 2.5, 3.0, 4.0, 3.5, 3.5, 3.5, 3.0, 3.5, 3.5, 3.0, 2.5, 3.5, 3.5, 3.5, 3.0, 3.5, 3.5, 3.0, 2.5, 2.0, 3.5, 3.0, 2.5, 3.5, 4.0, 4.0, 4.0, 4.0, 2.5, 4.5, 3.0, 4.0, 2.5, 2.0, 2.5, 3.0, 4.0, 4.5, 1.5, 4.5, 3.0, 2.5, 3.5, 3.5, 4.0, 4.0, 4.0, 4.0, 2.5, 3.5, 3.0, 3.5, 3.5, 3.0, 3.5, 3.0, 2.5, 2.5, 4.0, 3.0, 4.5, 2.0, 3.0, 3.5, 4.0, 3.5, 4.0, 4.0, 4.0, 3.0, 3.0, 5.0, 4.0, 3.0, 3.5, 2.5, 3.0, 4.0, 2.5, 3.0, 3.0, 3.5, 3.5, 2.0, 4.0, 4.5, 4.0, 2.5, 3.0, 2.0, 3.5, 3.5, 4.0, 3.0, 3.5, 3.5, 4.0, 3.5, 3.0, 2.0, 4.0, 3.5, 3.5, 3.5, 3.0, 4.0, 3.5, 4.0, 3.5, 3.5, 3.5, 3.5, 3.5, 3.5, 2.5, 4.0, 4.5, 3.5, 4.0, 3.5, 3.0, 2.5, 3.0, 2.5, 4.0, 2.5, 4.0, 2.0, 4.0, 4.5, 4.0, 3.0, 3.5, 4.5, 3.0, 3.0, 3.5, 3.0, 3.5, 3.5, 3.5, 4.0, 3.0, 4.0, 3.0, 3.5, 3.5, 4.0, 3.5, 4.0, 3.0, 3.0, 4.5, 3.0, 1.5, 4.0, 3.5, 4.0, 3.5, 3.0, 2.5, 2.5, 2.5, 4.5, 3.5, 3.0, 3.5, 3.5, 3.5, 2.5, 3.0, 4.5, 4.5, 2.5, 4.0, 3.5, 3.5, 4.5, 3.0, 2.5, 3.5, 2.0, 3.5, 3.0, 3.0, 3.5, 3.5, 3.5, 2.0, 3.5, 3.5, 3.5, 3.0, 4.5, 2.5, 4.0, 3.0, 4.0, 4.0, 3.5, 3.5, 2.5, 2.5, 2.5, 3.0, 4.0, 3.5, 4.0, 3.5, 3.5, 3.5, 3.5, 3.5, 3.0, 2.0, 3.0, 4.0, 3.5, 4.5, 3.0, 3.5, 3.0, 4.0, 4.0, 2.5, 4.0, 3.5, 2.5, 3.5, 3.0, 3.0, 4.0, 3.5, 4.0, 4.0, 3.5, 3.0, 3.5, 2.5, 4.0, 3.5, 3.5, 3.0, 3.5, 3.0, 3.0, 3.5, 4.0, 3.5, 2.0, 2.5, 3.5, 4.0, 4.0, 3.5, 2.0, 3.0, 4.0, 3.0, 3.0, 4.0, 3.0, 3.5, 4.0, 3.5, 2.5, 2.5, 4.0, 3.5, 3.5, 3.5, 3.5, 2.5, 4.0, 4.0, 3.5, 3.5, 3.0, 3.0, 4.0, 2.5, 4.5, 3.0, 3.5, 4.0, 3.5, 3.5, 4.0, 2.5, 4.0, 4.0, 3.5, 3.5, 3.5, 3.0, 4.0, 2.5, 3.0, 4.0, 4.5, 3.5, 2.5, 2.0, 3.5, 2.5, 3.0, 3.0, 3.0, 3.5, 4.0, 3.5, 3.0, 3.5, 3.5, 3.5, 4.0, 3.5, 3.0, 3.5, 3.5, 3.5, 3.0, 2.0, 4.5, 4.5, 4.0, 3.5, 3.0, 2.5, 4.0, 4.0, 4.0, 4.5, 3.5, 3.5, 2.0, 4.5, 4.0, 2.0, 3.5, 4.0, 4.0, 3.0, 4.0, 4.0, 4.0, 4.0, 3.5, 4.0, 3.5, 3.0, 4.0, 3.5, 3.5, 4.0, 4.0, 3.5, 3.5, 3.0, 3.0, 4.0, 4.0, 3.0, 3.0, 4.0, 2.5, 3.0, 3.5, 3.0, 4.0, 3.0, 3.0, 4.5, 3.5, 3.5, 4.5, 3.5, 2.5, 4.0, 4.5, 2.0, 4.0, 2.0, 3.5, 3.0, 4.0, 3.0, 3.0, 2.5, 3.5, 3.0, 4.0, 4.0, 3.0, 2.5, 4.5, 3.5, 3.5, 3.5, 4.0, 3.5, 4.0, 3.0, 3.0, 3.0, 2.5, 4.0, 4.5, 4.0, 4.0, 3.5, 3.0, 3.0, 3.5, 3.5, 2.5, 4.0, 4.5, 2.5, 3.0, 2.0, 3.5, 4.0, 2.5, 4.0, 2.5, 4.0, 4.0, 2.0, 3.0, 3.0, 3.5, 4.0, 3.5, 3.0, 2.5, 4.0, 4.5, 4.0, 4.0, 4.0, 4.0, 4.0, 4.5, 3.5, 3.0, 4.0, 4.5, 4.0, 3.5, 4.0, 4.0, 4.5, 3.5, 4.0, 3.0, 4.0, 4.0, 4.0, 3.5, 3.5, 3.0, 3.0, 2.0, 3.5, 2.5, 3.0, 4.0, 4.0, 3.0, 4.5, 2.5, 4.0, 4.5, 4.0, 3.0, 2.5, 4.5, 2.5, 2.5, 4.5, 4.0, 3.5, 4.0, 3.5, 3.0, 4.5, 3.0, 3.5, 3.5, 2.5, 4.0, 3.5, 3.0, 3.5, 2.5, 4.0, 3.0, 4.0, 4.0, 3.0, 4.0, 3.5, 3.0, 4.0, 3.0, 4.5, 3.5, 3.0, 3.0, 4.0, 2.5, 4.0, 4.5, 3.0, 4.0, 4.0, 3.0, 3.5, 2.5, 3.0, 4.0, 4.0, 3.5, 3.0, 4.0, 3.5, 3.5, 3.5, 4.0, 4.5, 3.5, 4.5, 2.0, 3.5, 4.0, 4.0, 2.5, 4.0, 5.0, 4.0, 3.5, 3.0, 3.5, 3.5, 3.0, 2.5, 2.5, 3.0, 2.5, 4.5, 4.0, 3.5, 3.5, 4.0, 3.0, 3.0, 4.0, 3.5, 3.5, 3.5, 4.0, 2.5, 3.5, 3.5, 4.0, 4.0, 3.5, 2.5, 4.0, 4.0, 4.0, 4.0, 3.5, 3.5, 3.0, 3.0, 2.5, 4.0, 3.0, 3.5, 4.0, 3.5, 3.5, 4.0, 3.5, 4.0, 3.0, 3.5, 4.0, 3.5, 3.5, 2.0, 4.0, 3.0, 4.0, 3.5, 4.0, 4.5, 4.5, 3.5, 4.0, 3.5, 3.0, 3.5, 4.0, 3.0, 3.0, 3.5, 3.5, 3.5, 4.0, 3.5, 3.5, 3.5, 3.5, 3.5, 4.0, 3.5, 3.5, 3.0, 4.0, 3.0, 4.0, 4.0, 4.0, 3.0, 3.5, 4.0, 4.0, 4.0, 3.5, 3.0, 4.5, 3.5, 4.0, 4.5, 3.0, 3.5, 2.5, 4.5, 3.5, 4.0, 3.5, 5.0, 3.5, 4.0, 4.5, 4.0, 3.5, 4.0, 2.0, 3.0, 2.0, 3.5, 4.0, 2.5, 4.5, 4.0, 3.5, 3.0, 4.0, 1.5, 4.5, 3.0, 2.5, 3.0, 2.0, 3.0, 2.0, 4.0, 3.5, 4.0, 3.5, 3.5, 2.0, 2.5, 4.5, 4.0, 2.5, 3.0, 3.5, 4.0, 4.0, 4.0, 3.0, 3.0, 2.5, 2.0, 3.0, 3.0, 2.5, 4.5, 5.0, 4.0, 3.0, 2.5, 3.5, 4.0, 3.0, 4.0, 2.5, 4.5, 4.5, 3.0, 3.5, 2.5, 3.0, 3.5, 3.5, 3.5, 2.0, 4.0, 3.5, 3.5, 3.5, 4.0, 3.0, 3.0, 2.5, 3.5, 4.0, 3.0, 3.0, 3.0, 4.0, 3.0, 3.5, 3.5, 4.0, 2.5, 2.5, 4.0, 3.5, 4.0, 3.5, 4.0, 4.5, 3.5, 3.5, 3.5, 3.5, 4.0, 3.0, 2.0, 2.5, 2.5, 3.5, 2.5, 3.5, 4.0, 3.5, 3.0, 3.0, 2.5, 2.5, 3.5, 3.0, 3.5, 3.5, 3.0, 4.0, 3.0, 3.0, 4.0, 3.0, 4.0, 3.5, 3.5, 2.5, 4.0, 4.0, 4.0, 3.5, 3.5, 3.5, 4.0, 3.5, 4.0, 3.5, 3.5, 2.5, 2.0, 4.0, 3.0, 4.0, 3.5, 3.0, 4.0, 4.0, 3.5, 3.5, 3.5], \"coloraxis\": \"coloraxis\", \"size\": [16, 22, 60, 21, 39, 236, 4, 3, 102, 10, 320, 258, 165, 9, 36, 13, 123, 11, 126, 94, 459, 43, 6, 574, 44, 23, 66, 246, 138, 463, 236, 229, 7, 16, 130, 10, 38, 4, 32, 86, 96, 4, 3, 56, 65, 69, 297, 9, 14, 31, 10, 120, 36, 15, 179, 38, 265, 21, 4, 11, 153, 26, 12, 175, 30, 1972, 9, 29, 7, 9, 263, 46, 177, 13, 313, 15, 86, 18, 6, 838, 8, 89, 12, 107, 67, 28, 26, 3, 30, 29, 20, 9, 75, 30, 482, 151, 95, 217, 33, 65, 6, 10, 9, 103, 95, 19, 15, 94, 356, 149, 123, 35, 52, 55, 50, 165, 86, 14, 5, 334, 441, 16, 12, 13, 20, 12, 18, 91, 83, 43, 389, 3, 29, 10, 24, 14, 88, 9, 70, 14, 85, 306, 261, 89, 98, 173, 6, 14, 11, 19, 21, 174, 340, 44, 473, 7, 34, 104, 7, 173, 84, 16, 39, 529, 8, 35, 4, 19, 32, 92, 20, 90, 173, 6, 159, 139, 886, 1429, 79, 4, 59, 35, 57, 10, 969, 43, 125, 238, 209, 52, 19, 56, 61, 186, 216, 436, 404, 100, 235, 15, 149, 29, 443, 61, 4, 60, 54, 36, 9, 160, 288, 12, 542, 62, 6, 31, 52, 7, 98, 562, 4, 240, 16, 14, 31, 258, 264, 214, 15, 175, 130, 35, 21, 8, 692, 14, 123, 17, 196, 30, 566, 135, 145, 40, 81, 69, 302, 7, 16, 5, 316, 34, 165, 301, 15, 60, 3, 9, 328, 137, 7, 61, 28, 144, 21, 53, 58, 37, 18, 195, 272, 4, 389, 98, 196, 9, 24, 40, 64, 9, 12, 48, 142, 3, 59, 102, 49, 79, 195, 4, 40, 53, 3, 4, 111, 194, 39, 52, 4, 89, 29, 25, 215, 335, 5, 3, 214, 117, 238, 94, 243, 80, 30, 17, 107, 1016, 5, 72, 55, 15, 8, 81, 659, 4, 53, 11, 23, 17, 19, 1375, 53, 679, 128, 11, 136, 1009, 337, 50, 20, 8, 23, 251, 38, 16, 669, 402, 6, 40, 25, 9, 53, 24, 14, 79, 95, 269, 26, 311, 185, 24, 24, 8, 94, 33, 320, 93, 3, 98, 190, 442, 50, 18, 478, 277, 16, 22, 21, 95, 880, 44, 76, 238, 34, 4, 5, 533, 1578, 191, 52, 893, 686, 505, 39, 7, 3, 110, 65, 471, 121, 76, 3, 89, 16, 287, 103, 21, 2412, 63, 207, 117, 42, 56, 139, 346, 134, 14, 37, 16, 14, 24, 292, 15, 15, 166, 33, 16, 56, 40, 54, 3, 15, 5, 532, 490, 312, 14, 55, 23, 18, 576, 163, 94, 30, 112, 38, 26, 18, 10, 18, 27, 17, 11, 778, 11, 311, 86, 174, 238, 52, 69, 19, 56, 14, 21, 33, 10, 145, 152, 52, 4, 95, 972, 54, 64, 48, 67, 42, 9, 683, 4, 950, 158, 527, 5, 106, 28, 6, 30, 7, 34, 26, 13, 12, 43, 60, 6, 237, 32, 217, 356, 111, 34, 6, 105, 5, 14, 9, 93, 28, 268, 991, 35, 112, 140, 146, 75, 6, 1755, 149, 102, 101, 37, 17, 169, 156, 76, 60, 19, 60, 9, 7, 10, 21, 3, 6, 90, 7, 34, 113, 86, 4, 148, 324, 901, 5, 10, 77, 7, 158, 58, 504, 106, 313, 28, 167, 17, 4, 20, 7, 18, 106, 159, 58, 287, 43, 1072, 28, 152, 63, 239, 4, 15, 124, 195, 257, 150, 9, 140, 17, 6, 3, 13, 62, 30, 57, 26, 184, 112, 419, 180, 10, 59, 127, 22, 16, 4, 29, 57, 6, 233, 92, 275, 41, 13, 122, 44, 27, 68, 6, 332, 56, 17, 19, 67, 45, 5, 15, 328, 112, 3, 3, 75, 30, 25, 126, 7, 66, 6, 472, 3, 80, 35, 112, 131, 45, 27, 40, 273, 3, 47, 26, 114, 470, 85, 333, 8, 59, 144, 12, 96, 131, 70, 53, 370, 207, 97, 103, 3, 1189, 27, 310, 691, 156, 153, 338, 8, 1130, 38, 75, 48, 24, 10, 44, 8, 196, 46, 38, 9, 47, 41, 56, 85, 9, 339, 27, 668, 180, 12, 4, 156, 21, 137, 49, 8348, 643, 51, 31, 195, 22, 42, 50, 32, 7, 114, 140, 74, 7, 361, 4, 61, 11, 197, 12, 54, 4, 50, 75, 106, 7, 29, 17, 15, 59, 186, 24, 300, 270, 467, 163, 28, 234, 71, 3, 934, 15, 92, 99, 4, 4, 60, 17, 8, 4, 61, 64, 12, 48, 237, 13, 13, 25, 358, 37, 1672, 68, 47, 158, 101, 203, 28, 229, 77, 140, 65, 32, 54, 46, 873, 4, 310, 51, 31, 24, 12, 666, 93, 20, 423, 28, 97, 53, 6, 4, 226, 154, 174, 109, 10, 120, 289, 50, 264, 60, 26, 110, 346, 22, 65, 86, 54, 254, 37, 46, 6, 450, 47, 49, 547, 91, 174, 33, 57, 80, 3, 101, 23, 56, 44, 21, 26, 14, 53, 45, 6, 115, 204, 175, 42, 945, 31, 172, 138, 109, 11, 9, 68, 184, 936, 86, 566, 63, 198, 30, 89, 35, 18, 311, 102, 3, 390, 34, 3, 11, 75, 544, 383, 363, 36, 109, 188, 24, 144, 146, 85, 64, 45, 3, 41, 34, 106, 7, 6, 92, 77, 76, 115, 13, 23, 182, 20, 29, 11, 215, 49, 54, 67, 14, 412, 4, 11, 16, 86, 68, 61, 190, 727, 110, 29, 12, 23, 144, 117, 31, 20, 74, 5, 491, 96, 85, 42, 513, 170, 178, 101, 7, 79, 17, 139, 223, 108, 6, 4, 15, 233, 5, 391, 9, 10, 138, 210, 68, 122, 67, 182, 128, 27, 276, 42, 161, 3, 348, 11, 7, 73, 5, 95, 14, 51, 119, 3, 658, 17, 16, 6, 75, 23, 3, 7, 59, 13, 162, 9, 2442, 9, 6, 98, 30, 75, 174, 4, 12, 43, 14, 12, 50, 11, 164, 115, 30, 63, 7, 3, 7, 145, 4, 38, 377, 2417, 75, 162, 79, 13, 241, 66, 94, 56, 98, 8, 118, 6, 22, 116, 85, 1379, 21, 5, 169, 3547, 156, 616, 3, 36, 9, 65, 5, 5, 208, 3, 46, 4, 38, 17, 97, 7, 17, 206, 45, 80, 8, 60, 208, 13, 19, 615, 8, 3, 272, 40, 160, 23, 95, 216, 3, 93, 96, 25, 60, 48, 26, 82, 22, 344, 109, 3, 159, 53, 73, 51, 494, 18, 18, 32, 99, 184, 12, 45, 143, 1461, 59, 23, 196, 16, 384, 434, 21, 162, 113, 407, 82, 77, 83, 67, 97, 1397, 5, 31, 134, 10, 7, 35, 105, 7, 24, 85, 132, 31, 30, 25, 53, 500, 185, 77, 7, 193, 48, 873, 14, 245, 62, 3, 69, 12, 39, 67, 36, 100, 24, 62, 9, 304, 3, 280, 60, 198, 8, 907, 13, 100, 440, 25, 95, 20, 21, 1406, 362, 101, 86, 25, 27, 454, 800, 20, 50, 7, 12, 48, 5, 119, 58, 36, 80, 908, 121, 16, 811, 324, 508, 1367, 491, 46, 28, 307, 291, 8, 20, 74, 18, 38, 44, 42, 105, 5, 139, 21, 126, 12, 115, 87, 63, 132, 61, 104, 3, 28, 21, 93, 75, 102, 81, 190, 4, 286, 15, 349, 147, 3, 23, 12, 29, 111, 22, 63, 517, 4, 9, 96, 40, 140, 110, 31, 516, 102, 113, 12, 35, 10, 89, 6, 167, 247, 274, 47, 131, 20, 75, 29, 40, 5, 13, 36, 7, 15, 1401, 35, 3, 7, 701, 51, 32, 12, 9, 135, 129, 15, 20, 10, 122, 353, 30, 680, 96, 895, 45, 511, 317, 56, 65, 72, 25, 92, 86, 99, 251, 60, 5, 47, 201, 79, 377, 18, 252, 27, 145, 6, 69, 190, 70, 1168, 14, 10, 73, 14, 943, 236, 337, 40, 26, 488, 150, 15, 8, 112, 155, 122, 140, 4, 143, 9, 51, 60, 15, 489, 14, 54, 37, 27, 40, 213, 209, 56, 74, 2269, 88, 21, 554, 4, 64, 19, 72, 17, 249, 28, 151, 206, 52, 175, 124, 21, 96, 3, 138, 587, 7, 126, 18, 88, 60, 240, 9, 9, 14, 35, 117, 105, 18, 101, 3, 94, 142, 5, 400, 7, 206, 205, 9, 97, 101, 52, 7, 90, 169, 37, 774, 300, 7, 55, 181, 197, 56, 92, 33, 550, 140, 33, 219, 61, 1015, 128, 25, 20, 1613, 156, 857, 21, 199, 76, 38, 770, 130, 7, 50, 714, 59, 27, 589, 71, 637, 77, 24, 1169, 25, 52, 34, 136, 81, 278, 137, 342, 29, 6, 52, 320, 252, 6, 26, 13, 91, 72, 792, 61, 105, 44, 68, 64, 30, 31, 5, 275, 33, 32, 98, 12, 16, 43, 61, 112, 69, 206, 574, 1852, 26, 4, 122, 72, 123, 200, 18, 27, 100, 73, 46, 4, 142, 34, 4, 116, 7, 6, 330, 247, 4, 9, 9, 4, 240, 366, 9, 46, 1148, 218, 3, 9, 60, 146, 57, 14, 216, 28, 39, 18, 16, 3, 70, 95, 14, 6, 63, 6, 26, 9, 107, 75, 44, 55, 181, 23, 8, 587, 18, 59, 54, 287, 888, 67, 105, 30, 25, 100, 27, 24, 3, 26, 3, 34, 81, 54, 34, 53, 6, 18, 34, 4, 192, 59, 204, 48, 4, 5, 78, 21, 138, 195, 159, 16, 362, 64, 160, 4, 24, 21, 5, 16, 176, 198, 78, 151, 29, 85, 68, 181, 107, 53, 1064, 164, 52, 73, 14, 72, 3, 137, 19, 26, 3, 48, 24, 46, 208, 24, 183, 21, 126, 20, 26, 56, 23, 12, 200, 536, 174, 20, 449, 176, 116, 16, 85, 472, 103, 40, 932, 23, 18, 3, 29, 155, 31, 4, 140, 7, 35, 166, 41, 7, 6], \"sizemode\": \"area\", \"sizeref\": 0.8348}, \"mode\": \"markers\", \"name\": \"\", \"showlegend\": false, \"subplot\": \"mapbox\", \"type\": \"scattermapbox\"}],\n",
       "                        {\"coloraxis\": {\"colorbar\": {\"title\": {\"text\": \"stars\"}}, \"colorscale\": [[0.0, \"#000004\"], [0.1111111111111111, \"#180f3d\"], [0.2222222222222222, \"#440f76\"], [0.3333333333333333, \"#721f81\"], [0.4444444444444444, \"#9e2f7f\"], [0.5555555555555556, \"#cd4071\"], [0.6666666666666666, \"#f1605d\"], [0.7777777777777778, \"#fd9668\"], [0.8888888888888888, \"#feca8d\"], [1.0, \"#fcfdbf\"]]}, \"height\": 600, \"legend\": {\"itemsizing\": \"constant\", \"tracegroupgap\": 0}, \"mapbox\": {\"center\": {\"lat\": 40.04546938406231, \"lon\": -94.06921788776776}, \"domain\": {\"x\": [0.0, 0.98], \"y\": [0.0, 1.0]}, \"style\": \"open-street-map\", \"zoom\": 10}, \"margin\": {\"b\": 0, \"l\": 0, \"r\": 0, \"t\": 0}, \"template\": {\"data\": {\"bar\": [{\"error_x\": {\"color\": \"#2a3f5f\"}, \"error_y\": {\"color\": \"#2a3f5f\"}, \"marker\": {\"line\": {\"color\": \"#E5ECF6\", \"width\": 0.5}}, \"type\": \"bar\"}], \"barpolar\": [{\"marker\": {\"line\": {\"color\": \"#E5ECF6\", \"width\": 0.5}}, \"type\": \"barpolar\"}], \"carpet\": [{\"aaxis\": {\"endlinecolor\": \"#2a3f5f\", \"gridcolor\": \"white\", \"linecolor\": \"white\", \"minorgridcolor\": \"white\", \"startlinecolor\": \"#2a3f5f\"}, \"baxis\": {\"endlinecolor\": \"#2a3f5f\", \"gridcolor\": \"white\", \"linecolor\": \"white\", \"minorgridcolor\": \"white\", \"startlinecolor\": \"#2a3f5f\"}, \"type\": \"carpet\"}], \"choropleth\": [{\"colorbar\": {\"outlinewidth\": 0, \"ticks\": \"\"}, \"type\": \"choropleth\"}], \"contour\": [{\"colorbar\": {\"outlinewidth\": 0, \"ticks\": \"\"}, \"colorscale\": [[0.0, \"#0d0887\"], [0.1111111111111111, \"#46039f\"], [0.2222222222222222, \"#7201a8\"], [0.3333333333333333, \"#9c179e\"], [0.4444444444444444, \"#bd3786\"], [0.5555555555555556, \"#d8576b\"], [0.6666666666666666, \"#ed7953\"], [0.7777777777777778, \"#fb9f3a\"], [0.8888888888888888, \"#fdca26\"], [1.0, \"#f0f921\"]], \"type\": \"contour\"}], \"contourcarpet\": [{\"colorbar\": {\"outlinewidth\": 0, \"ticks\": \"\"}, \"type\": \"contourcarpet\"}], \"heatmap\": [{\"colorbar\": {\"outlinewidth\": 0, \"ticks\": \"\"}, \"colorscale\": [[0.0, \"#0d0887\"], [0.1111111111111111, \"#46039f\"], [0.2222222222222222, \"#7201a8\"], [0.3333333333333333, \"#9c179e\"], [0.4444444444444444, \"#bd3786\"], [0.5555555555555556, \"#d8576b\"], [0.6666666666666666, \"#ed7953\"], [0.7777777777777778, \"#fb9f3a\"], [0.8888888888888888, \"#fdca26\"], [1.0, \"#f0f921\"]], \"type\": \"heatmap\"}], \"heatmapgl\": [{\"colorbar\": {\"outlinewidth\": 0, \"ticks\": \"\"}, \"colorscale\": [[0.0, \"#0d0887\"], [0.1111111111111111, \"#46039f\"], [0.2222222222222222, \"#7201a8\"], [0.3333333333333333, \"#9c179e\"], [0.4444444444444444, \"#bd3786\"], [0.5555555555555556, \"#d8576b\"], [0.6666666666666666, \"#ed7953\"], [0.7777777777777778, \"#fb9f3a\"], [0.8888888888888888, \"#fdca26\"], [1.0, \"#f0f921\"]], \"type\": \"heatmapgl\"}], \"histogram\": [{\"marker\": {\"colorbar\": {\"outlinewidth\": 0, \"ticks\": \"\"}}, \"type\": \"histogram\"}], \"histogram2d\": [{\"colorbar\": {\"outlinewidth\": 0, \"ticks\": \"\"}, \"colorscale\": [[0.0, \"#0d0887\"], [0.1111111111111111, \"#46039f\"], [0.2222222222222222, \"#7201a8\"], [0.3333333333333333, \"#9c179e\"], [0.4444444444444444, \"#bd3786\"], [0.5555555555555556, \"#d8576b\"], [0.6666666666666666, \"#ed7953\"], [0.7777777777777778, \"#fb9f3a\"], [0.8888888888888888, \"#fdca26\"], [1.0, \"#f0f921\"]], \"type\": \"histogram2d\"}], \"histogram2dcontour\": [{\"colorbar\": {\"outlinewidth\": 0, \"ticks\": \"\"}, \"colorscale\": [[0.0, \"#0d0887\"], [0.1111111111111111, \"#46039f\"], [0.2222222222222222, \"#7201a8\"], [0.3333333333333333, \"#9c179e\"], [0.4444444444444444, \"#bd3786\"], [0.5555555555555556, \"#d8576b\"], [0.6666666666666666, \"#ed7953\"], [0.7777777777777778, \"#fb9f3a\"], [0.8888888888888888, \"#fdca26\"], [1.0, \"#f0f921\"]], \"type\": \"histogram2dcontour\"}], \"mesh3d\": [{\"colorbar\": {\"outlinewidth\": 0, \"ticks\": \"\"}, \"type\": \"mesh3d\"}], \"parcoords\": [{\"line\": {\"colorbar\": {\"outlinewidth\": 0, \"ticks\": \"\"}}, \"type\": \"parcoords\"}], \"scatter\": [{\"marker\": {\"colorbar\": {\"outlinewidth\": 0, \"ticks\": \"\"}}, \"type\": \"scatter\"}], \"scatter3d\": [{\"line\": {\"colorbar\": {\"outlinewidth\": 0, \"ticks\": \"\"}}, \"marker\": {\"colorbar\": {\"outlinewidth\": 0, \"ticks\": \"\"}}, \"type\": \"scatter3d\"}], \"scattercarpet\": [{\"marker\": {\"colorbar\": {\"outlinewidth\": 0, \"ticks\": \"\"}}, \"type\": \"scattercarpet\"}], \"scattergeo\": [{\"marker\": {\"colorbar\": {\"outlinewidth\": 0, \"ticks\": \"\"}}, \"type\": \"scattergeo\"}], \"scattergl\": [{\"marker\": {\"colorbar\": {\"outlinewidth\": 0, \"ticks\": \"\"}}, \"type\": \"scattergl\"}], \"scattermapbox\": [{\"marker\": {\"colorbar\": {\"outlinewidth\": 0, \"ticks\": \"\"}}, \"type\": \"scattermapbox\"}], \"scatterpolar\": [{\"marker\": {\"colorbar\": {\"outlinewidth\": 0, \"ticks\": \"\"}}, \"type\": \"scatterpolar\"}], \"scatterpolargl\": [{\"marker\": {\"colorbar\": {\"outlinewidth\": 0, \"ticks\": \"\"}}, \"type\": \"scatterpolargl\"}], \"scatterternary\": [{\"marker\": {\"colorbar\": {\"outlinewidth\": 0, \"ticks\": \"\"}}, \"type\": \"scatterternary\"}], \"surface\": [{\"colorbar\": {\"outlinewidth\": 0, \"ticks\": \"\"}, \"colorscale\": [[0.0, \"#0d0887\"], [0.1111111111111111, \"#46039f\"], [0.2222222222222222, \"#7201a8\"], [0.3333333333333333, \"#9c179e\"], [0.4444444444444444, \"#bd3786\"], [0.5555555555555556, \"#d8576b\"], [0.6666666666666666, \"#ed7953\"], [0.7777777777777778, \"#fb9f3a\"], [0.8888888888888888, \"#fdca26\"], [1.0, \"#f0f921\"]], \"type\": \"surface\"}], \"table\": [{\"cells\": {\"fill\": {\"color\": \"#EBF0F8\"}, \"line\": {\"color\": \"white\"}}, \"header\": {\"fill\": {\"color\": \"#C8D4E3\"}, \"line\": {\"color\": \"white\"}}, \"type\": \"table\"}]}, \"layout\": {\"annotationdefaults\": {\"arrowcolor\": \"#2a3f5f\", \"arrowhead\": 0, \"arrowwidth\": 1}, \"colorscale\": {\"diverging\": [[0, \"#8e0152\"], [0.1, \"#c51b7d\"], [0.2, \"#de77ae\"], [0.3, \"#f1b6da\"], [0.4, \"#fde0ef\"], [0.5, \"#f7f7f7\"], [0.6, \"#e6f5d0\"], [0.7, \"#b8e186\"], [0.8, \"#7fbc41\"], [0.9, \"#4d9221\"], [1, \"#276419\"]], \"sequential\": [[0.0, \"#0d0887\"], [0.1111111111111111, \"#46039f\"], [0.2222222222222222, \"#7201a8\"], [0.3333333333333333, \"#9c179e\"], [0.4444444444444444, \"#bd3786\"], [0.5555555555555556, \"#d8576b\"], [0.6666666666666666, \"#ed7953\"], [0.7777777777777778, \"#fb9f3a\"], [0.8888888888888888, \"#fdca26\"], [1.0, \"#f0f921\"]], \"sequentialminus\": [[0.0, \"#0d0887\"], [0.1111111111111111, \"#46039f\"], [0.2222222222222222, \"#7201a8\"], [0.3333333333333333, \"#9c179e\"], [0.4444444444444444, \"#bd3786\"], [0.5555555555555556, \"#d8576b\"], [0.6666666666666666, \"#ed7953\"], [0.7777777777777778, \"#fb9f3a\"], [0.8888888888888888, \"#fdca26\"], [1.0, \"#f0f921\"]]}, \"colorway\": [\"#636efa\", \"#EF553B\", \"#00cc96\", \"#ab63fa\", \"#FFA15A\", \"#19d3f3\", \"#FF6692\", \"#B6E880\", \"#FF97FF\", \"#FECB52\"], \"font\": {\"color\": \"#2a3f5f\"}, \"geo\": {\"bgcolor\": \"white\", \"lakecolor\": \"white\", \"landcolor\": \"#E5ECF6\", \"showlakes\": true, \"showland\": true, \"subunitcolor\": \"white\"}, \"hoverlabel\": {\"align\": \"left\"}, \"hovermode\": \"closest\", \"mapbox\": {\"style\": \"light\"}, \"paper_bgcolor\": \"white\", \"plot_bgcolor\": \"#E5ECF6\", \"polar\": {\"angularaxis\": {\"gridcolor\": \"white\", \"linecolor\": \"white\", \"ticks\": \"\"}, \"bgcolor\": \"#E5ECF6\", \"radialaxis\": {\"gridcolor\": \"white\", \"linecolor\": \"white\", \"ticks\": \"\"}}, \"scene\": {\"xaxis\": {\"backgroundcolor\": \"#E5ECF6\", \"gridcolor\": \"white\", \"gridwidth\": 2, \"linecolor\": \"white\", \"showbackground\": true, \"ticks\": \"\", \"zerolinecolor\": \"white\"}, \"yaxis\": {\"backgroundcolor\": \"#E5ECF6\", \"gridcolor\": \"white\", \"gridwidth\": 2, \"linecolor\": \"white\", \"showbackground\": true, \"ticks\": \"\", \"zerolinecolor\": \"white\"}, \"zaxis\": {\"backgroundcolor\": \"#E5ECF6\", \"gridcolor\": \"white\", \"gridwidth\": 2, \"linecolor\": \"white\", \"showbackground\": true, \"ticks\": \"\", \"zerolinecolor\": \"white\"}}, \"shapedefaults\": {\"line\": {\"color\": \"#2a3f5f\"}}, \"ternary\": {\"aaxis\": {\"gridcolor\": \"white\", \"linecolor\": \"white\", \"ticks\": \"\"}, \"baxis\": {\"gridcolor\": \"white\", \"linecolor\": \"white\", \"ticks\": \"\"}, \"bgcolor\": \"#E5ECF6\", \"caxis\": {\"gridcolor\": \"white\", \"linecolor\": \"white\", \"ticks\": \"\"}}, \"title\": {\"x\": 0.05}, \"xaxis\": {\"automargin\": true, \"gridcolor\": \"white\", \"linecolor\": \"white\", \"ticks\": \"\", \"zerolinecolor\": \"white\", \"zerolinewidth\": 2}, \"yaxis\": {\"automargin\": true, \"gridcolor\": \"white\", \"linecolor\": \"white\", \"ticks\": \"\", \"zerolinecolor\": \"white\", \"zerolinewidth\": 2}}}},\n",
       "                        {\"responsive\": true}\n",
       "                    ).then(function(){\n",
       "                            \n",
       "var gd = document.getElementById('ddca43d2-bba3-425b-bdd3-34c682da7109');\n",
       "var x = new MutationObserver(function (mutations, observer) {{\n",
       "        var display = window.getComputedStyle(gd).display;\n",
       "        if (!display || display === 'none') {{\n",
       "            console.log([gd, 'removed!']);\n",
       "            Plotly.purge(gd);\n",
       "            observer.disconnect();\n",
       "        }}\n",
       "}});\n",
       "\n",
       "// Listen for the removal of the full notebook cells\n",
       "var notebookContainer = gd.closest('#notebook-container');\n",
       "if (notebookContainer) {{\n",
       "    x.observe(notebookContainer, {childList: true});\n",
       "}}\n",
       "\n",
       "// Listen for the clearing of the current output cell\n",
       "var outputEl = gd.closest('.output');\n",
       "if (outputEl) {{\n",
       "    x.observe(outputEl, {childList: true});\n",
       "}}\n",
       "\n",
       "                        })\n",
       "                };\n",
       "                });\n",
       "            </script>\n",
       "        </div>"
      ]
     },
     "metadata": {},
     "output_type": "display_data"
    }
   ],
   "source": [
    "import pandas as pd\n",
    "import plotly.express as px\n",
    "\n",
    "fig = px.scatter_mapbox(business, lat=\"latitude\", lon=\"longitude\", hover_name=\"name\", hover_data=[\"state\", \"stars\"],color=\"stars\", size=\"review_count\",color_continuous_scale='Magma', size_max=100, zoom=10)\n",
    "fig.update_layout(mapbox_style=\"open-street-map\")\n",
    "fig.update_layout(margin={\"r\":0,\"t\":0,\"l\":0,\"b\":0})\n",
    "fig.show()"
   ]
  },
  {
   "cell_type": "code",
   "execution_count": 15,
   "metadata": {},
   "outputs": [
    {
     "data": {
      "application/vnd.plotly.v1+json": {
       "config": {
        "plotlyServerURL": "https://plot.ly"
       },
       "data": [
        {
         "colorbar": {
          "title": {
           "text": "Number"
          }
         },
         "colorscale": [
          [
           0,
           "rgb(255,245,240)"
          ],
          [
           0.125,
           "rgb(254,224,210)"
          ],
          [
           0.25,
           "rgb(252,187,161)"
          ],
          [
           0.375,
           "rgb(252,146,114)"
          ],
          [
           0.5,
           "rgb(251,106,74)"
          ],
          [
           0.625,
           "rgb(239,59,44)"
          ],
          [
           0.75,
           "rgb(203,24,29)"
          ],
          [
           0.875,
           "rgb(165,15,21)"
          ],
          [
           1,
           "rgb(103,0,13)"
          ]
         ],
         "locationmode": "USA-states",
         "locations": [
          "AZ",
          "IL",
          "NC",
          "NE",
          "NM",
          "NV",
          "OH",
          "PA",
          "SC",
          "TX",
          "WI"
         ],
         "type": "choropleth",
         "z": [
          260,
          16,
          131,
          1,
          1,
          302,
          187,
          94,
          10,
          1,
          44
         ]
        }
       ],
       "layout": {
        "geo": {
         "scope": "usa"
        },
        "template": {
         "data": {
          "bar": [
           {
            "error_x": {
             "color": "#2a3f5f"
            },
            "error_y": {
             "color": "#2a3f5f"
            },
            "marker": {
             "line": {
              "color": "#E5ECF6",
              "width": 0.5
             }
            },
            "type": "bar"
           }
          ],
          "barpolar": [
           {
            "marker": {
             "line": {
              "color": "#E5ECF6",
              "width": 0.5
             }
            },
            "type": "barpolar"
           }
          ],
          "carpet": [
           {
            "aaxis": {
             "endlinecolor": "#2a3f5f",
             "gridcolor": "white",
             "linecolor": "white",
             "minorgridcolor": "white",
             "startlinecolor": "#2a3f5f"
            },
            "baxis": {
             "endlinecolor": "#2a3f5f",
             "gridcolor": "white",
             "linecolor": "white",
             "minorgridcolor": "white",
             "startlinecolor": "#2a3f5f"
            },
            "type": "carpet"
           }
          ],
          "choropleth": [
           {
            "colorbar": {
             "outlinewidth": 0,
             "ticks": ""
            },
            "type": "choropleth"
           }
          ],
          "contour": [
           {
            "colorbar": {
             "outlinewidth": 0,
             "ticks": ""
            },
            "colorscale": [
             [
              0,
              "#0d0887"
             ],
             [
              0.1111111111111111,
              "#46039f"
             ],
             [
              0.2222222222222222,
              "#7201a8"
             ],
             [
              0.3333333333333333,
              "#9c179e"
             ],
             [
              0.4444444444444444,
              "#bd3786"
             ],
             [
              0.5555555555555556,
              "#d8576b"
             ],
             [
              0.6666666666666666,
              "#ed7953"
             ],
             [
              0.7777777777777778,
              "#fb9f3a"
             ],
             [
              0.8888888888888888,
              "#fdca26"
             ],
             [
              1,
              "#f0f921"
             ]
            ],
            "type": "contour"
           }
          ],
          "contourcarpet": [
           {
            "colorbar": {
             "outlinewidth": 0,
             "ticks": ""
            },
            "type": "contourcarpet"
           }
          ],
          "heatmap": [
           {
            "colorbar": {
             "outlinewidth": 0,
             "ticks": ""
            },
            "colorscale": [
             [
              0,
              "#0d0887"
             ],
             [
              0.1111111111111111,
              "#46039f"
             ],
             [
              0.2222222222222222,
              "#7201a8"
             ],
             [
              0.3333333333333333,
              "#9c179e"
             ],
             [
              0.4444444444444444,
              "#bd3786"
             ],
             [
              0.5555555555555556,
              "#d8576b"
             ],
             [
              0.6666666666666666,
              "#ed7953"
             ],
             [
              0.7777777777777778,
              "#fb9f3a"
             ],
             [
              0.8888888888888888,
              "#fdca26"
             ],
             [
              1,
              "#f0f921"
             ]
            ],
            "type": "heatmap"
           }
          ],
          "heatmapgl": [
           {
            "colorbar": {
             "outlinewidth": 0,
             "ticks": ""
            },
            "colorscale": [
             [
              0,
              "#0d0887"
             ],
             [
              0.1111111111111111,
              "#46039f"
             ],
             [
              0.2222222222222222,
              "#7201a8"
             ],
             [
              0.3333333333333333,
              "#9c179e"
             ],
             [
              0.4444444444444444,
              "#bd3786"
             ],
             [
              0.5555555555555556,
              "#d8576b"
             ],
             [
              0.6666666666666666,
              "#ed7953"
             ],
             [
              0.7777777777777778,
              "#fb9f3a"
             ],
             [
              0.8888888888888888,
              "#fdca26"
             ],
             [
              1,
              "#f0f921"
             ]
            ],
            "type": "heatmapgl"
           }
          ],
          "histogram": [
           {
            "marker": {
             "colorbar": {
              "outlinewidth": 0,
              "ticks": ""
             }
            },
            "type": "histogram"
           }
          ],
          "histogram2d": [
           {
            "colorbar": {
             "outlinewidth": 0,
             "ticks": ""
            },
            "colorscale": [
             [
              0,
              "#0d0887"
             ],
             [
              0.1111111111111111,
              "#46039f"
             ],
             [
              0.2222222222222222,
              "#7201a8"
             ],
             [
              0.3333333333333333,
              "#9c179e"
             ],
             [
              0.4444444444444444,
              "#bd3786"
             ],
             [
              0.5555555555555556,
              "#d8576b"
             ],
             [
              0.6666666666666666,
              "#ed7953"
             ],
             [
              0.7777777777777778,
              "#fb9f3a"
             ],
             [
              0.8888888888888888,
              "#fdca26"
             ],
             [
              1,
              "#f0f921"
             ]
            ],
            "type": "histogram2d"
           }
          ],
          "histogram2dcontour": [
           {
            "colorbar": {
             "outlinewidth": 0,
             "ticks": ""
            },
            "colorscale": [
             [
              0,
              "#0d0887"
             ],
             [
              0.1111111111111111,
              "#46039f"
             ],
             [
              0.2222222222222222,
              "#7201a8"
             ],
             [
              0.3333333333333333,
              "#9c179e"
             ],
             [
              0.4444444444444444,
              "#bd3786"
             ],
             [
              0.5555555555555556,
              "#d8576b"
             ],
             [
              0.6666666666666666,
              "#ed7953"
             ],
             [
              0.7777777777777778,
              "#fb9f3a"
             ],
             [
              0.8888888888888888,
              "#fdca26"
             ],
             [
              1,
              "#f0f921"
             ]
            ],
            "type": "histogram2dcontour"
           }
          ],
          "mesh3d": [
           {
            "colorbar": {
             "outlinewidth": 0,
             "ticks": ""
            },
            "type": "mesh3d"
           }
          ],
          "parcoords": [
           {
            "line": {
             "colorbar": {
              "outlinewidth": 0,
              "ticks": ""
             }
            },
            "type": "parcoords"
           }
          ],
          "scatter": [
           {
            "marker": {
             "colorbar": {
              "outlinewidth": 0,
              "ticks": ""
             }
            },
            "type": "scatter"
           }
          ],
          "scatter3d": [
           {
            "line": {
             "colorbar": {
              "outlinewidth": 0,
              "ticks": ""
             }
            },
            "marker": {
             "colorbar": {
              "outlinewidth": 0,
              "ticks": ""
             }
            },
            "type": "scatter3d"
           }
          ],
          "scattercarpet": [
           {
            "marker": {
             "colorbar": {
              "outlinewidth": 0,
              "ticks": ""
             }
            },
            "type": "scattercarpet"
           }
          ],
          "scattergeo": [
           {
            "marker": {
             "colorbar": {
              "outlinewidth": 0,
              "ticks": ""
             }
            },
            "type": "scattergeo"
           }
          ],
          "scattergl": [
           {
            "marker": {
             "colorbar": {
              "outlinewidth": 0,
              "ticks": ""
             }
            },
            "type": "scattergl"
           }
          ],
          "scattermapbox": [
           {
            "marker": {
             "colorbar": {
              "outlinewidth": 0,
              "ticks": ""
             }
            },
            "type": "scattermapbox"
           }
          ],
          "scatterpolar": [
           {
            "marker": {
             "colorbar": {
              "outlinewidth": 0,
              "ticks": ""
             }
            },
            "type": "scatterpolar"
           }
          ],
          "scatterpolargl": [
           {
            "marker": {
             "colorbar": {
              "outlinewidth": 0,
              "ticks": ""
             }
            },
            "type": "scatterpolargl"
           }
          ],
          "scatterternary": [
           {
            "marker": {
             "colorbar": {
              "outlinewidth": 0,
              "ticks": ""
             }
            },
            "type": "scatterternary"
           }
          ],
          "surface": [
           {
            "colorbar": {
             "outlinewidth": 0,
             "ticks": ""
            },
            "colorscale": [
             [
              0,
              "#0d0887"
             ],
             [
              0.1111111111111111,
              "#46039f"
             ],
             [
              0.2222222222222222,
              "#7201a8"
             ],
             [
              0.3333333333333333,
              "#9c179e"
             ],
             [
              0.4444444444444444,
              "#bd3786"
             ],
             [
              0.5555555555555556,
              "#d8576b"
             ],
             [
              0.6666666666666666,
              "#ed7953"
             ],
             [
              0.7777777777777778,
              "#fb9f3a"
             ],
             [
              0.8888888888888888,
              "#fdca26"
             ],
             [
              1,
              "#f0f921"
             ]
            ],
            "type": "surface"
           }
          ],
          "table": [
           {
            "cells": {
             "fill": {
              "color": "#EBF0F8"
             },
             "line": {
              "color": "white"
             }
            },
            "header": {
             "fill": {
              "color": "#C8D4E3"
             },
             "line": {
              "color": "white"
             }
            },
            "type": "table"
           }
          ]
         },
         "layout": {
          "annotationdefaults": {
           "arrowcolor": "#2a3f5f",
           "arrowhead": 0,
           "arrowwidth": 1
          },
          "colorscale": {
           "diverging": [
            [
             0,
             "#8e0152"
            ],
            [
             0.1,
             "#c51b7d"
            ],
            [
             0.2,
             "#de77ae"
            ],
            [
             0.3,
             "#f1b6da"
            ],
            [
             0.4,
             "#fde0ef"
            ],
            [
             0.5,
             "#f7f7f7"
            ],
            [
             0.6,
             "#e6f5d0"
            ],
            [
             0.7,
             "#b8e186"
            ],
            [
             0.8,
             "#7fbc41"
            ],
            [
             0.9,
             "#4d9221"
            ],
            [
             1,
             "#276419"
            ]
           ],
           "sequential": [
            [
             0,
             "#0d0887"
            ],
            [
             0.1111111111111111,
             "#46039f"
            ],
            [
             0.2222222222222222,
             "#7201a8"
            ],
            [
             0.3333333333333333,
             "#9c179e"
            ],
            [
             0.4444444444444444,
             "#bd3786"
            ],
            [
             0.5555555555555556,
             "#d8576b"
            ],
            [
             0.6666666666666666,
             "#ed7953"
            ],
            [
             0.7777777777777778,
             "#fb9f3a"
            ],
            [
             0.8888888888888888,
             "#fdca26"
            ],
            [
             1,
             "#f0f921"
            ]
           ],
           "sequentialminus": [
            [
             0,
             "#0d0887"
            ],
            [
             0.1111111111111111,
             "#46039f"
            ],
            [
             0.2222222222222222,
             "#7201a8"
            ],
            [
             0.3333333333333333,
             "#9c179e"
            ],
            [
             0.4444444444444444,
             "#bd3786"
            ],
            [
             0.5555555555555556,
             "#d8576b"
            ],
            [
             0.6666666666666666,
             "#ed7953"
            ],
            [
             0.7777777777777778,
             "#fb9f3a"
            ],
            [
             0.8888888888888888,
             "#fdca26"
            ],
            [
             1,
             "#f0f921"
            ]
           ]
          },
          "colorway": [
           "#636efa",
           "#EF553B",
           "#00cc96",
           "#ab63fa",
           "#FFA15A",
           "#19d3f3",
           "#FF6692",
           "#B6E880",
           "#FF97FF",
           "#FECB52"
          ],
          "font": {
           "color": "#2a3f5f"
          },
          "geo": {
           "bgcolor": "white",
           "lakecolor": "white",
           "landcolor": "#E5ECF6",
           "showlakes": true,
           "showland": true,
           "subunitcolor": "white"
          },
          "hoverlabel": {
           "align": "left"
          },
          "hovermode": "closest",
          "mapbox": {
           "style": "light"
          },
          "paper_bgcolor": "white",
          "plot_bgcolor": "#E5ECF6",
          "polar": {
           "angularaxis": {
            "gridcolor": "white",
            "linecolor": "white",
            "ticks": ""
           },
           "bgcolor": "#E5ECF6",
           "radialaxis": {
            "gridcolor": "white",
            "linecolor": "white",
            "ticks": ""
           }
          },
          "scene": {
           "xaxis": {
            "backgroundcolor": "#E5ECF6",
            "gridcolor": "white",
            "gridwidth": 2,
            "linecolor": "white",
            "showbackground": true,
            "ticks": "",
            "zerolinecolor": "white"
           },
           "yaxis": {
            "backgroundcolor": "#E5ECF6",
            "gridcolor": "white",
            "gridwidth": 2,
            "linecolor": "white",
            "showbackground": true,
            "ticks": "",
            "zerolinecolor": "white"
           },
           "zaxis": {
            "backgroundcolor": "#E5ECF6",
            "gridcolor": "white",
            "gridwidth": 2,
            "linecolor": "white",
            "showbackground": true,
            "ticks": "",
            "zerolinecolor": "white"
           }
          },
          "shapedefaults": {
           "line": {
            "color": "#2a3f5f"
           }
          },
          "ternary": {
           "aaxis": {
            "gridcolor": "white",
            "linecolor": "white",
            "ticks": ""
           },
           "baxis": {
            "gridcolor": "white",
            "linecolor": "white",
            "ticks": ""
           },
           "bgcolor": "#E5ECF6",
           "caxis": {
            "gridcolor": "white",
            "linecolor": "white",
            "ticks": ""
           }
          },
          "title": {
           "x": 0.05
          },
          "xaxis": {
           "automargin": true,
           "gridcolor": "white",
           "linecolor": "white",
           "ticks": "",
           "zerolinecolor": "white",
           "zerolinewidth": 2
          },
          "yaxis": {
           "automargin": true,
           "gridcolor": "white",
           "linecolor": "white",
           "ticks": "",
           "zerolinecolor": "white",
           "zerolinewidth": 2
          }
         }
        },
        "title": {
         "text": "Steakhouse in States"
        }
       }
      },
      "text/html": [
       "<div>\n",
       "        \n",
       "        \n",
       "            <div id=\"f4f106ee-857e-4a92-b5ff-a2fe953fe6e5\" class=\"plotly-graph-div\" style=\"height:525px; width:100%;\"></div>\n",
       "            <script type=\"text/javascript\">\n",
       "                require([\"plotly\"], function(Plotly) {\n",
       "                    window.PLOTLYENV=window.PLOTLYENV || {};\n",
       "                    \n",
       "                if (document.getElementById(\"f4f106ee-857e-4a92-b5ff-a2fe953fe6e5\")) {\n",
       "                    Plotly.newPlot(\n",
       "                        'f4f106ee-857e-4a92-b5ff-a2fe953fe6e5',\n",
       "                        [{\"colorbar\": {\"title\": {\"text\": \"Number\"}}, \"colorscale\": [[0.0, \"rgb(255,245,240)\"], [0.125, \"rgb(254,224,210)\"], [0.25, \"rgb(252,187,161)\"], [0.375, \"rgb(252,146,114)\"], [0.5, \"rgb(251,106,74)\"], [0.625, \"rgb(239,59,44)\"], [0.75, \"rgb(203,24,29)\"], [0.875, \"rgb(165,15,21)\"], [1.0, \"rgb(103,0,13)\"]], \"locationmode\": \"USA-states\", \"locations\": [\"AZ\", \"IL\", \"NC\", \"NE\", \"NM\", \"NV\", \"OH\", \"PA\", \"SC\", \"TX\", \"WI\"], \"type\": \"choropleth\", \"z\": [260.0, 16.0, 131.0, 1.0, 1.0, 302.0, 187.0, 94.0, 10.0, 1.0, 44.0]}],\n",
       "                        {\"geo\": {\"scope\": \"usa\"}, \"template\": {\"data\": {\"bar\": [{\"error_x\": {\"color\": \"#2a3f5f\"}, \"error_y\": {\"color\": \"#2a3f5f\"}, \"marker\": {\"line\": {\"color\": \"#E5ECF6\", \"width\": 0.5}}, \"type\": \"bar\"}], \"barpolar\": [{\"marker\": {\"line\": {\"color\": \"#E5ECF6\", \"width\": 0.5}}, \"type\": \"barpolar\"}], \"carpet\": [{\"aaxis\": {\"endlinecolor\": \"#2a3f5f\", \"gridcolor\": \"white\", \"linecolor\": \"white\", \"minorgridcolor\": \"white\", \"startlinecolor\": \"#2a3f5f\"}, \"baxis\": {\"endlinecolor\": \"#2a3f5f\", \"gridcolor\": \"white\", \"linecolor\": \"white\", \"minorgridcolor\": \"white\", \"startlinecolor\": \"#2a3f5f\"}, \"type\": \"carpet\"}], \"choropleth\": [{\"colorbar\": {\"outlinewidth\": 0, \"ticks\": \"\"}, \"type\": \"choropleth\"}], \"contour\": [{\"colorbar\": {\"outlinewidth\": 0, \"ticks\": \"\"}, \"colorscale\": [[0.0, \"#0d0887\"], [0.1111111111111111, \"#46039f\"], [0.2222222222222222, \"#7201a8\"], [0.3333333333333333, \"#9c179e\"], [0.4444444444444444, \"#bd3786\"], [0.5555555555555556, \"#d8576b\"], [0.6666666666666666, \"#ed7953\"], [0.7777777777777778, \"#fb9f3a\"], [0.8888888888888888, \"#fdca26\"], [1.0, \"#f0f921\"]], \"type\": \"contour\"}], \"contourcarpet\": [{\"colorbar\": {\"outlinewidth\": 0, \"ticks\": \"\"}, \"type\": \"contourcarpet\"}], \"heatmap\": [{\"colorbar\": {\"outlinewidth\": 0, \"ticks\": \"\"}, \"colorscale\": [[0.0, \"#0d0887\"], [0.1111111111111111, \"#46039f\"], [0.2222222222222222, \"#7201a8\"], [0.3333333333333333, \"#9c179e\"], [0.4444444444444444, \"#bd3786\"], [0.5555555555555556, \"#d8576b\"], [0.6666666666666666, \"#ed7953\"], [0.7777777777777778, \"#fb9f3a\"], [0.8888888888888888, \"#fdca26\"], [1.0, \"#f0f921\"]], \"type\": \"heatmap\"}], \"heatmapgl\": [{\"colorbar\": {\"outlinewidth\": 0, \"ticks\": \"\"}, \"colorscale\": [[0.0, \"#0d0887\"], [0.1111111111111111, \"#46039f\"], [0.2222222222222222, \"#7201a8\"], [0.3333333333333333, \"#9c179e\"], [0.4444444444444444, \"#bd3786\"], [0.5555555555555556, \"#d8576b\"], [0.6666666666666666, \"#ed7953\"], [0.7777777777777778, \"#fb9f3a\"], [0.8888888888888888, \"#fdca26\"], [1.0, \"#f0f921\"]], \"type\": \"heatmapgl\"}], \"histogram\": [{\"marker\": {\"colorbar\": {\"outlinewidth\": 0, \"ticks\": \"\"}}, \"type\": \"histogram\"}], \"histogram2d\": [{\"colorbar\": {\"outlinewidth\": 0, \"ticks\": \"\"}, \"colorscale\": [[0.0, \"#0d0887\"], [0.1111111111111111, \"#46039f\"], [0.2222222222222222, \"#7201a8\"], [0.3333333333333333, \"#9c179e\"], [0.4444444444444444, \"#bd3786\"], [0.5555555555555556, \"#d8576b\"], [0.6666666666666666, \"#ed7953\"], [0.7777777777777778, \"#fb9f3a\"], [0.8888888888888888, \"#fdca26\"], [1.0, \"#f0f921\"]], \"type\": \"histogram2d\"}], \"histogram2dcontour\": [{\"colorbar\": {\"outlinewidth\": 0, \"ticks\": \"\"}, \"colorscale\": [[0.0, \"#0d0887\"], [0.1111111111111111, \"#46039f\"], [0.2222222222222222, \"#7201a8\"], [0.3333333333333333, \"#9c179e\"], [0.4444444444444444, \"#bd3786\"], [0.5555555555555556, \"#d8576b\"], [0.6666666666666666, \"#ed7953\"], [0.7777777777777778, \"#fb9f3a\"], [0.8888888888888888, \"#fdca26\"], [1.0, \"#f0f921\"]], \"type\": \"histogram2dcontour\"}], \"mesh3d\": [{\"colorbar\": {\"outlinewidth\": 0, \"ticks\": \"\"}, \"type\": \"mesh3d\"}], \"parcoords\": [{\"line\": {\"colorbar\": {\"outlinewidth\": 0, \"ticks\": \"\"}}, \"type\": \"parcoords\"}], \"scatter\": [{\"marker\": {\"colorbar\": {\"outlinewidth\": 0, \"ticks\": \"\"}}, \"type\": \"scatter\"}], \"scatter3d\": [{\"line\": {\"colorbar\": {\"outlinewidth\": 0, \"ticks\": \"\"}}, \"marker\": {\"colorbar\": {\"outlinewidth\": 0, \"ticks\": \"\"}}, \"type\": \"scatter3d\"}], \"scattercarpet\": [{\"marker\": {\"colorbar\": {\"outlinewidth\": 0, \"ticks\": \"\"}}, \"type\": \"scattercarpet\"}], \"scattergeo\": [{\"marker\": {\"colorbar\": {\"outlinewidth\": 0, \"ticks\": \"\"}}, \"type\": \"scattergeo\"}], \"scattergl\": [{\"marker\": {\"colorbar\": {\"outlinewidth\": 0, \"ticks\": \"\"}}, \"type\": \"scattergl\"}], \"scattermapbox\": [{\"marker\": {\"colorbar\": {\"outlinewidth\": 0, \"ticks\": \"\"}}, \"type\": \"scattermapbox\"}], \"scatterpolar\": [{\"marker\": {\"colorbar\": {\"outlinewidth\": 0, \"ticks\": \"\"}}, \"type\": \"scatterpolar\"}], \"scatterpolargl\": [{\"marker\": {\"colorbar\": {\"outlinewidth\": 0, \"ticks\": \"\"}}, \"type\": \"scatterpolargl\"}], \"scatterternary\": [{\"marker\": {\"colorbar\": {\"outlinewidth\": 0, \"ticks\": \"\"}}, \"type\": \"scatterternary\"}], \"surface\": [{\"colorbar\": {\"outlinewidth\": 0, \"ticks\": \"\"}, \"colorscale\": [[0.0, \"#0d0887\"], [0.1111111111111111, \"#46039f\"], [0.2222222222222222, \"#7201a8\"], [0.3333333333333333, \"#9c179e\"], [0.4444444444444444, \"#bd3786\"], [0.5555555555555556, \"#d8576b\"], [0.6666666666666666, \"#ed7953\"], [0.7777777777777778, \"#fb9f3a\"], [0.8888888888888888, \"#fdca26\"], [1.0, \"#f0f921\"]], \"type\": \"surface\"}], \"table\": [{\"cells\": {\"fill\": {\"color\": \"#EBF0F8\"}, \"line\": {\"color\": \"white\"}}, \"header\": {\"fill\": {\"color\": \"#C8D4E3\"}, \"line\": {\"color\": \"white\"}}, \"type\": \"table\"}]}, \"layout\": {\"annotationdefaults\": {\"arrowcolor\": \"#2a3f5f\", \"arrowhead\": 0, \"arrowwidth\": 1}, \"colorscale\": {\"diverging\": [[0, \"#8e0152\"], [0.1, \"#c51b7d\"], [0.2, \"#de77ae\"], [0.3, \"#f1b6da\"], [0.4, \"#fde0ef\"], [0.5, \"#f7f7f7\"], [0.6, \"#e6f5d0\"], [0.7, \"#b8e186\"], [0.8, \"#7fbc41\"], [0.9, \"#4d9221\"], [1, \"#276419\"]], \"sequential\": [[0.0, \"#0d0887\"], [0.1111111111111111, \"#46039f\"], [0.2222222222222222, \"#7201a8\"], [0.3333333333333333, \"#9c179e\"], [0.4444444444444444, \"#bd3786\"], [0.5555555555555556, \"#d8576b\"], [0.6666666666666666, \"#ed7953\"], [0.7777777777777778, \"#fb9f3a\"], [0.8888888888888888, \"#fdca26\"], [1.0, \"#f0f921\"]], \"sequentialminus\": [[0.0, \"#0d0887\"], [0.1111111111111111, \"#46039f\"], [0.2222222222222222, \"#7201a8\"], [0.3333333333333333, \"#9c179e\"], [0.4444444444444444, \"#bd3786\"], [0.5555555555555556, \"#d8576b\"], [0.6666666666666666, \"#ed7953\"], [0.7777777777777778, \"#fb9f3a\"], [0.8888888888888888, \"#fdca26\"], [1.0, \"#f0f921\"]]}, \"colorway\": [\"#636efa\", \"#EF553B\", \"#00cc96\", \"#ab63fa\", \"#FFA15A\", \"#19d3f3\", \"#FF6692\", \"#B6E880\", \"#FF97FF\", \"#FECB52\"], \"font\": {\"color\": \"#2a3f5f\"}, \"geo\": {\"bgcolor\": \"white\", \"lakecolor\": \"white\", \"landcolor\": \"#E5ECF6\", \"showlakes\": true, \"showland\": true, \"subunitcolor\": \"white\"}, \"hoverlabel\": {\"align\": \"left\"}, \"hovermode\": \"closest\", \"mapbox\": {\"style\": \"light\"}, \"paper_bgcolor\": \"white\", \"plot_bgcolor\": \"#E5ECF6\", \"polar\": {\"angularaxis\": {\"gridcolor\": \"white\", \"linecolor\": \"white\", \"ticks\": \"\"}, \"bgcolor\": \"#E5ECF6\", \"radialaxis\": {\"gridcolor\": \"white\", \"linecolor\": \"white\", \"ticks\": \"\"}}, \"scene\": {\"xaxis\": {\"backgroundcolor\": \"#E5ECF6\", \"gridcolor\": \"white\", \"gridwidth\": 2, \"linecolor\": \"white\", \"showbackground\": true, \"ticks\": \"\", \"zerolinecolor\": \"white\"}, \"yaxis\": {\"backgroundcolor\": \"#E5ECF6\", \"gridcolor\": \"white\", \"gridwidth\": 2, \"linecolor\": \"white\", \"showbackground\": true, \"ticks\": \"\", \"zerolinecolor\": \"white\"}, \"zaxis\": {\"backgroundcolor\": \"#E5ECF6\", \"gridcolor\": \"white\", \"gridwidth\": 2, \"linecolor\": \"white\", \"showbackground\": true, \"ticks\": \"\", \"zerolinecolor\": \"white\"}}, \"shapedefaults\": {\"line\": {\"color\": \"#2a3f5f\"}}, \"ternary\": {\"aaxis\": {\"gridcolor\": \"white\", \"linecolor\": \"white\", \"ticks\": \"\"}, \"baxis\": {\"gridcolor\": \"white\", \"linecolor\": \"white\", \"ticks\": \"\"}, \"bgcolor\": \"#E5ECF6\", \"caxis\": {\"gridcolor\": \"white\", \"linecolor\": \"white\", \"ticks\": \"\"}}, \"title\": {\"x\": 0.05}, \"xaxis\": {\"automargin\": true, \"gridcolor\": \"white\", \"linecolor\": \"white\", \"ticks\": \"\", \"zerolinecolor\": \"white\", \"zerolinewidth\": 2}, \"yaxis\": {\"automargin\": true, \"gridcolor\": \"white\", \"linecolor\": \"white\", \"ticks\": \"\", \"zerolinecolor\": \"white\", \"zerolinewidth\": 2}}}, \"title\": {\"text\": \"Steakhouse in States\"}},\n",
       "                        {\"responsive\": true}\n",
       "                    ).then(function(){\n",
       "                            \n",
       "var gd = document.getElementById('f4f106ee-857e-4a92-b5ff-a2fe953fe6e5');\n",
       "var x = new MutationObserver(function (mutations, observer) {{\n",
       "        var display = window.getComputedStyle(gd).display;\n",
       "        if (!display || display === 'none') {{\n",
       "            console.log([gd, 'removed!']);\n",
       "            Plotly.purge(gd);\n",
       "            observer.disconnect();\n",
       "        }}\n",
       "}});\n",
       "\n",
       "// Listen for the removal of the full notebook cells\n",
       "var notebookContainer = gd.closest('#notebook-container');\n",
       "if (notebookContainer) {{\n",
       "    x.observe(notebookContainer, {childList: true});\n",
       "}}\n",
       "\n",
       "// Listen for the clearing of the current output cell\n",
       "var outputEl = gd.closest('.output');\n",
       "if (outputEl) {{\n",
       "    x.observe(outputEl, {childList: true});\n",
       "}}\n",
       "\n",
       "                        })\n",
       "                };\n",
       "                });\n",
       "            </script>\n",
       "        </div>"
      ]
     },
     "metadata": {},
     "output_type": "display_data"
    }
   ],
   "source": [
    "import plotly.graph_objects as go\n",
    "\n",
    "# Load data frame and tidy it.\n",
    "import pandas as pd\n",
    "df = province\n",
    "\n",
    "fig = go.Figure(data=go.Choropleth(\n",
    "    locations=df['province'], # Spatial coordinates\n",
    "    z = df['number'].astype(float), # Data to be color-coded\n",
    "    locationmode = 'USA-states', # set of locations match entries in `locations`\n",
    "    colorscale = 'Reds',\n",
    "    colorbar_title = \"Number\",\n",
    "))\n",
    "\n",
    "fig.update_layout(\n",
    "    title_text = 'Steakhouse in States',\n",
    "    geo_scope='usa', # limite map scope to USA\n",
    ")\n",
    "\n",
    "fig.show()"
   ]
  }
 ],
 "metadata": {
  "kernelspec": {
   "display_name": "Python 3",
   "language": "python",
   "name": "python3"
  },
  "language_info": {
   "codemirror_mode": {
    "name": "ipython",
    "version": 3
   },
   "file_extension": ".py",
   "mimetype": "text/x-python",
   "name": "python",
   "nbconvert_exporter": "python",
   "pygments_lexer": "ipython3",
   "version": "3.6.8"
  }
 },
 "nbformat": 4,
 "nbformat_minor": 2
}
