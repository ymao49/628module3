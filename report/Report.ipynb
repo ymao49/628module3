{
 "cells": [
  {
   "cell_type": "markdown",
   "metadata": {},
   "source": [
    "# Perfect Your Steakhouse!"
   ]
  },
  {
   "cell_type": "markdown",
   "metadata": {},
   "source": [
    "## 1. Introduction\n",
    "\n",
    "Steak is one of the favourite food enjoyed by people in the U.S. But how to operate a popular steakhouse is a big problem. How to improve the steak taste and what is the weakness of thier steakhouse must be a biggest concern for the steakhouse owners.\n",
    "Our project aims at using the Yelp-provided dataset to establish a comprehensive and improved rating system, in order to provide suggestions for steakhouse owners. The system will abstract the information both from the constumers' reviews and the attributes of the steakhouses to show the steakhouse's ability in six specific aspects-- Food, Price... "
   ]
  },
  {
   "cell_type": "markdown",
   "metadata": {},
   "source": [
    "## 2. Data\n",
    "\n",
    "### 2.1 Data Introduction\n",
    "Raw data from Yelp(total 8.22GB) conatins four parts--business, review, tip, user. In our project, we will only use the steakhouse related data(whose categories feature involves steakhouse), which contains 1603 steakhouses and totally 243536 reviews from the steakhouses.\n",
    "\n",
    "### 2.2 Data Preprocessing\n",
    "\n",
    "### 2.2.1 Reviews:\n",
    "For the reviews, we use the package *nltk* to split the whole review sentence into the individual words. \n",
    "\n",
    "The first step, we will tokenize the reviews. \n",
    "\n",
    "&emsp; For example: *\"I like the bread!\"* ->*\"I\",\"like\",\"the\",\"bread\",\"!\"*\n",
    "\n",
    "To improve the performence of our system, we deleted the meaningless words in the reviews. These words are very commonly used in the english grammer, which may only to structure the sentence or to link the nones. The detailed types of words deleted are listed below:\n",
    "1. Stop words, or we can call them common words, like \"a\"，\"the\"，\"or\". \n",
    "2. Substitutes, like \"you\", \"he\", \"them\".\n",
    "3. Non-alphabetic characters: \"!\", \",\", \".\", \"%\".\n",
    "4. ....\n",
    "\n",
    "To finalize and unify the words, we also recover the words back to their primitive form.\n",
    "\n",
    "&emsp; For example: \"ate\" -> \"eat\", \"loving\" -> \"love\".\n",
    "\n",
    "#### Sample:\n",
    "**Raw review**: The food was very good . The waitress was very inventive . The only thing is my I felt so sick after eating it . I'm not sure if it's just my stomach not being able to handle it or what but I felt terrible . The staff at the front was very friendly and talkative.\n",
    "**Proccessed review**: 'food', 'good', 'waitress', 'inventive', 'thing', 'felt', 'sick', 'eat', 'sure', 'stomach', 'able', 'handle', 'felt', 'terrible', 'staff', 'front', 'friendly', 'talkative'.\n",
    "\n",
    "### 2.2.2 Business:\n",
    "For the business data set, we will use the attributes of each business. We will use the tree to impute the missing value. Details will be disscussed in the 4th parts.\n",
    "\n"
   ]
  },
  {
   "cell_type": "markdown",
   "metadata": {},
   "source": [
    "## 3. Rating System based on Reviews\n",
    "### 3.1 The selection of the Index\n",
    "\n",
    "### 3.2 Adaptive rating system"
   ]
  },
  {
   "cell_type": "markdown",
   "metadata": {},
   "source": [
    "## 4. Attributes of Businesses"
   ]
  },
  {
   "cell_type": "markdown",
   "metadata": {},
   "source": [
    "## 5. Conclusion and Suggestion\n",
    "\n",
    "### Conclusion:\n",
    "\n",
    "### Suggestion:\n"
   ]
  },
  {
   "cell_type": "markdown",
   "metadata": {},
   "source": [
    "## 6. Strength and Weakness\n",
    "\n",
    "### Strength: \n",
    "1. Compared with the plain text comment provided by the Yelp, our system's power plot make it more direct and simple for both the steakhouse owners and potential costumers to know the strength and weakness of the steakhouses. \n",
    "2. The rating system can reduce the bias produced by the two-faced reviews(contain both compliment and criticism) via adding the punishment to the final rates according to the ratio of the positive and negative words around the key words.\n",
    "\n",
    "### Weakness:\n",
    "1. Our results depend on the number of the reviews for each steakhouse. For those steakhouses who has few reviews, our system will show some biases.\n",
    "2. It is hard to interpret tree method outcome objectively, which contains some subjective factors. "
   ]
  },
  {
   "cell_type": "code",
   "execution_count": null,
   "metadata": {},
   "outputs": [],
   "source": []
  }
 ],
 "metadata": {
  "kernelspec": {
   "display_name": "Python 3",
   "language": "python",
   "name": "python3"
  },
  "language_info": {
   "codemirror_mode": {
    "name": "ipython",
    "version": 3
   },
   "file_extension": ".py",
   "mimetype": "text/x-python",
   "name": "python",
   "nbconvert_exporter": "python",
   "pygments_lexer": "ipython3",
   "version": "3.6.8"
  }
 },
 "nbformat": 4,
 "nbformat_minor": 2
}
