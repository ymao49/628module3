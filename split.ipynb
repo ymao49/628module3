{
 "nbformat": 4,
 "nbformat_minor": 2,
 "metadata": {
  "language_info": {
   "name": "python",
   "codemirror_mode": {
    "name": "ipython",
    "version": 3
   }
  },
  "orig_nbformat": 2,
  "file_extension": ".py",
  "mimetype": "text/x-python",
  "name": "python",
  "npconvert_exporter": "python",
  "pygments_lexer": "ipython3",
  "version": 3
 },
 "cells": [
  {
   "cell_type": "code",
   "execution_count": 1,
   "metadata": {},
   "outputs": [
    {
     "name": "stderr",
     "output_type": "stream",
     "text": "[nltk_data] Downloading package stopwords to\n[nltk_data]     /Users/pinecone/nltk_data...\n[nltk_data]   Package stopwords is already up-to-date!\n[nltk_data] Downloading package punkt to /Users/pinecone/nltk_data...\n[nltk_data]   Package punkt is already up-to-date!\n[nltk_data] Downloading package wordnet to\n[nltk_data]     /Users/pinecone/nltk_data...\n[nltk_data]   Package wordnet is already up-to-date!\n[nltk_data] Downloading package averaged_perceptron_tagger to\n[nltk_data]     /Users/pinecone/nltk_data...\n[nltk_data]   Package averaged_perceptron_tagger is already up-to-\n[nltk_data]       date!\n"
    }
   ],
   "source": [
    "import pandas as pd\n",
    "import numpy as np\n",
    "from tqdm import tqdm\n",
    "import nltk\n",
    "import re\n",
    "from nltk import pos_tag\n",
    "from nltk.tokenize import word_tokenize\n",
    "from nltk.stem import WordNetLemmatizer\n",
    "from bs4 import BeautifulSoup\n",
    "from nltk.corpus import stopwords\n",
    "nltk.download('stopwords')\n",
    "nltk.download('punkt')\n",
    "nltk.download('wordnet')\n",
    "nltk.download(\"averaged_perceptron_tagger\")\n",
    "lemmatizer = WordNetLemmatizer()\n"
   ]
  },
  {
   "cell_type": "code",
   "execution_count": 2,
   "metadata": {},
   "outputs": [],
   "source": [
    "business = pd.read_csv('business.csv')\n",
    "review = pd.read_csv('review.csv')\n",
    "tip = pd.read_csv('tip.csv')"
   ]
  },
  {
   "cell_type": "code",
   "execution_count": 3,
   "metadata": {},
   "outputs": [
    {
     "name": "stdout",
     "output_type": "stream",
     "text": "(1603, 14)\n(243536, 9)\n(38980, 5)\n"
    }
   ],
   "source": [
    "print(business.shape)\n",
    "print(review.shape)\n",
    "print(tip.shape)"
   ]
  },
  {
   "cell_type": "code",
   "execution_count": 4,
   "metadata": {},
   "outputs": [],
   "source": [
    "def lemmatize_all(sentence):\n",
    "    wnl = WordNetLemmatizer()\n",
    "    res = []\n",
    "    for word, tag in pos_tag(word_tokenize(sentence)):\n",
    "        if word in stopwords.words('english'):\n",
    "            continue\n",
    "        if tag.startswith('NN'):\n",
    "            res.append(wnl.lemmatize(word, pos='n'))\n",
    "        elif tag.startswith('VB'):\n",
    "            res.append(wnl.lemmatize(word, pos='v'))\n",
    "        elif tag.startswith('JJ'):\n",
    "            res.append(wnl.lemmatize(word, pos='a'))\n",
    "        elif tag.startswith('R'):\n",
    "            res.append(wnl.lemmatize(word, pos='r'))\n",
    "        else:\n",
    "            res.append(word)\n",
    "    return res"
   ]
  },
  {
   "cell_type": "code",
   "execution_count": 5,
   "metadata": {},
   "outputs": [],
   "source": [
    "def clean_sentences(df, row):\n",
    "    reviews = []\n",
    "    for sent in tqdm(df[row]):\n",
    "        review_text = BeautifulSoup(sent).get_text()\n",
    "        \n",
    "        #remove non-alphabetic characters\n",
    "        review_text = re.sub(\"[^a-zA-Z]\",\" \", review_text)\n",
    "        \n",
    "        lemma_words = lemmatize_all(review_text.lower())\n",
    "    \n",
    "        reviews.append(lemma_words)\n",
    "\n",
    "    return(reviews)"
   ]
  },
  {
   "cell_type": "code",
   "execution_count": 6,
   "metadata": {},
   "outputs": [
    {
     "name": "stderr",
     "output_type": "stream",
     "text": "100%|██████████| 100/100 [00:04<00:00, 20.61it/s]\n"
    }
   ],
   "source": [
    "review_sentences = clean_sentences(review.iloc[:100, :], 'text')"
   ]
  },
  {
   "cell_type": "code",
   "execution_count": 7,
   "metadata": {},
   "outputs": [
    {
     "data": {
      "text/plain": "['ooooooh',\n 'yummy',\n 'red',\n 'meat',\n 'eat',\n 'midwestern',\n 'girl',\n 'best',\n 'steak',\n 'remember',\n 'know',\n 'long',\n 'damn',\n 'good',\n 'mac',\n 'cheese',\n 'tasty',\n 'tasty',\n 'side',\n 'try',\n 'snicker',\n 'dessert',\n 'basically',\n 'two',\n 'cookie',\n 'ice',\n 'cream',\n 'sanwiches',\n 'bit',\n 'snicker',\n 'more',\n 'sister',\n 'get',\n 'super',\n 'fun',\n 'complaint',\n 'really',\n 'loud',\n 'waaaaaaay',\n 'many',\n 'annoy',\n 'veil',\n 'tot',\n 'bachelorette',\n 'party',\n 'taste',\n 'hey',\n 'palm']"
     },
     "execution_count": 7,
     "metadata": {},
     "output_type": "execute_result"
    }
   ],
   "source": [
    "review_sentences[0]"
   ]
  },
  {
   "cell_type": "code",
   "execution_count": null,
   "metadata": {},
   "outputs": [],
   "source": []
  }
 ]
}